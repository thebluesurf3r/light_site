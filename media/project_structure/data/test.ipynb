{
 "cells": [
  {
   "cell_type": "code",
   "execution_count": 6,
   "metadata": {},
   "outputs": [],
   "source": [
    "import pandas as pd\n",
    "\n",
    "df = pd.read_pickle('/home/tron/git/light_site/media/project_structure/structure_processed.pkl')"
   ]
  },
  {
   "cell_type": "code",
   "execution_count": 7,
   "metadata": {},
   "outputs": [
    {
     "data": {
      "text/plain": [
       "Index(['directory', 'filename', 'full_path', 'file_size',\n",
       "       'metadata_change_time', 'modification_time', 'access_time',\n",
       "       'file_age_in_days', 'meta_data_age_in_days', 'recently_accessed',\n",
       "       'file_size_category', 'file_extension', 'python_file', 'file_depth',\n",
       "       'django_element_type', 'expected_location', 'hover_template'],\n",
       "      dtype='object')"
      ]
     },
     "execution_count": 7,
     "metadata": {},
     "output_type": "execute_result"
    }
   ],
   "source": [
    "df.columns"
   ]
  },
  {
   "cell_type": "code",
   "execution_count": 8,
   "metadata": {},
   "outputs": [
    {
     "data": {
      "text/plain": [
       "directory                        object\n",
       "filename                         object\n",
       "full_path                        object\n",
       "file_size                         int64\n",
       "metadata_change_time     datetime64[ns]\n",
       "modification_time        datetime64[ns]\n",
       "access_time              datetime64[ns]\n",
       "file_age_in_days                  int64\n",
       "meta_data_age_in_days             int64\n",
       "recently_accessed                  bool\n",
       "file_size_category               object\n",
       "file_extension                   object\n",
       "python_file                        bool\n",
       "file_depth                        int64\n",
       "django_element_type              object\n",
       "expected_location                  bool\n",
       "hover_template                   object\n",
       "dtype: object"
      ]
     },
     "execution_count": 8,
     "metadata": {},
     "output_type": "execute_result"
    }
   ],
   "source": [
    "df.dtypes"
   ]
  },
  {
   "cell_type": "code",
   "execution_count": null,
   "metadata": {},
   "outputs": [],
   "source": []
  }
 ],
 "metadata": {
  "kernelspec": {
   "display_name": "light_site-krEzwZwG",
   "language": "python",
   "name": "python3"
  },
  "language_info": {
   "codemirror_mode": {
    "name": "ipython",
    "version": 3
   },
   "file_extension": ".py",
   "mimetype": "text/x-python",
   "name": "python",
   "nbconvert_exporter": "python",
   "pygments_lexer": "ipython3",
   "version": "3.10.12"
  }
 },
 "nbformat": 4,
 "nbformat_minor": 2
}
