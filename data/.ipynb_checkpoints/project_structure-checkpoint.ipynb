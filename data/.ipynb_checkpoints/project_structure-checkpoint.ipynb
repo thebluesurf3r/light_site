{
 "cells": [
  {
   "cell_type": "code",
   "execution_count": 18,
   "metadata": {},
   "outputs": [
    {
     "name": "stderr",
     "output_type": "stream",
     "text": [
      "2024-09-15 20:51:21,716 - INFO - Initializing logging configuration\n",
      "2024-09-15 20:51:21,721 - INFO - Importing 'os' without alias\n",
      "2024-09-15 20:51:21,732 - INFO - Importing 'time' without alias\n",
      "2024-09-15 20:51:21,739 - INFO - Importing 're' as 're'\n",
      "2024-09-15 20:51:21,747 - INFO - Importing 'pandas' as 'pd'\n",
      "2024-09-15 20:51:21,757 - INFO - Importing 'numpy' as 'np'\n",
      "2024-09-15 20:51:21,768 - INFO - Importing 'matplotlib.pyplot' as 'plt'\n",
      "2024-09-15 20:51:21,777 - INFO - Importing 'seaborn' as 'sns'\n",
      "2024-09-15 20:51:21,784 - INFO - Importing 'plotly.express' as 'px'\n",
      "2024-09-15 20:51:21,791 - INFO - Importing 'plotly.graph_objects' as 'go'\n",
      "2024-09-15 20:51:21,800 - INFO - Importing 'plotly.io' as 'pio'\n"
     ]
    },
    {
     "name": "stdout",
     "output_type": "stream",
     "text": [
      "0           Initializing logging configuration\n",
      "1                 Importing 'os' without alias\n",
      "2               Importing 'time' without alias\n",
      "3                       Importing 're' as 're'\n",
      "4                   Importing 'pandas' as 'pd'\n",
      "5                    Importing 'numpy' as 'np'\n",
      "6       Importing 'matplotlib.pyplot' as 'plt'\n",
      "7                 Importing 'seaborn' as 'sns'\n",
      "8           Importing 'plotly.express' as 'px'\n",
      "9     Importing 'plotly.graph_objects' as 'go'\n",
      "10              Importing 'plotly.io' as 'pio'\n",
      "Name: Message, dtype: object\n"
     ]
    }
   ],
   "source": [
    "import re\n",
    "import os\n",
    "import time\n",
    "import logging\n",
    "import pandas as pd\n",
    "import numpy as np\n",
    "import matplotlib.pyplot as plt\n",
    "import seaborn as sns\n",
    "import plotly.express as px\n",
    "import plotly.graph_objects as go\n",
    "import plotly.io as pio\n",
    "import re\n",
    "import os\n",
    "import time\n",
    "import logging\n",
    "import pandas as pd\n",
    "import numpy as np\n",
    "import matplotlib.pyplot as plt\n",
    "import seaborn as sns\n",
    "import plotly.express as px\n",
    "import plotly.graph_objects as go\n",
    "import plotly.io as pio\n",
    "\n",
    "# Global DataFrame to store log entries\n",
    "log_df = pd.DataFrame(columns=['Timestamp', 'Level', 'Message'])\n",
    "\n",
    "class DataFrameLoggingHandler(logging.Handler):\n",
    "    def __init__(self, dataframe):\n",
    "        super().__init__()\n",
    "        self.dataframe = dataframe\n",
    "\n",
    "    def emit(self, record):\n",
    "        timestamp = pd.Timestamp.now()\n",
    "        level = record.levelname\n",
    "        # Use the actual log message from the record\n",
    "        message = record.getMessage()  \n",
    "        self.dataframe.loc[len(self.dataframe)] = [timestamp, level, message]\n",
    "\n",
    "def setup_logging(log_file='app_log.log', log_level=logging.INFO):\n",
    "    \"\"\"\n",
    "    Set up logging configuration to log to a file and console, and return a logger.\n",
    "    \n",
    "    Parameters:\n",
    "    log_file (str): The name of the log file where logs will be saved.\n",
    "    log_level (int): The log level (INFO, DEBUG, etc.).\n",
    "    \n",
    "    Returns:\n",
    "    logger (logging.Logger): Configured logger.\n",
    "    \"\"\"\n",
    "    # Remove any existing handlers attached to the root logger\n",
    "    logging.root.handlers.clear()\n",
    "\n",
    "    logger = logging.getLogger()\n",
    "    logger.setLevel(log_level)\n",
    "\n",
    "    # Define handlers\n",
    "    handlers = [\n",
    "        logging.FileHandler(log_file),\n",
    "        logging.StreamHandler(),\n",
    "        DataFrameLoggingHandler(log_df)\n",
    "    ]\n",
    "    \n",
    "    for handler in handlers:\n",
    "        handler.setLevel(log_level)\n",
    "        handler.setFormatter(logging.Formatter('%(asctime)s - %(levelname)s - %(message)s'))\n",
    "        logger.addHandler(handler)\n",
    "\n",
    "    return logger\n",
    "\n",
    "def log_imported_libraries(libraries, logger):\n",
    "    \"\"\"\n",
    "    Log the imported libraries with their aliases.\n",
    "    \n",
    "    Parameters:\n",
    "    libraries (dict): Dictionary of library names and their aliases.\n",
    "    logger (logging.Logger): Logger to log the messages.\n",
    "    \"\"\"\n",
    "    for lib, alias in libraries.items():\n",
    "        logger.info(f\"Importing '{lib}' as '{alias}'\" if alias else f\"Importing '{lib}' without alias\")\n",
    "\n",
    "# Set up the logger\n",
    "logger = setup_logging(log_file='app_log.log', log_level=logging.INFO)\n",
    "\n",
    "# Libraries and their aliases (None for libraries without an alias)\n",
    "libraries_with_aliases = {\n",
    "    'os': None,\n",
    "    'time': None,\n",
    "    're': 're',\n",
    "    'pandas': 'pd',\n",
    "    'numpy': 'np',\n",
    "    'matplotlib.pyplot': 'plt',\n",
    "    'seaborn': 'sns',\n",
    "    'plotly.express': 'px',\n",
    "    'plotly.graph_objects': 'go',\n",
    "    'plotly.io': 'pio'\n",
    "}\n",
    "\n",
    "# Log the library imports\n",
    "logger.info(\"Initializing logging configuration\")\n",
    "log_imported_libraries(libraries_with_aliases, logger)\n",
    "\n",
    "print(log_df['Message'])"
   ]
  },
  {
   "cell_type": "markdown",
   "metadata": {},
   "source": [
    "### Create a Pandas dataFrame"
   ]
  },
  {
   "cell_type": "code",
   "execution_count": 19,
   "metadata": {},
   "outputs": [
    {
     "name": "stderr",
     "output_type": "stream",
     "text": [
      "2024-09-15 20:51:22,661 - INFO - Dataset loaded successfully: <function load_data at 0x77966400ea70>\n",
      "2024-09-15 20:51:22,681 - INFO - Removed 0 rows with NaN values.\n",
      "2024-09-15 20:51:22,689 - INFO - Index reset.\n",
      "2024-09-15 20:51:22,699 - INFO - Number of rows and columns = (8623, 5)\n"
     ]
    }
   ],
   "source": [
    " # Parameters provided from outside the function\n",
    "file_path = 'project_structure.pkl'  # Example file path\n",
    "date_col = None  # Set to a date column name if you have one\n",
    "drop_na = True   # Whether to drop rows with NaN values\n",
    "encoding = 'utf-8'  # Encoding format\n",
    "\n",
    "def load_data(file_path, date_col=None, drop_na=True, encoding='utf-8'):\n",
    "    \"\"\"\n",
    "    Load a dataset from a pickle file, with optional date parsing and NaN removal.\n",
    "\n",
    "    Parameters:\n",
    "    - file_path: str, path to the dataset\n",
    "    - date_col: str, optional, column to parse as datetime\n",
    "    - drop_na: bool, drop rows with NaN values (default: True)\n",
    "    - encoding: str, file encoding type (default: 'utf-8')\n",
    "\n",
    "    Returns:\n",
    "    - pd.DataFrame: The loaded dataset or None if an error occurred\n",
    "    \"\"\"\n",
    "    try:\n",
    "        df = pd.read_pickle(file_path)\n",
    "        logging.info(f\"Dataset loaded successfully: {load_data}\")\n",
    "\n",
    "        if date_col:\n",
    "            df[date_col] = pd.to_datetime(df[date_col], errors='coerce')\n",
    "            logging.info(f\"Date column '{date_col}' parsed.\")\n",
    "\n",
    "        if drop_na:\n",
    "            initial_rows = df.shape[0]\n",
    "            df.dropna(inplace=True)\n",
    "            removed_rows = initial_rows - df.shape[0]\n",
    "            logging.info(f\"Removed {removed_rows} rows with NaN values.\")\n",
    "\n",
    "        df.reset_index(drop=True, inplace=True)\n",
    "        logging.info(\"Index reset.\")\n",
    "\n",
    "        return df\n",
    "\n",
    "    except FileNotFoundError:\n",
    "        logging.error(f\"File not found: {file_path}\")\n",
    "    except pd.errors.EmptyDataError:\n",
    "        logging.error(f\"No data found in file: {file_path}\")\n",
    "    except Exception as e:\n",
    "        logging.error(f\"An error occurred: {e}\")\n",
    "\n",
    "# Applying the function with the provided variables\n",
    "df = load_data(file_path=file_path, date_col=date_col, drop_na=drop_na, encoding=encoding)\n",
    "if df is not None:\n",
    "    logging.info(f\"Number of rows and columns = {df.shape}\")"
   ]
  },
  {
   "cell_type": "code",
   "execution_count": 20,
   "metadata": {},
   "outputs": [
    {
     "name": "stderr",
     "output_type": "stream",
     "text": [
      "2024-09-15 20:51:22,868 - INFO - Rendering an HTML preview: <function display_dataframe_html at 0x779651e90c10>\n"
     ]
    }
   ],
   "source": [
    "def display_dataframe_html(df, rows=5, exclude_column='hover_template'):\n",
    "    \n",
    "    logging.info(f\"Rendering an HTML preview: {display_dataframe_html}\")\n",
    "    \n",
    "    # Exclude the specified column\n",
    "    if exclude_column in df.columns:\n",
    "        df = df.drop(columns=[exclude_column])\n",
    "\n",
    "    # Select the first few rows\n",
    "    df_sample = df.head(rows)\n",
    "\n",
    "    # Return the DataFrame as an HTML table\n",
    "    return df_sample.to_html(classes=\"table table-striped\", index=False)\n",
    "\n",
    "html_table = display_dataframe_html(df, rows=5)"
   ]
  },
  {
   "cell_type": "code",
   "execution_count": 21,
   "metadata": {},
   "outputs": [
    {
     "name": "stderr",
     "output_type": "stream",
     "text": [
      "2024-09-15 20:51:23,041 - INFO - Categorizing data by file extension: <function categorize_by_extension at 0x779651e90ca0>\n"
     ]
    }
   ],
   "source": [
    "def categorize_by_extension(df):\n",
    "\n",
    "    logging.info(f\"Categorizing data by file extension: {categorize_by_extension}\")\n",
    "    \"\"\"\n",
    "    Extract and categorize file_extensions from the 'entity_name' column.\n",
    "\n",
    "    Parameters:\n",
    "    df (pd.DataFrame): The DataFrame containing the data.\n",
    "\n",
    "    Returns:\n",
    "    pd.DataFrame: DataFrame with an additional 'file_extension' column.\n",
    "    \"\"\"\n",
    "    df['file_extension'] = df['entity_name'].apply(lambda x: x.split('.')[-1] if '.' in x else 'No Extension')\n",
    "    return df\n",
    "\n",
    "df = categorize_by_extension(df)"
   ]
  },
  {
   "cell_type": "code",
   "execution_count": 22,
   "metadata": {},
   "outputs": [
    {
     "name": "stderr",
     "output_type": "stream",
     "text": [
      "2024-09-15 20:51:23,204 - INFO - Validating app structure: <function validate_app_structure at 0x779651d40790>\n",
      "2024-09-15 20:51:23,512 - ERROR - Missing required file 'models.py' in app 'light_site'.\n",
      "2024-09-15 20:51:23,518 - INFO - App 'light_site' has a valid structure: False\n",
      "2024-09-15 20:51:23,525 - INFO - Validating file location: <function check_file_location at 0x779651d40700>\n",
      "2024-09-15 20:51:23,538 - INFO - Counts of expected locations: expected_location\n",
      "False    8537\n",
      "True       86\n",
      "Name: count, dtype: int64\n"
     ]
    }
   ],
   "source": [
    "def check_file_location(row):\n",
    "    \"\"\"\n",
    "    Check if a file's extension corresponds to its expected location in a Django project.\n",
    "\n",
    "    Parameters:\n",
    "    row (pd.Series): A row from the DataFrame containing 'relative_path' and 'file_extension'.\n",
    "\n",
    "    Returns:\n",
    "    bool: True if the file is in the expected location, otherwise False.\n",
    "    \"\"\"\n",
    "    file_extension = row['file_extension'].lower()  # Convert to lowercase for consistency\n",
    "    relative_path = row['relative_path'].lower()  # Convert to lowercase for consistency\n",
    "\n",
    "    # Define file extensions and their expected locations\n",
    "    static_extensions = ['css', 'js', 'png', 'jpg', 'jpeg', 'gif', 'svg', 'pdf', 'csv']\n",
    "    html_extensions = ['html']\n",
    "    markdown_extensions = ['md', 'rst']\n",
    "    config_extensions = ['cfg', 'json', 'env', 'ini']\n",
    "    notebook_extensions = ['ipynb']\n",
    "    allowed_extensions = static_extensions + html_extensions + markdown_extensions + config_extensions + notebook_extensions\n",
    "\n",
    "    # Check if file extension is one of the allowed types\n",
    "    if file_extension in html_extensions and 'templates/' in relative_path:\n",
    "        return True\n",
    "    elif file_extension in static_extensions and 'static/' in relative_path:\n",
    "        return True\n",
    "    elif file_extension == 'py' and (\n",
    "        'migrations/' in relative_path or \n",
    "        'management/commands/' in relative_path or \n",
    "        'apps/' in relative_path or\n",
    "        'admin/' in relative_path):\n",
    "        return True\n",
    "    elif file_extension in config_extensions and (relative_path.startswith('.') or 'config/' in relative_path):\n",
    "        return True\n",
    "    elif file_extension in markdown_extensions and relative_path in ['README.md', 'LICENSE']:\n",
    "        return True\n",
    "    elif file_extension in notebook_extensions and ('notebooks/' in relative_path or relative_path.endswith('.ipynb')):\n",
    "        return True\n",
    "    elif file_extension not in allowed_extensions and 'static/' in relative_path:\n",
    "        return True\n",
    "\n",
    "    return False\n",
    "\n",
    "def validate_app_structure(app_name, root_dir):\n",
    "    \"\"\"\n",
    "    Validate the directory structure of a Django app.\n",
    "\n",
    "    Parameters:\n",
    "    app_name (str): The name of the Django app to validate.\n",
    "    root_dir (str): The root directory of the Django project.\n",
    "\n",
    "    Returns:\n",
    "    bool: True if the app structure is valid, otherwise False.\n",
    "    \"\"\"\n",
    "    app_path = os.path.join(root_dir, app_name)\n",
    "    required_files = ['__init__.py', 'models.py', 'views.py', 'urls.py']\n",
    "    required_directories = ['migrations']\n",
    "\n",
    "    # Check if app directory exists\n",
    "    if not os.path.isdir(app_path):\n",
    "        logging.error(f\"App directory '{app_path}' does not exist.\")\n",
    "        return False\n",
    "\n",
    "    # Check for required files\n",
    "    for file in required_files:\n",
    "        if not os.path.isfile(os.path.join(app_path, file)):\n",
    "            logging.error(f\"Missing required file '{file}' in app '{app_name}'.\")\n",
    "            return False\n",
    "\n",
    "    # Check for required directories\n",
    "    for directory in required_directories:\n",
    "        if not os.path.isdir(os.path.join(app_path, directory)):\n",
    "            logging.error(f\"Missing required directory '{directory}' in app '{app_name}'.\")\n",
    "            return False\n",
    "\n",
    "    return True\n",
    "\n",
    "logging.info(f\"Validating app structure: {validate_app_structure}\")\n",
    "# Apply the function to each row of your DataFrame\n",
    "df['expected_location'] = df.apply(check_file_location, axis=1)\n",
    "\n",
    "# Validate the structure of the 'visualize' app (or any other app name)\n",
    "app_name = 'light_site'\n",
    "root_dir = '/home/tron/git/light_site'  # Update this path to your Django project root\n",
    "is_valid_structure = validate_app_structure(app_name, root_dir)\n",
    "logging.info(f\"App '{app_name}' has a valid structure: {is_valid_structure}\")\n",
    "\n",
    "logging.info(f\"Validating file location: {check_file_location}\")\n",
    "\n",
    "# To check counts\n",
    "counts = df['expected_location'].value_counts()\n",
    "logging.info(f\"Counts of expected locations: {counts}\")"
   ]
  },
  {
   "cell_type": "markdown",
   "metadata": {},
   "source": [
    "### Custom hover text function"
   ]
  },
  {
   "cell_type": "code",
   "execution_count": 23,
   "metadata": {},
   "outputs": [
    {
     "name": "stderr",
     "output_type": "stream",
     "text": [
      "2024-09-15 20:51:24,292 - INFO - Hover template created: <function generate_custom_hover at 0x779651e90d30>\n"
     ]
    }
   ],
   "source": [
    "def generate_custom_hover(row):\n",
    "    return (\n",
    "        f\"Directory Name: {row.get('directory_name', 'N/A')}<br>\"\n",
    "        f\"Entity Name: {row.get('entity_name', 'N/A')}<br>\"\n",
    "        f\"Relative Path: {row.get('relative_path', 'N/A')}<br>\"\n",
    "        f\"Directory Level: {row.get('directory_level_count', 'N/A')}<br>\"\n",
    "        f\"Type: {row.get('type', 'N/A')}<br>\"\n",
    "    )\n",
    "\n",
    "# Apply the function to generate hover text\n",
    "df['hover_template'] = df.apply(generate_custom_hover, axis=1)\n",
    "\n",
    "logging.info(f\"Hover template created: {generate_custom_hover}\")"
   ]
  },
  {
   "cell_type": "markdown",
   "metadata": {},
   "source": [
    "### Color discrete map"
   ]
  },
  {
   "cell_type": "code",
   "execution_count": 24,
   "metadata": {},
   "outputs": [
    {
     "name": "stderr",
     "output_type": "stream",
     "text": [
      "2024-09-15 20:51:24,328 - INFO - Color discrete map created: <function create_color_map at 0x779651e924d0>.\n"
     ]
    }
   ],
   "source": [
    "def create_color_map(df, category_column):\n",
    "    \"\"\"\n",
    "    Create a color map for unique values in a specified column.\n",
    "\n",
    "    Parameters:\n",
    "    df (pd.DataFrame): The DataFrame containing the data.\n",
    "    category_column (str): The column name with categorical data.\n",
    "\n",
    "    Returns:\n",
    "    color_discrete_map (dict): A dictionary mapping unique categories to colors.\n",
    "    \"\"\"\n",
    "    # Extract unique categories\n",
    "    unique_values_list = df[category_column].unique().tolist()\n",
    "    \n",
    "    # Define a color map\n",
    "    color_map = px.colors.sequential.Jet[:len(unique_values_list)]\n",
    "    color_discrete_map = dict(zip(unique_values_list, color_map))\n",
    "    \n",
    "    return color_discrete_map\n",
    "\n",
    "color_discrete_map = create_color_map(df, 'level')\n",
    "\n",
    "logging.info(f\"Color discrete map created: {create_color_map}.\")"
   ]
  },
  {
   "cell_type": "markdown",
   "metadata": {},
   "source": [
    "### Function to create, update and save plots"
   ]
  },
  {
   "cell_type": "code",
   "execution_count": 25,
   "metadata": {},
   "outputs": [
    {
     "name": "stderr",
     "output_type": "stream",
     "text": [
      "2024-09-15 20:51:24,362 - INFO - Graph layout has been processed: <function prepare_and_save_plot at 0x77965191d870>.\n"
     ]
    }
   ],
   "source": [
    "def prepare_and_save_plot(fig, width=600, height=600, template='plotly_dark', \n",
    "                          plot_bgcolor='rgba(0,0,0,0)', paper_bgcolor='rgba(0,0,0,0)', \n",
    "                          font_family=\"Open Sans, sans-serif\", font_size=10, font_color=\"white\", \n",
    "                          hover_template=None,  # Changed to None by default\n",
    "                          base_filename='plot', auto_open=False, counter=1, \n",
    "                          title=None, xaxis_title=None, yaxis_title=None,\n",
    "                          legend_title=None, coloraxis_colorbar=None):\n",
    "    \"\"\"\n",
    "    Parameters:\n",
    "    fig (go.Figure): The Plotly figure to be updated.\n",
    "    width (int): Width of the figure. Default is 600.\n",
    "    height (int): Height of the figure. Default is 600.\n",
    "    template (str): Plotly template for the figure. Default is 'plotly_dark'.\n",
    "    plot_bgcolor (str): Background color of the plot area. Default is transparent.\n",
    "    paper_bgcolor (str): Background color of the paper area. Default is transparent.\n",
    "    font_family (str): Font family for the text. Default is 'Open Sans, sans-serif'.\n",
    "    font_size (int): Font size for the text. Default is 10.\n",
    "    font_color (str): Font color for the text. Default is 'white'.\n",
    "    hover_template (str): Custom hover template for traces. Default is None.\n",
    "    base_filename (str): Base name for the file. Default is 'plot'.\n",
    "    auto_open (bool): Whether to open the file in the browser after saving. Default is False.\n",
    "    counter (int): Counter for incrementing filenames. Default is 1.\n",
    "    title (str): Title of the plot. Default is None.\n",
    "    xaxis_title (str): Title for the x-axis. Default is None.\n",
    "    yaxis_title (str): Title for the y-axis. Default is None.\n",
    "    legend_title (str): Title for the legend. Default is None.\n",
    "    \"\"\"\n",
    "\n",
    "    # Update layout\n",
    "    fig.update_layout(\n",
    "        width=width,\n",
    "        height=height,\n",
    "        template=template,\n",
    "        plot_bgcolor=plot_bgcolor,\n",
    "        paper_bgcolor=paper_bgcolor,\n",
    "        font=dict(\n",
    "            family=font_family,\n",
    "            size=font_size,\n",
    "            color=font_color\n",
    "        ),\n",
    "        title=title,\n",
    "        xaxis_title=xaxis_title,\n",
    "        yaxis_title=yaxis_title,\n",
    "        legend_title=legend_title,\n",
    "        coloraxis_colorbar=dict(\n",
    "            title=coloraxis_colorbar\n",
    "        ),\n",
    "    )\n",
    "    \n",
    "    # Set custom hover template if provided\n",
    "    if hover_template:\n",
    "        fig.update_traces(hovertemplate=hover_template)\n",
    "    \n",
    "    # Generate filename with counter\n",
    "    filename = f'{base_filename}_{counter}.html'\n",
    "    \n",
    "    # Save the figure to an HTML file\n",
    "    pio.write_html(fig, file=filename, auto_open=auto_open)\n",
    "    \n",
    "    return fig\n",
    "\n",
    "logging.info(f\"Graph layout has been processed: {prepare_and_save_plot}.\")"
   ]
  },
  {
   "cell_type": "markdown",
   "metadata": {},
   "source": [
    "### Function to create a level count graph"
   ]
  },
  {
   "cell_type": "code",
   "execution_count": 33,
   "metadata": {},
   "outputs": [
    {
     "name": "stderr",
     "output_type": "stream",
     "text": [
      "2024-09-15 20:52:32,286 - INFO - Creating a level count graph: <function create_level_count_graph at 0x779651619240>.\n"
     ]
    }
   ],
   "source": [
    "def create_level_count_graph(level_counts, x, y, color, title, template):\n",
    "    level_count_fig = px.bar(\n",
    "        level_counts,\n",
    "        x=x,\n",
    "        y=y,\n",
    "        color=color,\n",
    "        title=title\n",
    "    )\n",
    "    \n",
    "    return level_count_fig\n",
    "\n",
    "logging.info(f\"Creating a level count graph: {create_level_count_graph}.\")"
   ]
  },
  {
   "cell_type": "markdown",
   "metadata": {},
   "source": [
    "### Generating the plot"
   ]
  },
  {
   "cell_type": "code",
   "execution_count": 42,
   "metadata": {},
   "outputs": [
    {
     "name": "stderr",
     "output_type": "stream",
     "text": [
      "2024-09-15 20:55:57,841 - INFO - Level count graph generated: (level_count_fig | prepare_and_save_plot)\n"
     ]
    },
    {
     "data": {
      "application/vnd.plotly.v1+json": {
       "config": {
        "plotlyServerURL": "https://plot.ly"
       },
       "data": [
        {
         "alignmentgroup": "True",
         "hovertemplate": "level=%{marker.color}<br>count=%{y}<extra></extra>",
         "legendgroup": "",
         "marker": {
          "color": [
           0,
           1,
           2,
           3,
           4,
           5,
           6,
           7,
           8,
           9,
           10
          ],
          "coloraxis": "coloraxis",
          "pattern": {
           "shape": ""
          }
         },
         "name": "",
         "offsetgroup": "",
         "orientation": "v",
         "showlegend": false,
         "textposition": "auto",
         "type": "bar",
         "x": [
          0,
          1,
          2,
          3,
          4,
          5,
          6,
          7,
          8,
          9,
          10
         ],
         "xaxis": "x",
         "y": [
          21,
          186,
          1715,
          3384,
          1180,
          635,
          245,
          578,
          566,
          108,
          5
         ],
         "yaxis": "y"
        }
       ],
       "layout": {
        "barmode": "relative",
        "coloraxis": {
         "colorbar": {
          "title": {}
         },
         "colorscale": [
          [
           0,
           "#0d0887"
          ],
          [
           0.1111111111111111,
           "#46039f"
          ],
          [
           0.2222222222222222,
           "#7201a8"
          ],
          [
           0.3333333333333333,
           "#9c179e"
          ],
          [
           0.4444444444444444,
           "#bd3786"
          ],
          [
           0.5555555555555556,
           "#d8576b"
          ],
          [
           0.6666666666666666,
           "#ed7953"
          ],
          [
           0.7777777777777778,
           "#fb9f3a"
          ],
          [
           0.8888888888888888,
           "#fdca26"
          ],
          [
           1,
           "#f0f921"
          ]
         ]
        },
        "font": {
         "color": "white",
         "family": "Open Sans, sans-serif",
         "size": 10
        },
        "height": 400,
        "legend": {
         "title": {},
         "tracegroupgap": 0
        },
        "paper_bgcolor": "rgba(0, 0, 0, 0)",
        "plot_bgcolor": "rgba(0, 0, 0, 0)",
        "template": {
         "data": {
          "bar": [
           {
            "error_x": {
             "color": "#f2f5fa"
            },
            "error_y": {
             "color": "#f2f5fa"
            },
            "marker": {
             "line": {
              "color": "rgb(17,17,17)",
              "width": 0.5
             },
             "pattern": {
              "fillmode": "overlay",
              "size": 10,
              "solidity": 0.2
             }
            },
            "type": "bar"
           }
          ],
          "barpolar": [
           {
            "marker": {
             "line": {
              "color": "rgb(17,17,17)",
              "width": 0.5
             },
             "pattern": {
              "fillmode": "overlay",
              "size": 10,
              "solidity": 0.2
             }
            },
            "type": "barpolar"
           }
          ],
          "carpet": [
           {
            "aaxis": {
             "endlinecolor": "#A2B1C6",
             "gridcolor": "#506784",
             "linecolor": "#506784",
             "minorgridcolor": "#506784",
             "startlinecolor": "#A2B1C6"
            },
            "baxis": {
             "endlinecolor": "#A2B1C6",
             "gridcolor": "#506784",
             "linecolor": "#506784",
             "minorgridcolor": "#506784",
             "startlinecolor": "#A2B1C6"
            },
            "type": "carpet"
           }
          ],
          "choropleth": [
           {
            "colorbar": {
             "outlinewidth": 0,
             "ticks": ""
            },
            "type": "choropleth"
           }
          ],
          "contour": [
           {
            "colorbar": {
             "outlinewidth": 0,
             "ticks": ""
            },
            "colorscale": [
             [
              0,
              "#0d0887"
             ],
             [
              0.1111111111111111,
              "#46039f"
             ],
             [
              0.2222222222222222,
              "#7201a8"
             ],
             [
              0.3333333333333333,
              "#9c179e"
             ],
             [
              0.4444444444444444,
              "#bd3786"
             ],
             [
              0.5555555555555556,
              "#d8576b"
             ],
             [
              0.6666666666666666,
              "#ed7953"
             ],
             [
              0.7777777777777778,
              "#fb9f3a"
             ],
             [
              0.8888888888888888,
              "#fdca26"
             ],
             [
              1,
              "#f0f921"
             ]
            ],
            "type": "contour"
           }
          ],
          "contourcarpet": [
           {
            "colorbar": {
             "outlinewidth": 0,
             "ticks": ""
            },
            "type": "contourcarpet"
           }
          ],
          "heatmap": [
           {
            "colorbar": {
             "outlinewidth": 0,
             "ticks": ""
            },
            "colorscale": [
             [
              0,
              "#0d0887"
             ],
             [
              0.1111111111111111,
              "#46039f"
             ],
             [
              0.2222222222222222,
              "#7201a8"
             ],
             [
              0.3333333333333333,
              "#9c179e"
             ],
             [
              0.4444444444444444,
              "#bd3786"
             ],
             [
              0.5555555555555556,
              "#d8576b"
             ],
             [
              0.6666666666666666,
              "#ed7953"
             ],
             [
              0.7777777777777778,
              "#fb9f3a"
             ],
             [
              0.8888888888888888,
              "#fdca26"
             ],
             [
              1,
              "#f0f921"
             ]
            ],
            "type": "heatmap"
           }
          ],
          "heatmapgl": [
           {
            "colorbar": {
             "outlinewidth": 0,
             "ticks": ""
            },
            "colorscale": [
             [
              0,
              "#0d0887"
             ],
             [
              0.1111111111111111,
              "#46039f"
             ],
             [
              0.2222222222222222,
              "#7201a8"
             ],
             [
              0.3333333333333333,
              "#9c179e"
             ],
             [
              0.4444444444444444,
              "#bd3786"
             ],
             [
              0.5555555555555556,
              "#d8576b"
             ],
             [
              0.6666666666666666,
              "#ed7953"
             ],
             [
              0.7777777777777778,
              "#fb9f3a"
             ],
             [
              0.8888888888888888,
              "#fdca26"
             ],
             [
              1,
              "#f0f921"
             ]
            ],
            "type": "heatmapgl"
           }
          ],
          "histogram": [
           {
            "marker": {
             "pattern": {
              "fillmode": "overlay",
              "size": 10,
              "solidity": 0.2
             }
            },
            "type": "histogram"
           }
          ],
          "histogram2d": [
           {
            "colorbar": {
             "outlinewidth": 0,
             "ticks": ""
            },
            "colorscale": [
             [
              0,
              "#0d0887"
             ],
             [
              0.1111111111111111,
              "#46039f"
             ],
             [
              0.2222222222222222,
              "#7201a8"
             ],
             [
              0.3333333333333333,
              "#9c179e"
             ],
             [
              0.4444444444444444,
              "#bd3786"
             ],
             [
              0.5555555555555556,
              "#d8576b"
             ],
             [
              0.6666666666666666,
              "#ed7953"
             ],
             [
              0.7777777777777778,
              "#fb9f3a"
             ],
             [
              0.8888888888888888,
              "#fdca26"
             ],
             [
              1,
              "#f0f921"
             ]
            ],
            "type": "histogram2d"
           }
          ],
          "histogram2dcontour": [
           {
            "colorbar": {
             "outlinewidth": 0,
             "ticks": ""
            },
            "colorscale": [
             [
              0,
              "#0d0887"
             ],
             [
              0.1111111111111111,
              "#46039f"
             ],
             [
              0.2222222222222222,
              "#7201a8"
             ],
             [
              0.3333333333333333,
              "#9c179e"
             ],
             [
              0.4444444444444444,
              "#bd3786"
             ],
             [
              0.5555555555555556,
              "#d8576b"
             ],
             [
              0.6666666666666666,
              "#ed7953"
             ],
             [
              0.7777777777777778,
              "#fb9f3a"
             ],
             [
              0.8888888888888888,
              "#fdca26"
             ],
             [
              1,
              "#f0f921"
             ]
            ],
            "type": "histogram2dcontour"
           }
          ],
          "mesh3d": [
           {
            "colorbar": {
             "outlinewidth": 0,
             "ticks": ""
            },
            "type": "mesh3d"
           }
          ],
          "parcoords": [
           {
            "line": {
             "colorbar": {
              "outlinewidth": 0,
              "ticks": ""
             }
            },
            "type": "parcoords"
           }
          ],
          "pie": [
           {
            "automargin": true,
            "type": "pie"
           }
          ],
          "scatter": [
           {
            "marker": {
             "line": {
              "color": "#283442"
             }
            },
            "type": "scatter"
           }
          ],
          "scatter3d": [
           {
            "line": {
             "colorbar": {
              "outlinewidth": 0,
              "ticks": ""
             }
            },
            "marker": {
             "colorbar": {
              "outlinewidth": 0,
              "ticks": ""
             }
            },
            "type": "scatter3d"
           }
          ],
          "scattercarpet": [
           {
            "marker": {
             "colorbar": {
              "outlinewidth": 0,
              "ticks": ""
             }
            },
            "type": "scattercarpet"
           }
          ],
          "scattergeo": [
           {
            "marker": {
             "colorbar": {
              "outlinewidth": 0,
              "ticks": ""
             }
            },
            "type": "scattergeo"
           }
          ],
          "scattergl": [
           {
            "marker": {
             "line": {
              "color": "#283442"
             }
            },
            "type": "scattergl"
           }
          ],
          "scattermapbox": [
           {
            "marker": {
             "colorbar": {
              "outlinewidth": 0,
              "ticks": ""
             }
            },
            "type": "scattermapbox"
           }
          ],
          "scatterpolar": [
           {
            "marker": {
             "colorbar": {
              "outlinewidth": 0,
              "ticks": ""
             }
            },
            "type": "scatterpolar"
           }
          ],
          "scatterpolargl": [
           {
            "marker": {
             "colorbar": {
              "outlinewidth": 0,
              "ticks": ""
             }
            },
            "type": "scatterpolargl"
           }
          ],
          "scatterternary": [
           {
            "marker": {
             "colorbar": {
              "outlinewidth": 0,
              "ticks": ""
             }
            },
            "type": "scatterternary"
           }
          ],
          "surface": [
           {
            "colorbar": {
             "outlinewidth": 0,
             "ticks": ""
            },
            "colorscale": [
             [
              0,
              "#0d0887"
             ],
             [
              0.1111111111111111,
              "#46039f"
             ],
             [
              0.2222222222222222,
              "#7201a8"
             ],
             [
              0.3333333333333333,
              "#9c179e"
             ],
             [
              0.4444444444444444,
              "#bd3786"
             ],
             [
              0.5555555555555556,
              "#d8576b"
             ],
             [
              0.6666666666666666,
              "#ed7953"
             ],
             [
              0.7777777777777778,
              "#fb9f3a"
             ],
             [
              0.8888888888888888,
              "#fdca26"
             ],
             [
              1,
              "#f0f921"
             ]
            ],
            "type": "surface"
           }
          ],
          "table": [
           {
            "cells": {
             "fill": {
              "color": "#506784"
             },
             "line": {
              "color": "rgb(17,17,17)"
             }
            },
            "header": {
             "fill": {
              "color": "#2a3f5f"
             },
             "line": {
              "color": "rgb(17,17,17)"
             }
            },
            "type": "table"
           }
          ]
         },
         "layout": {
          "annotationdefaults": {
           "arrowcolor": "#f2f5fa",
           "arrowhead": 0,
           "arrowwidth": 1
          },
          "autotypenumbers": "strict",
          "coloraxis": {
           "colorbar": {
            "outlinewidth": 0,
            "ticks": ""
           }
          },
          "colorscale": {
           "diverging": [
            [
             0,
             "#8e0152"
            ],
            [
             0.1,
             "#c51b7d"
            ],
            [
             0.2,
             "#de77ae"
            ],
            [
             0.3,
             "#f1b6da"
            ],
            [
             0.4,
             "#fde0ef"
            ],
            [
             0.5,
             "#f7f7f7"
            ],
            [
             0.6,
             "#e6f5d0"
            ],
            [
             0.7,
             "#b8e186"
            ],
            [
             0.8,
             "#7fbc41"
            ],
            [
             0.9,
             "#4d9221"
            ],
            [
             1,
             "#276419"
            ]
           ],
           "sequential": [
            [
             0,
             "#0d0887"
            ],
            [
             0.1111111111111111,
             "#46039f"
            ],
            [
             0.2222222222222222,
             "#7201a8"
            ],
            [
             0.3333333333333333,
             "#9c179e"
            ],
            [
             0.4444444444444444,
             "#bd3786"
            ],
            [
             0.5555555555555556,
             "#d8576b"
            ],
            [
             0.6666666666666666,
             "#ed7953"
            ],
            [
             0.7777777777777778,
             "#fb9f3a"
            ],
            [
             0.8888888888888888,
             "#fdca26"
            ],
            [
             1,
             "#f0f921"
            ]
           ],
           "sequentialminus": [
            [
             0,
             "#0d0887"
            ],
            [
             0.1111111111111111,
             "#46039f"
            ],
            [
             0.2222222222222222,
             "#7201a8"
            ],
            [
             0.3333333333333333,
             "#9c179e"
            ],
            [
             0.4444444444444444,
             "#bd3786"
            ],
            [
             0.5555555555555556,
             "#d8576b"
            ],
            [
             0.6666666666666666,
             "#ed7953"
            ],
            [
             0.7777777777777778,
             "#fb9f3a"
            ],
            [
             0.8888888888888888,
             "#fdca26"
            ],
            [
             1,
             "#f0f921"
            ]
           ]
          },
          "colorway": [
           "#636efa",
           "#EF553B",
           "#00cc96",
           "#ab63fa",
           "#FFA15A",
           "#19d3f3",
           "#FF6692",
           "#B6E880",
           "#FF97FF",
           "#FECB52"
          ],
          "font": {
           "color": "#f2f5fa"
          },
          "geo": {
           "bgcolor": "rgb(17,17,17)",
           "lakecolor": "rgb(17,17,17)",
           "landcolor": "rgb(17,17,17)",
           "showlakes": true,
           "showland": true,
           "subunitcolor": "#506784"
          },
          "hoverlabel": {
           "align": "left"
          },
          "hovermode": "closest",
          "mapbox": {
           "style": "dark"
          },
          "paper_bgcolor": "rgb(17,17,17)",
          "plot_bgcolor": "rgb(17,17,17)",
          "polar": {
           "angularaxis": {
            "gridcolor": "#506784",
            "linecolor": "#506784",
            "ticks": ""
           },
           "bgcolor": "rgb(17,17,17)",
           "radialaxis": {
            "gridcolor": "#506784",
            "linecolor": "#506784",
            "ticks": ""
           }
          },
          "scene": {
           "xaxis": {
            "backgroundcolor": "rgb(17,17,17)",
            "gridcolor": "#506784",
            "gridwidth": 2,
            "linecolor": "#506784",
            "showbackground": true,
            "ticks": "",
            "zerolinecolor": "#C8D4E3"
           },
           "yaxis": {
            "backgroundcolor": "rgb(17,17,17)",
            "gridcolor": "#506784",
            "gridwidth": 2,
            "linecolor": "#506784",
            "showbackground": true,
            "ticks": "",
            "zerolinecolor": "#C8D4E3"
           },
           "zaxis": {
            "backgroundcolor": "rgb(17,17,17)",
            "gridcolor": "#506784",
            "gridwidth": 2,
            "linecolor": "#506784",
            "showbackground": true,
            "ticks": "",
            "zerolinecolor": "#C8D4E3"
           }
          },
          "shapedefaults": {
           "line": {
            "color": "#f2f5fa"
           }
          },
          "sliderdefaults": {
           "bgcolor": "#C8D4E3",
           "bordercolor": "rgb(17,17,17)",
           "borderwidth": 1,
           "tickwidth": 0
          },
          "ternary": {
           "aaxis": {
            "gridcolor": "#506784",
            "linecolor": "#506784",
            "ticks": ""
           },
           "baxis": {
            "gridcolor": "#506784",
            "linecolor": "#506784",
            "ticks": ""
           },
           "bgcolor": "rgb(17,17,17)",
           "caxis": {
            "gridcolor": "#506784",
            "linecolor": "#506784",
            "ticks": ""
           }
          },
          "title": {
           "x": 0.05
          },
          "updatemenudefaults": {
           "bgcolor": "#506784",
           "borderwidth": 0
          },
          "xaxis": {
           "automargin": true,
           "gridcolor": "#283442",
           "linecolor": "#506784",
           "ticks": "",
           "title": {
            "standoff": 15
           },
           "zerolinecolor": "#283442",
           "zerolinewidth": 2
          },
          "yaxis": {
           "automargin": true,
           "gridcolor": "#283442",
           "linecolor": "#506784",
           "ticks": "",
           "title": {
            "standoff": 15
           },
           "zerolinecolor": "#283442",
           "zerolinewidth": 2
          }
         }
        },
        "title": {},
        "width": 1200,
        "xaxis": {
         "anchor": "y",
         "autorange": true,
         "domain": [
          0,
          1
         ],
         "range": [
          -0.5,
          10.5
         ],
         "title": {},
         "type": "linear"
        },
        "yaxis": {
         "anchor": "x",
         "autorange": true,
         "domain": [
          0,
          1
         ],
         "range": [
          0,
          3562.1052631578946
         ],
         "title": {},
         "type": "linear"
        }
       }
      },
      "image/png": "[encoded data removed]",
      "text/html": [
       "<div>                            <div id=\"7629d01c-7aa2-4999-9389-a3d38c7d6306\" class=\"plotly-graph-div\" style=\"height:400px; width:1200px;\"></div>            <script type=\"text/javascript\">                require([\"plotly\"], function(Plotly) {                    window.PLOTLYENV=window.PLOTLYENV || {};                                    if (document.getElementById(\"7629d01c-7aa2-4999-9389-a3d38c7d6306\")) {                    Plotly.newPlot(                        \"7629d01c-7aa2-4999-9389-a3d38c7d6306\",                        [{\"alignmentgroup\":\"True\",\"hovertemplate\":\"level=%{marker.color}\\u003cbr\\u003ecount=%{y}\\u003cextra\\u003e\\u003c\\u002fextra\\u003e\",\"legendgroup\":\"\",\"marker\":{\"color\":[0,1,2,3,4,5,6,7,8,9,10],\"coloraxis\":\"coloraxis\",\"pattern\":{\"shape\":\"\"}},\"name\":\"\",\"offsetgroup\":\"\",\"orientation\":\"v\",\"showlegend\":false,\"textposition\":\"auto\",\"x\":[0,1,2,3,4,5,6,7,8,9,10],\"xaxis\":\"x\",\"y\":[21,186,1715,3384,1180,635,245,578,566,108,5],\"yaxis\":\"y\",\"type\":\"bar\"}],                        {\"template\":{\"data\":{\"barpolar\":[{\"marker\":{\"line\":{\"color\":\"rgb(17,17,17)\",\"width\":0.5},\"pattern\":{\"fillmode\":\"overlay\",\"size\":10,\"solidity\":0.2}},\"type\":\"barpolar\"}],\"bar\":[{\"error_x\":{\"color\":\"#f2f5fa\"},\"error_y\":{\"color\":\"#f2f5fa\"},\"marker\":{\"line\":{\"color\":\"rgb(17,17,17)\",\"width\":0.5},\"pattern\":{\"fillmode\":\"overlay\",\"size\":10,\"solidity\":0.2}},\"type\":\"bar\"}],\"carpet\":[{\"aaxis\":{\"endlinecolor\":\"#A2B1C6\",\"gridcolor\":\"#506784\",\"linecolor\":\"#506784\",\"minorgridcolor\":\"#506784\",\"startlinecolor\":\"#A2B1C6\"},\"baxis\":{\"endlinecolor\":\"#A2B1C6\",\"gridcolor\":\"#506784\",\"linecolor\":\"#506784\",\"minorgridcolor\":\"#506784\",\"startlinecolor\":\"#A2B1C6\"},\"type\":\"carpet\"}],\"choropleth\":[{\"colorbar\":{\"outlinewidth\":0,\"ticks\":\"\"},\"type\":\"choropleth\"}],\"contourcarpet\":[{\"colorbar\":{\"outlinewidth\":0,\"ticks\":\"\"},\"type\":\"contourcarpet\"}],\"contour\":[{\"colorbar\":{\"outlinewidth\":0,\"ticks\":\"\"},\"colorscale\":[[0.0,\"#0d0887\"],[0.1111111111111111,\"#46039f\"],[0.2222222222222222,\"#7201a8\"],[0.3333333333333333,\"#9c179e\"],[0.4444444444444444,\"#bd3786\"],[0.5555555555555556,\"#d8576b\"],[0.6666666666666666,\"#ed7953\"],[0.7777777777777778,\"#fb9f3a\"],[0.8888888888888888,\"#fdca26\"],[1.0,\"#f0f921\"]],\"type\":\"contour\"}],\"heatmapgl\":[{\"colorbar\":{\"outlinewidth\":0,\"ticks\":\"\"},\"colorscale\":[[0.0,\"#0d0887\"],[0.1111111111111111,\"#46039f\"],[0.2222222222222222,\"#7201a8\"],[0.3333333333333333,\"#9c179e\"],[0.4444444444444444,\"#bd3786\"],[0.5555555555555556,\"#d8576b\"],[0.6666666666666666,\"#ed7953\"],[0.7777777777777778,\"#fb9f3a\"],[0.8888888888888888,\"#fdca26\"],[1.0,\"#f0f921\"]],\"type\":\"heatmapgl\"}],\"heatmap\":[{\"colorbar\":{\"outlinewidth\":0,\"ticks\":\"\"},\"colorscale\":[[0.0,\"#0d0887\"],[0.1111111111111111,\"#46039f\"],[0.2222222222222222,\"#7201a8\"],[0.3333333333333333,\"#9c179e\"],[0.4444444444444444,\"#bd3786\"],[0.5555555555555556,\"#d8576b\"],[0.6666666666666666,\"#ed7953\"],[0.7777777777777778,\"#fb9f3a\"],[0.8888888888888888,\"#fdca26\"],[1.0,\"#f0f921\"]],\"type\":\"heatmap\"}],\"histogram2dcontour\":[{\"colorbar\":{\"outlinewidth\":0,\"ticks\":\"\"},\"colorscale\":[[0.0,\"#0d0887\"],[0.1111111111111111,\"#46039f\"],[0.2222222222222222,\"#7201a8\"],[0.3333333333333333,\"#9c179e\"],[0.4444444444444444,\"#bd3786\"],[0.5555555555555556,\"#d8576b\"],[0.6666666666666666,\"#ed7953\"],[0.7777777777777778,\"#fb9f3a\"],[0.8888888888888888,\"#fdca26\"],[1.0,\"#f0f921\"]],\"type\":\"histogram2dcontour\"}],\"histogram2d\":[{\"colorbar\":{\"outlinewidth\":0,\"ticks\":\"\"},\"colorscale\":[[0.0,\"#0d0887\"],[0.1111111111111111,\"#46039f\"],[0.2222222222222222,\"#7201a8\"],[0.3333333333333333,\"#9c179e\"],[0.4444444444444444,\"#bd3786\"],[0.5555555555555556,\"#d8576b\"],[0.6666666666666666,\"#ed7953\"],[0.7777777777777778,\"#fb9f3a\"],[0.8888888888888888,\"#fdca26\"],[1.0,\"#f0f921\"]],\"type\":\"histogram2d\"}],\"histogram\":[{\"marker\":{\"pattern\":{\"fillmode\":\"overlay\",\"size\":10,\"solidity\":0.2}},\"type\":\"histogram\"}],\"mesh3d\":[{\"colorbar\":{\"outlinewidth\":0,\"ticks\":\"\"},\"type\":\"mesh3d\"}],\"parcoords\":[{\"line\":{\"colorbar\":{\"outlinewidth\":0,\"ticks\":\"\"}},\"type\":\"parcoords\"}],\"pie\":[{\"automargin\":true,\"type\":\"pie\"}],\"scatter3d\":[{\"line\":{\"colorbar\":{\"outlinewidth\":0,\"ticks\":\"\"}},\"marker\":{\"colorbar\":{\"outlinewidth\":0,\"ticks\":\"\"}},\"type\":\"scatter3d\"}],\"scattercarpet\":[{\"marker\":{\"colorbar\":{\"outlinewidth\":0,\"ticks\":\"\"}},\"type\":\"scattercarpet\"}],\"scattergeo\":[{\"marker\":{\"colorbar\":{\"outlinewidth\":0,\"ticks\":\"\"}},\"type\":\"scattergeo\"}],\"scattergl\":[{\"marker\":{\"line\":{\"color\":\"#283442\"}},\"type\":\"scattergl\"}],\"scattermapbox\":[{\"marker\":{\"colorbar\":{\"outlinewidth\":0,\"ticks\":\"\"}},\"type\":\"scattermapbox\"}],\"scatterpolargl\":[{\"marker\":{\"colorbar\":{\"outlinewidth\":0,\"ticks\":\"\"}},\"type\":\"scatterpolargl\"}],\"scatterpolar\":[{\"marker\":{\"colorbar\":{\"outlinewidth\":0,\"ticks\":\"\"}},\"type\":\"scatterpolar\"}],\"scatter\":[{\"marker\":{\"line\":{\"color\":\"#283442\"}},\"type\":\"scatter\"}],\"scatterternary\":[{\"marker\":{\"colorbar\":{\"outlinewidth\":0,\"ticks\":\"\"}},\"type\":\"scatterternary\"}],\"surface\":[{\"colorbar\":{\"outlinewidth\":0,\"ticks\":\"\"},\"colorscale\":[[0.0,\"#0d0887\"],[0.1111111111111111,\"#46039f\"],[0.2222222222222222,\"#7201a8\"],[0.3333333333333333,\"#9c179e\"],[0.4444444444444444,\"#bd3786\"],[0.5555555555555556,\"#d8576b\"],[0.6666666666666666,\"#ed7953\"],[0.7777777777777778,\"#fb9f3a\"],[0.8888888888888888,\"#fdca26\"],[1.0,\"#f0f921\"]],\"type\":\"surface\"}],\"table\":[{\"cells\":{\"fill\":{\"color\":\"#506784\"},\"line\":{\"color\":\"rgb(17,17,17)\"}},\"header\":{\"fill\":{\"color\":\"#2a3f5f\"},\"line\":{\"color\":\"rgb(17,17,17)\"}},\"type\":\"table\"}]},\"layout\":{\"annotationdefaults\":{\"arrowcolor\":\"#f2f5fa\",\"arrowhead\":0,\"arrowwidth\":1},\"autotypenumbers\":\"strict\",\"coloraxis\":{\"colorbar\":{\"outlinewidth\":0,\"ticks\":\"\"}},\"colorscale\":{\"diverging\":[[0,\"#8e0152\"],[0.1,\"#c51b7d\"],[0.2,\"#de77ae\"],[0.3,\"#f1b6da\"],[0.4,\"#fde0ef\"],[0.5,\"#f7f7f7\"],[0.6,\"#e6f5d0\"],[0.7,\"#b8e186\"],[0.8,\"#7fbc41\"],[0.9,\"#4d9221\"],[1,\"#276419\"]],\"sequential\":[[0.0,\"#0d0887\"],[0.1111111111111111,\"#46039f\"],[0.2222222222222222,\"#7201a8\"],[0.3333333333333333,\"#9c179e\"],[0.4444444444444444,\"#bd3786\"],[0.5555555555555556,\"#d8576b\"],[0.6666666666666666,\"#ed7953\"],[0.7777777777777778,\"#fb9f3a\"],[0.8888888888888888,\"#fdca26\"],[1.0,\"#f0f921\"]],\"sequentialminus\":[[0.0,\"#0d0887\"],[0.1111111111111111,\"#46039f\"],[0.2222222222222222,\"#7201a8\"],[0.3333333333333333,\"#9c179e\"],[0.4444444444444444,\"#bd3786\"],[0.5555555555555556,\"#d8576b\"],[0.6666666666666666,\"#ed7953\"],[0.7777777777777778,\"#fb9f3a\"],[0.8888888888888888,\"#fdca26\"],[1.0,\"#f0f921\"]]},\"colorway\":[\"#636efa\",\"#EF553B\",\"#00cc96\",\"#ab63fa\",\"#FFA15A\",\"#19d3f3\",\"#FF6692\",\"#B6E880\",\"#FF97FF\",\"#FECB52\"],\"font\":{\"color\":\"#f2f5fa\"},\"geo\":{\"bgcolor\":\"rgb(17,17,17)\",\"lakecolor\":\"rgb(17,17,17)\",\"landcolor\":\"rgb(17,17,17)\",\"showlakes\":true,\"showland\":true,\"subunitcolor\":\"#506784\"},\"hoverlabel\":{\"align\":\"left\"},\"hovermode\":\"closest\",\"mapbox\":{\"style\":\"dark\"},\"paper_bgcolor\":\"rgb(17,17,17)\",\"plot_bgcolor\":\"rgb(17,17,17)\",\"polar\":{\"angularaxis\":{\"gridcolor\":\"#506784\",\"linecolor\":\"#506784\",\"ticks\":\"\"},\"bgcolor\":\"rgb(17,17,17)\",\"radialaxis\":{\"gridcolor\":\"#506784\",\"linecolor\":\"#506784\",\"ticks\":\"\"}},\"scene\":{\"xaxis\":{\"backgroundcolor\":\"rgb(17,17,17)\",\"gridcolor\":\"#506784\",\"gridwidth\":2,\"linecolor\":\"#506784\",\"showbackground\":true,\"ticks\":\"\",\"zerolinecolor\":\"#C8D4E3\"},\"yaxis\":{\"backgroundcolor\":\"rgb(17,17,17)\",\"gridcolor\":\"#506784\",\"gridwidth\":2,\"linecolor\":\"#506784\",\"showbackground\":true,\"ticks\":\"\",\"zerolinecolor\":\"#C8D4E3\"},\"zaxis\":{\"backgroundcolor\":\"rgb(17,17,17)\",\"gridcolor\":\"#506784\",\"gridwidth\":2,\"linecolor\":\"#506784\",\"showbackground\":true,\"ticks\":\"\",\"zerolinecolor\":\"#C8D4E3\"}},\"shapedefaults\":{\"line\":{\"color\":\"#f2f5fa\"}},\"sliderdefaults\":{\"bgcolor\":\"#C8D4E3\",\"bordercolor\":\"rgb(17,17,17)\",\"borderwidth\":1,\"tickwidth\":0},\"ternary\":{\"aaxis\":{\"gridcolor\":\"#506784\",\"linecolor\":\"#506784\",\"ticks\":\"\"},\"baxis\":{\"gridcolor\":\"#506784\",\"linecolor\":\"#506784\",\"ticks\":\"\"},\"bgcolor\":\"rgb(17,17,17)\",\"caxis\":{\"gridcolor\":\"#506784\",\"linecolor\":\"#506784\",\"ticks\":\"\"}},\"title\":{\"x\":0.05},\"updatemenudefaults\":{\"bgcolor\":\"#506784\",\"borderwidth\":0},\"xaxis\":{\"automargin\":true,\"gridcolor\":\"#283442\",\"linecolor\":\"#506784\",\"ticks\":\"\",\"title\":{\"standoff\":15},\"zerolinecolor\":\"#283442\",\"zerolinewidth\":2},\"yaxis\":{\"automargin\":true,\"gridcolor\":\"#283442\",\"linecolor\":\"#506784\",\"ticks\":\"\",\"title\":{\"standoff\":15},\"zerolinecolor\":\"#283442\",\"zerolinewidth\":2}}},\"xaxis\":{\"anchor\":\"y\",\"domain\":[0.0,1.0],\"title\":{}},\"yaxis\":{\"anchor\":\"x\",\"domain\":[0.0,1.0],\"title\":{}},\"coloraxis\":{\"colorbar\":{\"title\":{}},\"colorscale\":[[0.0,\"#0d0887\"],[0.1111111111111111,\"#46039f\"],[0.2222222222222222,\"#7201a8\"],[0.3333333333333333,\"#9c179e\"],[0.4444444444444444,\"#bd3786\"],[0.5555555555555556,\"#d8576b\"],[0.6666666666666666,\"#ed7953\"],[0.7777777777777778,\"#fb9f3a\"],[0.8888888888888888,\"#fdca26\"],[1.0,\"#f0f921\"]]},\"legend\":{\"tracegroupgap\":0,\"title\":{}},\"title\":{},\"barmode\":\"relative\",\"font\":{\"family\":\"Open Sans, sans-serif\",\"size\":10,\"color\":\"white\"},\"width\":1200,\"height\":400,\"plot_bgcolor\":\"rgba(0,0,0,0)\",\"paper_bgcolor\":\"rgba(0,0,0,0)\"},                        {\"responsive\": true}                    ).then(function(){\n",
       "                            \n",
       "var gd = document.getElementById('7629d01c-7aa2-4999-9389-a3d38c7d6306');\n",
       "var x = new MutationObserver(function (mutations, observer) {{\n",
       "        var display = window.getComputedStyle(gd).display;\n",
       "        if (!display || display === 'none') {{\n",
       "            console.log([gd, 'removed!']);\n",
       "            Plotly.purge(gd);\n",
       "            observer.disconnect();\n",
       "        }}\n",
       "}});\n",
       "\n",
       "// Listen for the removal of the full notebook cells\n",
       "var notebookContainer = gd.closest('#notebook-container');\n",
       "if (notebookContainer) {{\n",
       "    x.observe(notebookContainer, {childList: true});\n",
       "}}\n",
       "\n",
       "// Listen for the clearing of the current output cell\n",
       "var outputEl = gd.closest('.output');\n",
       "if (outputEl) {{\n",
       "    x.observe(outputEl, {childList: true});\n",
       "}}\n",
       "\n",
       "                        })                };                });            </script>        </div>"
      ]
     },
     "metadata": {},
     "output_type": "display_data"
    }
   ],
   "source": [
    "level_count_fig = create_level_count_graph(\n",
    "    level_counts = df.groupby('level').size().reset_index(name='count'),\n",
    "    x='level',\n",
    "    y='count',\n",
    "    color='level',\n",
    "    title='File Count by Directory Level',\n",
    "    template='plotly_dark'\n",
    ")\n",
    "\n",
    "logging.info(\"Level count graph generated: (level_count_fig | prepare_and_save_plot)\")\n",
    "\n",
    "# Prepare and save the plot\n",
    "prepare_and_save_plot(\n",
    "    level_count_fig,\n",
    "    width=1200,\n",
    "    height=400,\n",
    "    #title=\"My Work Timeline\",\n",
    "    #xaxis_title=\"Start Date\",\n",
    "    #yaxis_title=\"Organizations\",\n",
    "    #coloraxis_colorbar='Tenure',\n",
    "    #legend_title='Job Level',\n",
    "    #base_filename='directory_level_distribution',\n",
    "    #counter='1'\n",
    ")"
   ]
  },
  {
   "cell_type": "code",
   "execution_count": 44,
   "metadata": {},
   "outputs": [
    {
     "name": "stderr",
     "output_type": "stream",
     "text": [
      "2024-09-15 20:56:55,574 - INFO - File extension distribution generated: (extension_count_fig | prepare_and_save_plot)\n"
     ]
    },
    {
     "data": {
      "application/vnd.plotly.v1+json": {
       "config": {
        "plotlyServerURL": "https://plot.ly"
       },
       "data": [
        {
         "alignmentgroup": "True",
         "hovertemplate": "File Extension=%{x}<br>Count=%{y}<extra></extra>",
         "legendgroup": "folders",
         "marker": {
          "color": "#636efa",
          "pattern": {
           "shape": ""
          }
         },
         "name": "folders",
         "offsetgroup": "folders",
         "orientation": "v",
         "showlegend": true,
         "textposition": "auto",
         "type": "bar",
         "x": [
          "folders"
         ],
         "xaxis": "x",
         "y": [
          3053
         ],
         "yaxis": "y"
        },
        {
         "alignmentgroup": "True",
         "hovertemplate": "File Extension=%{x}<br>Count=%{y}<extra></extra>",
         "legendgroup": "js",
         "marker": {
          "color": "#EF553B",
          "pattern": {
           "shape": ""
          }
         },
         "name": "js",
         "offsetgroup": "js",
         "orientation": "v",
         "showlegend": true,
         "textposition": "auto",
         "type": "bar",
         "x": [
          "js"
         ],
         "xaxis": "x",
         "y": [
          2807
         ],
         "yaxis": "y"
        },
        {
         "alignmentgroup": "True",
         "hovertemplate": "File Extension=%{x}<br>Count=%{y}<extra></extra>",
         "legendgroup": "py",
         "marker": {
          "color": "#00cc96",
          "pattern": {
           "shape": ""
          }
         },
         "name": "py",
         "offsetgroup": "py",
         "orientation": "v",
         "showlegend": true,
         "textposition": "auto",
         "type": "bar",
         "x": [
          "py"
         ],
         "xaxis": "x",
         "y": [
          663
         ],
         "yaxis": "y"
        },
        {
         "alignmentgroup": "True",
         "hovertemplate": "File Extension=%{x}<br>Count=%{y}<extra></extra>",
         "legendgroup": "pyc",
         "marker": {
          "color": "#ab63fa",
          "pattern": {
           "shape": ""
          }
         },
         "name": "pyc",
         "offsetgroup": "pyc",
         "orientation": "v",
         "showlegend": true,
         "textposition": "auto",
         "type": "bar",
         "x": [
          "pyc"
         ],
         "xaxis": "x",
         "y": [
          657
         ],
         "yaxis": "y"
        },
        {
         "alignmentgroup": "True",
         "hovertemplate": "File Extension=%{x}<br>Count=%{y}<extra></extra>",
         "legendgroup": "ts",
         "marker": {
          "color": "#FFA15A",
          "pattern": {
           "shape": ""
          }
         },
         "name": "ts",
         "offsetgroup": "ts",
         "orientation": "v",
         "showlegend": true,
         "textposition": "auto",
         "type": "bar",
         "x": [
          "ts"
         ],
         "xaxis": "x",
         "y": [
          330
         ],
         "yaxis": "y"
        },
        {
         "alignmentgroup": "True",
         "hovertemplate": "File Extension=%{x}<br>Count=%{y}<extra></extra>",
         "legendgroup": "map",
         "marker": {
          "color": "#19d3f3",
          "pattern": {
           "shape": ""
          }
         },
         "name": "map",
         "offsetgroup": "map",
         "orientation": "v",
         "showlegend": true,
         "textposition": "auto",
         "type": "bar",
         "x": [
          "map"
         ],
         "xaxis": "x",
         "y": [
          258
         ],
         "yaxis": "y"
        },
        {
         "alignmentgroup": "True",
         "hovertemplate": "File Extension=%{x}<br>Count=%{y}<extra></extra>",
         "legendgroup": "json",
         "marker": {
          "color": "#FF6692",
          "pattern": {
           "shape": ""
          }
         },
         "name": "json",
         "offsetgroup": "json",
         "orientation": "v",
         "showlegend": true,
         "textposition": "auto",
         "type": "bar",
         "x": [
          "json"
         ],
         "xaxis": "x",
         "y": [
          208
         ],
         "yaxis": "y"
        },
        {
         "alignmentgroup": "True",
         "hovertemplate": "File Extension=%{x}<br>Count=%{y}<extra></extra>",
         "legendgroup": "md",
         "marker": {
          "color": "#B6E880",
          "pattern": {
           "shape": ""
          }
         },
         "name": "md",
         "offsetgroup": "md",
         "orientation": "v",
         "showlegend": true,
         "textposition": "auto",
         "type": "bar",
         "x": [
          "md"
         ],
         "xaxis": "x",
         "y": [
          187
         ],
         "yaxis": "y"
        },
        {
         "alignmentgroup": "True",
         "hovertemplate": "File Extension=%{x}<br>Count=%{y}<extra></extra>",
         "legendgroup": "scss",
         "marker": {
          "color": "#FF97FF",
          "pattern": {
           "shape": ""
          }
         },
         "name": "scss",
         "offsetgroup": "scss",
         "orientation": "v",
         "showlegend": true,
         "textposition": "auto",
         "type": "bar",
         "x": [
          "scss"
         ],
         "xaxis": "x",
         "y": [
          92
         ],
         "yaxis": "y"
        },
        {
         "alignmentgroup": "True",
         "hovertemplate": "File Extension=%{x}<br>Count=%{y}<extra></extra>",
         "legendgroup": "Other",
         "marker": {
          "color": "#FECB52",
          "pattern": {
           "shape": ""
          }
         },
         "name": "Other",
         "offsetgroup": "Other",
         "orientation": "v",
         "showlegend": true,
         "textposition": "auto",
         "type": "bar",
         "x": [
          "Other"
         ],
         "xaxis": "x",
         "y": [
          83
         ],
         "yaxis": "y"
        },
        {
         "alignmentgroup": "True",
         "hovertemplate": "File Extension=%{x}<br>Count=%{y}<extra></extra>",
         "legendgroup": "flow",
         "marker": {
          "color": "#636efa",
          "pattern": {
           "shape": ""
          }
         },
         "name": "flow",
         "offsetgroup": "flow",
         "orientation": "v",
         "showlegend": true,
         "textposition": "auto",
         "type": "bar",
         "x": [
          "flow"
         ],
         "xaxis": "x",
         "y": [
          71
         ],
         "yaxis": "y"
        },
        {
         "alignmentgroup": "True",
         "hovertemplate": "File Extension=%{x}<br>Count=%{y}<extra></extra>",
         "legendgroup": "png",
         "marker": {
          "color": "#EF553B",
          "pattern": {
           "shape": ""
          }
         },
         "name": "png",
         "offsetgroup": "png",
         "orientation": "v",
         "showlegend": true,
         "textposition": "auto",
         "type": "bar",
         "x": [
          "png"
         ],
         "xaxis": "x",
         "y": [
          28
         ],
         "yaxis": "y"
        },
        {
         "alignmentgroup": "True",
         "hovertemplate": "File Extension=%{x}<br>Count=%{y}<extra></extra>",
         "legendgroup": "jst",
         "marker": {
          "color": "#00cc96",
          "pattern": {
           "shape": ""
          }
         },
         "name": "jst",
         "offsetgroup": "jst",
         "orientation": "v",
         "showlegend": true,
         "textposition": "auto",
         "type": "bar",
         "x": [
          "jst"
         ],
         "xaxis": "x",
         "y": [
          25
         ],
         "yaxis": "y"
        },
        {
         "alignmentgroup": "True",
         "hovertemplate": "File Extension=%{x}<br>Count=%{y}<extra></extra>",
         "legendgroup": "mjs",
         "marker": {
          "color": "#ab63fa",
          "pattern": {
           "shape": ""
          }
         },
         "name": "mjs",
         "offsetgroup": "mjs",
         "orientation": "v",
         "showlegend": true,
         "textposition": "auto",
         "type": "bar",
         "x": [
          "mjs"
         ],
         "xaxis": "x",
         "y": [
          22
         ],
         "yaxis": "y"
        },
        {
         "alignmentgroup": "True",
         "hovertemplate": "File Extension=%{x}<br>Count=%{y}<extra></extra>",
         "legendgroup": "css",
         "marker": {
          "color": "#FFA15A",
          "pattern": {
           "shape": ""
          }
         },
         "name": "css",
         "offsetgroup": "css",
         "orientation": "v",
         "showlegend": true,
         "textposition": "auto",
         "type": "bar",
         "x": [
          "css"
         ],
         "xaxis": "x",
         "y": [
          21
         ],
         "yaxis": "y"
        },
        {
         "alignmentgroup": "True",
         "hovertemplate": "File Extension=%{x}<br>Count=%{y}<extra></extra>",
         "legendgroup": "html",
         "marker": {
          "color": "#19d3f3",
          "pattern": {
           "shape": ""
          }
         },
         "name": "html",
         "offsetgroup": "html",
         "orientation": "v",
         "showlegend": true,
         "textposition": "auto",
         "type": "bar",
         "x": [
          "html"
         ],
         "xaxis": "x",
         "y": [
          20
         ],
         "yaxis": "y"
        },
        {
         "alignmentgroup": "True",
         "hovertemplate": "File Extension=%{x}<br>Count=%{y}<extra></extra>",
         "legendgroup": "yml",
         "marker": {
          "color": "#FF6692",
          "pattern": {
           "shape": ""
          }
         },
         "name": "yml",
         "offsetgroup": "yml",
         "orientation": "v",
         "showlegend": true,
         "textposition": "auto",
         "type": "bar",
         "x": [
          "yml"
         ],
         "xaxis": "x",
         "y": [
          19
         ],
         "yaxis": "y"
        },
        {
         "alignmentgroup": "True",
         "hovertemplate": "File Extension=%{x}<br>Count=%{y}<extra></extra>",
         "legendgroup": "cjs",
         "marker": {
          "color": "#B6E880",
          "pattern": {
           "shape": ""
          }
         },
         "name": "cjs",
         "offsetgroup": "cjs",
         "orientation": "v",
         "showlegend": true,
         "textposition": "auto",
         "type": "bar",
         "x": [
          "cjs"
         ],
         "xaxis": "x",
         "y": [
          19
         ],
         "yaxis": "y"
        },
        {
         "alignmentgroup": "True",
         "hovertemplate": "File Extension=%{x}<br>Count=%{y}<extra></extra>",
         "legendgroup": "svg",
         "marker": {
          "color": "#FF97FF",
          "pattern": {
           "shape": ""
          }
         },
         "name": "svg",
         "offsetgroup": "svg",
         "orientation": "v",
         "showlegend": true,
         "textposition": "auto",
         "type": "bar",
         "x": [
          "svg"
         ],
         "xaxis": "x",
         "y": [
          14
         ],
         "yaxis": "y"
        },
        {
         "alignmentgroup": "True",
         "hovertemplate": "File Extension=%{x}<br>Count=%{y}<extra></extra>",
         "legendgroup": "sample",
         "marker": {
          "color": "#FECB52",
          "pattern": {
           "shape": ""
          }
         },
         "name": "sample",
         "offsetgroup": "sample",
         "orientation": "v",
         "showlegend": true,
         "textposition": "auto",
         "type": "bar",
         "x": [
          "sample"
         ],
         "xaxis": "x",
         "y": [
          13
         ],
         "yaxis": "y"
        },
        {
         "alignmentgroup": "True",
         "hovertemplate": "File Extension=%{x}<br>Count=%{y}<extra></extra>",
         "legendgroup": "txt",
         "marker": {
          "color": "#636efa",
          "pattern": {
           "shape": ""
          }
         },
         "name": "txt",
         "offsetgroup": "txt",
         "orientation": "v",
         "showlegend": true,
         "textposition": "auto",
         "type": "bar",
         "x": [
          "txt"
         ],
         "xaxis": "x",
         "y": [
          11
         ],
         "yaxis": "y"
        },
        {
         "alignmentgroup": "True",
         "hovertemplate": "File Extension=%{x}<br>Count=%{y}<extra></extra>",
         "legendgroup": "exe",
         "marker": {
          "color": "#EF553B",
          "pattern": {
           "shape": ""
          }
         },
         "name": "exe",
         "offsetgroup": "exe",
         "orientation": "v",
         "showlegend": true,
         "textposition": "auto",
         "type": "bar",
         "x": [
          "exe"
         ],
         "xaxis": "x",
         "y": [
          8
         ],
         "yaxis": "y"
        },
        {
         "alignmentgroup": "True",
         "hovertemplate": "File Extension=%{x}<br>Count=%{y}<extra></extra>",
         "legendgroup": "mts",
         "marker": {
          "color": "#00cc96",
          "pattern": {
           "shape": ""
          }
         },
         "name": "mts",
         "offsetgroup": "mts",
         "orientation": "v",
         "showlegend": true,
         "textposition": "auto",
         "type": "bar",
         "x": [
          "mts"
         ],
         "xaxis": "x",
         "y": [
          7
         ],
         "yaxis": "y"
        },
        {
         "alignmentgroup": "True",
         "hovertemplate": "File Extension=%{x}<br>Count=%{y}<extra></extra>",
         "legendgroup": "ipynb",
         "marker": {
          "color": "#ab63fa",
          "pattern": {
           "shape": ""
          }
         },
         "name": "ipynb",
         "offsetgroup": "ipynb",
         "orientation": "v",
         "showlegend": true,
         "textposition": "auto",
         "type": "bar",
         "x": [
          "ipynb"
         ],
         "xaxis": "x",
         "y": [
          7
         ],
         "yaxis": "y"
        }
       ],
       "layout": {
        "barmode": "relative",
        "coloraxis": {
         "colorbar": {
          "title": {}
         }
        },
        "font": {
         "color": "white",
         "family": "Open Sans, sans-serif",
         "size": 10
        },
        "height": 400,
        "legend": {
         "title": {},
         "tracegroupgap": 0
        },
        "paper_bgcolor": "rgba(0, 0, 0, 0)",
        "plot_bgcolor": "rgba(0, 0, 0, 0)",
        "template": {
         "data": {
          "bar": [
           {
            "error_x": {
             "color": "#f2f5fa"
            },
            "error_y": {
             "color": "#f2f5fa"
            },
            "marker": {
             "line": {
              "color": "rgb(17,17,17)",
              "width": 0.5
             },
             "pattern": {
              "fillmode": "overlay",
              "size": 10,
              "solidity": 0.2
             }
            },
            "type": "bar"
           }
          ],
          "barpolar": [
           {
            "marker": {
             "line": {
              "color": "rgb(17,17,17)",
              "width": 0.5
             },
             "pattern": {
              "fillmode": "overlay",
              "size": 10,
              "solidity": 0.2
             }
            },
            "type": "barpolar"
           }
          ],
          "carpet": [
           {
            "aaxis": {
             "endlinecolor": "#A2B1C6",
             "gridcolor": "#506784",
             "linecolor": "#506784",
             "minorgridcolor": "#506784",
             "startlinecolor": "#A2B1C6"
            },
            "baxis": {
             "endlinecolor": "#A2B1C6",
             "gridcolor": "#506784",
             "linecolor": "#506784",
             "minorgridcolor": "#506784",
             "startlinecolor": "#A2B1C6"
            },
            "type": "carpet"
           }
          ],
          "choropleth": [
           {
            "colorbar": {
             "outlinewidth": 0,
             "ticks": ""
            },
            "type": "choropleth"
           }
          ],
          "contour": [
           {
            "colorbar": {
             "outlinewidth": 0,
             "ticks": ""
            },
            "colorscale": [
             [
              0,
              "#0d0887"
             ],
             [
              0.1111111111111111,
              "#46039f"
             ],
             [
              0.2222222222222222,
              "#7201a8"
             ],
             [
              0.3333333333333333,
              "#9c179e"
             ],
             [
              0.4444444444444444,
              "#bd3786"
             ],
             [
              0.5555555555555556,
              "#d8576b"
             ],
             [
              0.6666666666666666,
              "#ed7953"
             ],
             [
              0.7777777777777778,
              "#fb9f3a"
             ],
             [
              0.8888888888888888,
              "#fdca26"
             ],
             [
              1,
              "#f0f921"
             ]
            ],
            "type": "contour"
           }
          ],
          "contourcarpet": [
           {
            "colorbar": {
             "outlinewidth": 0,
             "ticks": ""
            },
            "type": "contourcarpet"
           }
          ],
          "heatmap": [
           {
            "colorbar": {
             "outlinewidth": 0,
             "ticks": ""
            },
            "colorscale": [
             [
              0,
              "#0d0887"
             ],
             [
              0.1111111111111111,
              "#46039f"
             ],
             [
              0.2222222222222222,
              "#7201a8"
             ],
             [
              0.3333333333333333,
              "#9c179e"
             ],
             [
              0.4444444444444444,
              "#bd3786"
             ],
             [
              0.5555555555555556,
              "#d8576b"
             ],
             [
              0.6666666666666666,
              "#ed7953"
             ],
             [
              0.7777777777777778,
              "#fb9f3a"
             ],
             [
              0.8888888888888888,
              "#fdca26"
             ],
             [
              1,
              "#f0f921"
             ]
            ],
            "type": "heatmap"
           }
          ],
          "heatmapgl": [
           {
            "colorbar": {
             "outlinewidth": 0,
             "ticks": ""
            },
            "colorscale": [
             [
              0,
              "#0d0887"
             ],
             [
              0.1111111111111111,
              "#46039f"
             ],
             [
              0.2222222222222222,
              "#7201a8"
             ],
             [
              0.3333333333333333,
              "#9c179e"
             ],
             [
              0.4444444444444444,
              "#bd3786"
             ],
             [
              0.5555555555555556,
              "#d8576b"
             ],
             [
              0.6666666666666666,
              "#ed7953"
             ],
             [
              0.7777777777777778,
              "#fb9f3a"
             ],
             [
              0.8888888888888888,
              "#fdca26"
             ],
             [
              1,
              "#f0f921"
             ]
            ],
            "type": "heatmapgl"
           }
          ],
          "histogram": [
           {
            "marker": {
             "pattern": {
              "fillmode": "overlay",
              "size": 10,
              "solidity": 0.2
             }
            },
            "type": "histogram"
           }
          ],
          "histogram2d": [
           {
            "colorbar": {
             "outlinewidth": 0,
             "ticks": ""
            },
            "colorscale": [
             [
              0,
              "#0d0887"
             ],
             [
              0.1111111111111111,
              "#46039f"
             ],
             [
              0.2222222222222222,
              "#7201a8"
             ],
             [
              0.3333333333333333,
              "#9c179e"
             ],
             [
              0.4444444444444444,
              "#bd3786"
             ],
             [
              0.5555555555555556,
              "#d8576b"
             ],
             [
              0.6666666666666666,
              "#ed7953"
             ],
             [
              0.7777777777777778,
              "#fb9f3a"
             ],
             [
              0.8888888888888888,
              "#fdca26"
             ],
             [
              1,
              "#f0f921"
             ]
            ],
            "type": "histogram2d"
           }
          ],
          "histogram2dcontour": [
           {
            "colorbar": {
             "outlinewidth": 0,
             "ticks": ""
            },
            "colorscale": [
             [
              0,
              "#0d0887"
             ],
             [
              0.1111111111111111,
              "#46039f"
             ],
             [
              0.2222222222222222,
              "#7201a8"
             ],
             [
              0.3333333333333333,
              "#9c179e"
             ],
             [
              0.4444444444444444,
              "#bd3786"
             ],
             [
              0.5555555555555556,
              "#d8576b"
             ],
             [
              0.6666666666666666,
              "#ed7953"
             ],
             [
              0.7777777777777778,
              "#fb9f3a"
             ],
             [
              0.8888888888888888,
              "#fdca26"
             ],
             [
              1,
              "#f0f921"
             ]
            ],
            "type": "histogram2dcontour"
           }
          ],
          "mesh3d": [
           {
            "colorbar": {
             "outlinewidth": 0,
             "ticks": ""
            },
            "type": "mesh3d"
           }
          ],
          "parcoords": [
           {
            "line": {
             "colorbar": {
              "outlinewidth": 0,
              "ticks": ""
             }
            },
            "type": "parcoords"
           }
          ],
          "pie": [
           {
            "automargin": true,
            "type": "pie"
           }
          ],
          "scatter": [
           {
            "marker": {
             "line": {
              "color": "#283442"
             }
            },
            "type": "scatter"
           }
          ],
          "scatter3d": [
           {
            "line": {
             "colorbar": {
              "outlinewidth": 0,
              "ticks": ""
             }
            },
            "marker": {
             "colorbar": {
              "outlinewidth": 0,
              "ticks": ""
             }
            },
            "type": "scatter3d"
           }
          ],
          "scattercarpet": [
           {
            "marker": {
             "colorbar": {
              "outlinewidth": 0,
              "ticks": ""
             }
            },
            "type": "scattercarpet"
           }
          ],
          "scattergeo": [
           {
            "marker": {
             "colorbar": {
              "outlinewidth": 0,
              "ticks": ""
             }
            },
            "type": "scattergeo"
           }
          ],
          "scattergl": [
           {
            "marker": {
             "line": {
              "color": "#283442"
             }
            },
            "type": "scattergl"
           }
          ],
          "scattermapbox": [
           {
            "marker": {
             "colorbar": {
              "outlinewidth": 0,
              "ticks": ""
             }
            },
            "type": "scattermapbox"
           }
          ],
          "scatterpolar": [
           {
            "marker": {
             "colorbar": {
              "outlinewidth": 0,
              "ticks": ""
             }
            },
            "type": "scatterpolar"
           }
          ],
          "scatterpolargl": [
           {
            "marker": {
             "colorbar": {
              "outlinewidth": 0,
              "ticks": ""
             }
            },
            "type": "scatterpolargl"
           }
          ],
          "scatterternary": [
           {
            "marker": {
             "colorbar": {
              "outlinewidth": 0,
              "ticks": ""
             }
            },
            "type": "scatterternary"
           }
          ],
          "surface": [
           {
            "colorbar": {
             "outlinewidth": 0,
             "ticks": ""
            },
            "colorscale": [
             [
              0,
              "#0d0887"
             ],
             [
              0.1111111111111111,
              "#46039f"
             ],
             [
              0.2222222222222222,
              "#7201a8"
             ],
             [
              0.3333333333333333,
              "#9c179e"
             ],
             [
              0.4444444444444444,
              "#bd3786"
             ],
             [
              0.5555555555555556,
              "#d8576b"
             ],
             [
              0.6666666666666666,
              "#ed7953"
             ],
             [
              0.7777777777777778,
              "#fb9f3a"
             ],
             [
              0.8888888888888888,
              "#fdca26"
             ],
             [
              1,
              "#f0f921"
             ]
            ],
            "type": "surface"
           }
          ],
          "table": [
           {
            "cells": {
             "fill": {
              "color": "#506784"
             },
             "line": {
              "color": "rgb(17,17,17)"
             }
            },
            "header": {
             "fill": {
              "color": "#2a3f5f"
             },
             "line": {
              "color": "rgb(17,17,17)"
             }
            },
            "type": "table"
           }
          ]
         },
         "layout": {
          "annotationdefaults": {
           "arrowcolor": "#f2f5fa",
           "arrowhead": 0,
           "arrowwidth": 1
          },
          "autotypenumbers": "strict",
          "coloraxis": {
           "colorbar": {
            "outlinewidth": 0,
            "ticks": ""
           }
          },
          "colorscale": {
           "diverging": [
            [
             0,
             "#8e0152"
            ],
            [
             0.1,
             "#c51b7d"
            ],
            [
             0.2,
             "#de77ae"
            ],
            [
             0.3,
             "#f1b6da"
            ],
            [
             0.4,
             "#fde0ef"
            ],
            [
             0.5,
             "#f7f7f7"
            ],
            [
             0.6,
             "#e6f5d0"
            ],
            [
             0.7,
             "#b8e186"
            ],
            [
             0.8,
             "#7fbc41"
            ],
            [
             0.9,
             "#4d9221"
            ],
            [
             1,
             "#276419"
            ]
           ],
           "sequential": [
            [
             0,
             "#0d0887"
            ],
            [
             0.1111111111111111,
             "#46039f"
            ],
            [
             0.2222222222222222,
             "#7201a8"
            ],
            [
             0.3333333333333333,
             "#9c179e"
            ],
            [
             0.4444444444444444,
             "#bd3786"
            ],
            [
             0.5555555555555556,
             "#d8576b"
            ],
            [
             0.6666666666666666,
             "#ed7953"
            ],
            [
             0.7777777777777778,
             "#fb9f3a"
            ],
            [
             0.8888888888888888,
             "#fdca26"
            ],
            [
             1,
             "#f0f921"
            ]
           ],
           "sequentialminus": [
            [
             0,
             "#0d0887"
            ],
            [
             0.1111111111111111,
             "#46039f"
            ],
            [
             0.2222222222222222,
             "#7201a8"
            ],
            [
             0.3333333333333333,
             "#9c179e"
            ],
            [
             0.4444444444444444,
             "#bd3786"
            ],
            [
             0.5555555555555556,
             "#d8576b"
            ],
            [
             0.6666666666666666,
             "#ed7953"
            ],
            [
             0.7777777777777778,
             "#fb9f3a"
            ],
            [
             0.8888888888888888,
             "#fdca26"
            ],
            [
             1,
             "#f0f921"
            ]
           ]
          },
          "colorway": [
           "#636efa",
           "#EF553B",
           "#00cc96",
           "#ab63fa",
           "#FFA15A",
           "#19d3f3",
           "#FF6692",
           "#B6E880",
           "#FF97FF",
           "#FECB52"
          ],
          "font": {
           "color": "#f2f5fa"
          },
          "geo": {
           "bgcolor": "rgb(17,17,17)",
           "lakecolor": "rgb(17,17,17)",
           "landcolor": "rgb(17,17,17)",
           "showlakes": true,
           "showland": true,
           "subunitcolor": "#506784"
          },
          "hoverlabel": {
           "align": "left"
          },
          "hovermode": "closest",
          "mapbox": {
           "style": "dark"
          },
          "paper_bgcolor": "rgb(17,17,17)",
          "plot_bgcolor": "rgb(17,17,17)",
          "polar": {
           "angularaxis": {
            "gridcolor": "#506784",
            "linecolor": "#506784",
            "ticks": ""
           },
           "bgcolor": "rgb(17,17,17)",
           "radialaxis": {
            "gridcolor": "#506784",
            "linecolor": "#506784",
            "ticks": ""
           }
          },
          "scene": {
           "xaxis": {
            "backgroundcolor": "rgb(17,17,17)",
            "gridcolor": "#506784",
            "gridwidth": 2,
            "linecolor": "#506784",
            "showbackground": true,
            "ticks": "",
            "zerolinecolor": "#C8D4E3"
           },
           "yaxis": {
            "backgroundcolor": "rgb(17,17,17)",
            "gridcolor": "#506784",
            "gridwidth": 2,
            "linecolor": "#506784",
            "showbackground": true,
            "ticks": "",
            "zerolinecolor": "#C8D4E3"
           },
           "zaxis": {
            "backgroundcolor": "rgb(17,17,17)",
            "gridcolor": "#506784",
            "gridwidth": 2,
            "linecolor": "#506784",
            "showbackground": true,
            "ticks": "",
            "zerolinecolor": "#C8D4E3"
           }
          },
          "shapedefaults": {
           "line": {
            "color": "#f2f5fa"
           }
          },
          "sliderdefaults": {
           "bgcolor": "#C8D4E3",
           "bordercolor": "rgb(17,17,17)",
           "borderwidth": 1,
           "tickwidth": 0
          },
          "ternary": {
           "aaxis": {
            "gridcolor": "#506784",
            "linecolor": "#506784",
            "ticks": ""
           },
           "baxis": {
            "gridcolor": "#506784",
            "linecolor": "#506784",
            "ticks": ""
           },
           "bgcolor": "rgb(17,17,17)",
           "caxis": {
            "gridcolor": "#506784",
            "linecolor": "#506784",
            "ticks": ""
           }
          },
          "title": {
           "x": 0.05
          },
          "updatemenudefaults": {
           "bgcolor": "#506784",
           "borderwidth": 0
          },
          "xaxis": {
           "automargin": true,
           "gridcolor": "#283442",
           "linecolor": "#506784",
           "ticks": "",
           "title": {
            "standoff": 15
           },
           "zerolinecolor": "#283442",
           "zerolinewidth": 2
          },
          "yaxis": {
           "automargin": true,
           "gridcolor": "#283442",
           "linecolor": "#506784",
           "ticks": "",
           "title": {
            "standoff": 15
           },
           "zerolinecolor": "#283442",
           "zerolinewidth": 2
          }
         }
        },
        "title": {},
        "width": 1200,
        "xaxis": {
         "anchor": "y",
         "autorange": true,
         "categoryarray": [
          "folders",
          "js",
          "py",
          "pyc",
          "ts",
          "map",
          "json",
          "md",
          "scss",
          "Other",
          "flow",
          "png",
          "jst",
          "mjs",
          "css",
          "html",
          "yml",
          "cjs",
          "svg",
          "sample",
          "txt",
          "exe",
          "mts",
          "ipynb"
         ],
         "categoryorder": "array",
         "domain": [
          0,
          1
         ],
         "range": [
          -0.5,
          23.5
         ],
         "title": {},
         "type": "category"
        },
        "yaxis": {
         "anchor": "x",
         "autorange": true,
         "domain": [
          0,
          1
         ],
         "range": [
          0,
          3213.684210526316
         ],
         "title": {},
         "type": "linear"
        }
       }
      },
      "image/png": "[encoded data removed]",
      "text/html": [
       "<div>                            <div id=\"b691f309-6c4e-45e6-bd47-e8d0fa38f74c\" class=\"plotly-graph-div\" style=\"height:400px; width:1200px;\"></div>            <script type=\"text/javascript\">                require([\"plotly\"], function(Plotly) {                    window.PLOTLYENV=window.PLOTLYENV || {};                                    if (document.getElementById(\"b691f309-6c4e-45e6-bd47-e8d0fa38f74c\")) {                    Plotly.newPlot(                        \"b691f309-6c4e-45e6-bd47-e8d0fa38f74c\",                        [{\"alignmentgroup\":\"True\",\"hovertemplate\":\"File Extension=%{x}\\u003cbr\\u003eCount=%{y}\\u003cextra\\u003e\\u003c\\u002fextra\\u003e\",\"legendgroup\":\"folders\",\"marker\":{\"color\":\"#636efa\",\"pattern\":{\"shape\":\"\"}},\"name\":\"folders\",\"offsetgroup\":\"folders\",\"orientation\":\"v\",\"showlegend\":true,\"textposition\":\"auto\",\"x\":[\"folders\"],\"xaxis\":\"x\",\"y\":[3053],\"yaxis\":\"y\",\"type\":\"bar\"},{\"alignmentgroup\":\"True\",\"hovertemplate\":\"File Extension=%{x}\\u003cbr\\u003eCount=%{y}\\u003cextra\\u003e\\u003c\\u002fextra\\u003e\",\"legendgroup\":\"js\",\"marker\":{\"color\":\"#EF553B\",\"pattern\":{\"shape\":\"\"}},\"name\":\"js\",\"offsetgroup\":\"js\",\"orientation\":\"v\",\"showlegend\":true,\"textposition\":\"auto\",\"x\":[\"js\"],\"xaxis\":\"x\",\"y\":[2807],\"yaxis\":\"y\",\"type\":\"bar\"},{\"alignmentgroup\":\"True\",\"hovertemplate\":\"File Extension=%{x}\\u003cbr\\u003eCount=%{y}\\u003cextra\\u003e\\u003c\\u002fextra\\u003e\",\"legendgroup\":\"py\",\"marker\":{\"color\":\"#00cc96\",\"pattern\":{\"shape\":\"\"}},\"name\":\"py\",\"offsetgroup\":\"py\",\"orientation\":\"v\",\"showlegend\":true,\"textposition\":\"auto\",\"x\":[\"py\"],\"xaxis\":\"x\",\"y\":[663],\"yaxis\":\"y\",\"type\":\"bar\"},{\"alignmentgroup\":\"True\",\"hovertemplate\":\"File Extension=%{x}\\u003cbr\\u003eCount=%{y}\\u003cextra\\u003e\\u003c\\u002fextra\\u003e\",\"legendgroup\":\"pyc\",\"marker\":{\"color\":\"#ab63fa\",\"pattern\":{\"shape\":\"\"}},\"name\":\"pyc\",\"offsetgroup\":\"pyc\",\"orientation\":\"v\",\"showlegend\":true,\"textposition\":\"auto\",\"x\":[\"pyc\"],\"xaxis\":\"x\",\"y\":[657],\"yaxis\":\"y\",\"type\":\"bar\"},{\"alignmentgroup\":\"True\",\"hovertemplate\":\"File Extension=%{x}\\u003cbr\\u003eCount=%{y}\\u003cextra\\u003e\\u003c\\u002fextra\\u003e\",\"legendgroup\":\"ts\",\"marker\":{\"color\":\"#FFA15A\",\"pattern\":{\"shape\":\"\"}},\"name\":\"ts\",\"offsetgroup\":\"ts\",\"orientation\":\"v\",\"showlegend\":true,\"textposition\":\"auto\",\"x\":[\"ts\"],\"xaxis\":\"x\",\"y\":[330],\"yaxis\":\"y\",\"type\":\"bar\"},{\"alignmentgroup\":\"True\",\"hovertemplate\":\"File Extension=%{x}\\u003cbr\\u003eCount=%{y}\\u003cextra\\u003e\\u003c\\u002fextra\\u003e\",\"legendgroup\":\"map\",\"marker\":{\"color\":\"#19d3f3\",\"pattern\":{\"shape\":\"\"}},\"name\":\"map\",\"offsetgroup\":\"map\",\"orientation\":\"v\",\"showlegend\":true,\"textposition\":\"auto\",\"x\":[\"map\"],\"xaxis\":\"x\",\"y\":[258],\"yaxis\":\"y\",\"type\":\"bar\"},{\"alignmentgroup\":\"True\",\"hovertemplate\":\"File Extension=%{x}\\u003cbr\\u003eCount=%{y}\\u003cextra\\u003e\\u003c\\u002fextra\\u003e\",\"legendgroup\":\"json\",\"marker\":{\"color\":\"#FF6692\",\"pattern\":{\"shape\":\"\"}},\"name\":\"json\",\"offsetgroup\":\"json\",\"orientation\":\"v\",\"showlegend\":true,\"textposition\":\"auto\",\"x\":[\"json\"],\"xaxis\":\"x\",\"y\":[208],\"yaxis\":\"y\",\"type\":\"bar\"},{\"alignmentgroup\":\"True\",\"hovertemplate\":\"File Extension=%{x}\\u003cbr\\u003eCount=%{y}\\u003cextra\\u003e\\u003c\\u002fextra\\u003e\",\"legendgroup\":\"md\",\"marker\":{\"color\":\"#B6E880\",\"pattern\":{\"shape\":\"\"}},\"name\":\"md\",\"offsetgroup\":\"md\",\"orientation\":\"v\",\"showlegend\":true,\"textposition\":\"auto\",\"x\":[\"md\"],\"xaxis\":\"x\",\"y\":[187],\"yaxis\":\"y\",\"type\":\"bar\"},{\"alignmentgroup\":\"True\",\"hovertemplate\":\"File Extension=%{x}\\u003cbr\\u003eCount=%{y}\\u003cextra\\u003e\\u003c\\u002fextra\\u003e\",\"legendgroup\":\"scss\",\"marker\":{\"color\":\"#FF97FF\",\"pattern\":{\"shape\":\"\"}},\"name\":\"scss\",\"offsetgroup\":\"scss\",\"orientation\":\"v\",\"showlegend\":true,\"textposition\":\"auto\",\"x\":[\"scss\"],\"xaxis\":\"x\",\"y\":[92],\"yaxis\":\"y\",\"type\":\"bar\"},{\"alignmentgroup\":\"True\",\"hovertemplate\":\"File Extension=%{x}\\u003cbr\\u003eCount=%{y}\\u003cextra\\u003e\\u003c\\u002fextra\\u003e\",\"legendgroup\":\"Other\",\"marker\":{\"color\":\"#FECB52\",\"pattern\":{\"shape\":\"\"}},\"name\":\"Other\",\"offsetgroup\":\"Other\",\"orientation\":\"v\",\"showlegend\":true,\"textposition\":\"auto\",\"x\":[\"Other\"],\"xaxis\":\"x\",\"y\":[83],\"yaxis\":\"y\",\"type\":\"bar\"},{\"alignmentgroup\":\"True\",\"hovertemplate\":\"File Extension=%{x}\\u003cbr\\u003eCount=%{y}\\u003cextra\\u003e\\u003c\\u002fextra\\u003e\",\"legendgroup\":\"flow\",\"marker\":{\"color\":\"#636efa\",\"pattern\":{\"shape\":\"\"}},\"name\":\"flow\",\"offsetgroup\":\"flow\",\"orientation\":\"v\",\"showlegend\":true,\"textposition\":\"auto\",\"x\":[\"flow\"],\"xaxis\":\"x\",\"y\":[71],\"yaxis\":\"y\",\"type\":\"bar\"},{\"alignmentgroup\":\"True\",\"hovertemplate\":\"File Extension=%{x}\\u003cbr\\u003eCount=%{y}\\u003cextra\\u003e\\u003c\\u002fextra\\u003e\",\"legendgroup\":\"png\",\"marker\":{\"color\":\"#EF553B\",\"pattern\":{\"shape\":\"\"}},\"name\":\"png\",\"offsetgroup\":\"png\",\"orientation\":\"v\",\"showlegend\":true,\"textposition\":\"auto\",\"x\":[\"png\"],\"xaxis\":\"x\",\"y\":[28],\"yaxis\":\"y\",\"type\":\"bar\"},{\"alignmentgroup\":\"True\",\"hovertemplate\":\"File Extension=%{x}\\u003cbr\\u003eCount=%{y}\\u003cextra\\u003e\\u003c\\u002fextra\\u003e\",\"legendgroup\":\"jst\",\"marker\":{\"color\":\"#00cc96\",\"pattern\":{\"shape\":\"\"}},\"name\":\"jst\",\"offsetgroup\":\"jst\",\"orientation\":\"v\",\"showlegend\":true,\"textposition\":\"auto\",\"x\":[\"jst\"],\"xaxis\":\"x\",\"y\":[25],\"yaxis\":\"y\",\"type\":\"bar\"},{\"alignmentgroup\":\"True\",\"hovertemplate\":\"File Extension=%{x}\\u003cbr\\u003eCount=%{y}\\u003cextra\\u003e\\u003c\\u002fextra\\u003e\",\"legendgroup\":\"mjs\",\"marker\":{\"color\":\"#ab63fa\",\"pattern\":{\"shape\":\"\"}},\"name\":\"mjs\",\"offsetgroup\":\"mjs\",\"orientation\":\"v\",\"showlegend\":true,\"textposition\":\"auto\",\"x\":[\"mjs\"],\"xaxis\":\"x\",\"y\":[22],\"yaxis\":\"y\",\"type\":\"bar\"},{\"alignmentgroup\":\"True\",\"hovertemplate\":\"File Extension=%{x}\\u003cbr\\u003eCount=%{y}\\u003cextra\\u003e\\u003c\\u002fextra\\u003e\",\"legendgroup\":\"css\",\"marker\":{\"color\":\"#FFA15A\",\"pattern\":{\"shape\":\"\"}},\"name\":\"css\",\"offsetgroup\":\"css\",\"orientation\":\"v\",\"showlegend\":true,\"textposition\":\"auto\",\"x\":[\"css\"],\"xaxis\":\"x\",\"y\":[21],\"yaxis\":\"y\",\"type\":\"bar\"},{\"alignmentgroup\":\"True\",\"hovertemplate\":\"File Extension=%{x}\\u003cbr\\u003eCount=%{y}\\u003cextra\\u003e\\u003c\\u002fextra\\u003e\",\"legendgroup\":\"html\",\"marker\":{\"color\":\"#19d3f3\",\"pattern\":{\"shape\":\"\"}},\"name\":\"html\",\"offsetgroup\":\"html\",\"orientation\":\"v\",\"showlegend\":true,\"textposition\":\"auto\",\"x\":[\"html\"],\"xaxis\":\"x\",\"y\":[20],\"yaxis\":\"y\",\"type\":\"bar\"},{\"alignmentgroup\":\"True\",\"hovertemplate\":\"File Extension=%{x}\\u003cbr\\u003eCount=%{y}\\u003cextra\\u003e\\u003c\\u002fextra\\u003e\",\"legendgroup\":\"yml\",\"marker\":{\"color\":\"#FF6692\",\"pattern\":{\"shape\":\"\"}},\"name\":\"yml\",\"offsetgroup\":\"yml\",\"orientation\":\"v\",\"showlegend\":true,\"textposition\":\"auto\",\"x\":[\"yml\"],\"xaxis\":\"x\",\"y\":[19],\"yaxis\":\"y\",\"type\":\"bar\"},{\"alignmentgroup\":\"True\",\"hovertemplate\":\"File Extension=%{x}\\u003cbr\\u003eCount=%{y}\\u003cextra\\u003e\\u003c\\u002fextra\\u003e\",\"legendgroup\":\"cjs\",\"marker\":{\"color\":\"#B6E880\",\"pattern\":{\"shape\":\"\"}},\"name\":\"cjs\",\"offsetgroup\":\"cjs\",\"orientation\":\"v\",\"showlegend\":true,\"textposition\":\"auto\",\"x\":[\"cjs\"],\"xaxis\":\"x\",\"y\":[19],\"yaxis\":\"y\",\"type\":\"bar\"},{\"alignmentgroup\":\"True\",\"hovertemplate\":\"File Extension=%{x}\\u003cbr\\u003eCount=%{y}\\u003cextra\\u003e\\u003c\\u002fextra\\u003e\",\"legendgroup\":\"svg\",\"marker\":{\"color\":\"#FF97FF\",\"pattern\":{\"shape\":\"\"}},\"name\":\"svg\",\"offsetgroup\":\"svg\",\"orientation\":\"v\",\"showlegend\":true,\"textposition\":\"auto\",\"x\":[\"svg\"],\"xaxis\":\"x\",\"y\":[14],\"yaxis\":\"y\",\"type\":\"bar\"},{\"alignmentgroup\":\"True\",\"hovertemplate\":\"File Extension=%{x}\\u003cbr\\u003eCount=%{y}\\u003cextra\\u003e\\u003c\\u002fextra\\u003e\",\"legendgroup\":\"sample\",\"marker\":{\"color\":\"#FECB52\",\"pattern\":{\"shape\":\"\"}},\"name\":\"sample\",\"offsetgroup\":\"sample\",\"orientation\":\"v\",\"showlegend\":true,\"textposition\":\"auto\",\"x\":[\"sample\"],\"xaxis\":\"x\",\"y\":[13],\"yaxis\":\"y\",\"type\":\"bar\"},{\"alignmentgroup\":\"True\",\"hovertemplate\":\"File Extension=%{x}\\u003cbr\\u003eCount=%{y}\\u003cextra\\u003e\\u003c\\u002fextra\\u003e\",\"legendgroup\":\"txt\",\"marker\":{\"color\":\"#636efa\",\"pattern\":{\"shape\":\"\"}},\"name\":\"txt\",\"offsetgroup\":\"txt\",\"orientation\":\"v\",\"showlegend\":true,\"textposition\":\"auto\",\"x\":[\"txt\"],\"xaxis\":\"x\",\"y\":[11],\"yaxis\":\"y\",\"type\":\"bar\"},{\"alignmentgroup\":\"True\",\"hovertemplate\":\"File Extension=%{x}\\u003cbr\\u003eCount=%{y}\\u003cextra\\u003e\\u003c\\u002fextra\\u003e\",\"legendgroup\":\"exe\",\"marker\":{\"color\":\"#EF553B\",\"pattern\":{\"shape\":\"\"}},\"name\":\"exe\",\"offsetgroup\":\"exe\",\"orientation\":\"v\",\"showlegend\":true,\"textposition\":\"auto\",\"x\":[\"exe\"],\"xaxis\":\"x\",\"y\":[8],\"yaxis\":\"y\",\"type\":\"bar\"},{\"alignmentgroup\":\"True\",\"hovertemplate\":\"File Extension=%{x}\\u003cbr\\u003eCount=%{y}\\u003cextra\\u003e\\u003c\\u002fextra\\u003e\",\"legendgroup\":\"mts\",\"marker\":{\"color\":\"#00cc96\",\"pattern\":{\"shape\":\"\"}},\"name\":\"mts\",\"offsetgroup\":\"mts\",\"orientation\":\"v\",\"showlegend\":true,\"textposition\":\"auto\",\"x\":[\"mts\"],\"xaxis\":\"x\",\"y\":[7],\"yaxis\":\"y\",\"type\":\"bar\"},{\"alignmentgroup\":\"True\",\"hovertemplate\":\"File Extension=%{x}\\u003cbr\\u003eCount=%{y}\\u003cextra\\u003e\\u003c\\u002fextra\\u003e\",\"legendgroup\":\"ipynb\",\"marker\":{\"color\":\"#ab63fa\",\"pattern\":{\"shape\":\"\"}},\"name\":\"ipynb\",\"offsetgroup\":\"ipynb\",\"orientation\":\"v\",\"showlegend\":true,\"textposition\":\"auto\",\"x\":[\"ipynb\"],\"xaxis\":\"x\",\"y\":[7],\"yaxis\":\"y\",\"type\":\"bar\"}],                        {\"template\":{\"data\":{\"barpolar\":[{\"marker\":{\"line\":{\"color\":\"rgb(17,17,17)\",\"width\":0.5},\"pattern\":{\"fillmode\":\"overlay\",\"size\":10,\"solidity\":0.2}},\"type\":\"barpolar\"}],\"bar\":[{\"error_x\":{\"color\":\"#f2f5fa\"},\"error_y\":{\"color\":\"#f2f5fa\"},\"marker\":{\"line\":{\"color\":\"rgb(17,17,17)\",\"width\":0.5},\"pattern\":{\"fillmode\":\"overlay\",\"size\":10,\"solidity\":0.2}},\"type\":\"bar\"}],\"carpet\":[{\"aaxis\":{\"endlinecolor\":\"#A2B1C6\",\"gridcolor\":\"#506784\",\"linecolor\":\"#506784\",\"minorgridcolor\":\"#506784\",\"startlinecolor\":\"#A2B1C6\"},\"baxis\":{\"endlinecolor\":\"#A2B1C6\",\"gridcolor\":\"#506784\",\"linecolor\":\"#506784\",\"minorgridcolor\":\"#506784\",\"startlinecolor\":\"#A2B1C6\"},\"type\":\"carpet\"}],\"choropleth\":[{\"colorbar\":{\"outlinewidth\":0,\"ticks\":\"\"},\"type\":\"choropleth\"}],\"contourcarpet\":[{\"colorbar\":{\"outlinewidth\":0,\"ticks\":\"\"},\"type\":\"contourcarpet\"}],\"contour\":[{\"colorbar\":{\"outlinewidth\":0,\"ticks\":\"\"},\"colorscale\":[[0.0,\"#0d0887\"],[0.1111111111111111,\"#46039f\"],[0.2222222222222222,\"#7201a8\"],[0.3333333333333333,\"#9c179e\"],[0.4444444444444444,\"#bd3786\"],[0.5555555555555556,\"#d8576b\"],[0.6666666666666666,\"#ed7953\"],[0.7777777777777778,\"#fb9f3a\"],[0.8888888888888888,\"#fdca26\"],[1.0,\"#f0f921\"]],\"type\":\"contour\"}],\"heatmapgl\":[{\"colorbar\":{\"outlinewidth\":0,\"ticks\":\"\"},\"colorscale\":[[0.0,\"#0d0887\"],[0.1111111111111111,\"#46039f\"],[0.2222222222222222,\"#7201a8\"],[0.3333333333333333,\"#9c179e\"],[0.4444444444444444,\"#bd3786\"],[0.5555555555555556,\"#d8576b\"],[0.6666666666666666,\"#ed7953\"],[0.7777777777777778,\"#fb9f3a\"],[0.8888888888888888,\"#fdca26\"],[1.0,\"#f0f921\"]],\"type\":\"heatmapgl\"}],\"heatmap\":[{\"colorbar\":{\"outlinewidth\":0,\"ticks\":\"\"},\"colorscale\":[[0.0,\"#0d0887\"],[0.1111111111111111,\"#46039f\"],[0.2222222222222222,\"#7201a8\"],[0.3333333333333333,\"#9c179e\"],[0.4444444444444444,\"#bd3786\"],[0.5555555555555556,\"#d8576b\"],[0.6666666666666666,\"#ed7953\"],[0.7777777777777778,\"#fb9f3a\"],[0.8888888888888888,\"#fdca26\"],[1.0,\"#f0f921\"]],\"type\":\"heatmap\"}],\"histogram2dcontour\":[{\"colorbar\":{\"outlinewidth\":0,\"ticks\":\"\"},\"colorscale\":[[0.0,\"#0d0887\"],[0.1111111111111111,\"#46039f\"],[0.2222222222222222,\"#7201a8\"],[0.3333333333333333,\"#9c179e\"],[0.4444444444444444,\"#bd3786\"],[0.5555555555555556,\"#d8576b\"],[0.6666666666666666,\"#ed7953\"],[0.7777777777777778,\"#fb9f3a\"],[0.8888888888888888,\"#fdca26\"],[1.0,\"#f0f921\"]],\"type\":\"histogram2dcontour\"}],\"histogram2d\":[{\"colorbar\":{\"outlinewidth\":0,\"ticks\":\"\"},\"colorscale\":[[0.0,\"#0d0887\"],[0.1111111111111111,\"#46039f\"],[0.2222222222222222,\"#7201a8\"],[0.3333333333333333,\"#9c179e\"],[0.4444444444444444,\"#bd3786\"],[0.5555555555555556,\"#d8576b\"],[0.6666666666666666,\"#ed7953\"],[0.7777777777777778,\"#fb9f3a\"],[0.8888888888888888,\"#fdca26\"],[1.0,\"#f0f921\"]],\"type\":\"histogram2d\"}],\"histogram\":[{\"marker\":{\"pattern\":{\"fillmode\":\"overlay\",\"size\":10,\"solidity\":0.2}},\"type\":\"histogram\"}],\"mesh3d\":[{\"colorbar\":{\"outlinewidth\":0,\"ticks\":\"\"},\"type\":\"mesh3d\"}],\"parcoords\":[{\"line\":{\"colorbar\":{\"outlinewidth\":0,\"ticks\":\"\"}},\"type\":\"parcoords\"}],\"pie\":[{\"automargin\":true,\"type\":\"pie\"}],\"scatter3d\":[{\"line\":{\"colorbar\":{\"outlinewidth\":0,\"ticks\":\"\"}},\"marker\":{\"colorbar\":{\"outlinewidth\":0,\"ticks\":\"\"}},\"type\":\"scatter3d\"}],\"scattercarpet\":[{\"marker\":{\"colorbar\":{\"outlinewidth\":0,\"ticks\":\"\"}},\"type\":\"scattercarpet\"}],\"scattergeo\":[{\"marker\":{\"colorbar\":{\"outlinewidth\":0,\"ticks\":\"\"}},\"type\":\"scattergeo\"}],\"scattergl\":[{\"marker\":{\"line\":{\"color\":\"#283442\"}},\"type\":\"scattergl\"}],\"scattermapbox\":[{\"marker\":{\"colorbar\":{\"outlinewidth\":0,\"ticks\":\"\"}},\"type\":\"scattermapbox\"}],\"scatterpolargl\":[{\"marker\":{\"colorbar\":{\"outlinewidth\":0,\"ticks\":\"\"}},\"type\":\"scatterpolargl\"}],\"scatterpolar\":[{\"marker\":{\"colorbar\":{\"outlinewidth\":0,\"ticks\":\"\"}},\"type\":\"scatterpolar\"}],\"scatter\":[{\"marker\":{\"line\":{\"color\":\"#283442\"}},\"type\":\"scatter\"}],\"scatterternary\":[{\"marker\":{\"colorbar\":{\"outlinewidth\":0,\"ticks\":\"\"}},\"type\":\"scatterternary\"}],\"surface\":[{\"colorbar\":{\"outlinewidth\":0,\"ticks\":\"\"},\"colorscale\":[[0.0,\"#0d0887\"],[0.1111111111111111,\"#46039f\"],[0.2222222222222222,\"#7201a8\"],[0.3333333333333333,\"#9c179e\"],[0.4444444444444444,\"#bd3786\"],[0.5555555555555556,\"#d8576b\"],[0.6666666666666666,\"#ed7953\"],[0.7777777777777778,\"#fb9f3a\"],[0.8888888888888888,\"#fdca26\"],[1.0,\"#f0f921\"]],\"type\":\"surface\"}],\"table\":[{\"cells\":{\"fill\":{\"color\":\"#506784\"},\"line\":{\"color\":\"rgb(17,17,17)\"}},\"header\":{\"fill\":{\"color\":\"#2a3f5f\"},\"line\":{\"color\":\"rgb(17,17,17)\"}},\"type\":\"table\"}]},\"layout\":{\"annotationdefaults\":{\"arrowcolor\":\"#f2f5fa\",\"arrowhead\":0,\"arrowwidth\":1},\"autotypenumbers\":\"strict\",\"coloraxis\":{\"colorbar\":{\"outlinewidth\":0,\"ticks\":\"\"}},\"colorscale\":{\"diverging\":[[0,\"#8e0152\"],[0.1,\"#c51b7d\"],[0.2,\"#de77ae\"],[0.3,\"#f1b6da\"],[0.4,\"#fde0ef\"],[0.5,\"#f7f7f7\"],[0.6,\"#e6f5d0\"],[0.7,\"#b8e186\"],[0.8,\"#7fbc41\"],[0.9,\"#4d9221\"],[1,\"#276419\"]],\"sequential\":[[0.0,\"#0d0887\"],[0.1111111111111111,\"#46039f\"],[0.2222222222222222,\"#7201a8\"],[0.3333333333333333,\"#9c179e\"],[0.4444444444444444,\"#bd3786\"],[0.5555555555555556,\"#d8576b\"],[0.6666666666666666,\"#ed7953\"],[0.7777777777777778,\"#fb9f3a\"],[0.8888888888888888,\"#fdca26\"],[1.0,\"#f0f921\"]],\"sequentialminus\":[[0.0,\"#0d0887\"],[0.1111111111111111,\"#46039f\"],[0.2222222222222222,\"#7201a8\"],[0.3333333333333333,\"#9c179e\"],[0.4444444444444444,\"#bd3786\"],[0.5555555555555556,\"#d8576b\"],[0.6666666666666666,\"#ed7953\"],[0.7777777777777778,\"#fb9f3a\"],[0.8888888888888888,\"#fdca26\"],[1.0,\"#f0f921\"]]},\"colorway\":[\"#636efa\",\"#EF553B\",\"#00cc96\",\"#ab63fa\",\"#FFA15A\",\"#19d3f3\",\"#FF6692\",\"#B6E880\",\"#FF97FF\",\"#FECB52\"],\"font\":{\"color\":\"#f2f5fa\"},\"geo\":{\"bgcolor\":\"rgb(17,17,17)\",\"lakecolor\":\"rgb(17,17,17)\",\"landcolor\":\"rgb(17,17,17)\",\"showlakes\":true,\"showland\":true,\"subunitcolor\":\"#506784\"},\"hoverlabel\":{\"align\":\"left\"},\"hovermode\":\"closest\",\"mapbox\":{\"style\":\"dark\"},\"paper_bgcolor\":\"rgb(17,17,17)\",\"plot_bgcolor\":\"rgb(17,17,17)\",\"polar\":{\"angularaxis\":{\"gridcolor\":\"#506784\",\"linecolor\":\"#506784\",\"ticks\":\"\"},\"bgcolor\":\"rgb(17,17,17)\",\"radialaxis\":{\"gridcolor\":\"#506784\",\"linecolor\":\"#506784\",\"ticks\":\"\"}},\"scene\":{\"xaxis\":{\"backgroundcolor\":\"rgb(17,17,17)\",\"gridcolor\":\"#506784\",\"gridwidth\":2,\"linecolor\":\"#506784\",\"showbackground\":true,\"ticks\":\"\",\"zerolinecolor\":\"#C8D4E3\"},\"yaxis\":{\"backgroundcolor\":\"rgb(17,17,17)\",\"gridcolor\":\"#506784\",\"gridwidth\":2,\"linecolor\":\"#506784\",\"showbackground\":true,\"ticks\":\"\",\"zerolinecolor\":\"#C8D4E3\"},\"zaxis\":{\"backgroundcolor\":\"rgb(17,17,17)\",\"gridcolor\":\"#506784\",\"gridwidth\":2,\"linecolor\":\"#506784\",\"showbackground\":true,\"ticks\":\"\",\"zerolinecolor\":\"#C8D4E3\"}},\"shapedefaults\":{\"line\":{\"color\":\"#f2f5fa\"}},\"sliderdefaults\":{\"bgcolor\":\"#C8D4E3\",\"bordercolor\":\"rgb(17,17,17)\",\"borderwidth\":1,\"tickwidth\":0},\"ternary\":{\"aaxis\":{\"gridcolor\":\"#506784\",\"linecolor\":\"#506784\",\"ticks\":\"\"},\"baxis\":{\"gridcolor\":\"#506784\",\"linecolor\":\"#506784\",\"ticks\":\"\"},\"bgcolor\":\"rgb(17,17,17)\",\"caxis\":{\"gridcolor\":\"#506784\",\"linecolor\":\"#506784\",\"ticks\":\"\"}},\"title\":{\"x\":0.05},\"updatemenudefaults\":{\"bgcolor\":\"#506784\",\"borderwidth\":0},\"xaxis\":{\"automargin\":true,\"gridcolor\":\"#283442\",\"linecolor\":\"#506784\",\"ticks\":\"\",\"title\":{\"standoff\":15},\"zerolinecolor\":\"#283442\",\"zerolinewidth\":2},\"yaxis\":{\"automargin\":true,\"gridcolor\":\"#283442\",\"linecolor\":\"#506784\",\"ticks\":\"\",\"title\":{\"standoff\":15},\"zerolinecolor\":\"#283442\",\"zerolinewidth\":2}}},\"xaxis\":{\"anchor\":\"y\",\"domain\":[0.0,1.0],\"title\":{},\"categoryorder\":\"array\",\"categoryarray\":[\"folders\",\"js\",\"py\",\"pyc\",\"ts\",\"map\",\"json\",\"md\",\"scss\",\"Other\",\"flow\",\"png\",\"jst\",\"mjs\",\"css\",\"html\",\"yml\",\"cjs\",\"svg\",\"sample\",\"txt\",\"exe\",\"mts\",\"ipynb\"]},\"yaxis\":{\"anchor\":\"x\",\"domain\":[0.0,1.0],\"title\":{}},\"legend\":{\"title\":{},\"tracegroupgap\":0},\"title\":{},\"barmode\":\"relative\",\"font\":{\"family\":\"Open Sans, sans-serif\",\"size\":10,\"color\":\"white\"},\"width\":1200,\"height\":400,\"plot_bgcolor\":\"rgba(0,0,0,0)\",\"paper_bgcolor\":\"rgba(0,0,0,0)\",\"coloraxis\":{\"colorbar\":{\"title\":{}}}},                        {\"responsive\": true}                    ).then(function(){\n",
       "                            \n",
       "var gd = document.getElementById('b691f309-6c4e-45e6-bd47-e8d0fa38f74c');\n",
       "var x = new MutationObserver(function (mutations, observer) {{\n",
       "        var display = window.getComputedStyle(gd).display;\n",
       "        if (!display || display === 'none') {{\n",
       "            console.log([gd, 'removed!']);\n",
       "            Plotly.purge(gd);\n",
       "            observer.disconnect();\n",
       "        }}\n",
       "}});\n",
       "\n",
       "// Listen for the removal of the full notebook cells\n",
       "var notebookContainer = gd.closest('#notebook-container');\n",
       "if (notebookContainer) {{\n",
       "    x.observe(notebookContainer, {childList: true});\n",
       "}}\n",
       "\n",
       "// Listen for the clearing of the current output cell\n",
       "var outputEl = gd.closest('.output');\n",
       "if (outputEl) {{\n",
       "    x.observe(outputEl, {childList: true});\n",
       "}}\n",
       "\n",
       "                        })                };                });            </script>        </div>"
      ]
     },
     "metadata": {},
     "output_type": "display_data"
    }
   ],
   "source": [
    "def plot_file_extension_distribution(df, min_count_threshold=6):\n",
    "    logging.info(\"File extension distribution generated: (extension_count_fig | prepare_and_save_plot)\")\n",
    "    # Replace 'No Extension' with 'folders'\n",
    "    df['file_extension'] = df['file_extension'].replace('No Extension', 'folders')\n",
    "    \n",
    "    # Count occurrences of each file_extension\n",
    "    extension_counts = df['file_extension'].value_counts().reset_index()\n",
    "    extension_counts.columns = ['file_extension', 'count']\n",
    "\n",
    "    # Separate the counts into two groups: those with counts > 6 and those with counts <= 6\n",
    "    other_counts = extension_counts[extension_counts['count'] <= 6]\n",
    "    main_counts = extension_counts[extension_counts['count'] > 6]\n",
    "\n",
    "    # Aggregate lesser counts into 'Other'\n",
    "    if not other_counts.empty:\n",
    "        other_sum = other_counts['count'].sum()\n",
    "        other_row = pd.DataFrame({'file_extension': ['Other'], 'count': [other_sum]})\n",
    "        final_counts = pd.concat([main_counts, other_row], ignore_index=True)\n",
    "    else:\n",
    "        final_counts = main_counts\n",
    "\n",
    "    # Sort the final DataFrame by 'count' in descending order\n",
    "    final_counts = final_counts.sort_values(by='count', ascending=False)\n",
    "\n",
    "    # Create a bar chart\n",
    "    extension_count_fig = px.bar(\n",
    "        final_counts,\n",
    "        x='file_extension',\n",
    "        y='count',\n",
    "        color='file_extension',\n",
    "        title='Distribution of File Extensions',\n",
    "        labels={'file_extension': 'File Extension', 'count': 'Count'},\n",
    "    )\n",
    "    return extension_count_fig\n",
    "\n",
    "extension_count_fig =  plot_file_extension_distribution(df)\n",
    " \n",
    "# Prepare and save the plot\n",
    "prepare_and_save_plot(\n",
    "    extension_count_fig,\n",
    "    width=1200,\n",
    "    height=400,\n",
    "    #title=\"My Work Timeline\",\n",
    "    #xaxis_title=\"Start Date\",\n",
    "    #yaxis_title=\"Organizations\",\n",
    "    #coloraxis_colorbar='Tenure',\n",
    "    #legend_title='Job Level',\n",
    "    #base_filename='directory_level_distribution',\n",
    "    #counter='1'\n",
    ")"
   ]
  },
  {
   "cell_type": "markdown",
   "metadata": {},
   "source": [
    "### Export the processed dataframe"
   ]
  },
  {
   "cell_type": "code",
   "execution_count": 45,
   "metadata": {},
   "outputs": [
    {
     "name": "stderr",
     "output_type": "stream",
     "text": [
      "2024-09-15 20:57:10,572 - INFO - DataFrame exported successfully: structure_processed.pkl\n",
      "2024-09-15 20:57:10,849 - INFO - DataFrame exported successfully: structure_processed.csv\n"
     ]
    }
   ],
   "source": [
    "def export_dataframe(df, pickle_file_path, csv_file_path):\n",
    "    \"\"\"\n",
    "    Export a DataFrame to both a pickle file and a CSV file.\n",
    "\n",
    "    Parameters:\n",
    "    df (pd.DataFrame): The DataFrame to export.\n",
    "    pickle_file_path (str): The file path where the pickle file will be saved.\n",
    "    csv_file_path (str): The file path where the CSV file will be saved.\n",
    "    \"\"\"\n",
    "    # Export to pickle file\n",
    "    df.to_pickle(pickle_file_path)\n",
    "    logging.info(f\"DataFrame exported successfully: {pickle_file_path}\")\n",
    "\n",
    "    # Export to CSV file\n",
    "    df.to_csv(csv_file_path, index=False)\n",
    "    logging.info(f\"DataFrame exported successfully: {csv_file_path}\")\n",
    "\n",
    "\n",
    "# Assume df is your DataFrame\n",
    "pickle_path = 'structure_processed.pkl'\n",
    "csv_path = 'structure_processed.csv'\n",
    "\n",
    "export_dataframe(df, pickle_path, csv_path)"
   ]
  },
  {
   "cell_type": "code",
   "execution_count": 51,
   "metadata": {},
   "outputs": [
    {
     "name": "stderr",
     "output_type": "stream",
     "text": [
      "2024-09-15 20:58:34,590 - INFO - Previewing the dataset: <function display_dataframe at 0x779650a784c0>\n"
     ]
    },
    {
     "data": {
      "text/html": [
       "<div>\n",
       "<style scoped>\n",
       "    .dataframe tbody tr th:only-of-type {\n",
       "        vertical-align: middle;\n",
       "    }\n",
       "\n",
       "    .dataframe tbody tr th {\n",
       "        vertical-align: top;\n",
       "    }\n",
       "\n",
       "    .dataframe thead th {\n",
       "        text-align: right;\n",
       "    }\n",
       "</style>\n",
       "<table border=\"1\" class=\"dataframe\">\n",
       "  <thead>\n",
       "    <tr style=\"text-align: right;\">\n",
       "      <th></th>\n",
       "      <th>directory_name</th>\n",
       "      <th>entity_name</th>\n",
       "      <th>relative_path</th>\n",
       "      <th>level</th>\n",
       "      <th>type</th>\n",
       "      <th>file_extension</th>\n",
       "      <th>expected_location</th>\n",
       "    </tr>\n",
       "  </thead>\n",
       "  <tbody>\n",
       "    <tr>\n",
       "      <th>0</th>\n",
       "      <td>git</td>\n",
       "      <td>light_site</td>\n",
       "      <td>.</td>\n",
       "      <td>0</td>\n",
       "      <td>directory</td>\n",
       "      <td>folders</td>\n",
       "      <td>False</td>\n",
       "    </tr>\n",
       "    <tr>\n",
       "      <th>1</th>\n",
       "      <td>light_site</td>\n",
       "      <td>credentials.enc</td>\n",
       "      <td>credentials.enc</td>\n",
       "      <td>0</td>\n",
       "      <td>file</td>\n",
       "      <td>enc</td>\n",
       "      <td>False</td>\n",
       "    </tr>\n",
       "    <tr>\n",
       "      <th>2</th>\n",
       "      <td>light_site</td>\n",
       "      <td>data</td>\n",
       "      <td>data</td>\n",
       "      <td>0</td>\n",
       "      <td>directory</td>\n",
       "      <td>folders</td>\n",
       "      <td>False</td>\n",
       "    </tr>\n",
       "    <tr>\n",
       "      <th>3</th>\n",
       "      <td>data</td>\n",
       "      <td>.ipynb_checkpoints</td>\n",
       "      <td>data/.ipynb_checkpoints</td>\n",
       "      <td>1</td>\n",
       "      <td>directory</td>\n",
       "      <td>ipynb_checkpoints</td>\n",
       "      <td>False</td>\n",
       "    </tr>\n",
       "    <tr>\n",
       "      <th>4</th>\n",
       "      <td>.ipynb_checkpoints</td>\n",
       "      <td>generate_project_dataset-checkpoint.py</td>\n",
       "      <td>data/.ipynb_checkpoints/generate_project_datas...</td>\n",
       "      <td>2</td>\n",
       "      <td>file</td>\n",
       "      <td>py</td>\n",
       "      <td>False</td>\n",
       "    </tr>\n",
       "    <tr>\n",
       "      <th>5</th>\n",
       "      <td>.ipynb_checkpoints</td>\n",
       "      <td>package_manage-checkpoint.ipynb</td>\n",
       "      <td>data/.ipynb_checkpoints/package_manage-checkpo...</td>\n",
       "      <td>2</td>\n",
       "      <td>file</td>\n",
       "      <td>ipynb</td>\n",
       "      <td>True</td>\n",
       "    </tr>\n",
       "    <tr>\n",
       "      <th>6</th>\n",
       "      <td>.ipynb_checkpoints</td>\n",
       "      <td>project_structure-checkpoint.ipynb</td>\n",
       "      <td>data/.ipynb_checkpoints/project_structure-chec...</td>\n",
       "      <td>2</td>\n",
       "      <td>file</td>\n",
       "      <td>ipynb</td>\n",
       "      <td>True</td>\n",
       "    </tr>\n",
       "    <tr>\n",
       "      <th>7</th>\n",
       "      <td>data</td>\n",
       "      <td>parellel_categories_skills.ipynb</td>\n",
       "      <td>data/parellel_categories_skills.ipynb</td>\n",
       "      <td>1</td>\n",
       "      <td>file</td>\n",
       "      <td>ipynb</td>\n",
       "      <td>True</td>\n",
       "    </tr>\n",
       "    <tr>\n",
       "      <th>8</th>\n",
       "      <td>data</td>\n",
       "      <td>project_structure.ipynb</td>\n",
       "      <td>data/project_structure.ipynb</td>\n",
       "      <td>1</td>\n",
       "      <td>file</td>\n",
       "      <td>ipynb</td>\n",
       "      <td>True</td>\n",
       "    </tr>\n",
       "    <tr>\n",
       "      <th>9</th>\n",
       "      <td>data</td>\n",
       "      <td>project_structure.log</td>\n",
       "      <td>data/project_structure.log</td>\n",
       "      <td>1</td>\n",
       "      <td>file</td>\n",
       "      <td>log</td>\n",
       "      <td>False</td>\n",
       "    </tr>\n",
       "  </tbody>\n",
       "</table>\n",
       "</div>"
      ],
      "text/plain": [
       "       directory_name                             entity_name  \\\n",
       "0                 git                              light_site   \n",
       "1          light_site                         credentials.enc   \n",
       "2          light_site                                    data   \n",
       "3                data                      .ipynb_checkpoints   \n",
       "4  .ipynb_checkpoints  generate_project_dataset-checkpoint.py   \n",
       "5  .ipynb_checkpoints         package_manage-checkpoint.ipynb   \n",
       "6  .ipynb_checkpoints      project_structure-checkpoint.ipynb   \n",
       "7                data        parellel_categories_skills.ipynb   \n",
       "8                data                 project_structure.ipynb   \n",
       "9                data                   project_structure.log   \n",
       "\n",
       "                                       relative_path  level       type  \\\n",
       "0                                                  .      0  directory   \n",
       "1                                    credentials.enc      0       file   \n",
       "2                                               data      0  directory   \n",
       "3                            data/.ipynb_checkpoints      1  directory   \n",
       "4  data/.ipynb_checkpoints/generate_project_datas...      2       file   \n",
       "5  data/.ipynb_checkpoints/package_manage-checkpo...      2       file   \n",
       "6  data/.ipynb_checkpoints/project_structure-chec...      2       file   \n",
       "7              data/parellel_categories_skills.ipynb      1       file   \n",
       "8                       data/project_structure.ipynb      1       file   \n",
       "9                         data/project_structure.log      1       file   \n",
       "\n",
       "      file_extension  expected_location  \n",
       "0            folders              False  \n",
       "1                enc              False  \n",
       "2            folders              False  \n",
       "3  ipynb_checkpoints              False  \n",
       "4                 py              False  \n",
       "5              ipynb               True  \n",
       "6              ipynb               True  \n",
       "7              ipynb               True  \n",
       "8              ipynb               True  \n",
       "9                log              False  "
      ]
     },
     "execution_count": 51,
     "metadata": {},
     "output_type": "execute_result"
    }
   ],
   "source": [
    "def display_dataframe(df, rows=5, exclude_column='hover_template'):\n",
    "    logging.info(f\"Previewing the dataset: {display_dataframe}\")\n",
    "    if exclude_column in df.columns:\n",
    "        df = df.drop(columns=exclude_column)\n",
    "    return df.head(rows)\n",
    "\n",
    "preview = display_dataframe(df, rows=10)\n",
    "preview"
   ]
  },
  {
   "cell_type": "code",
   "execution_count": 50,
   "metadata": {},
   "outputs": [
    {
     "name": "stderr",
     "output_type": "stream",
     "text": [
      "2024-09-15 20:58:17,936 - INFO - Log size: (43, 3)\n",
      "2024-09-15 20:58:17,951 - INFO - Viewing the log: <function display_dataframe at 0x779650a78ca0>\n"
     ]
    },
    {
     "data": {
      "text/html": [
       "<div>\n",
       "<style scoped>\n",
       "    .dataframe tbody tr th:only-of-type {\n",
       "        vertical-align: middle;\n",
       "    }\n",
       "\n",
       "    .dataframe tbody tr th {\n",
       "        vertical-align: top;\n",
       "    }\n",
       "\n",
       "    .dataframe thead th {\n",
       "        text-align: right;\n",
       "    }\n",
       "</style>\n",
       "<table border=\"1\" class=\"dataframe\">\n",
       "  <thead>\n",
       "    <tr style=\"text-align: right;\">\n",
       "      <th></th>\n",
       "      <th>Timestamp</th>\n",
       "      <th>Level</th>\n",
       "      <th>Message</th>\n",
       "    </tr>\n",
       "  </thead>\n",
       "  <tbody>\n",
       "    <tr>\n",
       "      <th>0</th>\n",
       "      <td>2024-09-15 20:51:21.718382</td>\n",
       "      <td>INFO</td>\n",
       "      <td>Initializing logging configuration</td>\n",
       "    </tr>\n",
       "    <tr>\n",
       "      <th>1</th>\n",
       "      <td>2024-09-15 20:51:21.724538</td>\n",
       "      <td>INFO</td>\n",
       "      <td>Importing 'os' without alias</td>\n",
       "    </tr>\n",
       "    <tr>\n",
       "      <th>2</th>\n",
       "      <td>2024-09-15 20:51:21.734587</td>\n",
       "      <td>INFO</td>\n",
       "      <td>Importing 'time' without alias</td>\n",
       "    </tr>\n",
       "    <tr>\n",
       "      <th>3</th>\n",
       "      <td>2024-09-15 20:51:21.742272</td>\n",
       "      <td>INFO</td>\n",
       "      <td>Importing 're' as 're'</td>\n",
       "    </tr>\n",
       "    <tr>\n",
       "      <th>4</th>\n",
       "      <td>2024-09-15 20:51:21.751250</td>\n",
       "      <td>INFO</td>\n",
       "      <td>Importing 'pandas' as 'pd'</td>\n",
       "    </tr>\n",
       "    <tr>\n",
       "      <th>5</th>\n",
       "      <td>2024-09-15 20:51:21.763354</td>\n",
       "      <td>INFO</td>\n",
       "      <td>Importing 'numpy' as 'np'</td>\n",
       "    </tr>\n",
       "    <tr>\n",
       "      <th>6</th>\n",
       "      <td>2024-09-15 20:51:21.771471</td>\n",
       "      <td>INFO</td>\n",
       "      <td>Importing 'matplotlib.pyplot' as 'plt'</td>\n",
       "    </tr>\n",
       "    <tr>\n",
       "      <th>7</th>\n",
       "      <td>2024-09-15 20:51:21.779780</td>\n",
       "      <td>INFO</td>\n",
       "      <td>Importing 'seaborn' as 'sns'</td>\n",
       "    </tr>\n",
       "    <tr>\n",
       "      <th>8</th>\n",
       "      <td>2024-09-15 20:51:21.786839</td>\n",
       "      <td>INFO</td>\n",
       "      <td>Importing 'plotly.express' as 'px'</td>\n",
       "    </tr>\n",
       "    <tr>\n",
       "      <th>9</th>\n",
       "      <td>2024-09-15 20:51:21.794268</td>\n",
       "      <td>INFO</td>\n",
       "      <td>Importing 'plotly.graph_objects' as 'go'</td>\n",
       "    </tr>\n",
       "    <tr>\n",
       "      <th>10</th>\n",
       "      <td>2024-09-15 20:51:21.802751</td>\n",
       "      <td>INFO</td>\n",
       "      <td>Importing 'plotly.io' as 'pio'</td>\n",
       "    </tr>\n",
       "    <tr>\n",
       "      <th>11</th>\n",
       "      <td>2024-09-15 20:51:22.663422</td>\n",
       "      <td>INFO</td>\n",
       "      <td>Dataset loaded successfully: &lt;function load_da...</td>\n",
       "    </tr>\n",
       "    <tr>\n",
       "      <th>12</th>\n",
       "      <td>2024-09-15 20:51:22.683707</td>\n",
       "      <td>INFO</td>\n",
       "      <td>Removed 0 rows with NaN values.</td>\n",
       "    </tr>\n",
       "    <tr>\n",
       "      <th>13</th>\n",
       "      <td>2024-09-15 20:51:22.692293</td>\n",
       "      <td>INFO</td>\n",
       "      <td>Index reset.</td>\n",
       "    </tr>\n",
       "    <tr>\n",
       "      <th>14</th>\n",
       "      <td>2024-09-15 20:51:22.701957</td>\n",
       "      <td>INFO</td>\n",
       "      <td>Number of rows and columns = (8623, 5)</td>\n",
       "    </tr>\n",
       "    <tr>\n",
       "      <th>15</th>\n",
       "      <td>2024-09-15 20:51:22.874601</td>\n",
       "      <td>INFO</td>\n",
       "      <td>Rendering an HTML preview: &lt;function display_d...</td>\n",
       "    </tr>\n",
       "    <tr>\n",
       "      <th>16</th>\n",
       "      <td>2024-09-15 20:51:23.045223</td>\n",
       "      <td>INFO</td>\n",
       "      <td>Categorizing data by file extension: &lt;function...</td>\n",
       "    </tr>\n",
       "    <tr>\n",
       "      <th>17</th>\n",
       "      <td>2024-09-15 20:51:23.206974</td>\n",
       "      <td>INFO</td>\n",
       "      <td>Validating app structure: &lt;function validate_a...</td>\n",
       "    </tr>\n",
       "    <tr>\n",
       "      <th>18</th>\n",
       "      <td>2024-09-15 20:51:23.513927</td>\n",
       "      <td>ERROR</td>\n",
       "      <td>Missing required file 'models.py' in app 'ligh...</td>\n",
       "    </tr>\n",
       "    <tr>\n",
       "      <th>19</th>\n",
       "      <td>2024-09-15 20:51:23.520864</td>\n",
       "      <td>INFO</td>\n",
       "      <td>App 'light_site' has a valid structure: False</td>\n",
       "    </tr>\n",
       "  </tbody>\n",
       "</table>\n",
       "</div>"
      ],
      "text/plain": [
       "                    Timestamp  Level  \\\n",
       "0  2024-09-15 20:51:21.718382   INFO   \n",
       "1  2024-09-15 20:51:21.724538   INFO   \n",
       "2  2024-09-15 20:51:21.734587   INFO   \n",
       "3  2024-09-15 20:51:21.742272   INFO   \n",
       "4  2024-09-15 20:51:21.751250   INFO   \n",
       "5  2024-09-15 20:51:21.763354   INFO   \n",
       "6  2024-09-15 20:51:21.771471   INFO   \n",
       "7  2024-09-15 20:51:21.779780   INFO   \n",
       "8  2024-09-15 20:51:21.786839   INFO   \n",
       "9  2024-09-15 20:51:21.794268   INFO   \n",
       "10 2024-09-15 20:51:21.802751   INFO   \n",
       "11 2024-09-15 20:51:22.663422   INFO   \n",
       "12 2024-09-15 20:51:22.683707   INFO   \n",
       "13 2024-09-15 20:51:22.692293   INFO   \n",
       "14 2024-09-15 20:51:22.701957   INFO   \n",
       "15 2024-09-15 20:51:22.874601   INFO   \n",
       "16 2024-09-15 20:51:23.045223   INFO   \n",
       "17 2024-09-15 20:51:23.206974   INFO   \n",
       "18 2024-09-15 20:51:23.513927  ERROR   \n",
       "19 2024-09-15 20:51:23.520864   INFO   \n",
       "\n",
       "                                              Message  \n",
       "0                  Initializing logging configuration  \n",
       "1                        Importing 'os' without alias  \n",
       "2                      Importing 'time' without alias  \n",
       "3                              Importing 're' as 're'  \n",
       "4                          Importing 'pandas' as 'pd'  \n",
       "5                           Importing 'numpy' as 'np'  \n",
       "6              Importing 'matplotlib.pyplot' as 'plt'  \n",
       "7                        Importing 'seaborn' as 'sns'  \n",
       "8                  Importing 'plotly.express' as 'px'  \n",
       "9            Importing 'plotly.graph_objects' as 'go'  \n",
       "10                     Importing 'plotly.io' as 'pio'  \n",
       "11  Dataset loaded successfully: <function load_da...  \n",
       "12                    Removed 0 rows with NaN values.  \n",
       "13                                       Index reset.  \n",
       "14             Number of rows and columns = (8623, 5)  \n",
       "15  Rendering an HTML preview: <function display_d...  \n",
       "16  Categorizing data by file extension: <function...  \n",
       "17  Validating app structure: <function validate_a...  \n",
       "18  Missing required file 'models.py' in app 'ligh...  \n",
       "19      App 'light_site' has a valid structure: False  "
      ]
     },
     "execution_count": 50,
     "metadata": {},
     "output_type": "execute_result"
    }
   ],
   "source": [
    "logging.info(f\"Log size: {log_df.shape}\")\n",
    "def display_log_df(log_df, rows=5, exclude_column=None):\n",
    "    logging.info(f\"Viewing the log: {display_dataframe}\")\n",
    "    if exclude_column in df.columns:\n",
    "        log_df = log_df.drop(columns=exclude_column)\n",
    "    return log_df.head(rows)\n",
    "\n",
    "preview = display_log_df(log_df, rows=20)\n",
    "preview"
   ]
  },
  {
   "cell_type": "code",
   "execution_count": null,
   "metadata": {},
   "outputs": [],
   "source": []
  },
  {
   "cell_type": "code",
   "execution_count": null,
   "metadata": {},
   "outputs": [],
   "source": []
  },
  {
   "cell_type": "code",
   "execution_count": null,
   "metadata": {},
   "outputs": [],
   "source": []
  }
 ],
 "metadata": {
  "kernelspec": {
   "display_name": "Python 3 (ipykernel)",
   "language": "python",
   "name": "python3"
  },
  "language_info": {
   "codemirror_mode": {
    "name": "ipython",
    "version": 3
   },
   "file_extension": ".py",
   "mimetype": "text/x-python",
   "name": "python",
   "nbconvert_exporter": "python",
   "pygments_lexer": "ipython3",
   "version": "3.10.12"
  }
 },
 "nbformat": 4,
 "nbformat_minor": 4
}
