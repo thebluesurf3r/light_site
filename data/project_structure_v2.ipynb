{
 "cells": [
  {
   "cell_type": "code",
   "execution_count": 41,
   "metadata": {},
   "outputs": [],
   "source": [
    "import networkx as nx\n",
    "import matplotlib.pyplot as plt\n",
    "import pandas as pd\n",
    "import numpy as np\n",
    "import plotly.express as px\n",
    "import plotly.graph_objects as go\n"
   ]
  },
  {
   "cell_type": "code",
   "execution_count": 39,
   "metadata": {},
   "outputs": [],
   "source": [
    "# Initialize an undirected graph\n",
    "G = nx.Graph()\n",
    "\n",
    "# Add nodes\n",
    "G.add_nodes_from(['A', 'B', 'C', 'D', 'E'])\n",
    "\n",
    "# Add edges with optional weights\n",
    "G.add_edge('A', 'B', weight=3)\n",
    "G.add_edge('A', 'C', weight=1)\n",
    "G.add_edge('B', 'C', weight=7)\n",
    "G.add_edge('B', 'D', weight=5)\n",
    "G.add_edge('C', 'D', weight=2)\n",
    "G.add_edge('D', 'E', weight=7)\n",
    "\n",
    "# Generate positions using the spring layout\n",
    "pos = nx.spring_layout(G, seed=42)  # seed for reproducibility\n",
    "\n",
    "# Extract edge coordinates\n",
    "edge_x = []\n",
    "edge_y = []\n",
    "for edge in G.edges():\n",
    "    x0, y0 = pos[edge[0]]\n",
    "    x1, y1 = pos[edge[1]]\n",
    "    edge_x += [x0, x1, None]\n",
    "    edge_y += [y0, y1, None]\n",
    "\n",
    "# Extract node coordinates\n",
    "node_x = []\n",
    "node_y = []\n",
    "for node in G.nodes():\n",
    "    x, y = pos[node]\n",
    "    node_x.append(x)\n",
    "    node_y.append(y)\n",
    "\n"
   ]
  },
  {
   "cell_type": "code",
   "execution_count": 42,
   "metadata": {},
   "outputs": [],
   "source": [
    "edge_trace = go.Scatter(\n",
    "    x=edge_x,\n",
    "    y=edge_y,\n",
    "    line=dict(width=1, color='#888'),\n",
    "    hoverinfo='none',\n",
    "    mode='lines'\n",
    ")\n"
   ]
  },
  {
   "cell_type": "code",
   "execution_count": 43,
   "metadata": {},
   "outputs": [],
   "source": [
    "node_trace = go.Scatter(\n",
    "    x=node_x,\n",
    "    y=node_y,\n",
    "    mode='markers+text',\n",
    "    hoverinfo='text',\n",
    "    marker=dict(\n",
    "        showscale=True,\n",
    "        colorscale='YlGnBu',\n",
    "        color=[],  # Placeholder for node colors\n",
    "        size=20,\n",
    "        colorbar=dict(\n",
    "            thickness=15,\n",
    "            title='Node Connections',\n",
    "            xanchor='left',\n",
    "            titleside='right'\n",
    "        ),\n",
    "        line_width=2\n",
    "    ),\n",
    "    text=[node for node in G.nodes()],  # Node labels\n",
    "    textposition=\"bottom center\"\n",
    ")"
   ]
  },
  {
   "cell_type": "code",
   "execution_count": 44,
   "metadata": {},
   "outputs": [],
   "source": [
    "# Calculate degree for each node\n",
    "degrees = dict(G.degree())\n",
    "node_trace.marker.color = [degrees[node] for node in G.nodes()]"
   ]
  },
  {
   "cell_type": "code",
   "execution_count": 45,
   "metadata": {},
   "outputs": [],
   "source": [
    "node_trace.text = [f'{node}<br># of connections: {degrees[node]}' for node in G.nodes()]"
   ]
  },
  {
   "cell_type": "code",
   "execution_count": 46,
   "metadata": {},
   "outputs": [
    {
     "data": {
      "application/vnd.plotly.v1+json": {
       "config": {
        "plotlyServerURL": "https://plot.ly"
       },
       "data": [
        {
         "hoverinfo": "none",
         "line": {
          "color": "#888",
          "width": 1
         },
         "mode": "lines",
         "type": "scatter",
         "x": [
          1,
          0.26438656140411526,
          null,
          1,
          0.03488407994339774,
          null,
          0.26438656140411526,
          0.03488407994339774,
          null,
          0.26438656140411526,
          -0.3975158895704828,
          null,
          0.03488407994339774,
          -0.3975158895704828,
          null,
          -0.3975158895704828,
          -0.9017547517770304,
          null
         ],
         "y": [
          -0.4505682420905063,
          -0.05281973236615626,
          null,
          -0.4505682420905063,
          -0.5009584300994153,
          null,
          -0.05281973236615626,
          -0.5009584300994153,
          null,
          -0.05281973236615626,
          0.28961498443119416,
          null,
          -0.5009584300994153,
          0.28961498443119416,
          null,
          0.28961498443119416,
          0.7147314201248833,
          null
         ]
        },
        {
         "hoverinfo": "text",
         "marker": {
          "color": [
           2,
           3,
           3,
           3,
           1
          ],
          "colorbar": {
           "thickness": 15,
           "title": {
            "side": "right",
            "text": "Node Connections"
           },
           "xanchor": "left"
          },
          "colorscale": [
           [
            0,
            "rgb(255,255,217)"
           ],
           [
            0.125,
            "rgb(237,248,177)"
           ],
           [
            0.25,
            "rgb(199,233,180)"
           ],
           [
            0.375,
            "rgb(127,205,187)"
           ],
           [
            0.5,
            "rgb(65,182,196)"
           ],
           [
            0.625,
            "rgb(29,145,192)"
           ],
           [
            0.75,
            "rgb(34,94,168)"
           ],
           [
            0.875,
            "rgb(37,52,148)"
           ],
           [
            1,
            "rgb(8,29,88)"
           ]
          ],
          "line": {
           "width": 2
          },
          "showscale": true,
          "size": 20
         },
         "mode": "markers+text",
         "text": [
          "A<br># of connections: 2",
          "B<br># of connections: 3",
          "C<br># of connections: 3",
          "D<br># of connections: 3",
          "E<br># of connections: 1"
         ],
         "textposition": "bottom center",
         "type": "scatter",
         "x": [
          1,
          0.26438656140411526,
          0.03488407994339774,
          -0.3975158895704828,
          -0.9017547517770304
         ],
         "y": [
          -0.4505682420905063,
          -0.05281973236615626,
          -0.5009584300994153,
          0.28961498443119416,
          0.7147314201248833
         ]
        }
       ],
       "layout": {
        "annotations": [
         {
          "showarrow": false,
          "text": "",
          "xref": "paper",
          "yref": "paper"
         }
        ],
        "hovermode": "closest",
        "margin": {
         "b": 20,
         "l": 5,
         "r": 5,
         "t": 40
        },
        "showlegend": false,
        "template": {
         "data": {
          "bar": [
           {
            "error_x": {
             "color": "#2a3f5f"
            },
            "error_y": {
             "color": "#2a3f5f"
            },
            "marker": {
             "line": {
              "color": "#E5ECF6",
              "width": 0.5
             },
             "pattern": {
              "fillmode": "overlay",
              "size": 10,
              "solidity": 0.2
             }
            },
            "type": "bar"
           }
          ],
          "barpolar": [
           {
            "marker": {
             "line": {
              "color": "#E5ECF6",
              "width": 0.5
             },
             "pattern": {
              "fillmode": "overlay",
              "size": 10,
              "solidity": 0.2
             }
            },
            "type": "barpolar"
           }
          ],
          "carpet": [
           {
            "aaxis": {
             "endlinecolor": "#2a3f5f",
             "gridcolor": "white",
             "linecolor": "white",
             "minorgridcolor": "white",
             "startlinecolor": "#2a3f5f"
            },
            "baxis": {
             "endlinecolor": "#2a3f5f",
             "gridcolor": "white",
             "linecolor": "white",
             "minorgridcolor": "white",
             "startlinecolor": "#2a3f5f"
            },
            "type": "carpet"
           }
          ],
          "choropleth": [
           {
            "colorbar": {
             "outlinewidth": 0,
             "ticks": ""
            },
            "type": "choropleth"
           }
          ],
          "contour": [
           {
            "colorbar": {
             "outlinewidth": 0,
             "ticks": ""
            },
            "colorscale": [
             [
              0,
              "#0d0887"
             ],
             [
              0.1111111111111111,
              "#46039f"
             ],
             [
              0.2222222222222222,
              "#7201a8"
             ],
             [
              0.3333333333333333,
              "#9c179e"
             ],
             [
              0.4444444444444444,
              "#bd3786"
             ],
             [
              0.5555555555555556,
              "#d8576b"
             ],
             [
              0.6666666666666666,
              "#ed7953"
             ],
             [
              0.7777777777777778,
              "#fb9f3a"
             ],
             [
              0.8888888888888888,
              "#fdca26"
             ],
             [
              1,
              "#f0f921"
             ]
            ],
            "type": "contour"
           }
          ],
          "contourcarpet": [
           {
            "colorbar": {
             "outlinewidth": 0,
             "ticks": ""
            },
            "type": "contourcarpet"
           }
          ],
          "heatmap": [
           {
            "colorbar": {
             "outlinewidth": 0,
             "ticks": ""
            },
            "colorscale": [
             [
              0,
              "#0d0887"
             ],
             [
              0.1111111111111111,
              "#46039f"
             ],
             [
              0.2222222222222222,
              "#7201a8"
             ],
             [
              0.3333333333333333,
              "#9c179e"
             ],
             [
              0.4444444444444444,
              "#bd3786"
             ],
             [
              0.5555555555555556,
              "#d8576b"
             ],
             [
              0.6666666666666666,
              "#ed7953"
             ],
             [
              0.7777777777777778,
              "#fb9f3a"
             ],
             [
              0.8888888888888888,
              "#fdca26"
             ],
             [
              1,
              "#f0f921"
             ]
            ],
            "type": "heatmap"
           }
          ],
          "heatmapgl": [
           {
            "colorbar": {
             "outlinewidth": 0,
             "ticks": ""
            },
            "colorscale": [
             [
              0,
              "#0d0887"
             ],
             [
              0.1111111111111111,
              "#46039f"
             ],
             [
              0.2222222222222222,
              "#7201a8"
             ],
             [
              0.3333333333333333,
              "#9c179e"
             ],
             [
              0.4444444444444444,
              "#bd3786"
             ],
             [
              0.5555555555555556,
              "#d8576b"
             ],
             [
              0.6666666666666666,
              "#ed7953"
             ],
             [
              0.7777777777777778,
              "#fb9f3a"
             ],
             [
              0.8888888888888888,
              "#fdca26"
             ],
             [
              1,
              "#f0f921"
             ]
            ],
            "type": "heatmapgl"
           }
          ],
          "histogram": [
           {
            "marker": {
             "pattern": {
              "fillmode": "overlay",
              "size": 10,
              "solidity": 0.2
             }
            },
            "type": "histogram"
           }
          ],
          "histogram2d": [
           {
            "colorbar": {
             "outlinewidth": 0,
             "ticks": ""
            },
            "colorscale": [
             [
              0,
              "#0d0887"
             ],
             [
              0.1111111111111111,
              "#46039f"
             ],
             [
              0.2222222222222222,
              "#7201a8"
             ],
             [
              0.3333333333333333,
              "#9c179e"
             ],
             [
              0.4444444444444444,
              "#bd3786"
             ],
             [
              0.5555555555555556,
              "#d8576b"
             ],
             [
              0.6666666666666666,
              "#ed7953"
             ],
             [
              0.7777777777777778,
              "#fb9f3a"
             ],
             [
              0.8888888888888888,
              "#fdca26"
             ],
             [
              1,
              "#f0f921"
             ]
            ],
            "type": "histogram2d"
           }
          ],
          "histogram2dcontour": [
           {
            "colorbar": {
             "outlinewidth": 0,
             "ticks": ""
            },
            "colorscale": [
             [
              0,
              "#0d0887"
             ],
             [
              0.1111111111111111,
              "#46039f"
             ],
             [
              0.2222222222222222,
              "#7201a8"
             ],
             [
              0.3333333333333333,
              "#9c179e"
             ],
             [
              0.4444444444444444,
              "#bd3786"
             ],
             [
              0.5555555555555556,
              "#d8576b"
             ],
             [
              0.6666666666666666,
              "#ed7953"
             ],
             [
              0.7777777777777778,
              "#fb9f3a"
             ],
             [
              0.8888888888888888,
              "#fdca26"
             ],
             [
              1,
              "#f0f921"
             ]
            ],
            "type": "histogram2dcontour"
           }
          ],
          "mesh3d": [
           {
            "colorbar": {
             "outlinewidth": 0,
             "ticks": ""
            },
            "type": "mesh3d"
           }
          ],
          "parcoords": [
           {
            "line": {
             "colorbar": {
              "outlinewidth": 0,
              "ticks": ""
             }
            },
            "type": "parcoords"
           }
          ],
          "pie": [
           {
            "automargin": true,
            "type": "pie"
           }
          ],
          "scatter": [
           {
            "fillpattern": {
             "fillmode": "overlay",
             "size": 10,
             "solidity": 0.2
            },
            "type": "scatter"
           }
          ],
          "scatter3d": [
           {
            "line": {
             "colorbar": {
              "outlinewidth": 0,
              "ticks": ""
             }
            },
            "marker": {
             "colorbar": {
              "outlinewidth": 0,
              "ticks": ""
             }
            },
            "type": "scatter3d"
           }
          ],
          "scattercarpet": [
           {
            "marker": {
             "colorbar": {
              "outlinewidth": 0,
              "ticks": ""
             }
            },
            "type": "scattercarpet"
           }
          ],
          "scattergeo": [
           {
            "marker": {
             "colorbar": {
              "outlinewidth": 0,
              "ticks": ""
             }
            },
            "type": "scattergeo"
           }
          ],
          "scattergl": [
           {
            "marker": {
             "colorbar": {
              "outlinewidth": 0,
              "ticks": ""
             }
            },
            "type": "scattergl"
           }
          ],
          "scattermapbox": [
           {
            "marker": {
             "colorbar": {
              "outlinewidth": 0,
              "ticks": ""
             }
            },
            "type": "scattermapbox"
           }
          ],
          "scatterpolar": [
           {
            "marker": {
             "colorbar": {
              "outlinewidth": 0,
              "ticks": ""
             }
            },
            "type": "scatterpolar"
           }
          ],
          "scatterpolargl": [
           {
            "marker": {
             "colorbar": {
              "outlinewidth": 0,
              "ticks": ""
             }
            },
            "type": "scatterpolargl"
           }
          ],
          "scatterternary": [
           {
            "marker": {
             "colorbar": {
              "outlinewidth": 0,
              "ticks": ""
             }
            },
            "type": "scatterternary"
           }
          ],
          "surface": [
           {
            "colorbar": {
             "outlinewidth": 0,
             "ticks": ""
            },
            "colorscale": [
             [
              0,
              "#0d0887"
             ],
             [
              0.1111111111111111,
              "#46039f"
             ],
             [
              0.2222222222222222,
              "#7201a8"
             ],
             [
              0.3333333333333333,
              "#9c179e"
             ],
             [
              0.4444444444444444,
              "#bd3786"
             ],
             [
              0.5555555555555556,
              "#d8576b"
             ],
             [
              0.6666666666666666,
              "#ed7953"
             ],
             [
              0.7777777777777778,
              "#fb9f3a"
             ],
             [
              0.8888888888888888,
              "#fdca26"
             ],
             [
              1,
              "#f0f921"
             ]
            ],
            "type": "surface"
           }
          ],
          "table": [
           {
            "cells": {
             "fill": {
              "color": "#EBF0F8"
             },
             "line": {
              "color": "white"
             }
            },
            "header": {
             "fill": {
              "color": "#C8D4E3"
             },
             "line": {
              "color": "white"
             }
            },
            "type": "table"
           }
          ]
         },
         "layout": {
          "annotationdefaults": {
           "arrowcolor": "#2a3f5f",
           "arrowhead": 0,
           "arrowwidth": 1
          },
          "autotypenumbers": "strict",
          "coloraxis": {
           "colorbar": {
            "outlinewidth": 0,
            "ticks": ""
           }
          },
          "colorscale": {
           "diverging": [
            [
             0,
             "#8e0152"
            ],
            [
             0.1,
             "#c51b7d"
            ],
            [
             0.2,
             "#de77ae"
            ],
            [
             0.3,
             "#f1b6da"
            ],
            [
             0.4,
             "#fde0ef"
            ],
            [
             0.5,
             "#f7f7f7"
            ],
            [
             0.6,
             "#e6f5d0"
            ],
            [
             0.7,
             "#b8e186"
            ],
            [
             0.8,
             "#7fbc41"
            ],
            [
             0.9,
             "#4d9221"
            ],
            [
             1,
             "#276419"
            ]
           ],
           "sequential": [
            [
             0,
             "#0d0887"
            ],
            [
             0.1111111111111111,
             "#46039f"
            ],
            [
             0.2222222222222222,
             "#7201a8"
            ],
            [
             0.3333333333333333,
             "#9c179e"
            ],
            [
             0.4444444444444444,
             "#bd3786"
            ],
            [
             0.5555555555555556,
             "#d8576b"
            ],
            [
             0.6666666666666666,
             "#ed7953"
            ],
            [
             0.7777777777777778,
             "#fb9f3a"
            ],
            [
             0.8888888888888888,
             "#fdca26"
            ],
            [
             1,
             "#f0f921"
            ]
           ],
           "sequentialminus": [
            [
             0,
             "#0d0887"
            ],
            [
             0.1111111111111111,
             "#46039f"
            ],
            [
             0.2222222222222222,
             "#7201a8"
            ],
            [
             0.3333333333333333,
             "#9c179e"
            ],
            [
             0.4444444444444444,
             "#bd3786"
            ],
            [
             0.5555555555555556,
             "#d8576b"
            ],
            [
             0.6666666666666666,
             "#ed7953"
            ],
            [
             0.7777777777777778,
             "#fb9f3a"
            ],
            [
             0.8888888888888888,
             "#fdca26"
            ],
            [
             1,
             "#f0f921"
            ]
           ]
          },
          "colorway": [
           "#636efa",
           "#EF553B",
           "#00cc96",
           "#ab63fa",
           "#FFA15A",
           "#19d3f3",
           "#FF6692",
           "#B6E880",
           "#FF97FF",
           "#FECB52"
          ],
          "font": {
           "color": "#2a3f5f"
          },
          "geo": {
           "bgcolor": "white",
           "lakecolor": "white",
           "landcolor": "#E5ECF6",
           "showlakes": true,
           "showland": true,
           "subunitcolor": "white"
          },
          "hoverlabel": {
           "align": "left"
          },
          "hovermode": "closest",
          "mapbox": {
           "style": "light"
          },
          "paper_bgcolor": "white",
          "plot_bgcolor": "#E5ECF6",
          "polar": {
           "angularaxis": {
            "gridcolor": "white",
            "linecolor": "white",
            "ticks": ""
           },
           "bgcolor": "#E5ECF6",
           "radialaxis": {
            "gridcolor": "white",
            "linecolor": "white",
            "ticks": ""
           }
          },
          "scene": {
           "xaxis": {
            "backgroundcolor": "#E5ECF6",
            "gridcolor": "white",
            "gridwidth": 2,
            "linecolor": "white",
            "showbackground": true,
            "ticks": "",
            "zerolinecolor": "white"
           },
           "yaxis": {
            "backgroundcolor": "#E5ECF6",
            "gridcolor": "white",
            "gridwidth": 2,
            "linecolor": "white",
            "showbackground": true,
            "ticks": "",
            "zerolinecolor": "white"
           },
           "zaxis": {
            "backgroundcolor": "#E5ECF6",
            "gridcolor": "white",
            "gridwidth": 2,
            "linecolor": "white",
            "showbackground": true,
            "ticks": "",
            "zerolinecolor": "white"
           }
          },
          "shapedefaults": {
           "line": {
            "color": "#2a3f5f"
           }
          },
          "ternary": {
           "aaxis": {
            "gridcolor": "white",
            "linecolor": "white",
            "ticks": ""
           },
           "baxis": {
            "gridcolor": "white",
            "linecolor": "white",
            "ticks": ""
           },
           "bgcolor": "#E5ECF6",
           "caxis": {
            "gridcolor": "white",
            "linecolor": "white",
            "ticks": ""
           }
          },
          "title": {
           "x": 0.05
          },
          "xaxis": {
           "automargin": true,
           "gridcolor": "white",
           "linecolor": "white",
           "ticks": "",
           "title": {
            "standoff": 15
           },
           "zerolinecolor": "white",
           "zerolinewidth": 2
          },
          "yaxis": {
           "automargin": true,
           "gridcolor": "white",
           "linecolor": "white",
           "ticks": "",
           "title": {
            "standoff": 15
           },
           "zerolinecolor": "white",
           "zerolinewidth": 2
          }
         }
        },
        "title": {
         "font": {
          "size": 16
         },
         "text": "NetworkX Graph with Plotly"
        },
        "xaxis": {
         "showgrid": false,
         "showticklabels": false,
         "zeroline": false
        },
        "yaxis": {
         "showgrid": false,
         "showticklabels": false,
         "zeroline": false
        }
       }
      }
     },
     "metadata": {},
     "output_type": "display_data"
    }
   ],
   "source": [
    "fig = go.Figure(data=[edge_trace, node_trace],\n",
    "                layout=go.Layout(\n",
    "                    title='NetworkX Graph with Plotly',\n",
    "                    titlefont_size=16,\n",
    "                    showlegend=False,\n",
    "                    hovermode='closest',\n",
    "                    margin=dict(b=20,l=5,r=5,t=40),\n",
    "                    annotations=[ dict(\n",
    "                        text=\"\",\n",
    "                        showarrow=False,\n",
    "                        xref=\"paper\", yref=\"paper\") ],\n",
    "                    xaxis=dict(showgrid=False, zeroline=False, showticklabels=False),\n",
    "                    yaxis=dict(showgrid=False, zeroline=False, showticklabels=False))\n",
    "                )\n",
    "\n",
    "fig.show()"
   ]
  },
  {
   "cell_type": "code",
   "execution_count": 50,
   "metadata": {},
   "outputs": [
    {
     "data": {
      "image/png": "[encoded data removed]",
      "text/plain": [
       "<Figure size 800x800 with 3 Axes>"
      ]
     },
     "metadata": {},
     "output_type": "display_data"
    }
   ],
   "source": [
    "G = nx.gnp_random_graph(100, 0.02, seed=10374196)\n",
    "\n",
    "degree_sequence = sorted((d for n, d in G.degree()), reverse=True)\n",
    "dmax = max(degree_sequence)\n",
    "\n",
    "fig = plt.figure(\"Degree of a random graph\", figsize=(8, 8))\n",
    "# Create a gridspec for adding subplots of different sizes\n",
    "axgrid = fig.add_gridspec(5, 4)\n",
    "\n",
    "ax0 = fig.add_subplot(axgrid[0:3, :])\n",
    "Gcc = G.subgraph(sorted(nx.connected_components(G), key=len, reverse=True)[0])\n",
    "pos = nx.spring_layout(Gcc, seed=10396953)\n",
    "nx.draw_networkx_nodes(Gcc, pos, ax=ax0, node_size=20)\n",
    "nx.draw_networkx_edges(Gcc, pos, ax=ax0, alpha=0.4)\n",
    "ax0.set_title(\"Connected components of G\")\n",
    "ax0.set_axis_off()\n",
    "\n",
    "ax1 = fig.add_subplot(axgrid[3:, :2])\n",
    "ax1.plot(degree_sequence, \"b-\", marker=\"o\")\n",
    "ax1.set_title(\"Degree Rank Plot\")\n",
    "ax1.set_ylabel(\"Degree\")\n",
    "ax1.set_xlabel(\"Rank\")\n",
    "\n",
    "ax2 = fig.add_subplot(axgrid[3:, 2:])\n",
    "ax2.bar(*np.unique(degree_sequence, return_counts=True))\n",
    "ax2.set_title(\"Degree histogram\")\n",
    "ax2.set_xlabel(\"Degree\")\n",
    "ax2.set_ylabel(\"# of Nodes\")\n",
    "\n",
    "fig.tight_layout()\n",
    "plt.show()"
   ]
  },
  {
   "cell_type": "code",
   "execution_count": 51,
   "metadata": {},
   "outputs": [
    {
     "data": {
      "application/vnd.plotly.v1+json": {
       "config": {
        "plotlyServerURL": "https://plot.ly"
       },
       "data": [
        {
         "hoverinfo": "none",
         "line": {
          "color": "black",
          "width": 0.4
         },
         "mode": "lines",
         "type": "scatter",
         "x": [
          0.01631791596613913,
          -0.07493622758204488,
          null,
          0.01631791596613913,
          0.08181263407863093,
          null,
          0.23365312119243942,
          0.3988242407453034,
          null,
          0.23365312119243942,
          -0.015282380255600568,
          null,
          0.23365312119243942,
          0.1364868359349738,
          null,
          0.23365312119243942,
          0.44215095608351745,
          null,
          0.014249876490258204,
          -0.08769189780819607,
          null,
          0.014249876490258204,
          -0.16587419631499437,
          null,
          0.014249876490258204,
          0.22923504345083737,
          null,
          0.014249876490258204,
          -0.02867290999131026,
          null,
          -0.2640844271240592,
          -0.15529892651456323,
          null,
          -0.2640844271240592,
          -0.39403978016114644,
          null,
          -0.2640844271240592,
          -0.5042090980647501,
          null,
          -0.2640844271240592,
          -0.07493622758204488,
          null,
          -0.2134652004866248,
          -0.1294881074028289,
          null,
          -0.2134652004866248,
          -0.2591547580526974,
          null,
          -0.1294881074028289,
          -0.34283542459870975,
          null,
          -0.1294881074028289,
          0.0915904525141081,
          null,
          -0.1294881074028289,
          0.0022286787208375125,
          null,
          -0.17762299009585258,
          -0.28093998068856874,
          null,
          -0.17762299009585258,
          -0.02902764957514033,
          null,
          -0.17762299009585258,
          -0.20323312339953706,
          null,
          -0.17762299009585258,
          -0.174244432915062,
          null,
          -0.08769189780819607,
          -0.15529892651456323,
          null,
          -0.024679531931558505,
          -0.020098048415457676,
          null,
          0.6504618744561818,
          0.8012581493823169,
          null,
          0.6504618744561818,
          0.7078972370029385,
          null,
          0.6504618744561818,
          0.44215095608351745,
          null,
          -0.6788056178266789,
          -0.7199655714426095,
          null,
          -0.7194207482701973,
          -0.7199655714426095,
          null,
          -0.7194207482701973,
          -0.6505600351120971,
          null,
          0.5042088870036725,
          0.4658007012815392,
          null,
          0.5042088870036725,
          0.3988242407453034,
          null,
          0.5042088870036725,
          0.7078972370029385,
          null,
          0.5042088870036725,
          0.3256131873908948,
          null,
          0.5042088870036725,
          0.5732041256798778,
          null,
          0.5042088870036725,
          0.5493776070917918,
          null,
          -0.16587419631499437,
          -0.2591547580526974,
          null,
          -0.15529892651456323,
          -0.02867290999131026,
          null,
          -0.009749621332289935,
          -0.14007074394428445,
          null,
          -0.009749621332289935,
          -0.020098048415457676,
          null,
          -0.009749621332289935,
          0.18413563638846797,
          null,
          -0.9448425192399044,
          -0.8392651999525556,
          null,
          0.168719747048732,
          0.0915904525141081,
          null,
          0.46982381743178847,
          0.3448569136906196,
          null,
          -0.2511376766722229,
          -0.174244432915062,
          null,
          -0.28093998068856874,
          -0.36369625482209955,
          null,
          -0.28093998068856874,
          -0.174244432915062,
          null,
          0.4658007012815392,
          0.3540776043889471,
          null,
          -0.36369625482209955,
          -0.385672331297996,
          null,
          -0.28615570099306786,
          -0.14007074394428445,
          null,
          -0.28615570099306786,
          -0.385672331297996,
          null,
          0.22510775543961617,
          0.21511118057395484,
          null,
          0.3988242407453034,
          0.3448569136906196,
          null,
          0.3988242407453034,
          0.4824387509326082,
          null,
          -0.34283542459870975,
          -0.5064653238678197,
          null,
          0.32527635386187953,
          0.21511118057395484,
          null,
          0.32527635386187953,
          0.4063979806186318,
          null,
          0.20113450775449945,
          0.08181263407863093,
          null,
          0.0915904525141081,
          0.10882174467632126,
          null,
          0.0915904525141081,
          -0.03660809824602768,
          null,
          0.0915904525141081,
          0.3448569136906196,
          null,
          -0.5042090980647501,
          -0.2591547580526974,
          null,
          -0.5042090980647501,
          -0.6929495911377829,
          null,
          -0.5042090980647501,
          -0.6501674769342953,
          null,
          -0.5042090980647501,
          -0.6505600351120971,
          null,
          -0.5233361715843187,
          -0.385672331297996,
          null,
          0.21511118057395484,
          0.1364868359349738,
          null,
          0.21511118057395484,
          0.14946282606590633,
          null,
          -0.3808795838128458,
          -0.2591547580526974,
          null,
          0.8012581493823169,
          0.8527805377663593,
          null,
          0.7078972370029385,
          0.8527805377663593,
          null,
          0.5896140883081312,
          0.4352905430236288,
          null,
          -0.13161368352976716,
          -0.174244432915062,
          null,
          -0.13161368352976716,
          -0.07493622758204488,
          null,
          0.10882174467632126,
          0.08181263407863093,
          null,
          -0.14007074394428445,
          -0.02867290999131026,
          null,
          0.22923504345083737,
          0.4352905430236288,
          null,
          0.3256131873908948,
          0.09746482906447196,
          null,
          0.3256131873908948,
          0.44215095608351745,
          null,
          0.4966294616781061,
          0.3448569136906196,
          null,
          0.0022286787208375125,
          0.1364868359349738,
          null,
          -0.015282380255600568,
          -0.2591547580526974,
          null,
          -0.02902764957514033,
          0.08181263407863093,
          null,
          0.3540776043889471,
          0.18413563638846797,
          null,
          0.09746482906447196,
          -0.09961267588694789,
          null,
          0.09746482906447196,
          0.14946282606590633,
          null,
          0.09746482906447196,
          -0.02867290999131026,
          null,
          -0.174244432915062,
          -0.03660809824602768,
          null,
          -0.09961267588694789,
          -0.24777236940823047,
          null,
          0.44215095608351745,
          0.5493776070917918,
          null,
          0.3310032434272722,
          0.4824387509326082,
          null,
          0.3310032434272722,
          0.14110704008653424,
          null,
          0.5732041256798778,
          0.4824387509326082,
          null,
          -0.6929495911377829,
          -0.8392651999525556,
          null,
          0.14110704008653424,
          -0.07493622758204488,
          null
         ],
         "y": [
          -0.4093646241970567,
          -0.1918984311313646,
          null,
          -0.4093646241970567,
          -0.6233401410160028,
          null,
          0.08492471749577629,
          0.004369113573507133,
          null,
          0.08492471749577629,
          0.14952195232796767,
          null,
          0.08492471749577629,
          -0.07539943027161018,
          null,
          0.08492471749577629,
          0.18396854094103893,
          null,
          0.4996084895482287,
          0.44762449432437895,
          null,
          0.4996084895482287,
          0.38889363524141785,
          null,
          0.4996084895482287,
          0.6057523158731585,
          null,
          0.4996084895482287,
          0.3744017631757345,
          null,
          0.05684424085785803,
          0.27536260225573567,
          null,
          0.05684424085785803,
          0.07949265550975133,
          null,
          0.05684424085785803,
          0.12454126213632766,
          null,
          0.05684424085785803,
          -0.1918984311313646,
          null,
          -0.013569487597033615,
          -0.2169939947336256,
          null,
          -0.013569487597033615,
          0.19614794402786814,
          null,
          -0.2169939947336256,
          -0.25167876760050906,
          null,
          -0.2169939947336256,
          -0.36843913953338253,
          null,
          -0.2169939947336256,
          -0.15380653879952486,
          null,
          -0.7191859507977663,
          -0.5582879144838304,
          null,
          -0.7191859507977663,
          -0.7436403688255828,
          null,
          -0.7191859507977663,
          -0.8743308860805167,
          null,
          -0.7191859507977663,
          -0.587683214257415,
          null,
          0.44762449432437895,
          0.27536260225573567,
          null,
          1,
          0.860138156881131,
          null,
          0.19280151133813314,
          0.19393130503952707,
          null,
          0.19280151133813314,
          0.21697815231525996,
          null,
          0.19280151133813314,
          0.18396854094103893,
          null,
          -0.6568450195236223,
          -0.5005447640607016,
          null,
          -0.29771898219918225,
          -0.5005447640607016,
          null,
          -0.29771898219918225,
          -0.07929575154939753,
          null,
          0.21370286045034595,
          0.4318365666397679,
          null,
          0.21370286045034595,
          0.004369113573507133,
          null,
          0.21370286045034595,
          0.21697815231525996,
          null,
          0.21370286045034595,
          0.24382287316920476,
          null,
          0.21370286045034595,
          0.10168130995815376,
          null,
          0.21370286045034595,
          0.2620799419844749,
          null,
          0.38889363524141785,
          0.19614794402786814,
          null,
          0.27536260225573567,
          0.3744017631757345,
          null,
          0.6638587715624741,
          0.42903895687274257,
          null,
          0.6638587715624741,
          0.860138156881131,
          null,
          0.6638587715624741,
          0.6857154070491349,
          null,
          0.5068432305754649,
          0.41180850631257754,
          null,
          -0.4814985194739483,
          -0.36843913953338253,
          null,
          -0.34535940205968624,
          -0.24549150975153555,
          null,
          -0.7181315920831601,
          -0.587683214257415,
          null,
          -0.5582879144838304,
          -0.3433239796556034,
          null,
          -0.5582879144838304,
          -0.587683214257415,
          null,
          0.4318365666397679,
          0.5967915487835034,
          null,
          -0.3433239796556034,
          -0.09059068795720061,
          null,
          0.1731833293310665,
          0.42903895687274257,
          null,
          0.1731833293310665,
          -0.09059068795720061,
          null,
          -0.31556105139213997,
          -0.19059251252185272,
          null,
          0.004369113573507133,
          -0.24549150975153555,
          null,
          0.004369113573507133,
          0.005079456025876389,
          null,
          -0.25167876760050906,
          -0.2764960946870937,
          null,
          -0.3796288406853032,
          -0.19059251252185272,
          null,
          -0.3796288406853032,
          -0.5191727603163385,
          null,
          -0.7318337044307363,
          -0.6233401410160028,
          null,
          -0.36843913953338253,
          -0.5346758516751091,
          null,
          -0.36843913953338253,
          -0.5149489900392352,
          null,
          -0.36843913953338253,
          -0.24549150975153555,
          null,
          0.12454126213632766,
          0.19614794402786814,
          null,
          0.12454126213632766,
          0.2807683610355324,
          null,
          0.12454126213632766,
          0.15905767542149873,
          null,
          0.12454126213632766,
          -0.07929575154939753,
          null,
          -0.12221163199079986,
          -0.09059068795720061,
          null,
          -0.19059251252185272,
          -0.07539943027161018,
          null,
          -0.19059251252185272,
          0.03426191695885485,
          null,
          0.29548891592942716,
          0.19614794402786814,
          null,
          0.19393130503952707,
          0.180180163942182,
          null,
          0.21697815231525996,
          0.180180163942182,
          null,
          0.6510311313160925,
          0.6501348624963684,
          null,
          -0.3935482169951936,
          -0.587683214257415,
          null,
          -0.3935482169951936,
          -0.1918984311313646,
          null,
          -0.5346758516751091,
          -0.6233401410160028,
          null,
          0.42903895687274257,
          0.3744017631757345,
          null,
          0.6057523158731585,
          0.6501348624963684,
          null,
          0.24382287316920476,
          0.25570799195211097,
          null,
          0.24382287316920476,
          0.18396854094103893,
          null,
          -0.28879233647199354,
          -0.24549150975153555,
          null,
          -0.15380653879952486,
          -0.07539943027161018,
          null,
          0.14952195232796767,
          0.19614794402786814,
          null,
          -0.7436403688255828,
          -0.6233401410160028,
          null,
          0.5967915487835034,
          0.6857154070491349,
          null,
          0.25570799195211097,
          0.3624324305444794,
          null,
          0.25570799195211097,
          0.03426191695885485,
          null,
          0.25570799195211097,
          0.3744017631757345,
          null,
          -0.587683214257415,
          -0.5149489900392352,
          null,
          0.3624324305444794,
          0.4706914646434717,
          null,
          0.18396854094103893,
          0.2620799419844749,
          null,
          -0.06142193415727304,
          0.005079456025876389,
          null,
          -0.06142193415727304,
          -0.1251975028152772,
          null,
          0.10168130995815376,
          0.005079456025876389,
          null,
          0.2807683610355324,
          0.41180850631257754,
          null,
          -0.1251975028152772,
          -0.1918984311313646,
          null
         ]
        },
        {
         "marker": {
          "color": "blue",
          "size": 6
         },
         "mode": "markers",
         "name": "Nodes",
         "type": "scatter",
         "x": [
          0.01631791596613913,
          0.23365312119243942,
          0.014249876490258204,
          -0.2640844271240592,
          -0.2134652004866248,
          -0.1294881074028289,
          -0.17762299009585258,
          -0.08769189780819607,
          -0.024679531931558505,
          0.6504618744561818,
          -0.6788056178266789,
          -0.7194207482701973,
          0.5042088870036725,
          -0.16587419631499437,
          -0.15529892651456323,
          -0.009749621332289935,
          -0.9448425192399044,
          0.168719747048732,
          0.46982381743178847,
          -0.2511376766722229,
          -0.28093998068856874,
          0.4658007012815392,
          -0.36369625482209955,
          -0.28615570099306786,
          -0.39403978016114644,
          0.22510775543961617,
          0.3988242407453034,
          -0.34283542459870975,
          0.32527635386187953,
          0.20113450775449945,
          0.0915904525141081,
          -0.5042090980647501,
          -0.5233361715843187,
          0.21511118057395484,
          -0.3808795838128458,
          0.8012581493823169,
          0.7078972370029385,
          0.5896140883081312,
          -0.13161368352976716,
          0.10882174467632126,
          -0.14007074394428445,
          0.22923504345083737,
          0.3256131873908948,
          -0.385672331297996,
          0.4966294616781061,
          0.0022286787208375125,
          -0.015282380255600568,
          -0.02902764957514033,
          -0.20323312339953706,
          -0.5064653238678197,
          0.3540776043889471,
          0.09746482906447196,
          -0.174244432915062,
          -0.020098048415457676,
          0.4352905430236288,
          -0.09961267588694789,
          -0.24777236940823047,
          0.1364868359349738,
          0.14946282606590633,
          0.44215095608351745,
          0.4063979806186318,
          0.3310032434272722,
          0.8527805377663593,
          0.5732041256798778,
          -0.2591547580526974,
          -0.03660809824602768,
          -0.6929495911377829,
          -0.6501674769342953,
          -0.7199655714426095,
          0.3448569136906196,
          -0.6505600351120971,
          -0.02867290999131026,
          0.18413563638846797,
          0.5493776070917918,
          0.4824387509326082,
          0.14110704008653424,
          -0.07493622758204488,
          0.08181263407863093,
          -0.8392651999525556
         ],
         "y": [
          -0.4093646241970567,
          0.08492471749577629,
          0.4996084895482287,
          0.05684424085785803,
          -0.013569487597033615,
          -0.2169939947336256,
          -0.7191859507977663,
          0.44762449432437895,
          1,
          0.19280151133813314,
          -0.6568450195236223,
          -0.29771898219918225,
          0.21370286045034595,
          0.38889363524141785,
          0.27536260225573567,
          0.6638587715624741,
          0.5068432305754649,
          -0.4814985194739483,
          -0.34535940205968624,
          -0.7181315920831601,
          -0.5582879144838304,
          0.4318365666397679,
          -0.3433239796556034,
          0.1731833293310665,
          0.07949265550975133,
          -0.31556105139213997,
          0.004369113573507133,
          -0.25167876760050906,
          -0.3796288406853032,
          -0.7318337044307363,
          -0.36843913953338253,
          0.12454126213632766,
          -0.12221163199079986,
          -0.19059251252185272,
          0.29548891592942716,
          0.19393130503952707,
          0.21697815231525996,
          0.6510311313160925,
          -0.3935482169951936,
          -0.5346758516751091,
          0.42903895687274257,
          0.6057523158731585,
          0.24382287316920476,
          -0.09059068795720061,
          -0.28879233647199354,
          -0.15380653879952486,
          0.14952195232796767,
          -0.7436403688255828,
          -0.8743308860805167,
          -0.2764960946870937,
          0.5967915487835034,
          0.25570799195211097,
          -0.587683214257415,
          0.860138156881131,
          0.6501348624963684,
          0.3624324305444794,
          0.4706914646434717,
          -0.07539943027161018,
          0.03426191695885485,
          0.18396854094103893,
          -0.5191727603163385,
          -0.06142193415727304,
          0.180180163942182,
          0.10168130995815376,
          0.19614794402786814,
          -0.5149489900392352,
          0.2807683610355324,
          0.15905767542149873,
          -0.5005447640607016,
          -0.24549150975153555,
          -0.07929575154939753,
          0.3744017631757345,
          0.6857154070491349,
          0.2620799419844749,
          0.005079456025876389,
          -0.1251975028152772,
          -0.1918984311313646,
          -0.6233401410160028,
          0.41180850631257754
         ]
        }
       ],
       "layout": {
        "showlegend": false,
        "template": {
         "data": {
          "bar": [
           {
            "error_x": {
             "color": "#2a3f5f"
            },
            "error_y": {
             "color": "#2a3f5f"
            },
            "marker": {
             "line": {
              "color": "#E5ECF6",
              "width": 0.5
             },
             "pattern": {
              "fillmode": "overlay",
              "size": 10,
              "solidity": 0.2
             }
            },
            "type": "bar"
           }
          ],
          "barpolar": [
           {
            "marker": {
             "line": {
              "color": "#E5ECF6",
              "width": 0.5
             },
             "pattern": {
              "fillmode": "overlay",
              "size": 10,
              "solidity": 0.2
             }
            },
            "type": "barpolar"
           }
          ],
          "carpet": [
           {
            "aaxis": {
             "endlinecolor": "#2a3f5f",
             "gridcolor": "white",
             "linecolor": "white",
             "minorgridcolor": "white",
             "startlinecolor": "#2a3f5f"
            },
            "baxis": {
             "endlinecolor": "#2a3f5f",
             "gridcolor": "white",
             "linecolor": "white",
             "minorgridcolor": "white",
             "startlinecolor": "#2a3f5f"
            },
            "type": "carpet"
           }
          ],
          "choropleth": [
           {
            "colorbar": {
             "outlinewidth": 0,
             "ticks": ""
            },
            "type": "choropleth"
           }
          ],
          "contour": [
           {
            "colorbar": {
             "outlinewidth": 0,
             "ticks": ""
            },
            "colorscale": [
             [
              0,
              "#0d0887"
             ],
             [
              0.1111111111111111,
              "#46039f"
             ],
             [
              0.2222222222222222,
              "#7201a8"
             ],
             [
              0.3333333333333333,
              "#9c179e"
             ],
             [
              0.4444444444444444,
              "#bd3786"
             ],
             [
              0.5555555555555556,
              "#d8576b"
             ],
             [
              0.6666666666666666,
              "#ed7953"
             ],
             [
              0.7777777777777778,
              "#fb9f3a"
             ],
             [
              0.8888888888888888,
              "#fdca26"
             ],
             [
              1,
              "#f0f921"
             ]
            ],
            "type": "contour"
           }
          ],
          "contourcarpet": [
           {
            "colorbar": {
             "outlinewidth": 0,
             "ticks": ""
            },
            "type": "contourcarpet"
           }
          ],
          "heatmap": [
           {
            "colorbar": {
             "outlinewidth": 0,
             "ticks": ""
            },
            "colorscale": [
             [
              0,
              "#0d0887"
             ],
             [
              0.1111111111111111,
              "#46039f"
             ],
             [
              0.2222222222222222,
              "#7201a8"
             ],
             [
              0.3333333333333333,
              "#9c179e"
             ],
             [
              0.4444444444444444,
              "#bd3786"
             ],
             [
              0.5555555555555556,
              "#d8576b"
             ],
             [
              0.6666666666666666,
              "#ed7953"
             ],
             [
              0.7777777777777778,
              "#fb9f3a"
             ],
             [
              0.8888888888888888,
              "#fdca26"
             ],
             [
              1,
              "#f0f921"
             ]
            ],
            "type": "heatmap"
           }
          ],
          "heatmapgl": [
           {
            "colorbar": {
             "outlinewidth": 0,
             "ticks": ""
            },
            "colorscale": [
             [
              0,
              "#0d0887"
             ],
             [
              0.1111111111111111,
              "#46039f"
             ],
             [
              0.2222222222222222,
              "#7201a8"
             ],
             [
              0.3333333333333333,
              "#9c179e"
             ],
             [
              0.4444444444444444,
              "#bd3786"
             ],
             [
              0.5555555555555556,
              "#d8576b"
             ],
             [
              0.6666666666666666,
              "#ed7953"
             ],
             [
              0.7777777777777778,
              "#fb9f3a"
             ],
             [
              0.8888888888888888,
              "#fdca26"
             ],
             [
              1,
              "#f0f921"
             ]
            ],
            "type": "heatmapgl"
           }
          ],
          "histogram": [
           {
            "marker": {
             "pattern": {
              "fillmode": "overlay",
              "size": 10,
              "solidity": 0.2
             }
            },
            "type": "histogram"
           }
          ],
          "histogram2d": [
           {
            "colorbar": {
             "outlinewidth": 0,
             "ticks": ""
            },
            "colorscale": [
             [
              0,
              "#0d0887"
             ],
             [
              0.1111111111111111,
              "#46039f"
             ],
             [
              0.2222222222222222,
              "#7201a8"
             ],
             [
              0.3333333333333333,
              "#9c179e"
             ],
             [
              0.4444444444444444,
              "#bd3786"
             ],
             [
              0.5555555555555556,
              "#d8576b"
             ],
             [
              0.6666666666666666,
              "#ed7953"
             ],
             [
              0.7777777777777778,
              "#fb9f3a"
             ],
             [
              0.8888888888888888,
              "#fdca26"
             ],
             [
              1,
              "#f0f921"
             ]
            ],
            "type": "histogram2d"
           }
          ],
          "histogram2dcontour": [
           {
            "colorbar": {
             "outlinewidth": 0,
             "ticks": ""
            },
            "colorscale": [
             [
              0,
              "#0d0887"
             ],
             [
              0.1111111111111111,
              "#46039f"
             ],
             [
              0.2222222222222222,
              "#7201a8"
             ],
             [
              0.3333333333333333,
              "#9c179e"
             ],
             [
              0.4444444444444444,
              "#bd3786"
             ],
             [
              0.5555555555555556,
              "#d8576b"
             ],
             [
              0.6666666666666666,
              "#ed7953"
             ],
             [
              0.7777777777777778,
              "#fb9f3a"
             ],
             [
              0.8888888888888888,
              "#fdca26"
             ],
             [
              1,
              "#f0f921"
             ]
            ],
            "type": "histogram2dcontour"
           }
          ],
          "mesh3d": [
           {
            "colorbar": {
             "outlinewidth": 0,
             "ticks": ""
            },
            "type": "mesh3d"
           }
          ],
          "parcoords": [
           {
            "line": {
             "colorbar": {
              "outlinewidth": 0,
              "ticks": ""
             }
            },
            "type": "parcoords"
           }
          ],
          "pie": [
           {
            "automargin": true,
            "type": "pie"
           }
          ],
          "scatter": [
           {
            "fillpattern": {
             "fillmode": "overlay",
             "size": 10,
             "solidity": 0.2
            },
            "type": "scatter"
           }
          ],
          "scatter3d": [
           {
            "line": {
             "colorbar": {
              "outlinewidth": 0,
              "ticks": ""
             }
            },
            "marker": {
             "colorbar": {
              "outlinewidth": 0,
              "ticks": ""
             }
            },
            "type": "scatter3d"
           }
          ],
          "scattercarpet": [
           {
            "marker": {
             "colorbar": {
              "outlinewidth": 0,
              "ticks": ""
             }
            },
            "type": "scattercarpet"
           }
          ],
          "scattergeo": [
           {
            "marker": {
             "colorbar": {
              "outlinewidth": 0,
              "ticks": ""
             }
            },
            "type": "scattergeo"
           }
          ],
          "scattergl": [
           {
            "marker": {
             "colorbar": {
              "outlinewidth": 0,
              "ticks": ""
             }
            },
            "type": "scattergl"
           }
          ],
          "scattermapbox": [
           {
            "marker": {
             "colorbar": {
              "outlinewidth": 0,
              "ticks": ""
             }
            },
            "type": "scattermapbox"
           }
          ],
          "scatterpolar": [
           {
            "marker": {
             "colorbar": {
              "outlinewidth": 0,
              "ticks": ""
             }
            },
            "type": "scatterpolar"
           }
          ],
          "scatterpolargl": [
           {
            "marker": {
             "colorbar": {
              "outlinewidth": 0,
              "ticks": ""
             }
            },
            "type": "scatterpolargl"
           }
          ],
          "scatterternary": [
           {
            "marker": {
             "colorbar": {
              "outlinewidth": 0,
              "ticks": ""
             }
            },
            "type": "scatterternary"
           }
          ],
          "surface": [
           {
            "colorbar": {
             "outlinewidth": 0,
             "ticks": ""
            },
            "colorscale": [
             [
              0,
              "#0d0887"
             ],
             [
              0.1111111111111111,
              "#46039f"
             ],
             [
              0.2222222222222222,
              "#7201a8"
             ],
             [
              0.3333333333333333,
              "#9c179e"
             ],
             [
              0.4444444444444444,
              "#bd3786"
             ],
             [
              0.5555555555555556,
              "#d8576b"
             ],
             [
              0.6666666666666666,
              "#ed7953"
             ],
             [
              0.7777777777777778,
              "#fb9f3a"
             ],
             [
              0.8888888888888888,
              "#fdca26"
             ],
             [
              1,
              "#f0f921"
             ]
            ],
            "type": "surface"
           }
          ],
          "table": [
           {
            "cells": {
             "fill": {
              "color": "#EBF0F8"
             },
             "line": {
              "color": "white"
             }
            },
            "header": {
             "fill": {
              "color": "#C8D4E3"
             },
             "line": {
              "color": "white"
             }
            },
            "type": "table"
           }
          ]
         },
         "layout": {
          "annotationdefaults": {
           "arrowcolor": "#2a3f5f",
           "arrowhead": 0,
           "arrowwidth": 1
          },
          "autotypenumbers": "strict",
          "coloraxis": {
           "colorbar": {
            "outlinewidth": 0,
            "ticks": ""
           }
          },
          "colorscale": {
           "diverging": [
            [
             0,
             "#8e0152"
            ],
            [
             0.1,
             "#c51b7d"
            ],
            [
             0.2,
             "#de77ae"
            ],
            [
             0.3,
             "#f1b6da"
            ],
            [
             0.4,
             "#fde0ef"
            ],
            [
             0.5,
             "#f7f7f7"
            ],
            [
             0.6,
             "#e6f5d0"
            ],
            [
             0.7,
             "#b8e186"
            ],
            [
             0.8,
             "#7fbc41"
            ],
            [
             0.9,
             "#4d9221"
            ],
            [
             1,
             "#276419"
            ]
           ],
           "sequential": [
            [
             0,
             "#0d0887"
            ],
            [
             0.1111111111111111,
             "#46039f"
            ],
            [
             0.2222222222222222,
             "#7201a8"
            ],
            [
             0.3333333333333333,
             "#9c179e"
            ],
            [
             0.4444444444444444,
             "#bd3786"
            ],
            [
             0.5555555555555556,
             "#d8576b"
            ],
            [
             0.6666666666666666,
             "#ed7953"
            ],
            [
             0.7777777777777778,
             "#fb9f3a"
            ],
            [
             0.8888888888888888,
             "#fdca26"
            ],
            [
             1,
             "#f0f921"
            ]
           ],
           "sequentialminus": [
            [
             0,
             "#0d0887"
            ],
            [
             0.1111111111111111,
             "#46039f"
            ],
            [
             0.2222222222222222,
             "#7201a8"
            ],
            [
             0.3333333333333333,
             "#9c179e"
            ],
            [
             0.4444444444444444,
             "#bd3786"
            ],
            [
             0.5555555555555556,
             "#d8576b"
            ],
            [
             0.6666666666666666,
             "#ed7953"
            ],
            [
             0.7777777777777778,
             "#fb9f3a"
            ],
            [
             0.8888888888888888,
             "#fdca26"
            ],
            [
             1,
             "#f0f921"
            ]
           ]
          },
          "colorway": [
           "#636efa",
           "#EF553B",
           "#00cc96",
           "#ab63fa",
           "#FFA15A",
           "#19d3f3",
           "#FF6692",
           "#B6E880",
           "#FF97FF",
           "#FECB52"
          ],
          "font": {
           "color": "#2a3f5f"
          },
          "geo": {
           "bgcolor": "white",
           "lakecolor": "white",
           "landcolor": "#E5ECF6",
           "showlakes": true,
           "showland": true,
           "subunitcolor": "white"
          },
          "hoverlabel": {
           "align": "left"
          },
          "hovermode": "closest",
          "mapbox": {
           "style": "light"
          },
          "paper_bgcolor": "white",
          "plot_bgcolor": "#E5ECF6",
          "polar": {
           "angularaxis": {
            "gridcolor": "white",
            "linecolor": "white",
            "ticks": ""
           },
           "bgcolor": "#E5ECF6",
           "radialaxis": {
            "gridcolor": "white",
            "linecolor": "white",
            "ticks": ""
           }
          },
          "scene": {
           "xaxis": {
            "backgroundcolor": "#E5ECF6",
            "gridcolor": "white",
            "gridwidth": 2,
            "linecolor": "white",
            "showbackground": true,
            "ticks": "",
            "zerolinecolor": "white"
           },
           "yaxis": {
            "backgroundcolor": "#E5ECF6",
            "gridcolor": "white",
            "gridwidth": 2,
            "linecolor": "white",
            "showbackground": true,
            "ticks": "",
            "zerolinecolor": "white"
           },
           "zaxis": {
            "backgroundcolor": "#E5ECF6",
            "gridcolor": "white",
            "gridwidth": 2,
            "linecolor": "white",
            "showbackground": true,
            "ticks": "",
            "zerolinecolor": "white"
           }
          },
          "shapedefaults": {
           "line": {
            "color": "#2a3f5f"
           }
          },
          "ternary": {
           "aaxis": {
            "gridcolor": "white",
            "linecolor": "white",
            "ticks": ""
           },
           "baxis": {
            "gridcolor": "white",
            "linecolor": "white",
            "ticks": ""
           },
           "bgcolor": "#E5ECF6",
           "caxis": {
            "gridcolor": "white",
            "linecolor": "white",
            "ticks": ""
           }
          },
          "title": {
           "x": 0.05
          },
          "xaxis": {
           "automargin": true,
           "gridcolor": "white",
           "linecolor": "white",
           "ticks": "",
           "title": {
            "standoff": 15
           },
           "zerolinecolor": "white",
           "zerolinewidth": 2
          },
          "yaxis": {
           "automargin": true,
           "gridcolor": "white",
           "linecolor": "white",
           "ticks": "",
           "title": {
            "standoff": 15
           },
           "zerolinecolor": "white",
           "zerolinewidth": 2
          }
         }
        },
        "title": {
         "text": "Connected components of G"
        }
       }
      }
     },
     "metadata": {},
     "output_type": "display_data"
    },
    {
     "data": {
      "application/vnd.plotly.v1+json": {
       "config": {
        "plotlyServerURL": "https://plot.ly"
       },
       "data": [
        {
         "mode": "markers+lines",
         "name": "Degree Rank",
         "type": "scatter",
         "x": [
          1,
          2,
          3,
          4,
          5,
          6,
          7,
          8,
          9,
          10,
          11,
          12,
          13,
          14,
          15,
          16,
          17,
          18,
          19,
          20,
          21,
          22,
          23,
          24,
          25,
          26,
          27,
          28,
          29,
          30,
          31,
          32,
          33,
          34,
          35,
          36,
          37,
          38,
          39,
          40,
          41,
          42,
          43,
          44,
          45,
          46,
          47,
          48,
          49,
          50,
          51,
          52,
          53,
          54,
          55,
          56,
          57,
          58,
          59,
          60,
          61,
          62,
          63,
          64,
          65,
          66,
          67,
          68,
          69,
          70,
          71,
          72,
          73,
          74,
          75,
          76,
          77,
          78,
          79,
          80,
          81,
          82,
          83,
          84,
          85,
          86,
          87,
          88,
          89,
          90,
          91,
          92,
          93,
          94,
          95,
          96,
          97,
          98,
          99,
          100
         ],
         "y": [
          6,
          5,
          5,
          5,
          5,
          4,
          4,
          4,
          4,
          4,
          4,
          4,
          4,
          4,
          4,
          4,
          4,
          4,
          3,
          3,
          3,
          3,
          3,
          3,
          3,
          3,
          3,
          3,
          2,
          2,
          2,
          2,
          2,
          2,
          2,
          2,
          2,
          2,
          2,
          2,
          2,
          2,
          2,
          2,
          2,
          2,
          2,
          2,
          2,
          2,
          2,
          2,
          2,
          2,
          2,
          2,
          2,
          2,
          2,
          2,
          2,
          2,
          1,
          1,
          1,
          1,
          1,
          1,
          1,
          1,
          1,
          1,
          1,
          1,
          1,
          1,
          1,
          1,
          1,
          1,
          1,
          1,
          1,
          1,
          0,
          0,
          0,
          0,
          0,
          0,
          0,
          0,
          0,
          0,
          0,
          0,
          0,
          0,
          0,
          0
         ]
        }
       ],
       "layout": {
        "template": {
         "data": {
          "bar": [
           {
            "error_x": {
             "color": "#2a3f5f"
            },
            "error_y": {
             "color": "#2a3f5f"
            },
            "marker": {
             "line": {
              "color": "#E5ECF6",
              "width": 0.5
             },
             "pattern": {
              "fillmode": "overlay",
              "size": 10,
              "solidity": 0.2
             }
            },
            "type": "bar"
           }
          ],
          "barpolar": [
           {
            "marker": {
             "line": {
              "color": "#E5ECF6",
              "width": 0.5
             },
             "pattern": {
              "fillmode": "overlay",
              "size": 10,
              "solidity": 0.2
             }
            },
            "type": "barpolar"
           }
          ],
          "carpet": [
           {
            "aaxis": {
             "endlinecolor": "#2a3f5f",
             "gridcolor": "white",
             "linecolor": "white",
             "minorgridcolor": "white",
             "startlinecolor": "#2a3f5f"
            },
            "baxis": {
             "endlinecolor": "#2a3f5f",
             "gridcolor": "white",
             "linecolor": "white",
             "minorgridcolor": "white",
             "startlinecolor": "#2a3f5f"
            },
            "type": "carpet"
           }
          ],
          "choropleth": [
           {
            "colorbar": {
             "outlinewidth": 0,
             "ticks": ""
            },
            "type": "choropleth"
           }
          ],
          "contour": [
           {
            "colorbar": {
             "outlinewidth": 0,
             "ticks": ""
            },
            "colorscale": [
             [
              0,
              "#0d0887"
             ],
             [
              0.1111111111111111,
              "#46039f"
             ],
             [
              0.2222222222222222,
              "#7201a8"
             ],
             [
              0.3333333333333333,
              "#9c179e"
             ],
             [
              0.4444444444444444,
              "#bd3786"
             ],
             [
              0.5555555555555556,
              "#d8576b"
             ],
             [
              0.6666666666666666,
              "#ed7953"
             ],
             [
              0.7777777777777778,
              "#fb9f3a"
             ],
             [
              0.8888888888888888,
              "#fdca26"
             ],
             [
              1,
              "#f0f921"
             ]
            ],
            "type": "contour"
           }
          ],
          "contourcarpet": [
           {
            "colorbar": {
             "outlinewidth": 0,
             "ticks": ""
            },
            "type": "contourcarpet"
           }
          ],
          "heatmap": [
           {
            "colorbar": {
             "outlinewidth": 0,
             "ticks": ""
            },
            "colorscale": [
             [
              0,
              "#0d0887"
             ],
             [
              0.1111111111111111,
              "#46039f"
             ],
             [
              0.2222222222222222,
              "#7201a8"
             ],
             [
              0.3333333333333333,
              "#9c179e"
             ],
             [
              0.4444444444444444,
              "#bd3786"
             ],
             [
              0.5555555555555556,
              "#d8576b"
             ],
             [
              0.6666666666666666,
              "#ed7953"
             ],
             [
              0.7777777777777778,
              "#fb9f3a"
             ],
             [
              0.8888888888888888,
              "#fdca26"
             ],
             [
              1,
              "#f0f921"
             ]
            ],
            "type": "heatmap"
           }
          ],
          "heatmapgl": [
           {
            "colorbar": {
             "outlinewidth": 0,
             "ticks": ""
            },
            "colorscale": [
             [
              0,
              "#0d0887"
             ],
             [
              0.1111111111111111,
              "#46039f"
             ],
             [
              0.2222222222222222,
              "#7201a8"
             ],
             [
              0.3333333333333333,
              "#9c179e"
             ],
             [
              0.4444444444444444,
              "#bd3786"
             ],
             [
              0.5555555555555556,
              "#d8576b"
             ],
             [
              0.6666666666666666,
              "#ed7953"
             ],
             [
              0.7777777777777778,
              "#fb9f3a"
             ],
             [
              0.8888888888888888,
              "#fdca26"
             ],
             [
              1,
              "#f0f921"
             ]
            ],
            "type": "heatmapgl"
           }
          ],
          "histogram": [
           {
            "marker": {
             "pattern": {
              "fillmode": "overlay",
              "size": 10,
              "solidity": 0.2
             }
            },
            "type": "histogram"
           }
          ],
          "histogram2d": [
           {
            "colorbar": {
             "outlinewidth": 0,
             "ticks": ""
            },
            "colorscale": [
             [
              0,
              "#0d0887"
             ],
             [
              0.1111111111111111,
              "#46039f"
             ],
             [
              0.2222222222222222,
              "#7201a8"
             ],
             [
              0.3333333333333333,
              "#9c179e"
             ],
             [
              0.4444444444444444,
              "#bd3786"
             ],
             [
              0.5555555555555556,
              "#d8576b"
             ],
             [
              0.6666666666666666,
              "#ed7953"
             ],
             [
              0.7777777777777778,
              "#fb9f3a"
             ],
             [
              0.8888888888888888,
              "#fdca26"
             ],
             [
              1,
              "#f0f921"
             ]
            ],
            "type": "histogram2d"
           }
          ],
          "histogram2dcontour": [
           {
            "colorbar": {
             "outlinewidth": 0,
             "ticks": ""
            },
            "colorscale": [
             [
              0,
              "#0d0887"
             ],
             [
              0.1111111111111111,
              "#46039f"
             ],
             [
              0.2222222222222222,
              "#7201a8"
             ],
             [
              0.3333333333333333,
              "#9c179e"
             ],
             [
              0.4444444444444444,
              "#bd3786"
             ],
             [
              0.5555555555555556,
              "#d8576b"
             ],
             [
              0.6666666666666666,
              "#ed7953"
             ],
             [
              0.7777777777777778,
              "#fb9f3a"
             ],
             [
              0.8888888888888888,
              "#fdca26"
             ],
             [
              1,
              "#f0f921"
             ]
            ],
            "type": "histogram2dcontour"
           }
          ],
          "mesh3d": [
           {
            "colorbar": {
             "outlinewidth": 0,
             "ticks": ""
            },
            "type": "mesh3d"
           }
          ],
          "parcoords": [
           {
            "line": {
             "colorbar": {
              "outlinewidth": 0,
              "ticks": ""
             }
            },
            "type": "parcoords"
           }
          ],
          "pie": [
           {
            "automargin": true,
            "type": "pie"
           }
          ],
          "scatter": [
           {
            "fillpattern": {
             "fillmode": "overlay",
             "size": 10,
             "solidity": 0.2
            },
            "type": "scatter"
           }
          ],
          "scatter3d": [
           {
            "line": {
             "colorbar": {
              "outlinewidth": 0,
              "ticks": ""
             }
            },
            "marker": {
             "colorbar": {
              "outlinewidth": 0,
              "ticks": ""
             }
            },
            "type": "scatter3d"
           }
          ],
          "scattercarpet": [
           {
            "marker": {
             "colorbar": {
              "outlinewidth": 0,
              "ticks": ""
             }
            },
            "type": "scattercarpet"
           }
          ],
          "scattergeo": [
           {
            "marker": {
             "colorbar": {
              "outlinewidth": 0,
              "ticks": ""
             }
            },
            "type": "scattergeo"
           }
          ],
          "scattergl": [
           {
            "marker": {
             "colorbar": {
              "outlinewidth": 0,
              "ticks": ""
             }
            },
            "type": "scattergl"
           }
          ],
          "scattermapbox": [
           {
            "marker": {
             "colorbar": {
              "outlinewidth": 0,
              "ticks": ""
             }
            },
            "type": "scattermapbox"
           }
          ],
          "scatterpolar": [
           {
            "marker": {
             "colorbar": {
              "outlinewidth": 0,
              "ticks": ""
             }
            },
            "type": "scatterpolar"
           }
          ],
          "scatterpolargl": [
           {
            "marker": {
             "colorbar": {
              "outlinewidth": 0,
              "ticks": ""
             }
            },
            "type": "scatterpolargl"
           }
          ],
          "scatterternary": [
           {
            "marker": {
             "colorbar": {
              "outlinewidth": 0,
              "ticks": ""
             }
            },
            "type": "scatterternary"
           }
          ],
          "surface": [
           {
            "colorbar": {
             "outlinewidth": 0,
             "ticks": ""
            },
            "colorscale": [
             [
              0,
              "#0d0887"
             ],
             [
              0.1111111111111111,
              "#46039f"
             ],
             [
              0.2222222222222222,
              "#7201a8"
             ],
             [
              0.3333333333333333,
              "#9c179e"
             ],
             [
              0.4444444444444444,
              "#bd3786"
             ],
             [
              0.5555555555555556,
              "#d8576b"
             ],
             [
              0.6666666666666666,
              "#ed7953"
             ],
             [
              0.7777777777777778,
              "#fb9f3a"
             ],
             [
              0.8888888888888888,
              "#fdca26"
             ],
             [
              1,
              "#f0f921"
             ]
            ],
            "type": "surface"
           }
          ],
          "table": [
           {
            "cells": {
             "fill": {
              "color": "#EBF0F8"
             },
             "line": {
              "color": "white"
             }
            },
            "header": {
             "fill": {
              "color": "#C8D4E3"
             },
             "line": {
              "color": "white"
             }
            },
            "type": "table"
           }
          ]
         },
         "layout": {
          "annotationdefaults": {
           "arrowcolor": "#2a3f5f",
           "arrowhead": 0,
           "arrowwidth": 1
          },
          "autotypenumbers": "strict",
          "coloraxis": {
           "colorbar": {
            "outlinewidth": 0,
            "ticks": ""
           }
          },
          "colorscale": {
           "diverging": [
            [
             0,
             "#8e0152"
            ],
            [
             0.1,
             "#c51b7d"
            ],
            [
             0.2,
             "#de77ae"
            ],
            [
             0.3,
             "#f1b6da"
            ],
            [
             0.4,
             "#fde0ef"
            ],
            [
             0.5,
             "#f7f7f7"
            ],
            [
             0.6,
             "#e6f5d0"
            ],
            [
             0.7,
             "#b8e186"
            ],
            [
             0.8,
             "#7fbc41"
            ],
            [
             0.9,
             "#4d9221"
            ],
            [
             1,
             "#276419"
            ]
           ],
           "sequential": [
            [
             0,
             "#0d0887"
            ],
            [
             0.1111111111111111,
             "#46039f"
            ],
            [
             0.2222222222222222,
             "#7201a8"
            ],
            [
             0.3333333333333333,
             "#9c179e"
            ],
            [
             0.4444444444444444,
             "#bd3786"
            ],
            [
             0.5555555555555556,
             "#d8576b"
            ],
            [
             0.6666666666666666,
             "#ed7953"
            ],
            [
             0.7777777777777778,
             "#fb9f3a"
            ],
            [
             0.8888888888888888,
             "#fdca26"
            ],
            [
             1,
             "#f0f921"
            ]
           ],
           "sequentialminus": [
            [
             0,
             "#0d0887"
            ],
            [
             0.1111111111111111,
             "#46039f"
            ],
            [
             0.2222222222222222,
             "#7201a8"
            ],
            [
             0.3333333333333333,
             "#9c179e"
            ],
            [
             0.4444444444444444,
             "#bd3786"
            ],
            [
             0.5555555555555556,
             "#d8576b"
            ],
            [
             0.6666666666666666,
             "#ed7953"
            ],
            [
             0.7777777777777778,
             "#fb9f3a"
            ],
            [
             0.8888888888888888,
             "#fdca26"
            ],
            [
             1,
             "#f0f921"
            ]
           ]
          },
          "colorway": [
           "#636efa",
           "#EF553B",
           "#00cc96",
           "#ab63fa",
           "#FFA15A",
           "#19d3f3",
           "#FF6692",
           "#B6E880",
           "#FF97FF",
           "#FECB52"
          ],
          "font": {
           "color": "#2a3f5f"
          },
          "geo": {
           "bgcolor": "white",
           "lakecolor": "white",
           "landcolor": "#E5ECF6",
           "showlakes": true,
           "showland": true,
           "subunitcolor": "white"
          },
          "hoverlabel": {
           "align": "left"
          },
          "hovermode": "closest",
          "mapbox": {
           "style": "light"
          },
          "paper_bgcolor": "white",
          "plot_bgcolor": "#E5ECF6",
          "polar": {
           "angularaxis": {
            "gridcolor": "white",
            "linecolor": "white",
            "ticks": ""
           },
           "bgcolor": "#E5ECF6",
           "radialaxis": {
            "gridcolor": "white",
            "linecolor": "white",
            "ticks": ""
           }
          },
          "scene": {
           "xaxis": {
            "backgroundcolor": "#E5ECF6",
            "gridcolor": "white",
            "gridwidth": 2,
            "linecolor": "white",
            "showbackground": true,
            "ticks": "",
            "zerolinecolor": "white"
           },
           "yaxis": {
            "backgroundcolor": "#E5ECF6",
            "gridcolor": "white",
            "gridwidth": 2,
            "linecolor": "white",
            "showbackground": true,
            "ticks": "",
            "zerolinecolor": "white"
           },
           "zaxis": {
            "backgroundcolor": "#E5ECF6",
            "gridcolor": "white",
            "gridwidth": 2,
            "linecolor": "white",
            "showbackground": true,
            "ticks": "",
            "zerolinecolor": "white"
           }
          },
          "shapedefaults": {
           "line": {
            "color": "#2a3f5f"
           }
          },
          "ternary": {
           "aaxis": {
            "gridcolor": "white",
            "linecolor": "white",
            "ticks": ""
           },
           "baxis": {
            "gridcolor": "white",
            "linecolor": "white",
            "ticks": ""
           },
           "bgcolor": "#E5ECF6",
           "caxis": {
            "gridcolor": "white",
            "linecolor": "white",
            "ticks": ""
           }
          },
          "title": {
           "x": 0.05
          },
          "xaxis": {
           "automargin": true,
           "gridcolor": "white",
           "linecolor": "white",
           "ticks": "",
           "title": {
            "standoff": 15
           },
           "zerolinecolor": "white",
           "zerolinewidth": 2
          },
          "yaxis": {
           "automargin": true,
           "gridcolor": "white",
           "linecolor": "white",
           "ticks": "",
           "title": {
            "standoff": 15
           },
           "zerolinecolor": "white",
           "zerolinewidth": 2
          }
         }
        },
        "title": {
         "text": "Degree Rank Plot"
        },
        "xaxis": {
         "title": {
          "text": "Rank"
         }
        },
        "yaxis": {
         "title": {
          "text": "Degree"
         }
        }
       }
      }
     },
     "metadata": {},
     "output_type": "display_data"
    },
    {
     "data": {
      "application/vnd.plotly.v1+json": {
       "config": {
        "plotlyServerURL": "https://plot.ly"
       },
       "data": [
        {
         "name": "Degree Histogram",
         "type": "bar",
         "x": [
          0,
          1,
          2,
          3,
          4,
          5,
          6
         ],
         "y": [
          16,
          22,
          34,
          10,
          13,
          4,
          1
         ]
        }
       ],
       "layout": {
        "template": {
         "data": {
          "bar": [
           {
            "error_x": {
             "color": "#2a3f5f"
            },
            "error_y": {
             "color": "#2a3f5f"
            },
            "marker": {
             "line": {
              "color": "#E5ECF6",
              "width": 0.5
             },
             "pattern": {
              "fillmode": "overlay",
              "size": 10,
              "solidity": 0.2
             }
            },
            "type": "bar"
           }
          ],
          "barpolar": [
           {
            "marker": {
             "line": {
              "color": "#E5ECF6",
              "width": 0.5
             },
             "pattern": {
              "fillmode": "overlay",
              "size": 10,
              "solidity": 0.2
             }
            },
            "type": "barpolar"
           }
          ],
          "carpet": [
           {
            "aaxis": {
             "endlinecolor": "#2a3f5f",
             "gridcolor": "white",
             "linecolor": "white",
             "minorgridcolor": "white",
             "startlinecolor": "#2a3f5f"
            },
            "baxis": {
             "endlinecolor": "#2a3f5f",
             "gridcolor": "white",
             "linecolor": "white",
             "minorgridcolor": "white",
             "startlinecolor": "#2a3f5f"
            },
            "type": "carpet"
           }
          ],
          "choropleth": [
           {
            "colorbar": {
             "outlinewidth": 0,
             "ticks": ""
            },
            "type": "choropleth"
           }
          ],
          "contour": [
           {
            "colorbar": {
             "outlinewidth": 0,
             "ticks": ""
            },
            "colorscale": [
             [
              0,
              "#0d0887"
             ],
             [
              0.1111111111111111,
              "#46039f"
             ],
             [
              0.2222222222222222,
              "#7201a8"
             ],
             [
              0.3333333333333333,
              "#9c179e"
             ],
             [
              0.4444444444444444,
              "#bd3786"
             ],
             [
              0.5555555555555556,
              "#d8576b"
             ],
             [
              0.6666666666666666,
              "#ed7953"
             ],
             [
              0.7777777777777778,
              "#fb9f3a"
             ],
             [
              0.8888888888888888,
              "#fdca26"
             ],
             [
              1,
              "#f0f921"
             ]
            ],
            "type": "contour"
           }
          ],
          "contourcarpet": [
           {
            "colorbar": {
             "outlinewidth": 0,
             "ticks": ""
            },
            "type": "contourcarpet"
           }
          ],
          "heatmap": [
           {
            "colorbar": {
             "outlinewidth": 0,
             "ticks": ""
            },
            "colorscale": [
             [
              0,
              "#0d0887"
             ],
             [
              0.1111111111111111,
              "#46039f"
             ],
             [
              0.2222222222222222,
              "#7201a8"
             ],
             [
              0.3333333333333333,
              "#9c179e"
             ],
             [
              0.4444444444444444,
              "#bd3786"
             ],
             [
              0.5555555555555556,
              "#d8576b"
             ],
             [
              0.6666666666666666,
              "#ed7953"
             ],
             [
              0.7777777777777778,
              "#fb9f3a"
             ],
             [
              0.8888888888888888,
              "#fdca26"
             ],
             [
              1,
              "#f0f921"
             ]
            ],
            "type": "heatmap"
           }
          ],
          "heatmapgl": [
           {
            "colorbar": {
             "outlinewidth": 0,
             "ticks": ""
            },
            "colorscale": [
             [
              0,
              "#0d0887"
             ],
             [
              0.1111111111111111,
              "#46039f"
             ],
             [
              0.2222222222222222,
              "#7201a8"
             ],
             [
              0.3333333333333333,
              "#9c179e"
             ],
             [
              0.4444444444444444,
              "#bd3786"
             ],
             [
              0.5555555555555556,
              "#d8576b"
             ],
             [
              0.6666666666666666,
              "#ed7953"
             ],
             [
              0.7777777777777778,
              "#fb9f3a"
             ],
             [
              0.8888888888888888,
              "#fdca26"
             ],
             [
              1,
              "#f0f921"
             ]
            ],
            "type": "heatmapgl"
           }
          ],
          "histogram": [
           {
            "marker": {
             "pattern": {
              "fillmode": "overlay",
              "size": 10,
              "solidity": 0.2
             }
            },
            "type": "histogram"
           }
          ],
          "histogram2d": [
           {
            "colorbar": {
             "outlinewidth": 0,
             "ticks": ""
            },
            "colorscale": [
             [
              0,
              "#0d0887"
             ],
             [
              0.1111111111111111,
              "#46039f"
             ],
             [
              0.2222222222222222,
              "#7201a8"
             ],
             [
              0.3333333333333333,
              "#9c179e"
             ],
             [
              0.4444444444444444,
              "#bd3786"
             ],
             [
              0.5555555555555556,
              "#d8576b"
             ],
             [
              0.6666666666666666,
              "#ed7953"
             ],
             [
              0.7777777777777778,
              "#fb9f3a"
             ],
             [
              0.8888888888888888,
              "#fdca26"
             ],
             [
              1,
              "#f0f921"
             ]
            ],
            "type": "histogram2d"
           }
          ],
          "histogram2dcontour": [
           {
            "colorbar": {
             "outlinewidth": 0,
             "ticks": ""
            },
            "colorscale": [
             [
              0,
              "#0d0887"
             ],
             [
              0.1111111111111111,
              "#46039f"
             ],
             [
              0.2222222222222222,
              "#7201a8"
             ],
             [
              0.3333333333333333,
              "#9c179e"
             ],
             [
              0.4444444444444444,
              "#bd3786"
             ],
             [
              0.5555555555555556,
              "#d8576b"
             ],
             [
              0.6666666666666666,
              "#ed7953"
             ],
             [
              0.7777777777777778,
              "#fb9f3a"
             ],
             [
              0.8888888888888888,
              "#fdca26"
             ],
             [
              1,
              "#f0f921"
             ]
            ],
            "type": "histogram2dcontour"
           }
          ],
          "mesh3d": [
           {
            "colorbar": {
             "outlinewidth": 0,
             "ticks": ""
            },
            "type": "mesh3d"
           }
          ],
          "parcoords": [
           {
            "line": {
             "colorbar": {
              "outlinewidth": 0,
              "ticks": ""
             }
            },
            "type": "parcoords"
           }
          ],
          "pie": [
           {
            "automargin": true,
            "type": "pie"
           }
          ],
          "scatter": [
           {
            "fillpattern": {
             "fillmode": "overlay",
             "size": 10,
             "solidity": 0.2
            },
            "type": "scatter"
           }
          ],
          "scatter3d": [
           {
            "line": {
             "colorbar": {
              "outlinewidth": 0,
              "ticks": ""
             }
            },
            "marker": {
             "colorbar": {
              "outlinewidth": 0,
              "ticks": ""
             }
            },
            "type": "scatter3d"
           }
          ],
          "scattercarpet": [
           {
            "marker": {
             "colorbar": {
              "outlinewidth": 0,
              "ticks": ""
             }
            },
            "type": "scattercarpet"
           }
          ],
          "scattergeo": [
           {
            "marker": {
             "colorbar": {
              "outlinewidth": 0,
              "ticks": ""
             }
            },
            "type": "scattergeo"
           }
          ],
          "scattergl": [
           {
            "marker": {
             "colorbar": {
              "outlinewidth": 0,
              "ticks": ""
             }
            },
            "type": "scattergl"
           }
          ],
          "scattermapbox": [
           {
            "marker": {
             "colorbar": {
              "outlinewidth": 0,
              "ticks": ""
             }
            },
            "type": "scattermapbox"
           }
          ],
          "scatterpolar": [
           {
            "marker": {
             "colorbar": {
              "outlinewidth": 0,
              "ticks": ""
             }
            },
            "type": "scatterpolar"
           }
          ],
          "scatterpolargl": [
           {
            "marker": {
             "colorbar": {
              "outlinewidth": 0,
              "ticks": ""
             }
            },
            "type": "scatterpolargl"
           }
          ],
          "scatterternary": [
           {
            "marker": {
             "colorbar": {
              "outlinewidth": 0,
              "ticks": ""
             }
            },
            "type": "scatterternary"
           }
          ],
          "surface": [
           {
            "colorbar": {
             "outlinewidth": 0,
             "ticks": ""
            },
            "colorscale": [
             [
              0,
              "#0d0887"
             ],
             [
              0.1111111111111111,
              "#46039f"
             ],
             [
              0.2222222222222222,
              "#7201a8"
             ],
             [
              0.3333333333333333,
              "#9c179e"
             ],
             [
              0.4444444444444444,
              "#bd3786"
             ],
             [
              0.5555555555555556,
              "#d8576b"
             ],
             [
              0.6666666666666666,
              "#ed7953"
             ],
             [
              0.7777777777777778,
              "#fb9f3a"
             ],
             [
              0.8888888888888888,
              "#fdca26"
             ],
             [
              1,
              "#f0f921"
             ]
            ],
            "type": "surface"
           }
          ],
          "table": [
           {
            "cells": {
             "fill": {
              "color": "#EBF0F8"
             },
             "line": {
              "color": "white"
             }
            },
            "header": {
             "fill": {
              "color": "#C8D4E3"
             },
             "line": {
              "color": "white"
             }
            },
            "type": "table"
           }
          ]
         },
         "layout": {
          "annotationdefaults": {
           "arrowcolor": "#2a3f5f",
           "arrowhead": 0,
           "arrowwidth": 1
          },
          "autotypenumbers": "strict",
          "coloraxis": {
           "colorbar": {
            "outlinewidth": 0,
            "ticks": ""
           }
          },
          "colorscale": {
           "diverging": [
            [
             0,
             "#8e0152"
            ],
            [
             0.1,
             "#c51b7d"
            ],
            [
             0.2,
             "#de77ae"
            ],
            [
             0.3,
             "#f1b6da"
            ],
            [
             0.4,
             "#fde0ef"
            ],
            [
             0.5,
             "#f7f7f7"
            ],
            [
             0.6,
             "#e6f5d0"
            ],
            [
             0.7,
             "#b8e186"
            ],
            [
             0.8,
             "#7fbc41"
            ],
            [
             0.9,
             "#4d9221"
            ],
            [
             1,
             "#276419"
            ]
           ],
           "sequential": [
            [
             0,
             "#0d0887"
            ],
            [
             0.1111111111111111,
             "#46039f"
            ],
            [
             0.2222222222222222,
             "#7201a8"
            ],
            [
             0.3333333333333333,
             "#9c179e"
            ],
            [
             0.4444444444444444,
             "#bd3786"
            ],
            [
             0.5555555555555556,
             "#d8576b"
            ],
            [
             0.6666666666666666,
             "#ed7953"
            ],
            [
             0.7777777777777778,
             "#fb9f3a"
            ],
            [
             0.8888888888888888,
             "#fdca26"
            ],
            [
             1,
             "#f0f921"
            ]
           ],
           "sequentialminus": [
            [
             0,
             "#0d0887"
            ],
            [
             0.1111111111111111,
             "#46039f"
            ],
            [
             0.2222222222222222,
             "#7201a8"
            ],
            [
             0.3333333333333333,
             "#9c179e"
            ],
            [
             0.4444444444444444,
             "#bd3786"
            ],
            [
             0.5555555555555556,
             "#d8576b"
            ],
            [
             0.6666666666666666,
             "#ed7953"
            ],
            [
             0.7777777777777778,
             "#fb9f3a"
            ],
            [
             0.8888888888888888,
             "#fdca26"
            ],
            [
             1,
             "#f0f921"
            ]
           ]
          },
          "colorway": [
           "#636efa",
           "#EF553B",
           "#00cc96",
           "#ab63fa",
           "#FFA15A",
           "#19d3f3",
           "#FF6692",
           "#B6E880",
           "#FF97FF",
           "#FECB52"
          ],
          "font": {
           "color": "#2a3f5f"
          },
          "geo": {
           "bgcolor": "white",
           "lakecolor": "white",
           "landcolor": "#E5ECF6",
           "showlakes": true,
           "showland": true,
           "subunitcolor": "white"
          },
          "hoverlabel": {
           "align": "left"
          },
          "hovermode": "closest",
          "mapbox": {
           "style": "light"
          },
          "paper_bgcolor": "white",
          "plot_bgcolor": "#E5ECF6",
          "polar": {
           "angularaxis": {
            "gridcolor": "white",
            "linecolor": "white",
            "ticks": ""
           },
           "bgcolor": "#E5ECF6",
           "radialaxis": {
            "gridcolor": "white",
            "linecolor": "white",
            "ticks": ""
           }
          },
          "scene": {
           "xaxis": {
            "backgroundcolor": "#E5ECF6",
            "gridcolor": "white",
            "gridwidth": 2,
            "linecolor": "white",
            "showbackground": true,
            "ticks": "",
            "zerolinecolor": "white"
           },
           "yaxis": {
            "backgroundcolor": "#E5ECF6",
            "gridcolor": "white",
            "gridwidth": 2,
            "linecolor": "white",
            "showbackground": true,
            "ticks": "",
            "zerolinecolor": "white"
           },
           "zaxis": {
            "backgroundcolor": "#E5ECF6",
            "gridcolor": "white",
            "gridwidth": 2,
            "linecolor": "white",
            "showbackground": true,
            "ticks": "",
            "zerolinecolor": "white"
           }
          },
          "shapedefaults": {
           "line": {
            "color": "#2a3f5f"
           }
          },
          "ternary": {
           "aaxis": {
            "gridcolor": "white",
            "linecolor": "white",
            "ticks": ""
           },
           "baxis": {
            "gridcolor": "white",
            "linecolor": "white",
            "ticks": ""
           },
           "bgcolor": "#E5ECF6",
           "caxis": {
            "gridcolor": "white",
            "linecolor": "white",
            "ticks": ""
           }
          },
          "title": {
           "x": 0.05
          },
          "xaxis": {
           "automargin": true,
           "gridcolor": "white",
           "linecolor": "white",
           "ticks": "",
           "title": {
            "standoff": 15
           },
           "zerolinecolor": "white",
           "zerolinewidth": 2
          },
          "yaxis": {
           "automargin": true,
           "gridcolor": "white",
           "linecolor": "white",
           "ticks": "",
           "title": {
            "standoff": 15
           },
           "zerolinecolor": "white",
           "zerolinewidth": 2
          }
         }
        },
        "title": {
         "text": "Degree Histogram"
        },
        "xaxis": {
         "title": {
          "text": "Degree"
         }
        },
        "yaxis": {
         "title": {
          "text": "# of Nodes"
         }
        }
       }
      }
     },
     "metadata": {},
     "output_type": "display_data"
    }
   ],
   "source": [
    "import networkx as nx\n",
    "import numpy as np\n",
    "import plotly.graph_objects as go\n",
    "\n",
    "# Generate the random graph\n",
    "G = nx.gnp_random_graph(100, 0.02, seed=10374196)\n",
    "\n",
    "# Degree sequence\n",
    "degree_sequence = sorted((d for n, d in G.degree()), reverse=True)\n",
    "dmax = max(degree_sequence)\n",
    "\n",
    "# Create the connected component\n",
    "Gcc = G.subgraph(sorted(nx.connected_components(G), key=len, reverse=True)[0])\n",
    "pos = nx.spring_layout(Gcc, seed=10396953)\n",
    "\n",
    "# Create a scatter plot for the connected component\n",
    "edge_x = []\n",
    "edge_y = []\n",
    "for edge in Gcc.edges():\n",
    "    x0, y0 = pos[edge[0]]\n",
    "    x1, y1 = pos[edge[1]]\n",
    "    edge_x.append(x0)\n",
    "    edge_x.append(x1)\n",
    "    edge_x.append(None)  # break the line\n",
    "    edge_y.append(y0)\n",
    "    edge_y.append(y1)\n",
    "    edge_y.append(None)  # break the line\n",
    "\n",
    "node_x = [pos[node][0] for node in Gcc.nodes()]\n",
    "node_y = [pos[node][1] for node in Gcc.nodes()]\n",
    "\n",
    "# Create the plot\n",
    "fig = go.Figure()\n",
    "\n",
    "# Add edges\n",
    "fig.add_trace(go.Scatter(x=edge_x, y=edge_y, mode='lines', line=dict(width=0.4, color='black'), hoverinfo='none'))\n",
    "\n",
    "# Add nodes\n",
    "fig.add_trace(go.Scatter(x=node_x, y=node_y, mode='markers', marker=dict(size=6, color='blue'), name='Nodes'))\n",
    "\n",
    "# Update layout for the first subplot\n",
    "fig.update_layout(title=\"Connected components of G\", showlegend=False)\n",
    "\n",
    "# Create degree rank plot\n",
    "rank_plot = go.Figure()\n",
    "rank_plot.add_trace(go.Scatter(x=list(range(1, len(degree_sequence) + 1)), y=degree_sequence, mode='markers+lines', name='Degree Rank'))\n",
    "rank_plot.update_layout(title=\"Degree Rank Plot\", xaxis_title=\"Rank\", yaxis_title=\"Degree\")\n",
    "\n",
    "# Create degree histogram\n",
    "degree_counts = np.unique(degree_sequence, return_counts=True)\n",
    "histogram_plot = go.Figure()\n",
    "histogram_plot.add_trace(go.Bar(x=degree_counts[0], y=degree_counts[1], name='Degree Histogram'))\n",
    "histogram_plot.update_layout(title=\"Degree Histogram\", xaxis_title=\"Degree\", yaxis_title=\"# of Nodes\")\n",
    "\n",
    "# Show the figures\n",
    "fig.show()\n",
    "rank_plot.show()\n",
    "histogram_plot.show()\n"
   ]
  },
  {
   "cell_type": "code",
   "execution_count": 60,
   "metadata": {},
   "outputs": [
    {
     "data": {
      "application/vnd.plotly.v1+json": {
       "config": {
        "plotlyServerURL": "https://plot.ly"
       },
       "data": [
        {
         "hoverinfo": "none",
         "line": {
          "color": "black",
          "width": 0.4
         },
         "mode": "lines",
         "type": "scatter",
         "x": [
          0.01631791596613913,
          -0.07493622758204488,
          null,
          0.01631791596613913,
          0.08181263407863093,
          null,
          0.23365312119243942,
          0.3988242407453034,
          null,
          0.23365312119243942,
          -0.015282380255600568,
          null,
          0.23365312119243942,
          0.1364868359349738,
          null,
          0.23365312119243942,
          0.44215095608351745,
          null,
          0.014249876490258204,
          -0.08769189780819607,
          null,
          0.014249876490258204,
          -0.16587419631499437,
          null,
          0.014249876490258204,
          0.22923504345083737,
          null,
          0.014249876490258204,
          -0.02867290999131026,
          null,
          -0.2640844271240592,
          -0.15529892651456323,
          null,
          -0.2640844271240592,
          -0.39403978016114644,
          null,
          -0.2640844271240592,
          -0.5042090980647501,
          null,
          -0.2640844271240592,
          -0.07493622758204488,
          null,
          -0.2134652004866248,
          -0.1294881074028289,
          null,
          -0.2134652004866248,
          -0.2591547580526974,
          null,
          -0.1294881074028289,
          -0.34283542459870975,
          null,
          -0.1294881074028289,
          0.0915904525141081,
          null,
          -0.1294881074028289,
          0.0022286787208375125,
          null,
          -0.17762299009585258,
          -0.28093998068856874,
          null,
          -0.17762299009585258,
          -0.02902764957514033,
          null,
          -0.17762299009585258,
          -0.20323312339953706,
          null,
          -0.17762299009585258,
          -0.174244432915062,
          null,
          -0.08769189780819607,
          -0.15529892651456323,
          null,
          -0.024679531931558505,
          -0.020098048415457676,
          null,
          0.6504618744561818,
          0.8012581493823169,
          null,
          0.6504618744561818,
          0.7078972370029385,
          null,
          0.6504618744561818,
          0.44215095608351745,
          null,
          -0.6788056178266789,
          -0.7199655714426095,
          null,
          -0.7194207482701973,
          -0.7199655714426095,
          null,
          -0.7194207482701973,
          -0.6505600351120971,
          null,
          0.5042088870036725,
          0.4658007012815392,
          null,
          0.5042088870036725,
          0.3988242407453034,
          null,
          0.5042088870036725,
          0.7078972370029385,
          null,
          0.5042088870036725,
          0.3256131873908948,
          null,
          0.5042088870036725,
          0.5732041256798778,
          null,
          0.5042088870036725,
          0.5493776070917918,
          null,
          -0.16587419631499437,
          -0.2591547580526974,
          null,
          -0.15529892651456323,
          -0.02867290999131026,
          null,
          -0.009749621332289935,
          -0.14007074394428445,
          null,
          -0.009749621332289935,
          -0.020098048415457676,
          null,
          -0.009749621332289935,
          0.18413563638846797,
          null,
          -0.9448425192399044,
          -0.8392651999525556,
          null,
          0.168719747048732,
          0.0915904525141081,
          null,
          0.46982381743178847,
          0.3448569136906196,
          null,
          -0.2511376766722229,
          -0.174244432915062,
          null,
          -0.28093998068856874,
          -0.36369625482209955,
          null,
          -0.28093998068856874,
          -0.174244432915062,
          null,
          0.4658007012815392,
          0.3540776043889471,
          null,
          -0.36369625482209955,
          -0.385672331297996,
          null,
          -0.28615570099306786,
          -0.14007074394428445,
          null,
          -0.28615570099306786,
          -0.385672331297996,
          null,
          0.22510775543961617,
          0.21511118057395484,
          null,
          0.3988242407453034,
          0.3448569136906196,
          null,
          0.3988242407453034,
          0.4824387509326082,
          null,
          -0.34283542459870975,
          -0.5064653238678197,
          null,
          0.32527635386187953,
          0.21511118057395484,
          null,
          0.32527635386187953,
          0.4063979806186318,
          null,
          0.20113450775449945,
          0.08181263407863093,
          null,
          0.0915904525141081,
          0.10882174467632126,
          null,
          0.0915904525141081,
          -0.03660809824602768,
          null,
          0.0915904525141081,
          0.3448569136906196,
          null,
          -0.5042090980647501,
          -0.2591547580526974,
          null,
          -0.5042090980647501,
          -0.6929495911377829,
          null,
          -0.5042090980647501,
          -0.6501674769342953,
          null,
          -0.5042090980647501,
          -0.6505600351120971,
          null,
          -0.5233361715843187,
          -0.385672331297996,
          null,
          0.21511118057395484,
          0.1364868359349738,
          null,
          0.21511118057395484,
          0.14946282606590633,
          null,
          -0.3808795838128458,
          -0.2591547580526974,
          null,
          0.8012581493823169,
          0.8527805377663593,
          null,
          0.7078972370029385,
          0.8527805377663593,
          null,
          0.5896140883081312,
          0.4352905430236288,
          null,
          -0.13161368352976716,
          -0.174244432915062,
          null,
          -0.13161368352976716,
          -0.07493622758204488,
          null,
          0.10882174467632126,
          0.08181263407863093,
          null,
          -0.14007074394428445,
          -0.02867290999131026,
          null,
          0.22923504345083737,
          0.4352905430236288,
          null,
          0.3256131873908948,
          0.09746482906447196,
          null,
          0.3256131873908948,
          0.44215095608351745,
          null,
          0.4966294616781061,
          0.3448569136906196,
          null,
          0.0022286787208375125,
          0.1364868359349738,
          null,
          -0.015282380255600568,
          -0.2591547580526974,
          null,
          -0.02902764957514033,
          0.08181263407863093,
          null,
          0.3540776043889471,
          0.18413563638846797,
          null,
          0.09746482906447196,
          -0.09961267588694789,
          null,
          0.09746482906447196,
          0.14946282606590633,
          null,
          0.09746482906447196,
          -0.02867290999131026,
          null,
          -0.174244432915062,
          -0.03660809824602768,
          null,
          -0.09961267588694789,
          -0.24777236940823047,
          null,
          0.44215095608351745,
          0.5493776070917918,
          null,
          0.3310032434272722,
          0.4824387509326082,
          null,
          0.3310032434272722,
          0.14110704008653424,
          null,
          0.5732041256798778,
          0.4824387509326082,
          null,
          -0.6929495911377829,
          -0.8392651999525556,
          null,
          0.14110704008653424,
          -0.07493622758204488,
          null
         ],
         "xaxis": "x",
         "y": [
          -0.4093646241970567,
          -0.1918984311313646,
          null,
          -0.4093646241970567,
          -0.6233401410160028,
          null,
          0.08492471749577629,
          0.004369113573507133,
          null,
          0.08492471749577629,
          0.14952195232796767,
          null,
          0.08492471749577629,
          -0.07539943027161018,
          null,
          0.08492471749577629,
          0.18396854094103893,
          null,
          0.4996084895482287,
          0.44762449432437895,
          null,
          0.4996084895482287,
          0.38889363524141785,
          null,
          0.4996084895482287,
          0.6057523158731585,
          null,
          0.4996084895482287,
          0.3744017631757345,
          null,
          0.05684424085785803,
          0.27536260225573567,
          null,
          0.05684424085785803,
          0.07949265550975133,
          null,
          0.05684424085785803,
          0.12454126213632766,
          null,
          0.05684424085785803,
          -0.1918984311313646,
          null,
          -0.013569487597033615,
          -0.2169939947336256,
          null,
          -0.013569487597033615,
          0.19614794402786814,
          null,
          -0.2169939947336256,
          -0.25167876760050906,
          null,
          -0.2169939947336256,
          -0.36843913953338253,
          null,
          -0.2169939947336256,
          -0.15380653879952486,
          null,
          -0.7191859507977663,
          -0.5582879144838304,
          null,
          -0.7191859507977663,
          -0.7436403688255828,
          null,
          -0.7191859507977663,
          -0.8743308860805167,
          null,
          -0.7191859507977663,
          -0.587683214257415,
          null,
          0.44762449432437895,
          0.27536260225573567,
          null,
          1,
          0.860138156881131,
          null,
          0.19280151133813314,
          0.19393130503952707,
          null,
          0.19280151133813314,
          0.21697815231525996,
          null,
          0.19280151133813314,
          0.18396854094103893,
          null,
          -0.6568450195236223,
          -0.5005447640607016,
          null,
          -0.29771898219918225,
          -0.5005447640607016,
          null,
          -0.29771898219918225,
          -0.07929575154939753,
          null,
          0.21370286045034595,
          0.4318365666397679,
          null,
          0.21370286045034595,
          0.004369113573507133,
          null,
          0.21370286045034595,
          0.21697815231525996,
          null,
          0.21370286045034595,
          0.24382287316920476,
          null,
          0.21370286045034595,
          0.10168130995815376,
          null,
          0.21370286045034595,
          0.2620799419844749,
          null,
          0.38889363524141785,
          0.19614794402786814,
          null,
          0.27536260225573567,
          0.3744017631757345,
          null,
          0.6638587715624741,
          0.42903895687274257,
          null,
          0.6638587715624741,
          0.860138156881131,
          null,
          0.6638587715624741,
          0.6857154070491349,
          null,
          0.5068432305754649,
          0.41180850631257754,
          null,
          -0.4814985194739483,
          -0.36843913953338253,
          null,
          -0.34535940205968624,
          -0.24549150975153555,
          null,
          -0.7181315920831601,
          -0.587683214257415,
          null,
          -0.5582879144838304,
          -0.3433239796556034,
          null,
          -0.5582879144838304,
          -0.587683214257415,
          null,
          0.4318365666397679,
          0.5967915487835034,
          null,
          -0.3433239796556034,
          -0.09059068795720061,
          null,
          0.1731833293310665,
          0.42903895687274257,
          null,
          0.1731833293310665,
          -0.09059068795720061,
          null,
          -0.31556105139213997,
          -0.19059251252185272,
          null,
          0.004369113573507133,
          -0.24549150975153555,
          null,
          0.004369113573507133,
          0.005079456025876389,
          null,
          -0.25167876760050906,
          -0.2764960946870937,
          null,
          -0.3796288406853032,
          -0.19059251252185272,
          null,
          -0.3796288406853032,
          -0.5191727603163385,
          null,
          -0.7318337044307363,
          -0.6233401410160028,
          null,
          -0.36843913953338253,
          -0.5346758516751091,
          null,
          -0.36843913953338253,
          -0.5149489900392352,
          null,
          -0.36843913953338253,
          -0.24549150975153555,
          null,
          0.12454126213632766,
          0.19614794402786814,
          null,
          0.12454126213632766,
          0.2807683610355324,
          null,
          0.12454126213632766,
          0.15905767542149873,
          null,
          0.12454126213632766,
          -0.07929575154939753,
          null,
          -0.12221163199079986,
          -0.09059068795720061,
          null,
          -0.19059251252185272,
          -0.07539943027161018,
          null,
          -0.19059251252185272,
          0.03426191695885485,
          null,
          0.29548891592942716,
          0.19614794402786814,
          null,
          0.19393130503952707,
          0.180180163942182,
          null,
          0.21697815231525996,
          0.180180163942182,
          null,
          0.6510311313160925,
          0.6501348624963684,
          null,
          -0.3935482169951936,
          -0.587683214257415,
          null,
          -0.3935482169951936,
          -0.1918984311313646,
          null,
          -0.5346758516751091,
          -0.6233401410160028,
          null,
          0.42903895687274257,
          0.3744017631757345,
          null,
          0.6057523158731585,
          0.6501348624963684,
          null,
          0.24382287316920476,
          0.25570799195211097,
          null,
          0.24382287316920476,
          0.18396854094103893,
          null,
          -0.28879233647199354,
          -0.24549150975153555,
          null,
          -0.15380653879952486,
          -0.07539943027161018,
          null,
          0.14952195232796767,
          0.19614794402786814,
          null,
          -0.7436403688255828,
          -0.6233401410160028,
          null,
          0.5967915487835034,
          0.6857154070491349,
          null,
          0.25570799195211097,
          0.3624324305444794,
          null,
          0.25570799195211097,
          0.03426191695885485,
          null,
          0.25570799195211097,
          0.3744017631757345,
          null,
          -0.587683214257415,
          -0.5149489900392352,
          null,
          0.3624324305444794,
          0.4706914646434717,
          null,
          0.18396854094103893,
          0.2620799419844749,
          null,
          -0.06142193415727304,
          0.005079456025876389,
          null,
          -0.06142193415727304,
          -0.1251975028152772,
          null,
          0.10168130995815376,
          0.005079456025876389,
          null,
          0.2807683610355324,
          0.41180850631257754,
          null,
          -0.1251975028152772,
          -0.1918984311313646,
          null
         ],
         "yaxis": "y"
        },
        {
         "marker": {
          "color": "blue",
          "size": 6
         },
         "mode": "markers",
         "name": "Nodes",
         "type": "scatter",
         "x": [
          0.01631791596613913,
          0.23365312119243942,
          0.014249876490258204,
          -0.2640844271240592,
          -0.2134652004866248,
          -0.1294881074028289,
          -0.17762299009585258,
          -0.08769189780819607,
          -0.024679531931558505,
          0.6504618744561818,
          -0.6788056178266789,
          -0.7194207482701973,
          0.5042088870036725,
          -0.16587419631499437,
          -0.15529892651456323,
          -0.009749621332289935,
          -0.9448425192399044,
          0.168719747048732,
          0.46982381743178847,
          -0.2511376766722229,
          -0.28093998068856874,
          0.4658007012815392,
          -0.36369625482209955,
          -0.28615570099306786,
          -0.39403978016114644,
          0.22510775543961617,
          0.3988242407453034,
          -0.34283542459870975,
          0.32527635386187953,
          0.20113450775449945,
          0.0915904525141081,
          -0.5042090980647501,
          -0.5233361715843187,
          0.21511118057395484,
          -0.3808795838128458,
          0.8012581493823169,
          0.7078972370029385,
          0.5896140883081312,
          -0.13161368352976716,
          0.10882174467632126,
          -0.14007074394428445,
          0.22923504345083737,
          0.3256131873908948,
          -0.385672331297996,
          0.4966294616781061,
          0.0022286787208375125,
          -0.015282380255600568,
          -0.02902764957514033,
          -0.20323312339953706,
          -0.5064653238678197,
          0.3540776043889471,
          0.09746482906447196,
          -0.174244432915062,
          -0.020098048415457676,
          0.4352905430236288,
          -0.09961267588694789,
          -0.24777236940823047,
          0.1364868359349738,
          0.14946282606590633,
          0.44215095608351745,
          0.4063979806186318,
          0.3310032434272722,
          0.8527805377663593,
          0.5732041256798778,
          -0.2591547580526974,
          -0.03660809824602768,
          -0.6929495911377829,
          -0.6501674769342953,
          -0.7199655714426095,
          0.3448569136906196,
          -0.6505600351120971,
          -0.02867290999131026,
          0.18413563638846797,
          0.5493776070917918,
          0.4824387509326082,
          0.14110704008653424,
          -0.07493622758204488,
          0.08181263407863093,
          -0.8392651999525556
         ],
         "xaxis": "x",
         "y": [
          -0.4093646241970567,
          0.08492471749577629,
          0.4996084895482287,
          0.05684424085785803,
          -0.013569487597033615,
          -0.2169939947336256,
          -0.7191859507977663,
          0.44762449432437895,
          1,
          0.19280151133813314,
          -0.6568450195236223,
          -0.29771898219918225,
          0.21370286045034595,
          0.38889363524141785,
          0.27536260225573567,
          0.6638587715624741,
          0.5068432305754649,
          -0.4814985194739483,
          -0.34535940205968624,
          -0.7181315920831601,
          -0.5582879144838304,
          0.4318365666397679,
          -0.3433239796556034,
          0.1731833293310665,
          0.07949265550975133,
          -0.31556105139213997,
          0.004369113573507133,
          -0.25167876760050906,
          -0.3796288406853032,
          -0.7318337044307363,
          -0.36843913953338253,
          0.12454126213632766,
          -0.12221163199079986,
          -0.19059251252185272,
          0.29548891592942716,
          0.19393130503952707,
          0.21697815231525996,
          0.6510311313160925,
          -0.3935482169951936,
          -0.5346758516751091,
          0.42903895687274257,
          0.6057523158731585,
          0.24382287316920476,
          -0.09059068795720061,
          -0.28879233647199354,
          -0.15380653879952486,
          0.14952195232796767,
          -0.7436403688255828,
          -0.8743308860805167,
          -0.2764960946870937,
          0.5967915487835034,
          0.25570799195211097,
          -0.587683214257415,
          0.860138156881131,
          0.6501348624963684,
          0.3624324305444794,
          0.4706914646434717,
          -0.07539943027161018,
          0.03426191695885485,
          0.18396854094103893,
          -0.5191727603163385,
          -0.06142193415727304,
          0.180180163942182,
          0.10168130995815376,
          0.19614794402786814,
          -0.5149489900392352,
          0.2807683610355324,
          0.15905767542149873,
          -0.5005447640607016,
          -0.24549150975153555,
          -0.07929575154939753,
          0.3744017631757345,
          0.6857154070491349,
          0.2620799419844749,
          0.005079456025876389,
          -0.1251975028152772,
          -0.1918984311313646,
          -0.6233401410160028,
          0.41180850631257754
         ],
         "yaxis": "y"
        },
        {
         "mode": "markers+lines",
         "name": "Degree Rank",
         "type": "scatter",
         "x": [
          1,
          2,
          3,
          4,
          5,
          6,
          7,
          8,
          9,
          10,
          11,
          12,
          13,
          14,
          15,
          16,
          17,
          18,
          19,
          20,
          21,
          22,
          23,
          24,
          25,
          26,
          27,
          28,
          29,
          30,
          31,
          32,
          33,
          34,
          35,
          36,
          37,
          38,
          39,
          40,
          41,
          42,
          43,
          44,
          45,
          46,
          47,
          48,
          49,
          50,
          51,
          52,
          53,
          54,
          55,
          56,
          57,
          58,
          59,
          60,
          61,
          62,
          63,
          64,
          65,
          66,
          67,
          68,
          69,
          70,
          71,
          72,
          73,
          74,
          75,
          76,
          77,
          78,
          79,
          80,
          81,
          82,
          83,
          84,
          85,
          86,
          87,
          88,
          89,
          90,
          91,
          92,
          93,
          94,
          95,
          96,
          97,
          98,
          99,
          100
         ],
         "xaxis": "x2",
         "y": [
          6,
          5,
          5,
          5,
          5,
          4,
          4,
          4,
          4,
          4,
          4,
          4,
          4,
          4,
          4,
          4,
          4,
          4,
          3,
          3,
          3,
          3,
          3,
          3,
          3,
          3,
          3,
          3,
          2,
          2,
          2,
          2,
          2,
          2,
          2,
          2,
          2,
          2,
          2,
          2,
          2,
          2,
          2,
          2,
          2,
          2,
          2,
          2,
          2,
          2,
          2,
          2,
          2,
          2,
          2,
          2,
          2,
          2,
          2,
          2,
          2,
          2,
          1,
          1,
          1,
          1,
          1,
          1,
          1,
          1,
          1,
          1,
          1,
          1,
          1,
          1,
          1,
          1,
          1,
          1,
          1,
          1,
          1,
          1,
          0,
          0,
          0,
          0,
          0,
          0,
          0,
          0,
          0,
          0,
          0,
          0,
          0,
          0,
          0,
          0
         ],
         "yaxis": "y2"
        },
        {
         "name": "Degree Histogram",
         "type": "bar",
         "x": [
          0,
          1,
          2,
          3,
          4,
          5,
          6
         ],
         "xaxis": "x3",
         "y": [
          16,
          22,
          34,
          10,
          13,
          4,
          1
         ],
         "yaxis": "y3"
        }
       ],
       "layout": {
        "annotations": [
         {
          "font": {
           "size": 16
          },
          "showarrow": false,
          "text": "Connected components of G",
          "x": 0.5,
          "xanchor": "center",
          "xref": "paper",
          "y": 1,
          "yanchor": "bottom",
          "yref": "paper"
         },
         {
          "font": {
           "size": 16
          },
          "showarrow": false,
          "text": "Degree Rank Plot",
          "x": 0.5,
          "xanchor": "center",
          "xref": "paper",
          "y": 0.6111111111111112,
          "yanchor": "bottom",
          "yref": "paper"
         },
         {
          "font": {
           "size": 16
          },
          "showarrow": false,
          "text": "Degree Histogram",
          "x": 0.5,
          "xanchor": "center",
          "xref": "paper",
          "y": 0.22222222222222224,
          "yanchor": "bottom",
          "yref": "paper"
         }
        ],
        "height": 800,
        "template": {
         "data": {
          "bar": [
           {
            "error_x": {
             "color": "#2a3f5f"
            },
            "error_y": {
             "color": "#2a3f5f"
            },
            "marker": {
             "line": {
              "color": "#E5ECF6",
              "width": 0.5
             },
             "pattern": {
              "fillmode": "overlay",
              "size": 10,
              "solidity": 0.2
             }
            },
            "type": "bar"
           }
          ],
          "barpolar": [
           {
            "marker": {
             "line": {
              "color": "#E5ECF6",
              "width": 0.5
             },
             "pattern": {
              "fillmode": "overlay",
              "size": 10,
              "solidity": 0.2
             }
            },
            "type": "barpolar"
           }
          ],
          "carpet": [
           {
            "aaxis": {
             "endlinecolor": "#2a3f5f",
             "gridcolor": "white",
             "linecolor": "white",
             "minorgridcolor": "white",
             "startlinecolor": "#2a3f5f"
            },
            "baxis": {
             "endlinecolor": "#2a3f5f",
             "gridcolor": "white",
             "linecolor": "white",
             "minorgridcolor": "white",
             "startlinecolor": "#2a3f5f"
            },
            "type": "carpet"
           }
          ],
          "choropleth": [
           {
            "colorbar": {
             "outlinewidth": 0,
             "ticks": ""
            },
            "type": "choropleth"
           }
          ],
          "contour": [
           {
            "colorbar": {
             "outlinewidth": 0,
             "ticks": ""
            },
            "colorscale": [
             [
              0,
              "#0d0887"
             ],
             [
              0.1111111111111111,
              "#46039f"
             ],
             [
              0.2222222222222222,
              "#7201a8"
             ],
             [
              0.3333333333333333,
              "#9c179e"
             ],
             [
              0.4444444444444444,
              "#bd3786"
             ],
             [
              0.5555555555555556,
              "#d8576b"
             ],
             [
              0.6666666666666666,
              "#ed7953"
             ],
             [
              0.7777777777777778,
              "#fb9f3a"
             ],
             [
              0.8888888888888888,
              "#fdca26"
             ],
             [
              1,
              "#f0f921"
             ]
            ],
            "type": "contour"
           }
          ],
          "contourcarpet": [
           {
            "colorbar": {
             "outlinewidth": 0,
             "ticks": ""
            },
            "type": "contourcarpet"
           }
          ],
          "heatmap": [
           {
            "colorbar": {
             "outlinewidth": 0,
             "ticks": ""
            },
            "colorscale": [
             [
              0,
              "#0d0887"
             ],
             [
              0.1111111111111111,
              "#46039f"
             ],
             [
              0.2222222222222222,
              "#7201a8"
             ],
             [
              0.3333333333333333,
              "#9c179e"
             ],
             [
              0.4444444444444444,
              "#bd3786"
             ],
             [
              0.5555555555555556,
              "#d8576b"
             ],
             [
              0.6666666666666666,
              "#ed7953"
             ],
             [
              0.7777777777777778,
              "#fb9f3a"
             ],
             [
              0.8888888888888888,
              "#fdca26"
             ],
             [
              1,
              "#f0f921"
             ]
            ],
            "type": "heatmap"
           }
          ],
          "heatmapgl": [
           {
            "colorbar": {
             "outlinewidth": 0,
             "ticks": ""
            },
            "colorscale": [
             [
              0,
              "#0d0887"
             ],
             [
              0.1111111111111111,
              "#46039f"
             ],
             [
              0.2222222222222222,
              "#7201a8"
             ],
             [
              0.3333333333333333,
              "#9c179e"
             ],
             [
              0.4444444444444444,
              "#bd3786"
             ],
             [
              0.5555555555555556,
              "#d8576b"
             ],
             [
              0.6666666666666666,
              "#ed7953"
             ],
             [
              0.7777777777777778,
              "#fb9f3a"
             ],
             [
              0.8888888888888888,
              "#fdca26"
             ],
             [
              1,
              "#f0f921"
             ]
            ],
            "type": "heatmapgl"
           }
          ],
          "histogram": [
           {
            "marker": {
             "pattern": {
              "fillmode": "overlay",
              "size": 10,
              "solidity": 0.2
             }
            },
            "type": "histogram"
           }
          ],
          "histogram2d": [
           {
            "colorbar": {
             "outlinewidth": 0,
             "ticks": ""
            },
            "colorscale": [
             [
              0,
              "#0d0887"
             ],
             [
              0.1111111111111111,
              "#46039f"
             ],
             [
              0.2222222222222222,
              "#7201a8"
             ],
             [
              0.3333333333333333,
              "#9c179e"
             ],
             [
              0.4444444444444444,
              "#bd3786"
             ],
             [
              0.5555555555555556,
              "#d8576b"
             ],
             [
              0.6666666666666666,
              "#ed7953"
             ],
             [
              0.7777777777777778,
              "#fb9f3a"
             ],
             [
              0.8888888888888888,
              "#fdca26"
             ],
             [
              1,
              "#f0f921"
             ]
            ],
            "type": "histogram2d"
           }
          ],
          "histogram2dcontour": [
           {
            "colorbar": {
             "outlinewidth": 0,
             "ticks": ""
            },
            "colorscale": [
             [
              0,
              "#0d0887"
             ],
             [
              0.1111111111111111,
              "#46039f"
             ],
             [
              0.2222222222222222,
              "#7201a8"
             ],
             [
              0.3333333333333333,
              "#9c179e"
             ],
             [
              0.4444444444444444,
              "#bd3786"
             ],
             [
              0.5555555555555556,
              "#d8576b"
             ],
             [
              0.6666666666666666,
              "#ed7953"
             ],
             [
              0.7777777777777778,
              "#fb9f3a"
             ],
             [
              0.8888888888888888,
              "#fdca26"
             ],
             [
              1,
              "#f0f921"
             ]
            ],
            "type": "histogram2dcontour"
           }
          ],
          "mesh3d": [
           {
            "colorbar": {
             "outlinewidth": 0,
             "ticks": ""
            },
            "type": "mesh3d"
           }
          ],
          "parcoords": [
           {
            "line": {
             "colorbar": {
              "outlinewidth": 0,
              "ticks": ""
             }
            },
            "type": "parcoords"
           }
          ],
          "pie": [
           {
            "automargin": true,
            "type": "pie"
           }
          ],
          "scatter": [
           {
            "fillpattern": {
             "fillmode": "overlay",
             "size": 10,
             "solidity": 0.2
            },
            "type": "scatter"
           }
          ],
          "scatter3d": [
           {
            "line": {
             "colorbar": {
              "outlinewidth": 0,
              "ticks": ""
             }
            },
            "marker": {
             "colorbar": {
              "outlinewidth": 0,
              "ticks": ""
             }
            },
            "type": "scatter3d"
           }
          ],
          "scattercarpet": [
           {
            "marker": {
             "colorbar": {
              "outlinewidth": 0,
              "ticks": ""
             }
            },
            "type": "scattercarpet"
           }
          ],
          "scattergeo": [
           {
            "marker": {
             "colorbar": {
              "outlinewidth": 0,
              "ticks": ""
             }
            },
            "type": "scattergeo"
           }
          ],
          "scattergl": [
           {
            "marker": {
             "colorbar": {
              "outlinewidth": 0,
              "ticks": ""
             }
            },
            "type": "scattergl"
           }
          ],
          "scattermapbox": [
           {
            "marker": {
             "colorbar": {
              "outlinewidth": 0,
              "ticks": ""
             }
            },
            "type": "scattermapbox"
           }
          ],
          "scatterpolar": [
           {
            "marker": {
             "colorbar": {
              "outlinewidth": 0,
              "ticks": ""
             }
            },
            "type": "scatterpolar"
           }
          ],
          "scatterpolargl": [
           {
            "marker": {
             "colorbar": {
              "outlinewidth": 0,
              "ticks": ""
             }
            },
            "type": "scatterpolargl"
           }
          ],
          "scatterternary": [
           {
            "marker": {
             "colorbar": {
              "outlinewidth": 0,
              "ticks": ""
             }
            },
            "type": "scatterternary"
           }
          ],
          "surface": [
           {
            "colorbar": {
             "outlinewidth": 0,
             "ticks": ""
            },
            "colorscale": [
             [
              0,
              "#0d0887"
             ],
             [
              0.1111111111111111,
              "#46039f"
             ],
             [
              0.2222222222222222,
              "#7201a8"
             ],
             [
              0.3333333333333333,
              "#9c179e"
             ],
             [
              0.4444444444444444,
              "#bd3786"
             ],
             [
              0.5555555555555556,
              "#d8576b"
             ],
             [
              0.6666666666666666,
              "#ed7953"
             ],
             [
              0.7777777777777778,
              "#fb9f3a"
             ],
             [
              0.8888888888888888,
              "#fdca26"
             ],
             [
              1,
              "#f0f921"
             ]
            ],
            "type": "surface"
           }
          ],
          "table": [
           {
            "cells": {
             "fill": {
              "color": "#EBF0F8"
             },
             "line": {
              "color": "white"
             }
            },
            "header": {
             "fill": {
              "color": "#C8D4E3"
             },
             "line": {
              "color": "white"
             }
            },
            "type": "table"
           }
          ]
         },
         "layout": {
          "annotationdefaults": {
           "arrowcolor": "#2a3f5f",
           "arrowhead": 0,
           "arrowwidth": 1
          },
          "autotypenumbers": "strict",
          "coloraxis": {
           "colorbar": {
            "outlinewidth": 0,
            "ticks": ""
           }
          },
          "colorscale": {
           "diverging": [
            [
             0,
             "#8e0152"
            ],
            [
             0.1,
             "#c51b7d"
            ],
            [
             0.2,
             "#de77ae"
            ],
            [
             0.3,
             "#f1b6da"
            ],
            [
             0.4,
             "#fde0ef"
            ],
            [
             0.5,
             "#f7f7f7"
            ],
            [
             0.6,
             "#e6f5d0"
            ],
            [
             0.7,
             "#b8e186"
            ],
            [
             0.8,
             "#7fbc41"
            ],
            [
             0.9,
             "#4d9221"
            ],
            [
             1,
             "#276419"
            ]
           ],
           "sequential": [
            [
             0,
             "#0d0887"
            ],
            [
             0.1111111111111111,
             "#46039f"
            ],
            [
             0.2222222222222222,
             "#7201a8"
            ],
            [
             0.3333333333333333,
             "#9c179e"
            ],
            [
             0.4444444444444444,
             "#bd3786"
            ],
            [
             0.5555555555555556,
             "#d8576b"
            ],
            [
             0.6666666666666666,
             "#ed7953"
            ],
            [
             0.7777777777777778,
             "#fb9f3a"
            ],
            [
             0.8888888888888888,
             "#fdca26"
            ],
            [
             1,
             "#f0f921"
            ]
           ],
           "sequentialminus": [
            [
             0,
             "#0d0887"
            ],
            [
             0.1111111111111111,
             "#46039f"
            ],
            [
             0.2222222222222222,
             "#7201a8"
            ],
            [
             0.3333333333333333,
             "#9c179e"
            ],
            [
             0.4444444444444444,
             "#bd3786"
            ],
            [
             0.5555555555555556,
             "#d8576b"
            ],
            [
             0.6666666666666666,
             "#ed7953"
            ],
            [
             0.7777777777777778,
             "#fb9f3a"
            ],
            [
             0.8888888888888888,
             "#fdca26"
            ],
            [
             1,
             "#f0f921"
            ]
           ]
          },
          "colorway": [
           "#636efa",
           "#EF553B",
           "#00cc96",
           "#ab63fa",
           "#FFA15A",
           "#19d3f3",
           "#FF6692",
           "#B6E880",
           "#FF97FF",
           "#FECB52"
          ],
          "font": {
           "color": "#2a3f5f"
          },
          "geo": {
           "bgcolor": "white",
           "lakecolor": "white",
           "landcolor": "#E5ECF6",
           "showlakes": true,
           "showland": true,
           "subunitcolor": "white"
          },
          "hoverlabel": {
           "align": "left"
          },
          "hovermode": "closest",
          "mapbox": {
           "style": "light"
          },
          "paper_bgcolor": "white",
          "plot_bgcolor": "#E5ECF6",
          "polar": {
           "angularaxis": {
            "gridcolor": "white",
            "linecolor": "white",
            "ticks": ""
           },
           "bgcolor": "#E5ECF6",
           "radialaxis": {
            "gridcolor": "white",
            "linecolor": "white",
            "ticks": ""
           }
          },
          "scene": {
           "xaxis": {
            "backgroundcolor": "#E5ECF6",
            "gridcolor": "white",
            "gridwidth": 2,
            "linecolor": "white",
            "showbackground": true,
            "ticks": "",
            "zerolinecolor": "white"
           },
           "yaxis": {
            "backgroundcolor": "#E5ECF6",
            "gridcolor": "white",
            "gridwidth": 2,
            "linecolor": "white",
            "showbackground": true,
            "ticks": "",
            "zerolinecolor": "white"
           },
           "zaxis": {
            "backgroundcolor": "#E5ECF6",
            "gridcolor": "white",
            "gridwidth": 2,
            "linecolor": "white",
            "showbackground": true,
            "ticks": "",
            "zerolinecolor": "white"
           }
          },
          "shapedefaults": {
           "line": {
            "color": "#2a3f5f"
           }
          },
          "ternary": {
           "aaxis": {
            "gridcolor": "white",
            "linecolor": "white",
            "ticks": ""
           },
           "baxis": {
            "gridcolor": "white",
            "linecolor": "white",
            "ticks": ""
           },
           "bgcolor": "#E5ECF6",
           "caxis": {
            "gridcolor": "white",
            "linecolor": "white",
            "ticks": ""
           }
          },
          "title": {
           "x": 0.05
          },
          "xaxis": {
           "automargin": true,
           "gridcolor": "white",
           "linecolor": "white",
           "ticks": "",
           "title": {
            "standoff": 15
           },
           "zerolinecolor": "white",
           "zerolinewidth": 2
          },
          "yaxis": {
           "automargin": true,
           "gridcolor": "white",
           "linecolor": "white",
           "ticks": "",
           "title": {
            "standoff": 15
           },
           "zerolinecolor": "white",
           "zerolinewidth": 2
          }
         }
        },
        "title": {
         "text": "Graph Analysis"
        },
        "width": 800,
        "xaxis": {
         "anchor": "y",
         "domain": [
          0,
          1
         ]
        },
        "xaxis2": {
         "anchor": "y2",
         "domain": [
          0,
          1
         ],
         "title": {
          "text": "X-axis"
         }
        },
        "xaxis3": {
         "anchor": "y3",
         "domain": [
          0,
          1
         ]
        },
        "yaxis": {
         "anchor": "x",
         "domain": [
          0.7777777777777778,
          1
         ]
        },
        "yaxis2": {
         "anchor": "x2",
         "domain": [
          0.3888888888888889,
          0.6111111111111112
         ]
        },
        "yaxis3": {
         "anchor": "x3",
         "domain": [
          0,
          0.22222222222222224
         ],
         "title": {
          "text": "Y-axis"
         }
        }
       }
      }
     },
     "metadata": {},
     "output_type": "display_data"
    }
   ],
   "source": [
    "import networkx as nx\n",
    "import numpy as np\n",
    "import plotly.graph_objects as go\n",
    "from plotly.subplots import make_subplots\n",
    "\n",
    "# Generate the random graph\n",
    "G = nx.gnp_random_graph(100, 0.02, seed=10374196)\n",
    "\n",
    "# Degree sequence\n",
    "degree_sequence = sorted((d for n, d in G.degree()), reverse=True)\n",
    "\n",
    "# Create the connected component\n",
    "Gcc = G.subgraph(sorted(nx.connected_components(G), key=len, reverse=True)[0])\n",
    "pos = nx.spring_layout(Gcc, seed=10396953)\n",
    "\n",
    "# Create a subplot figure\n",
    "fig = make_subplots(\n",
    "    rows=3, cols=1,\n",
    "    specs=[[{'type': 'scatter'}],\n",
    "           [{'type': 'scatter'}],\n",
    "           [{'type': 'bar'}]],\n",
    "    subplot_titles=(\"Connected components of G\", \"Degree Rank Plot\", \"Degree Histogram\")\n",
    ")\n",
    "\n",
    "# Add edges to the first subplot\n",
    "edge_x = []\n",
    "edge_y = []\n",
    "for edge in Gcc.edges():\n",
    "    x0, y0 = pos[edge[0]]\n",
    "    x1, y1 = pos[edge[1]]\n",
    "    edge_x.append(x0)\n",
    "    edge_x.append(x1)\n",
    "    edge_x.append(None)  # break the line\n",
    "    edge_y.append(y0)\n",
    "    edge_y.append(y1)\n",
    "    edge_y.append(None)  # break the line\n",
    "\n",
    "# Add nodes to the first subplot\n",
    "node_x = [pos[node][0] for node in Gcc.nodes()]\n",
    "node_y = [pos[node][1] for node in Gcc.nodes()]\n",
    "\n",
    "# Add edges and nodes to the figure\n",
    "fig.add_trace(go.Scatter(x=edge_x, y=edge_y, mode='lines', line=dict(width=0.4, color='black'), hoverinfo='none'), row=1, col=1)\n",
    "fig.add_trace(go.Scatter(x=node_x, y=node_y, mode='markers', marker=dict(size=6, color='blue'), name='Nodes'), row=1, col=1)\n",
    "\n",
    "# Add degree rank plot to the second subplot\n",
    "fig.add_trace(go.Scatter(x=list(range(1, len(degree_sequence) + 1)), y=degree_sequence, mode='markers+lines', name='Degree Rank'), row=2, col=1)\n",
    "\n",
    "# Create degree histogram data\n",
    "degree_counts = np.unique(degree_sequence, return_counts=True)\n",
    "\n",
    "# Add degree histogram to the third subplot\n",
    "fig.add_trace(go.Bar(x=degree_counts[0], y=degree_counts[1], name='Degree Histogram'), row=3, col=1)\n",
    "\n",
    "# Update layout\n",
    "fig.update_layout(title_text=\"Graph Analysis\", height=800, width=800)\n",
    "fig.update_xaxes(title_text=\"X-axis\", row=2, col=1)  # Set common x-axis title for the last plot\n",
    "fig.update_yaxes(title_text=\"Y-axis\", row=3, col=1)  # Set common y-axis title for the last plot\n",
    "\n",
    "# Show the figure\n",
    "fig.show()\n"
   ]
  },
  {
   "cell_type": "code",
   "execution_count": 61,
   "metadata": {},
   "outputs": [
    {
     "data": {
      "application/vnd.plotly.v1+json": {
       "config": {
        "plotlyServerURL": "https://plot.ly"
       },
       "data": [
        {
         "hoverinfo": "none",
         "line": {
          "color": "black",
          "width": 0.4
         },
         "mode": "lines",
         "type": "scatter",
         "x": [
          0.01631791596613913,
          -0.07493622758204488,
          null,
          0.01631791596613913,
          0.08181263407863093,
          null,
          0.23365312119243942,
          0.3988242407453034,
          null,
          0.23365312119243942,
          -0.015282380255600568,
          null,
          0.23365312119243942,
          0.1364868359349738,
          null,
          0.23365312119243942,
          0.44215095608351745,
          null,
          0.014249876490258204,
          -0.08769189780819607,
          null,
          0.014249876490258204,
          -0.16587419631499437,
          null,
          0.014249876490258204,
          0.22923504345083737,
          null,
          0.014249876490258204,
          -0.02867290999131026,
          null,
          -0.2640844271240592,
          -0.15529892651456323,
          null,
          -0.2640844271240592,
          -0.39403978016114644,
          null,
          -0.2640844271240592,
          -0.5042090980647501,
          null,
          -0.2640844271240592,
          -0.07493622758204488,
          null,
          -0.2134652004866248,
          -0.1294881074028289,
          null,
          -0.2134652004866248,
          -0.2591547580526974,
          null,
          -0.1294881074028289,
          -0.34283542459870975,
          null,
          -0.1294881074028289,
          0.0915904525141081,
          null,
          -0.1294881074028289,
          0.0022286787208375125,
          null,
          -0.17762299009585258,
          -0.28093998068856874,
          null,
          -0.17762299009585258,
          -0.02902764957514033,
          null,
          -0.17762299009585258,
          -0.20323312339953706,
          null,
          -0.17762299009585258,
          -0.174244432915062,
          null,
          -0.08769189780819607,
          -0.15529892651456323,
          null,
          -0.024679531931558505,
          -0.020098048415457676,
          null,
          0.6504618744561818,
          0.8012581493823169,
          null,
          0.6504618744561818,
          0.7078972370029385,
          null,
          0.6504618744561818,
          0.44215095608351745,
          null,
          -0.6788056178266789,
          -0.7199655714426095,
          null,
          -0.7194207482701973,
          -0.7199655714426095,
          null,
          -0.7194207482701973,
          -0.6505600351120971,
          null,
          0.5042088870036725,
          0.4658007012815392,
          null,
          0.5042088870036725,
          0.3988242407453034,
          null,
          0.5042088870036725,
          0.7078972370029385,
          null,
          0.5042088870036725,
          0.3256131873908948,
          null,
          0.5042088870036725,
          0.5732041256798778,
          null,
          0.5042088870036725,
          0.5493776070917918,
          null,
          -0.16587419631499437,
          -0.2591547580526974,
          null,
          -0.15529892651456323,
          -0.02867290999131026,
          null,
          -0.009749621332289935,
          -0.14007074394428445,
          null,
          -0.009749621332289935,
          -0.020098048415457676,
          null,
          -0.009749621332289935,
          0.18413563638846797,
          null,
          -0.9448425192399044,
          -0.8392651999525556,
          null,
          0.168719747048732,
          0.0915904525141081,
          null,
          0.46982381743178847,
          0.3448569136906196,
          null,
          -0.2511376766722229,
          -0.174244432915062,
          null,
          -0.28093998068856874,
          -0.36369625482209955,
          null,
          -0.28093998068856874,
          -0.174244432915062,
          null,
          0.4658007012815392,
          0.3540776043889471,
          null,
          -0.36369625482209955,
          -0.385672331297996,
          null,
          -0.28615570099306786,
          -0.14007074394428445,
          null,
          -0.28615570099306786,
          -0.385672331297996,
          null,
          0.22510775543961617,
          0.21511118057395484,
          null,
          0.3988242407453034,
          0.3448569136906196,
          null,
          0.3988242407453034,
          0.4824387509326082,
          null,
          -0.34283542459870975,
          -0.5064653238678197,
          null,
          0.32527635386187953,
          0.21511118057395484,
          null,
          0.32527635386187953,
          0.4063979806186318,
          null,
          0.20113450775449945,
          0.08181263407863093,
          null,
          0.0915904525141081,
          0.10882174467632126,
          null,
          0.0915904525141081,
          -0.03660809824602768,
          null,
          0.0915904525141081,
          0.3448569136906196,
          null,
          -0.5042090980647501,
          -0.2591547580526974,
          null,
          -0.5042090980647501,
          -0.6929495911377829,
          null,
          -0.5042090980647501,
          -0.6501674769342953,
          null,
          -0.5042090980647501,
          -0.6505600351120971,
          null,
          -0.5233361715843187,
          -0.385672331297996,
          null,
          0.21511118057395484,
          0.1364868359349738,
          null,
          0.21511118057395484,
          0.14946282606590633,
          null,
          -0.3808795838128458,
          -0.2591547580526974,
          null,
          0.8012581493823169,
          0.8527805377663593,
          null,
          0.7078972370029385,
          0.8527805377663593,
          null,
          0.5896140883081312,
          0.4352905430236288,
          null,
          -0.13161368352976716,
          -0.174244432915062,
          null,
          -0.13161368352976716,
          -0.07493622758204488,
          null,
          0.10882174467632126,
          0.08181263407863093,
          null,
          -0.14007074394428445,
          -0.02867290999131026,
          null,
          0.22923504345083737,
          0.4352905430236288,
          null,
          0.3256131873908948,
          0.09746482906447196,
          null,
          0.3256131873908948,
          0.44215095608351745,
          null,
          0.4966294616781061,
          0.3448569136906196,
          null,
          0.0022286787208375125,
          0.1364868359349738,
          null,
          -0.015282380255600568,
          -0.2591547580526974,
          null,
          -0.02902764957514033,
          0.08181263407863093,
          null,
          0.3540776043889471,
          0.18413563638846797,
          null,
          0.09746482906447196,
          -0.09961267588694789,
          null,
          0.09746482906447196,
          0.14946282606590633,
          null,
          0.09746482906447196,
          -0.02867290999131026,
          null,
          -0.174244432915062,
          -0.03660809824602768,
          null,
          -0.09961267588694789,
          -0.24777236940823047,
          null,
          0.44215095608351745,
          0.5493776070917918,
          null,
          0.3310032434272722,
          0.4824387509326082,
          null,
          0.3310032434272722,
          0.14110704008653424,
          null,
          0.5732041256798778,
          0.4824387509326082,
          null,
          -0.6929495911377829,
          -0.8392651999525556,
          null,
          0.14110704008653424,
          -0.07493622758204488,
          null
         ],
         "xaxis": "x",
         "y": [
          -0.4093646241970567,
          -0.1918984311313646,
          null,
          -0.4093646241970567,
          -0.6233401410160028,
          null,
          0.08492471749577629,
          0.004369113573507133,
          null,
          0.08492471749577629,
          0.14952195232796767,
          null,
          0.08492471749577629,
          -0.07539943027161018,
          null,
          0.08492471749577629,
          0.18396854094103893,
          null,
          0.4996084895482287,
          0.44762449432437895,
          null,
          0.4996084895482287,
          0.38889363524141785,
          null,
          0.4996084895482287,
          0.6057523158731585,
          null,
          0.4996084895482287,
          0.3744017631757345,
          null,
          0.05684424085785803,
          0.27536260225573567,
          null,
          0.05684424085785803,
          0.07949265550975133,
          null,
          0.05684424085785803,
          0.12454126213632766,
          null,
          0.05684424085785803,
          -0.1918984311313646,
          null,
          -0.013569487597033615,
          -0.2169939947336256,
          null,
          -0.013569487597033615,
          0.19614794402786814,
          null,
          -0.2169939947336256,
          -0.25167876760050906,
          null,
          -0.2169939947336256,
          -0.36843913953338253,
          null,
          -0.2169939947336256,
          -0.15380653879952486,
          null,
          -0.7191859507977663,
          -0.5582879144838304,
          null,
          -0.7191859507977663,
          -0.7436403688255828,
          null,
          -0.7191859507977663,
          -0.8743308860805167,
          null,
          -0.7191859507977663,
          -0.587683214257415,
          null,
          0.44762449432437895,
          0.27536260225573567,
          null,
          1,
          0.860138156881131,
          null,
          0.19280151133813314,
          0.19393130503952707,
          null,
          0.19280151133813314,
          0.21697815231525996,
          null,
          0.19280151133813314,
          0.18396854094103893,
          null,
          -0.6568450195236223,
          -0.5005447640607016,
          null,
          -0.29771898219918225,
          -0.5005447640607016,
          null,
          -0.29771898219918225,
          -0.07929575154939753,
          null,
          0.21370286045034595,
          0.4318365666397679,
          null,
          0.21370286045034595,
          0.004369113573507133,
          null,
          0.21370286045034595,
          0.21697815231525996,
          null,
          0.21370286045034595,
          0.24382287316920476,
          null,
          0.21370286045034595,
          0.10168130995815376,
          null,
          0.21370286045034595,
          0.2620799419844749,
          null,
          0.38889363524141785,
          0.19614794402786814,
          null,
          0.27536260225573567,
          0.3744017631757345,
          null,
          0.6638587715624741,
          0.42903895687274257,
          null,
          0.6638587715624741,
          0.860138156881131,
          null,
          0.6638587715624741,
          0.6857154070491349,
          null,
          0.5068432305754649,
          0.41180850631257754,
          null,
          -0.4814985194739483,
          -0.36843913953338253,
          null,
          -0.34535940205968624,
          -0.24549150975153555,
          null,
          -0.7181315920831601,
          -0.587683214257415,
          null,
          -0.5582879144838304,
          -0.3433239796556034,
          null,
          -0.5582879144838304,
          -0.587683214257415,
          null,
          0.4318365666397679,
          0.5967915487835034,
          null,
          -0.3433239796556034,
          -0.09059068795720061,
          null,
          0.1731833293310665,
          0.42903895687274257,
          null,
          0.1731833293310665,
          -0.09059068795720061,
          null,
          -0.31556105139213997,
          -0.19059251252185272,
          null,
          0.004369113573507133,
          -0.24549150975153555,
          null,
          0.004369113573507133,
          0.005079456025876389,
          null,
          -0.25167876760050906,
          -0.2764960946870937,
          null,
          -0.3796288406853032,
          -0.19059251252185272,
          null,
          -0.3796288406853032,
          -0.5191727603163385,
          null,
          -0.7318337044307363,
          -0.6233401410160028,
          null,
          -0.36843913953338253,
          -0.5346758516751091,
          null,
          -0.36843913953338253,
          -0.5149489900392352,
          null,
          -0.36843913953338253,
          -0.24549150975153555,
          null,
          0.12454126213632766,
          0.19614794402786814,
          null,
          0.12454126213632766,
          0.2807683610355324,
          null,
          0.12454126213632766,
          0.15905767542149873,
          null,
          0.12454126213632766,
          -0.07929575154939753,
          null,
          -0.12221163199079986,
          -0.09059068795720061,
          null,
          -0.19059251252185272,
          -0.07539943027161018,
          null,
          -0.19059251252185272,
          0.03426191695885485,
          null,
          0.29548891592942716,
          0.19614794402786814,
          null,
          0.19393130503952707,
          0.180180163942182,
          null,
          0.21697815231525996,
          0.180180163942182,
          null,
          0.6510311313160925,
          0.6501348624963684,
          null,
          -0.3935482169951936,
          -0.587683214257415,
          null,
          -0.3935482169951936,
          -0.1918984311313646,
          null,
          -0.5346758516751091,
          -0.6233401410160028,
          null,
          0.42903895687274257,
          0.3744017631757345,
          null,
          0.6057523158731585,
          0.6501348624963684,
          null,
          0.24382287316920476,
          0.25570799195211097,
          null,
          0.24382287316920476,
          0.18396854094103893,
          null,
          -0.28879233647199354,
          -0.24549150975153555,
          null,
          -0.15380653879952486,
          -0.07539943027161018,
          null,
          0.14952195232796767,
          0.19614794402786814,
          null,
          -0.7436403688255828,
          -0.6233401410160028,
          null,
          0.5967915487835034,
          0.6857154070491349,
          null,
          0.25570799195211097,
          0.3624324305444794,
          null,
          0.25570799195211097,
          0.03426191695885485,
          null,
          0.25570799195211097,
          0.3744017631757345,
          null,
          -0.587683214257415,
          -0.5149489900392352,
          null,
          0.3624324305444794,
          0.4706914646434717,
          null,
          0.18396854094103893,
          0.2620799419844749,
          null,
          -0.06142193415727304,
          0.005079456025876389,
          null,
          -0.06142193415727304,
          -0.1251975028152772,
          null,
          0.10168130995815376,
          0.005079456025876389,
          null,
          0.2807683610355324,
          0.41180850631257754,
          null,
          -0.1251975028152772,
          -0.1918984311313646,
          null
         ],
         "yaxis": "y"
        },
        {
         "marker": {
          "color": "blue",
          "size": 6
         },
         "mode": "markers",
         "name": "Nodes",
         "type": "scatter",
         "x": [
          0.01631791596613913,
          0.23365312119243942,
          0.014249876490258204,
          -0.2640844271240592,
          -0.2134652004866248,
          -0.1294881074028289,
          -0.17762299009585258,
          -0.08769189780819607,
          -0.024679531931558505,
          0.6504618744561818,
          -0.6788056178266789,
          -0.7194207482701973,
          0.5042088870036725,
          -0.16587419631499437,
          -0.15529892651456323,
          -0.009749621332289935,
          -0.9448425192399044,
          0.168719747048732,
          0.46982381743178847,
          -0.2511376766722229,
          -0.28093998068856874,
          0.4658007012815392,
          -0.36369625482209955,
          -0.28615570099306786,
          -0.39403978016114644,
          0.22510775543961617,
          0.3988242407453034,
          -0.34283542459870975,
          0.32527635386187953,
          0.20113450775449945,
          0.0915904525141081,
          -0.5042090980647501,
          -0.5233361715843187,
          0.21511118057395484,
          -0.3808795838128458,
          0.8012581493823169,
          0.7078972370029385,
          0.5896140883081312,
          -0.13161368352976716,
          0.10882174467632126,
          -0.14007074394428445,
          0.22923504345083737,
          0.3256131873908948,
          -0.385672331297996,
          0.4966294616781061,
          0.0022286787208375125,
          -0.015282380255600568,
          -0.02902764957514033,
          -0.20323312339953706,
          -0.5064653238678197,
          0.3540776043889471,
          0.09746482906447196,
          -0.174244432915062,
          -0.020098048415457676,
          0.4352905430236288,
          -0.09961267588694789,
          -0.24777236940823047,
          0.1364868359349738,
          0.14946282606590633,
          0.44215095608351745,
          0.4063979806186318,
          0.3310032434272722,
          0.8527805377663593,
          0.5732041256798778,
          -0.2591547580526974,
          -0.03660809824602768,
          -0.6929495911377829,
          -0.6501674769342953,
          -0.7199655714426095,
          0.3448569136906196,
          -0.6505600351120971,
          -0.02867290999131026,
          0.18413563638846797,
          0.5493776070917918,
          0.4824387509326082,
          0.14110704008653424,
          -0.07493622758204488,
          0.08181263407863093,
          -0.8392651999525556
         ],
         "xaxis": "x",
         "y": [
          -0.4093646241970567,
          0.08492471749577629,
          0.4996084895482287,
          0.05684424085785803,
          -0.013569487597033615,
          -0.2169939947336256,
          -0.7191859507977663,
          0.44762449432437895,
          1,
          0.19280151133813314,
          -0.6568450195236223,
          -0.29771898219918225,
          0.21370286045034595,
          0.38889363524141785,
          0.27536260225573567,
          0.6638587715624741,
          0.5068432305754649,
          -0.4814985194739483,
          -0.34535940205968624,
          -0.7181315920831601,
          -0.5582879144838304,
          0.4318365666397679,
          -0.3433239796556034,
          0.1731833293310665,
          0.07949265550975133,
          -0.31556105139213997,
          0.004369113573507133,
          -0.25167876760050906,
          -0.3796288406853032,
          -0.7318337044307363,
          -0.36843913953338253,
          0.12454126213632766,
          -0.12221163199079986,
          -0.19059251252185272,
          0.29548891592942716,
          0.19393130503952707,
          0.21697815231525996,
          0.6510311313160925,
          -0.3935482169951936,
          -0.5346758516751091,
          0.42903895687274257,
          0.6057523158731585,
          0.24382287316920476,
          -0.09059068795720061,
          -0.28879233647199354,
          -0.15380653879952486,
          0.14952195232796767,
          -0.7436403688255828,
          -0.8743308860805167,
          -0.2764960946870937,
          0.5967915487835034,
          0.25570799195211097,
          -0.587683214257415,
          0.860138156881131,
          0.6501348624963684,
          0.3624324305444794,
          0.4706914646434717,
          -0.07539943027161018,
          0.03426191695885485,
          0.18396854094103893,
          -0.5191727603163385,
          -0.06142193415727304,
          0.180180163942182,
          0.10168130995815376,
          0.19614794402786814,
          -0.5149489900392352,
          0.2807683610355324,
          0.15905767542149873,
          -0.5005447640607016,
          -0.24549150975153555,
          -0.07929575154939753,
          0.3744017631757345,
          0.6857154070491349,
          0.2620799419844749,
          0.005079456025876389,
          -0.1251975028152772,
          -0.1918984311313646,
          -0.6233401410160028,
          0.41180850631257754
         ],
         "yaxis": "y"
        },
        {
         "mode": "markers+lines",
         "name": "Degree Rank",
         "type": "scatter",
         "x": [
          1,
          2,
          3,
          4,
          5,
          6,
          7,
          8,
          9,
          10,
          11,
          12,
          13,
          14,
          15,
          16,
          17,
          18,
          19,
          20,
          21,
          22,
          23,
          24,
          25,
          26,
          27,
          28,
          29,
          30,
          31,
          32,
          33,
          34,
          35,
          36,
          37,
          38,
          39,
          40,
          41,
          42,
          43,
          44,
          45,
          46,
          47,
          48,
          49,
          50,
          51,
          52,
          53,
          54,
          55,
          56,
          57,
          58,
          59,
          60,
          61,
          62,
          63,
          64,
          65,
          66,
          67,
          68,
          69,
          70,
          71,
          72,
          73,
          74,
          75,
          76,
          77,
          78,
          79,
          80,
          81,
          82,
          83,
          84,
          85,
          86,
          87,
          88,
          89,
          90,
          91,
          92,
          93,
          94,
          95,
          96,
          97,
          98,
          99,
          100
         ],
         "xaxis": "x2",
         "y": [
          6,
          5,
          5,
          5,
          5,
          4,
          4,
          4,
          4,
          4,
          4,
          4,
          4,
          4,
          4,
          4,
          4,
          4,
          3,
          3,
          3,
          3,
          3,
          3,
          3,
          3,
          3,
          3,
          2,
          2,
          2,
          2,
          2,
          2,
          2,
          2,
          2,
          2,
          2,
          2,
          2,
          2,
          2,
          2,
          2,
          2,
          2,
          2,
          2,
          2,
          2,
          2,
          2,
          2,
          2,
          2,
          2,
          2,
          2,
          2,
          2,
          2,
          1,
          1,
          1,
          1,
          1,
          1,
          1,
          1,
          1,
          1,
          1,
          1,
          1,
          1,
          1,
          1,
          1,
          1,
          1,
          1,
          1,
          1,
          0,
          0,
          0,
          0,
          0,
          0,
          0,
          0,
          0,
          0,
          0,
          0,
          0,
          0,
          0,
          0
         ],
         "yaxis": "y2"
        },
        {
         "name": "Degree Histogram",
         "type": "bar",
         "x": [
          0,
          1,
          2,
          3,
          4,
          5,
          6
         ],
         "xaxis": "x3",
         "y": [
          16,
          22,
          34,
          10,
          13,
          4,
          1
         ],
         "yaxis": "y3"
        }
       ],
       "layout": {
        "annotations": [
         {
          "font": {
           "size": 16
          },
          "showarrow": false,
          "text": "Connected components of G",
          "x": 0.5,
          "xanchor": "center",
          "xref": "paper",
          "y": 1,
          "yanchor": "bottom",
          "yref": "paper"
         },
         {
          "font": {
           "size": 16
          },
          "showarrow": false,
          "text": "Degree Rank Plot",
          "x": 0.5,
          "xanchor": "center",
          "xref": "paper",
          "y": 0.6111111111111112,
          "yanchor": "bottom",
          "yref": "paper"
         },
         {
          "font": {
           "size": 16
          },
          "showarrow": false,
          "text": "Degree Histogram",
          "x": 0.5,
          "xanchor": "center",
          "xref": "paper",
          "y": 0.22222222222222224,
          "yanchor": "bottom",
          "yref": "paper"
         }
        ],
        "height": 900,
        "template": {
         "data": {
          "bar": [
           {
            "error_x": {
             "color": "#2a3f5f"
            },
            "error_y": {
             "color": "#2a3f5f"
            },
            "marker": {
             "line": {
              "color": "#E5ECF6",
              "width": 0.5
             },
             "pattern": {
              "fillmode": "overlay",
              "size": 10,
              "solidity": 0.2
             }
            },
            "type": "bar"
           }
          ],
          "barpolar": [
           {
            "marker": {
             "line": {
              "color": "#E5ECF6",
              "width": 0.5
             },
             "pattern": {
              "fillmode": "overlay",
              "size": 10,
              "solidity": 0.2
             }
            },
            "type": "barpolar"
           }
          ],
          "carpet": [
           {
            "aaxis": {
             "endlinecolor": "#2a3f5f",
             "gridcolor": "white",
             "linecolor": "white",
             "minorgridcolor": "white",
             "startlinecolor": "#2a3f5f"
            },
            "baxis": {
             "endlinecolor": "#2a3f5f",
             "gridcolor": "white",
             "linecolor": "white",
             "minorgridcolor": "white",
             "startlinecolor": "#2a3f5f"
            },
            "type": "carpet"
           }
          ],
          "choropleth": [
           {
            "colorbar": {
             "outlinewidth": 0,
             "ticks": ""
            },
            "type": "choropleth"
           }
          ],
          "contour": [
           {
            "colorbar": {
             "outlinewidth": 0,
             "ticks": ""
            },
            "colorscale": [
             [
              0,
              "#0d0887"
             ],
             [
              0.1111111111111111,
              "#46039f"
             ],
             [
              0.2222222222222222,
              "#7201a8"
             ],
             [
              0.3333333333333333,
              "#9c179e"
             ],
             [
              0.4444444444444444,
              "#bd3786"
             ],
             [
              0.5555555555555556,
              "#d8576b"
             ],
             [
              0.6666666666666666,
              "#ed7953"
             ],
             [
              0.7777777777777778,
              "#fb9f3a"
             ],
             [
              0.8888888888888888,
              "#fdca26"
             ],
             [
              1,
              "#f0f921"
             ]
            ],
            "type": "contour"
           }
          ],
          "contourcarpet": [
           {
            "colorbar": {
             "outlinewidth": 0,
             "ticks": ""
            },
            "type": "contourcarpet"
           }
          ],
          "heatmap": [
           {
            "colorbar": {
             "outlinewidth": 0,
             "ticks": ""
            },
            "colorscale": [
             [
              0,
              "#0d0887"
             ],
             [
              0.1111111111111111,
              "#46039f"
             ],
             [
              0.2222222222222222,
              "#7201a8"
             ],
             [
              0.3333333333333333,
              "#9c179e"
             ],
             [
              0.4444444444444444,
              "#bd3786"
             ],
             [
              0.5555555555555556,
              "#d8576b"
             ],
             [
              0.6666666666666666,
              "#ed7953"
             ],
             [
              0.7777777777777778,
              "#fb9f3a"
             ],
             [
              0.8888888888888888,
              "#fdca26"
             ],
             [
              1,
              "#f0f921"
             ]
            ],
            "type": "heatmap"
           }
          ],
          "heatmapgl": [
           {
            "colorbar": {
             "outlinewidth": 0,
             "ticks": ""
            },
            "colorscale": [
             [
              0,
              "#0d0887"
             ],
             [
              0.1111111111111111,
              "#46039f"
             ],
             [
              0.2222222222222222,
              "#7201a8"
             ],
             [
              0.3333333333333333,
              "#9c179e"
             ],
             [
              0.4444444444444444,
              "#bd3786"
             ],
             [
              0.5555555555555556,
              "#d8576b"
             ],
             [
              0.6666666666666666,
              "#ed7953"
             ],
             [
              0.7777777777777778,
              "#fb9f3a"
             ],
             [
              0.8888888888888888,
              "#fdca26"
             ],
             [
              1,
              "#f0f921"
             ]
            ],
            "type": "heatmapgl"
           }
          ],
          "histogram": [
           {
            "marker": {
             "pattern": {
              "fillmode": "overlay",
              "size": 10,
              "solidity": 0.2
             }
            },
            "type": "histogram"
           }
          ],
          "histogram2d": [
           {
            "colorbar": {
             "outlinewidth": 0,
             "ticks": ""
            },
            "colorscale": [
             [
              0,
              "#0d0887"
             ],
             [
              0.1111111111111111,
              "#46039f"
             ],
             [
              0.2222222222222222,
              "#7201a8"
             ],
             [
              0.3333333333333333,
              "#9c179e"
             ],
             [
              0.4444444444444444,
              "#bd3786"
             ],
             [
              0.5555555555555556,
              "#d8576b"
             ],
             [
              0.6666666666666666,
              "#ed7953"
             ],
             [
              0.7777777777777778,
              "#fb9f3a"
             ],
             [
              0.8888888888888888,
              "#fdca26"
             ],
             [
              1,
              "#f0f921"
             ]
            ],
            "type": "histogram2d"
           }
          ],
          "histogram2dcontour": [
           {
            "colorbar": {
             "outlinewidth": 0,
             "ticks": ""
            },
            "colorscale": [
             [
              0,
              "#0d0887"
             ],
             [
              0.1111111111111111,
              "#46039f"
             ],
             [
              0.2222222222222222,
              "#7201a8"
             ],
             [
              0.3333333333333333,
              "#9c179e"
             ],
             [
              0.4444444444444444,
              "#bd3786"
             ],
             [
              0.5555555555555556,
              "#d8576b"
             ],
             [
              0.6666666666666666,
              "#ed7953"
             ],
             [
              0.7777777777777778,
              "#fb9f3a"
             ],
             [
              0.8888888888888888,
              "#fdca26"
             ],
             [
              1,
              "#f0f921"
             ]
            ],
            "type": "histogram2dcontour"
           }
          ],
          "mesh3d": [
           {
            "colorbar": {
             "outlinewidth": 0,
             "ticks": ""
            },
            "type": "mesh3d"
           }
          ],
          "parcoords": [
           {
            "line": {
             "colorbar": {
              "outlinewidth": 0,
              "ticks": ""
             }
            },
            "type": "parcoords"
           }
          ],
          "pie": [
           {
            "automargin": true,
            "type": "pie"
           }
          ],
          "scatter": [
           {
            "fillpattern": {
             "fillmode": "overlay",
             "size": 10,
             "solidity": 0.2
            },
            "type": "scatter"
           }
          ],
          "scatter3d": [
           {
            "line": {
             "colorbar": {
              "outlinewidth": 0,
              "ticks": ""
             }
            },
            "marker": {
             "colorbar": {
              "outlinewidth": 0,
              "ticks": ""
             }
            },
            "type": "scatter3d"
           }
          ],
          "scattercarpet": [
           {
            "marker": {
             "colorbar": {
              "outlinewidth": 0,
              "ticks": ""
             }
            },
            "type": "scattercarpet"
           }
          ],
          "scattergeo": [
           {
            "marker": {
             "colorbar": {
              "outlinewidth": 0,
              "ticks": ""
             }
            },
            "type": "scattergeo"
           }
          ],
          "scattergl": [
           {
            "marker": {
             "colorbar": {
              "outlinewidth": 0,
              "ticks": ""
             }
            },
            "type": "scattergl"
           }
          ],
          "scattermapbox": [
           {
            "marker": {
             "colorbar": {
              "outlinewidth": 0,
              "ticks": ""
             }
            },
            "type": "scattermapbox"
           }
          ],
          "scatterpolar": [
           {
            "marker": {
             "colorbar": {
              "outlinewidth": 0,
              "ticks": ""
             }
            },
            "type": "scatterpolar"
           }
          ],
          "scatterpolargl": [
           {
            "marker": {
             "colorbar": {
              "outlinewidth": 0,
              "ticks": ""
             }
            },
            "type": "scatterpolargl"
           }
          ],
          "scatterternary": [
           {
            "marker": {
             "colorbar": {
              "outlinewidth": 0,
              "ticks": ""
             }
            },
            "type": "scatterternary"
           }
          ],
          "surface": [
           {
            "colorbar": {
             "outlinewidth": 0,
             "ticks": ""
            },
            "colorscale": [
             [
              0,
              "#0d0887"
             ],
             [
              0.1111111111111111,
              "#46039f"
             ],
             [
              0.2222222222222222,
              "#7201a8"
             ],
             [
              0.3333333333333333,
              "#9c179e"
             ],
             [
              0.4444444444444444,
              "#bd3786"
             ],
             [
              0.5555555555555556,
              "#d8576b"
             ],
             [
              0.6666666666666666,
              "#ed7953"
             ],
             [
              0.7777777777777778,
              "#fb9f3a"
             ],
             [
              0.8888888888888888,
              "#fdca26"
             ],
             [
              1,
              "#f0f921"
             ]
            ],
            "type": "surface"
           }
          ],
          "table": [
           {
            "cells": {
             "fill": {
              "color": "#EBF0F8"
             },
             "line": {
              "color": "white"
             }
            },
            "header": {
             "fill": {
              "color": "#C8D4E3"
             },
             "line": {
              "color": "white"
             }
            },
            "type": "table"
           }
          ]
         },
         "layout": {
          "annotationdefaults": {
           "arrowcolor": "#2a3f5f",
           "arrowhead": 0,
           "arrowwidth": 1
          },
          "autotypenumbers": "strict",
          "coloraxis": {
           "colorbar": {
            "outlinewidth": 0,
            "ticks": ""
           }
          },
          "colorscale": {
           "diverging": [
            [
             0,
             "#8e0152"
            ],
            [
             0.1,
             "#c51b7d"
            ],
            [
             0.2,
             "#de77ae"
            ],
            [
             0.3,
             "#f1b6da"
            ],
            [
             0.4,
             "#fde0ef"
            ],
            [
             0.5,
             "#f7f7f7"
            ],
            [
             0.6,
             "#e6f5d0"
            ],
            [
             0.7,
             "#b8e186"
            ],
            [
             0.8,
             "#7fbc41"
            ],
            [
             0.9,
             "#4d9221"
            ],
            [
             1,
             "#276419"
            ]
           ],
           "sequential": [
            [
             0,
             "#0d0887"
            ],
            [
             0.1111111111111111,
             "#46039f"
            ],
            [
             0.2222222222222222,
             "#7201a8"
            ],
            [
             0.3333333333333333,
             "#9c179e"
            ],
            [
             0.4444444444444444,
             "#bd3786"
            ],
            [
             0.5555555555555556,
             "#d8576b"
            ],
            [
             0.6666666666666666,
             "#ed7953"
            ],
            [
             0.7777777777777778,
             "#fb9f3a"
            ],
            [
             0.8888888888888888,
             "#fdca26"
            ],
            [
             1,
             "#f0f921"
            ]
           ],
           "sequentialminus": [
            [
             0,
             "#0d0887"
            ],
            [
             0.1111111111111111,
             "#46039f"
            ],
            [
             0.2222222222222222,
             "#7201a8"
            ],
            [
             0.3333333333333333,
             "#9c179e"
            ],
            [
             0.4444444444444444,
             "#bd3786"
            ],
            [
             0.5555555555555556,
             "#d8576b"
            ],
            [
             0.6666666666666666,
             "#ed7953"
            ],
            [
             0.7777777777777778,
             "#fb9f3a"
            ],
            [
             0.8888888888888888,
             "#fdca26"
            ],
            [
             1,
             "#f0f921"
            ]
           ]
          },
          "colorway": [
           "#636efa",
           "#EF553B",
           "#00cc96",
           "#ab63fa",
           "#FFA15A",
           "#19d3f3",
           "#FF6692",
           "#B6E880",
           "#FF97FF",
           "#FECB52"
          ],
          "font": {
           "color": "#2a3f5f"
          },
          "geo": {
           "bgcolor": "white",
           "lakecolor": "white",
           "landcolor": "#E5ECF6",
           "showlakes": true,
           "showland": true,
           "subunitcolor": "white"
          },
          "hoverlabel": {
           "align": "left"
          },
          "hovermode": "closest",
          "mapbox": {
           "style": "light"
          },
          "paper_bgcolor": "white",
          "plot_bgcolor": "#E5ECF6",
          "polar": {
           "angularaxis": {
            "gridcolor": "white",
            "linecolor": "white",
            "ticks": ""
           },
           "bgcolor": "#E5ECF6",
           "radialaxis": {
            "gridcolor": "white",
            "linecolor": "white",
            "ticks": ""
           }
          },
          "scene": {
           "xaxis": {
            "backgroundcolor": "#E5ECF6",
            "gridcolor": "white",
            "gridwidth": 2,
            "linecolor": "white",
            "showbackground": true,
            "ticks": "",
            "zerolinecolor": "white"
           },
           "yaxis": {
            "backgroundcolor": "#E5ECF6",
            "gridcolor": "white",
            "gridwidth": 2,
            "linecolor": "white",
            "showbackground": true,
            "ticks": "",
            "zerolinecolor": "white"
           },
           "zaxis": {
            "backgroundcolor": "#E5ECF6",
            "gridcolor": "white",
            "gridwidth": 2,
            "linecolor": "white",
            "showbackground": true,
            "ticks": "",
            "zerolinecolor": "white"
           }
          },
          "shapedefaults": {
           "line": {
            "color": "#2a3f5f"
           }
          },
          "ternary": {
           "aaxis": {
            "gridcolor": "white",
            "linecolor": "white",
            "ticks": ""
           },
           "baxis": {
            "gridcolor": "white",
            "linecolor": "white",
            "ticks": ""
           },
           "bgcolor": "#E5ECF6",
           "caxis": {
            "gridcolor": "white",
            "linecolor": "white",
            "ticks": ""
           }
          },
          "title": {
           "x": 0.05
          },
          "xaxis": {
           "automargin": true,
           "gridcolor": "white",
           "linecolor": "white",
           "ticks": "",
           "title": {
            "standoff": 15
           },
           "zerolinecolor": "white",
           "zerolinewidth": 2
          },
          "yaxis": {
           "automargin": true,
           "gridcolor": "white",
           "linecolor": "white",
           "ticks": "",
           "title": {
            "standoff": 15
           },
           "zerolinecolor": "white",
           "zerolinewidth": 2
          }
         }
        },
        "title": {
         "text": "Graph Analysis"
        },
        "width": 800,
        "xaxis": {
         "anchor": "y",
         "domain": [
          0,
          1
         ],
         "range": [
          -1.5,
          1.5
         ]
        },
        "xaxis2": {
         "anchor": "y2",
         "domain": [
          0,
          1
         ],
         "title": {
          "text": "X-axis"
         }
        },
        "xaxis3": {
         "anchor": "y3",
         "domain": [
          0,
          1
         ]
        },
        "yaxis": {
         "anchor": "x",
         "domain": [
          0.7777777777777778,
          1
         ],
         "range": [
          -1.5,
          1.5
         ],
         "scaleanchor": "x"
        },
        "yaxis2": {
         "anchor": "x2",
         "domain": [
          0.3888888888888889,
          0.6111111111111112
         ],
         "scaleanchor": "x"
        },
        "yaxis3": {
         "anchor": "x3",
         "domain": [
          0,
          0.22222222222222224
         ],
         "title": {
          "text": "Y-axis"
         }
        }
       }
      }
     },
     "metadata": {},
     "output_type": "display_data"
    }
   ],
   "source": [
    "import networkx as nx\n",
    "import numpy as np\n",
    "import plotly.graph_objects as go\n",
    "from plotly.subplots import make_subplots\n",
    "\n",
    "# Generate the random graph\n",
    "G = nx.gnp_random_graph(100, 0.02, seed=10374196)\n",
    "\n",
    "# Degree sequence\n",
    "degree_sequence = sorted((d for n, d in G.degree()), reverse=True)\n",
    "\n",
    "# Create the connected component\n",
    "Gcc = G.subgraph(sorted(nx.connected_components(G), key=len, reverse=True)[0])\n",
    "pos = nx.spring_layout(Gcc, seed=10396953)\n",
    "\n",
    "# Create a subplot figure\n",
    "fig = make_subplots(\n",
    "    rows=3, cols=1,\n",
    "    specs=[[{'type': 'scatter'}],\n",
    "           [{'type': 'scatter'}],\n",
    "           [{'type': 'bar'}]],\n",
    "    subplot_titles=(\"Connected components of G\", \"Degree Rank Plot\", \"Degree Histogram\")\n",
    ")\n",
    "\n",
    "# Add edges to the first subplot\n",
    "edge_x = []\n",
    "edge_y = []\n",
    "for edge in Gcc.edges():\n",
    "    x0, y0 = pos[edge[0]]\n",
    "    x1, y1 = pos[edge[1]]\n",
    "    edge_x.append(x0)\n",
    "    edge_x.append(x1)\n",
    "    edge_x.append(None)  # break the line\n",
    "    edge_y.append(y0)\n",
    "    edge_y.append(y1)\n",
    "    edge_y.append(None)  # break the line\n",
    "\n",
    "# Add nodes to the first subplot\n",
    "node_x = [pos[node][0] for node in Gcc.nodes()]\n",
    "node_y = [pos[node][1] for node in Gcc.nodes()]\n",
    "\n",
    "# Add edges and nodes to the figure\n",
    "fig.add_trace(go.Scatter(x=edge_x, y=edge_y, mode='lines', line=dict(width=0.4, color='black'), hoverinfo='none'), row=1, col=1)\n",
    "fig.add_trace(go.Scatter(x=node_x, y=node_y, mode='markers', marker=dict(size=6, color='blue'), name='Nodes'), row=1, col=1)\n",
    "\n",
    "# Add degree rank plot to the second subplot\n",
    "fig.add_trace(go.Scatter(x=list(range(1, len(degree_sequence) + 1)), y=degree_sequence, mode='markers+lines', name='Degree Rank'), row=2, col=1)\n",
    "\n",
    "# Create degree histogram data\n",
    "degree_counts = np.unique(degree_sequence, return_counts=True)\n",
    "\n",
    "# Add degree histogram to the third subplot\n",
    "fig.add_trace(go.Bar(x=degree_counts[0], y=degree_counts[1], name='Degree Histogram'), row=3, col=1)\n",
    "\n",
    "# Update layout for the figure\n",
    "fig.update_layout(title_text=\"Graph Analysis\", height=900, width=800)\n",
    "\n",
    "# Set aspect ratio for the first two subplots\n",
    "fig.update_yaxes(scaleanchor=\"x\", row=1, col=1)  # Anchor y-axis to x-axis for first subplot\n",
    "fig.update_yaxes(scaleanchor=\"x\", row=2, col=1)  # Anchor y-axis to x-axis for second subplot\n",
    "\n",
    "# Magnify the first subplot by adjusting the x and y axis ranges\n",
    "x_range = [-1.5, 1.5]  # Adjust this range as needed for magnification\n",
    "y_range = [-1.5, 1.5]  # Adjust this range as needed for magnification\n",
    "fig.update_xaxes(range=x_range, row=1, col=1)  # Set x-axis range for the first subplot\n",
    "fig.update_yaxes(range=y_range, row=1, col=1)  # Set y-axis range for the first subplot\n",
    "\n",
    "# Update axes titles\n",
    "fig.update_xaxes(title_text=\"X-axis\", row=2, col=1)  # X-axis title for degree rank plot\n",
    "fig.update_yaxes(title_text=\"Y-axis\", row=3, col=1)  # Y-axis title for degree histogram\n",
    "\n",
    "# Show the figure\n",
    "fig.show()"
   ]
  },
  {
   "cell_type": "code",
   "execution_count": null,
   "metadata": {},
   "outputs": [],
   "source": []
  }
 ],
 "metadata": {
  "kernelspec": {
   "display_name": "light_site-krEzwZwG",
   "language": "python",
   "name": "python3"
  },
  "language_info": {
   "codemirror_mode": {
    "name": "ipython",
    "version": 3
   },
   "file_extension": ".py",
   "mimetype": "text/x-python",
   "name": "python",
   "nbconvert_exporter": "python",
   "pygments_lexer": "ipython3",
   "version": "3.10.12"
  }
 },
 "nbformat": 4,
 "nbformat_minor": 2
}
