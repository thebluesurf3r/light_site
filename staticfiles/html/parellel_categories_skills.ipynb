{
 "cells": [
  {
   "cell_type": "code",
   "execution_count": 1,
   "metadata": {},
   "outputs": [],
   "source": [
    "import pandas as pd\n",
    "import re\n",
    "import plotly.express as px\n",
    "import plotly.graph_objects as go\n",
    "import plotly.io as pio"
   ]
  },
  {
   "cell_type": "markdown",
   "metadata": {},
   "source": [
    "### Create a Pandas dataFrame"
   ]
  },
  {
   "cell_type": "code",
   "execution_count": 2,
   "metadata": {},
   "outputs": [],
   "source": [
    "data = {\n",
    "    'software_manufacturer': [\n",
    "        'Plotly Inc.',  # for Plotly\n",
    "        'Plotly Inc.',  # for Plotly\n",
    "        'Python Community',          # for Seaborn\n",
    "        'Python Community',          # for Matplotlib\n",
    "        'Python Community',          # for Pandas\n",
    "        'Python Community',          # for Numpy\n",
    "        'Explosion AI',              # for spaCy\n",
    "        'Oracle Corporation',        # for MySQL\n",
    "        'SQLite Consortium',         # for SQLite3\n",
    "        'Google',                    # for Google BigQuery\n",
    "        'Django Foundation',         # for Django\n",
    "        'Streamlit Inc.',            # for Streamlit\n",
    "        'Python Community',          # for Pipenv\n",
    "        'Microsoft',                 # for Powershell\n",
    "        'Google',                    # for Google Sheets\n",
    "        'Google',                    # for Google Docs\n",
    "        'Google',                    # for Google Slides\n",
    "        'Google',                    # for Google AppScript\n",
    "        'Google',                    # for Google Analytics 4\n",
    "        'Google',                    # for Google Tag Manager\n",
    "        'Google',                    # for Chrome Developer Tools\n",
    "        'Django Foundation',         # for Django Debug Tools\n",
    "        'Google',                    # for Google Analytics Debugger\n",
    "        'Microsoft',                 # for Power BI\n",
    "        'Microsoft',                 # for Excel\n",
    "        'Salesforce',                # for Tableau\n",
    "        'Bootstrap',                 # for Bootstrap\n",
    "        'Siemens',                   # for Siemens NX\n",
    "        'Autodesk',                  # for Autodesk Fusion\n",
    "        'Ansys'\n",
    "    ],\n",
    "\n",
    "    'domain': [\n",
    "        'Data Analytics',\n",
    "        'Web Development',\n",
    "        'Data Analytics',\n",
    "        'Data Analytics',\n",
    "        'Data Analytics',\n",
    "        'Data Analytics',\n",
    "        'Data Analytics',\n",
    "        'Data Engineering',\n",
    "        'Data Engineering',\n",
    "        'Data Engineering',\n",
    "        'Web Development',\n",
    "        'Web Development',\n",
    "        'Web Development',\n",
    "        'Web Development',\n",
    "        'Business Intelligence',\n",
    "        'Business Intelligence',\n",
    "        'Business Intelligence',\n",
    "        'Business Intelligence',\n",
    "        'Digital Marketing',\n",
    "        'Digital Marketing',\n",
    "        'Digital Marketing',\n",
    "        'Web Development',\n",
    "        'Digital Marketing',\n",
    "        'Business Intelligence',\n",
    "        'Business Intelligence',\n",
    "        'Business Intelligence',\n",
    "        'Web Development',\n",
    "        'Computer Aided Design',\n",
    "        'Finite Element Method',\n",
    "        'Computational Fluid Dynamics'\n",
    "    ],\n",
    "\n",
    "    'category': [\n",
    "        'Visualization',\n",
    "        'Framework',\n",
    "        'Visualization',\n",
    "        'Visualization',\n",
    "        'Analysis',\n",
    "        'Analysis',\n",
    "        'Analysis',\n",
    "        'DB Management',\n",
    "        'DB Management',\n",
    "        'Analysis',\n",
    "        'Framework',\n",
    "        'Framework',\n",
    "        'Framework',\n",
    "        'Framework',\n",
    "        'Productivity Tools',\n",
    "        'Productivity Tools',\n",
    "        'Productivity Tools',\n",
    "        'Productivity Tools',\n",
    "        'Performance Optimization',\n",
    "        'Tag Management',\n",
    "        'Debugging',\n",
    "        'Debugging',\n",
    "        'Debugging',\n",
    "        'Analysis',\n",
    "        'Analysis',\n",
    "        'Analysis',\n",
    "        'Framework',\n",
    "        'Product Design',\n",
    "        'Product Design',\n",
    "        'Mechanical Analysis'\n",
    "    ],\n",
    "\n",
    "    'tool': [\n",
    "        'Plotly',\n",
    "        'Dash',\n",
    "        'Seaborn',\n",
    "        'Matplotlib',\n",
    "        'Pandas',\n",
    "        'Numpy',\n",
    "        'spaCy',\n",
    "        'MySQL',\n",
    "        'SQLite',\n",
    "        'BigQuery',\n",
    "        'Django',\n",
    "        'Streamlit',\n",
    "        'Pipenv',\n",
    "        'Powershell',\n",
    "        'Sheets',\n",
    "        'Docs',\n",
    "        'Slides',\n",
    "        'AppScript',\n",
    "        'Analytics 4',\n",
    "        'Tag Manager',\n",
    "        'Chrome Developer Tools',\n",
    "        'Django Debug Tools',\n",
    "        'Analytics Debugger',\n",
    "        'Power BI',\n",
    "        'Excel',\n",
    "        'Tableau',\n",
    "        'Bootstrap',\n",
    "        'Siemens NX',\n",
    "        'Autodesk Fusion',\n",
    "        'Ansys Workbench'\n",
    "    ],\n",
    "\n",
    "    'platform': [\n",
    "        'Python',\n",
    "        'Python',\n",
    "        'Python',\n",
    "        'Python',\n",
    "        'Python',\n",
    "        'Python',\n",
    "        'Python',\n",
    "        'RDBMS',\n",
    "        'RDBMS',\n",
    "        'Cloud Platform',\n",
    "        'Python',\n",
    "        'Python',\n",
    "        'Python',\n",
    "        '.NET',\n",
    "        'Workspace',\n",
    "        'Workspace',\n",
    "        'Workspace',\n",
    "        'Workspace',\n",
    "        'Marketing Platform',\n",
    "        'Marketing Platform',\n",
    "        'Workspace',\n",
    "        'Python',\n",
    "        'Marketing Platform',\n",
    "        '.NET',\n",
    "        '.NET',\n",
    "        'Python',\n",
    "        'HTML',\n",
    "        'Python',\n",
    "        'Python',\n",
    "        'Python'\n",
    "    ],\n",
    "\n",
    "    'proficiency_level': [\n",
    "        9,\n",
    "        5,\n",
    "        4,\n",
    "        6,\n",
    "        9,\n",
    "        4,\n",
    "        3,\n",
    "        4,\n",
    "        5,\n",
    "        8,\n",
    "        7,\n",
    "        8,\n",
    "        7,\n",
    "        7,\n",
    "        10,\n",
    "        10,\n",
    "        10,\n",
    "        10,\n",
    "        9,\n",
    "        9,\n",
    "        8,\n",
    "        5,\n",
    "        10,\n",
    "        6,\n",
    "        8,\n",
    "        6,\n",
    "        6,\n",
    "        9,\n",
    "        10,\n",
    "        7\n",
    "    ]\n",
    "}\n",
    "\n",
    "# Convert to DataFrame\n",
    "df = pd.DataFrame(data)"
   ]
  },
  {
   "cell_type": "markdown",
   "metadata": {},
   "source": [
    "### icon, proficiency_level and product_type mapping"
   ]
  },
  {
   "cell_type": "code",
   "execution_count": 3,
   "metadata": {},
   "outputs": [],
   "source": [
    "# Define icon mapping\n",
    "icon_mapping = {\n",
    "    'Plotly Inc.': 'icons/tool_300/plotly_300x300.png',\n",
    "    'Python Community': 'icons/tool_300/python_300x300.png',\n",
    "    'Explosion AI': 'icons/tool_300/explosion_ai_300x300.png',\n",
    "    'Oracle Corporation': 'icons/tool_300/oracle_300x300.png',\n",
    "    'SQLite Consortium': 'icons/tool_300/sqlite_consortium_300x300.png',\n",
    "    'Google': 'icons/tool_300/google_300x300.png',\n",
    "    'Django Foundation': 'icons/tool_300/django_300x129.png',\n",
    "    'Streamlit Inc.': 'icons/tool_300/streamlit_300x143.png',\n",
    "    'Microsoft': 'icons/tool_300/microsoft_300x300.png',\n",
    "    'Salesforce': 'icons/tool_300/salesforce_300x210.png',\n",
    "    'Bootstrap': 'icons/tool_300/bootstrap_300x239.png',\n",
    "    'Siemens': 'icons/tool_300/siemens_300x213.png',\n",
    "    'Autodesk': 'icons/tool_300/autodesk_300x64.png',\n",
    "    'Ansys': 'icons/tool_300/ansys_300x95.png',\n",
    "}\n",
    "\n",
    "# Define the license and product type mapping\n",
    "product_type_mapping = {\n",
    "    'Plotly': 'Open Source',\n",
    "    'Dash': 'Open Source',\n",
    "    'Seaborn': 'Open Source',\n",
    "    'Matplotlib': 'Open Source',\n",
    "    'Pandas': 'Open Source',\n",
    "    'Numpy': 'Open Source',\n",
    "    'spaCy': 'Open Source',\n",
    "    'MySQL': 'Open Source',\n",
    "    'SQLite': 'Open Source',\n",
    "    'BigQuery': 'PaaS',\n",
    "    'Django': 'Open Source',\n",
    "    'Streamlit': 'SaaS',\n",
    "    'Pipenv': 'Open Source',\n",
    "    'Powershell': 'IaaS',\n",
    "    'Sheets': 'SaaS',\n",
    "    'Docs': 'SaaS',\n",
    "    'Slides': 'SaaS',\n",
    "    'AppScript': 'SaaS',\n",
    "    'Analytics 4': 'SaaS',\n",
    "    'Tag Manager': 'SaaS',\n",
    "    'Chrome Developer Tools': 'SaaS',\n",
    "    'Django Debug Tools': 'Open Source',\n",
    "    'Analytics Debugger': 'SaaS',\n",
    "    'Power BI': 'SaaS',\n",
    "    'Excel': 'SaaS',\n",
    "    'Tableau': 'SaaS',\n",
    "    'Bootstrap': 'Open Source',\n",
    "    'Siemens NX': 'Commercial',\n",
    "    'Autodesk Fusion': 'Commercial',\n",
    "    'Ansys Workbench': 'Commercial'\n",
    "}\n",
    "\n",
    "# Function to generate proficiency description\n",
    "def generate_proficiency_description(level):\n",
    "    patterns = [\n",
    "        (r'1', 'I have just started exploring this.'),\n",
    "        (r'2', 'I am slightly familiar with the basics.'),\n",
    "        (r'3', 'I can understand the fundamental concepts.'),\n",
    "        (r'4', 'I have some experience using this.'),\n",
    "        (r'5', 'I have a moderate understanding of this.'),\n",
    "        (r'6', 'I have a solid grasp and can apply this knowledge.'),\n",
    "        (r'7', 'I am confident in using this independently.'),\n",
    "        (r'8', 'I can tackle complex tasks using this.'),\n",
    "        (r'9', 'I have significant hands-on experience with this.'),\n",
    "        (r'10', 'I am an expert in using this.')\n",
    "    ]\n",
    "    \n",
    "    # Create a string to match the proficiency level\n",
    "    level_str = str(level)\n",
    "    \n",
    "    for pattern, description in patterns:\n",
    "        if re.fullmatch(pattern, level_str):\n",
    "            return description\n",
    "    \n",
    "    return 'Proficiency level not found.'\n",
    "\n",
    "# Apply the function to create the categorical column in your DataFrame\n",
    "df['proficiency_description'] = df['proficiency_level'].apply(generate_proficiency_description)\n",
    "\n",
    "# Apply the product type mapping\n",
    "df['product_type'] = df['tool'].map(product_type_mapping)\n",
    "\n",
    "df['icons'] = df['software_manufacturer'].map(icon_mapping)"
   ]
  },
  {
   "cell_type": "markdown",
   "metadata": {},
   "source": [
    "### Export the dataFrame to csv and Pickle"
   ]
  },
  {
   "cell_type": "code",
   "execution_count": 4,
   "metadata": {},
   "outputs": [
    {
     "name": "stdout",
     "output_type": "stream",
     "text": [
      "DataFrame exported to pickle file: data.pkl\n",
      "DataFrame exported to CSV file: data.csv\n"
     ]
    }
   ],
   "source": [
    "def export_dataframe(df, pickle_file_path, csv_file_path):\n",
    "    \"\"\"\n",
    "    Export a DataFrame to both a pickle file and a CSV file.\n",
    "\n",
    "    Parameters:\n",
    "    df (pd.DataFrame): The DataFrame to export.\n",
    "    pickle_file_path (str): The file path where the pickle file will be saved.\n",
    "    csv_file_path (str): The file path where the CSV file will be saved.\n",
    "    \"\"\"\n",
    "    # Export to pickle file\n",
    "    df.to_pickle(pickle_file_path)\n",
    "    print(f\"DataFrame exported to pickle file: {pickle_file_path}\")\n",
    "\n",
    "    # Export to CSV file\n",
    "    df.to_csv(csv_file_path, index=False)\n",
    "    print(f\"DataFrame exported to CSV file: {csv_file_path}\")\n",
    "\n",
    "\n",
    "# Assume df is your DataFrame\n",
    "pickle_path = 'data.pkl'\n",
    "csv_path = 'data.csv'\n",
    "\n",
    "export_dataframe(df, pickle_path, csv_path)\n"
   ]
  },
  {
   "cell_type": "markdown",
   "metadata": {},
   "source": [
    "### Load data from a Pickle file"
   ]
  },
  {
   "cell_type": "code",
   "execution_count": 5,
   "metadata": {},
   "outputs": [
    {
     "data": {
      "text/html": [
       "<div>\n",
       "<style scoped>\n",
       "    .dataframe tbody tr th:only-of-type {\n",
       "        vertical-align: middle;\n",
       "    }\n",
       "\n",
       "    .dataframe tbody tr th {\n",
       "        vertical-align: top;\n",
       "    }\n",
       "\n",
       "    .dataframe thead th {\n",
       "        text-align: right;\n",
       "    }\n",
       "</style>\n",
       "<table border=\"1\" class=\"dataframe\">\n",
       "  <thead>\n",
       "    <tr style=\"text-align: right;\">\n",
       "      <th></th>\n",
       "      <th>software_manufacturer</th>\n",
       "      <th>domain</th>\n",
       "      <th>category</th>\n",
       "      <th>tool</th>\n",
       "      <th>platform</th>\n",
       "      <th>proficiency_level</th>\n",
       "      <th>proficiency_description</th>\n",
       "      <th>product_type</th>\n",
       "      <th>icons</th>\n",
       "    </tr>\n",
       "  </thead>\n",
       "  <tbody>\n",
       "    <tr>\n",
       "      <th>0</th>\n",
       "      <td>Plotly Inc.</td>\n",
       "      <td>Data Analytics</td>\n",
       "      <td>Visualization</td>\n",
       "      <td>Plotly</td>\n",
       "      <td>Python</td>\n",
       "      <td>9</td>\n",
       "      <td>I have significant hands-on experience with this.</td>\n",
       "      <td>Open Source</td>\n",
       "      <td>icons/tool_300/plotly_300x300.png</td>\n",
       "    </tr>\n",
       "    <tr>\n",
       "      <th>1</th>\n",
       "      <td>Plotly Inc.</td>\n",
       "      <td>Web Development</td>\n",
       "      <td>Framework</td>\n",
       "      <td>Dash</td>\n",
       "      <td>Python</td>\n",
       "      <td>5</td>\n",
       "      <td>I have a moderate understanding of this.</td>\n",
       "      <td>Open Source</td>\n",
       "      <td>icons/tool_300/plotly_300x300.png</td>\n",
       "    </tr>\n",
       "    <tr>\n",
       "      <th>2</th>\n",
       "      <td>Python Community</td>\n",
       "      <td>Data Analytics</td>\n",
       "      <td>Visualization</td>\n",
       "      <td>Seaborn</td>\n",
       "      <td>Python</td>\n",
       "      <td>4</td>\n",
       "      <td>I have some experience using this.</td>\n",
       "      <td>Open Source</td>\n",
       "      <td>icons/tool_300/python_300x300.png</td>\n",
       "    </tr>\n",
       "  </tbody>\n",
       "</table>\n",
       "</div>"
      ],
      "text/plain": [
       "  software_manufacturer           domain       category     tool platform  \\\n",
       "0           Plotly Inc.   Data Analytics  Visualization   Plotly   Python   \n",
       "1           Plotly Inc.  Web Development      Framework     Dash   Python   \n",
       "2      Python Community   Data Analytics  Visualization  Seaborn   Python   \n",
       "\n",
       "   proficiency_level                            proficiency_description  \\\n",
       "0                  9  I have significant hands-on experience with this.   \n",
       "1                  5           I have a moderate understanding of this.   \n",
       "2                  4                 I have some experience using this.   \n",
       "\n",
       "  product_type                              icons  \n",
       "0  Open Source  icons/tool_300/plotly_300x300.png  \n",
       "1  Open Source  icons/tool_300/plotly_300x300.png  \n",
       "2  Open Source  icons/tool_300/python_300x300.png  "
      ]
     },
     "execution_count": 5,
     "metadata": {},
     "output_type": "execute_result"
    }
   ],
   "source": [
    "\n",
    "def load_data(file_path):\n",
    "    \"\"\"\n",
    "    Load data from a CSV file.\n",
    "\n",
    "    Parameters:\n",
    "    file_path (str): The path to the CSV file.\n",
    "\n",
    "    Returns:\n",
    "    df (pd.DataFrame): The loaded DataFrame.\n",
    "    \"\"\"\n",
    "    df = pd.read_pickle(file_path)\n",
    "    return df\n",
    "\n",
    "file_path = 'data.pkl'\n",
    "df = load_data(file_path)\n",
    "\n",
    "df.head(3)"
   ]
  },
  {
   "cell_type": "markdown",
   "metadata": {},
   "source": [
    "### Custom hover text function"
   ]
  },
  {
   "cell_type": "code",
   "execution_count": 6,
   "metadata": {},
   "outputs": [],
   "source": [
    "# Create custom hover text based on node type\n",
    "def generate_custom_hover(row, is_child):\n",
    "    if is_child:\n",
    "        return (\n",
    "            f\"Platform: \"\n",
    "            f\"{row['platform'] if any(part in row['software_manufacturer'] for part in row['platform'].split()) else row['software_manufacturer'] + ' (' + row['platform'] + ')'}<br>\"\n",
    "            f\"Tool: \"\n",
    "            f\"{row['tool'] if any(part in row['software_manufacturer'] for part in row['tool'].split()) else row['software_manufacturer'] + ' (' + row['tool'] + ')'}<br>\"\n",
    "            f\"Primarily used in {row['domain'].lower()}<br>\"\n",
    "            f\"Category: {row['category']}<br>\"\n",
    "            f\"Proficiency Level: {row['proficiency_level']}<br>\"\n",
    "            f\"It is {'an' if row['product_type'] in ['Open Source', 'FaaS'] else 'a'} {row['product_type']} product\"\n",
    "        )\n",
    "    else:\n",
    "        return f\"{row[column_name]}<br>Proficiency Level: {row['proficiency_level'].sum()}\"\n",
    "\n",
    "# Add custom hover text based on the node type (child or parent)\n",
    "df['hover_template'] = df.apply(\n",
    "    lambda row: generate_custom_hover(row, True),  # Initially set all as children\n",
    "    axis=1\n",
    ")\n"
   ]
  },
  {
   "cell_type": "markdown",
   "metadata": {},
   "source": [
    "### Color discrete map"
   ]
  },
  {
   "cell_type": "code",
   "execution_count": 8,
   "metadata": {},
   "outputs": [],
   "source": [
    "def create_color_map(df, category_column):\n",
    "    \"\"\"\n",
    "    Create a color map for unique values in a specified column.\n",
    "\n",
    "    Parameters:\n",
    "    df (pd.DataFrame): The DataFrame containing the data.\n",
    "    category_column (str): The column name with categorical data.\n",
    "\n",
    "    Returns:\n",
    "    color_discrete_map (dict): A dictionary mapping unique categories to colors.\n",
    "    \"\"\"\n",
    "    # Extract unique categories\n",
    "    unique_values_list = df[category_column].unique().tolist()\n",
    "    \n",
    "    # Define a color map\n",
    "    color_map = px.colors.sequential.Jet[:len(unique_values_list)]\n",
    "    color_discrete_map = dict(zip(unique_values_list, color_map))\n",
    "    \n",
    "    return color_discrete_map\n",
    "\n",
    "# Assuming df is your DataFrame and 'category' is the column with unique values\n",
    "color_discrete_map = create_color_map(df, 'category')"
   ]
  },
  {
   "cell_type": "markdown",
   "metadata": {},
   "source": [
    "### Function to create, update and save plots"
   ]
  },
  {
   "cell_type": "code",
   "execution_count": 71,
   "metadata": {},
   "outputs": [],
   "source": [
    "def prepare_and_save_plot(fig, width=600, height=600, template='plotly_dark', \n",
    "                          plot_bgcolor='rgba(0,0,0,0)', paper_bgcolor='rgba(0,0,0,0)', \n",
    "                          font_family=\"Open Sans, sans-serif\", font_size=10, font_color=\"white\", \n",
    "                          hover_template=None, base_filename='plot', auto_open=False, \n",
    "                          counter=1, title=None, xaxis_title=None, yaxis_title=None, \n",
    "                          colorbar_title=None):\n",
    "    \"\"\"\n",
    "    Update the layout of the Plotly figure, set the hover template, and save the plot to an HTML file\n",
    "    with an automatically incremented filename.\n",
    "\n",
    "    Parameters:\n",
    "    fig (go.Figure): The Plotly figure to be updated.\n",
    "    width (int): Width of the figure. Default is 600.\n",
    "    height (int): Height of the figure. Default is 600.\n",
    "    template (str): Plotly template for the figure. Default is 'plotly_dark'.\n",
    "    plot_bgcolor (str): Background color of the plot area. Default is transparent.\n",
    "    paper_bgcolor (str): Background color of the paper area. Default is transparent.\n",
    "    font_family (str): Font family for the text. Default is 'Roboto, sans-serif'.\n",
    "    font_size (int): Font size for the text. Default is 10.\n",
    "    font_color (str): Font color for the text. Default is 'white'.\n",
    "    hover_template (str): Custom hover template for traces. Default is None.\n",
    "    base_filename (str): Base name for the file. Default is 'plot'.\n",
    "    auto_open (bool): Whether to open the file in the browser after saving. Default is False.\n",
    "    counter (int): Counter for incrementing filenames. Default is 1.\n",
    "\n",
    "    Returns:\n",
    "    fig (go.Figure): The updated Plotly figure.\n",
    "    \"\"\"\n",
    "    # Update layout using provided parameters\n",
    "    fig.update_layout(\n",
    "        width=width,\n",
    "        height=height,\n",
    "        template=template,\n",
    "        plot_bgcolor=plot_bgcolor,\n",
    "        paper_bgcolor=paper_bgcolor,\n",
    "        font=dict(\n",
    "            family=font_family,\n",
    "            size=font_size,\n",
    "            color=font_color\n",
    "        ),\n",
    "        title=title,\n",
    "        coloraxis_colorbar_title=colorbar_title,  # Add colorbar legend title\n",
    "        xaxis_title=xaxis_title,\n",
    "        yaxis_title=yaxis_title\n",
    "    )\n",
    "    \n",
    "    # Set custom hover template if provided\n",
    "    if hover_template:\n",
    "        fig.update_traces(\n",
    "            hovertemplate=hover_template\n",
    "        )\n",
    "    \n",
    "    # Generate filename with counter\n",
    "    filename = f'{base_filename}_{counter}.html'\n",
    "    \n",
    "    # Save the figure to an HTML file\n",
    "    pio.write_html(fig, file=filename, auto_open=auto_open)\n",
    "    \n",
    "    return fig"
   ]
  },
  {
   "cell_type": "code",
   "execution_count": 72,
   "metadata": {},
   "outputs": [],
   "source": [
    "def snake_to_title_case(snake_str):\n",
    "    \"\"\"\n",
    "    Convert a snake_case string to Title Case.\n",
    "\n",
    "    Parameters:\n",
    "    snake_str (str): The snake_case string to convert.\n",
    "\n",
    "    Returns:\n",
    "    str: The Title Case string.\n",
    "    \"\"\"\n",
    "    components = snake_str.split('_')\n",
    "    title_str = ' '.join(x.title() for x in components)\n",
    "    return title_str\n",
    "\n",
    "def create_dimension_labels(dimensions):\n",
    "    \"\"\"\n",
    "    Convert a list of snake_case dimension names to Title Case labels.\n",
    "\n",
    "    Parameters:\n",
    "    dimensions (list of str): List of snake_case dimension names.\n",
    "\n",
    "    Returns:\n",
    "    list of str: List of Title Case dimension labels.\n",
    "    \"\"\"\n",
    "    return [snake_to_title_case(dimension) for dimension in dimensions]\n",
    "\n"
   ]
  },
  {
   "cell_type": "code",
   "execution_count": 98,
   "metadata": {},
   "outputs": [],
   "source": [
    "def create_parallel_categories_plot(df, dimensions, color, colorbar_title=None, labels=None):\n",
    "    \"\"\"\n",
    "    Create a parallel categories plot using Plotly Express.\n",
    "\n",
    "    Parameters:\n",
    "    df (pd.DataFrame): The DataFrame containing the data.\n",
    "    dimensions (list of str): List of column names to define the dimensions in the parallel categories plot.\n",
    "    color (str): The column name for colors of the categories.\n",
    "    color_discrete_map (dict): A dictionary mapping unique values in the color column to colors.\n",
    "    custom_data (list of str): List of column names for custom hover data. Default is None.\n",
    "\n",
    "    Returns:\n",
    "    fig (go.Figure): The Plotly parallel categories figure.\n",
    "    \"\"\"\n",
    "    fig = px.parallel_categories(\n",
    "        df,\n",
    "        dimensions=dimensions,\n",
    "        color=color,\n",
    "        labels=labels\n",
    "    )\n",
    "    \n",
    "    return fig"
   ]
  },
  {
   "cell_type": "markdown",
   "metadata": {},
   "source": [
    "### Creating and updating the Sunburst plot for the entire skills section"
   ]
  },
  {
   "cell_type": "code",
   "execution_count": 99,
   "metadata": {},
   "outputs": [
    {
     "data": {
      "application/vnd.plotly.v1+json": {
       "config": {
        "plotlyServerURL": "https://plot.ly"
       },
       "data": [
        {
         "dimensions": [
          {
           "label": "Corporation",
           "values": [
            "Plotly Inc.",
            "Plotly Inc.",
            "Python Community",
            "Python Community",
            "Python Community",
            "Python Community",
            "Explosion AI",
            "Oracle Corporation",
            "SQLite Consortium",
            "Google",
            "Django Foundation",
            "Streamlit Inc.",
            "Python Community",
            "Microsoft",
            "Google",
            "Google",
            "Google",
            "Google",
            "Google",
            "Google",
            "Google",
            "Django Foundation",
            "Google",
            "Microsoft",
            "Microsoft",
            "Salesforce",
            "Bootstrap",
            "Siemens",
            "Autodesk",
            "Ansys"
           ]
          },
          {
           "label": "Domain",
           "values": [
            "Data Analytics",
            "Web Development",
            "Data Analytics",
            "Data Analytics",
            "Data Analytics",
            "Data Analytics",
            "Data Analytics",
            "Data Engineering",
            "Data Engineering",
            "Data Engineering",
            "Web Development",
            "Web Development",
            "Web Development",
            "Web Development",
            "Business Intelligence",
            "Business Intelligence",
            "Business Intelligence",
            "Business Intelligence",
            "Digital Marketing",
            "Digital Marketing",
            "Digital Marketing",
            "Web Development",
            "Digital Marketing",
            "Business Intelligence",
            "Business Intelligence",
            "Business Intelligence",
            "Web Development",
            "Computer Aided Design",
            "Finite Element Method",
            "Computational Fluid Dynamics"
           ]
          },
          {
           "label": "Category",
           "values": [
            "Visualization",
            "Framework",
            "Visualization",
            "Visualization",
            "Analysis",
            "Analysis",
            "Analysis",
            "DB Management",
            "DB Management",
            "Analysis",
            "Framework",
            "Framework",
            "Framework",
            "Framework",
            "Productivity Tools",
            "Productivity Tools",
            "Productivity Tools",
            "Productivity Tools",
            "Performance Optimization",
            "Tag Management",
            "Debugging",
            "Debugging",
            "Debugging",
            "Analysis",
            "Analysis",
            "Analysis",
            "Framework",
            "Product Design",
            "Product Design",
            "Mechanical Analysis"
           ]
          },
          {
           "label": "Tool",
           "values": [
            "Plotly",
            "Dash",
            "Seaborn",
            "Matplotlib",
            "Pandas",
            "Numpy",
            "spaCy",
            "MySQL",
            "SQLite",
            "BigQuery",
            "Django",
            "Streamlit",
            "Pipenv",
            "Powershell",
            "Sheets",
            "Docs",
            "Slides",
            "AppScript",
            "Analytics 4",
            "Tag Manager",
            "Chrome Developer Tools",
            "Django Debug Tools",
            "Analytics Debugger",
            "Power BI",
            "Excel",
            "Tableau",
            "Bootstrap",
            "Siemens NX",
            "Autodesk Fusion",
            "Ansys Workbench"
           ]
          }
         ],
         "domain": {
          "x": [
           0,
           1
          ],
          "y": [
           0,
           1
          ]
         },
         "line": {
          "color": [
           9,
           5,
           4,
           6,
           9,
           4,
           3,
           4,
           5,
           8,
           7,
           8,
           7,
           7,
           10,
           10,
           10,
           10,
           9,
           9,
           8,
           5,
           10,
           6,
           8,
           6,
           6,
           9,
           10,
           7
          ],
          "coloraxis": "coloraxis"
         },
         "name": "",
         "type": "parcats"
        }
       ],
       "layout": {
        "coloraxis": {
         "colorbar": {
          "title": {
           "text": "Level"
          }
         },
         "colorscale": [
          [
           0,
           "#0d0887"
          ],
          [
           0.1111111111111111,
           "#46039f"
          ],
          [
           0.2222222222222222,
           "#7201a8"
          ],
          [
           0.3333333333333333,
           "#9c179e"
          ],
          [
           0.4444444444444444,
           "#bd3786"
          ],
          [
           0.5555555555555556,
           "#d8576b"
          ],
          [
           0.6666666666666666,
           "#ed7953"
          ],
          [
           0.7777777777777778,
           "#fb9f3a"
          ],
          [
           0.8888888888888888,
           "#fdca26"
          ],
          [
           1,
           "#f0f921"
          ]
         ]
        },
        "font": {
         "color": "white",
         "family": "Open Sans, sans-serif",
         "size": 10
        },
        "height": 650,
        "legend": {
         "tracegroupgap": 0
        },
        "margin": {
         "t": 60
        },
        "paper_bgcolor": "rgba(0,0,0,0)",
        "plot_bgcolor": "rgba(0,0,0,0)",
        "template": {
         "data": {
          "bar": [
           {
            "error_x": {
             "color": "#f2f5fa"
            },
            "error_y": {
             "color": "#f2f5fa"
            },
            "marker": {
             "line": {
              "color": "rgb(17,17,17)",
              "width": 0.5
             },
             "pattern": {
              "fillmode": "overlay",
              "size": 10,
              "solidity": 0.2
             }
            },
            "type": "bar"
           }
          ],
          "barpolar": [
           {
            "marker": {
             "line": {
              "color": "rgb(17,17,17)",
              "width": 0.5
             },
             "pattern": {
              "fillmode": "overlay",
              "size": 10,
              "solidity": 0.2
             }
            },
            "type": "barpolar"
           }
          ],
          "carpet": [
           {
            "aaxis": {
             "endlinecolor": "#A2B1C6",
             "gridcolor": "#506784",
             "linecolor": "#506784",
             "minorgridcolor": "#506784",
             "startlinecolor": "#A2B1C6"
            },
            "baxis": {
             "endlinecolor": "#A2B1C6",
             "gridcolor": "#506784",
             "linecolor": "#506784",
             "minorgridcolor": "#506784",
             "startlinecolor": "#A2B1C6"
            },
            "type": "carpet"
           }
          ],
          "choropleth": [
           {
            "colorbar": {
             "outlinewidth": 0,
             "ticks": ""
            },
            "type": "choropleth"
           }
          ],
          "contour": [
           {
            "colorbar": {
             "outlinewidth": 0,
             "ticks": ""
            },
            "colorscale": [
             [
              0,
              "#0d0887"
             ],
             [
              0.1111111111111111,
              "#46039f"
             ],
             [
              0.2222222222222222,
              "#7201a8"
             ],
             [
              0.3333333333333333,
              "#9c179e"
             ],
             [
              0.4444444444444444,
              "#bd3786"
             ],
             [
              0.5555555555555556,
              "#d8576b"
             ],
             [
              0.6666666666666666,
              "#ed7953"
             ],
             [
              0.7777777777777778,
              "#fb9f3a"
             ],
             [
              0.8888888888888888,
              "#fdca26"
             ],
             [
              1,
              "#f0f921"
             ]
            ],
            "type": "contour"
           }
          ],
          "contourcarpet": [
           {
            "colorbar": {
             "outlinewidth": 0,
             "ticks": ""
            },
            "type": "contourcarpet"
           }
          ],
          "heatmap": [
           {
            "colorbar": {
             "outlinewidth": 0,
             "ticks": ""
            },
            "colorscale": [
             [
              0,
              "#0d0887"
             ],
             [
              0.1111111111111111,
              "#46039f"
             ],
             [
              0.2222222222222222,
              "#7201a8"
             ],
             [
              0.3333333333333333,
              "#9c179e"
             ],
             [
              0.4444444444444444,
              "#bd3786"
             ],
             [
              0.5555555555555556,
              "#d8576b"
             ],
             [
              0.6666666666666666,
              "#ed7953"
             ],
             [
              0.7777777777777778,
              "#fb9f3a"
             ],
             [
              0.8888888888888888,
              "#fdca26"
             ],
             [
              1,
              "#f0f921"
             ]
            ],
            "type": "heatmap"
           }
          ],
          "heatmapgl": [
           {
            "colorbar": {
             "outlinewidth": 0,
             "ticks": ""
            },
            "colorscale": [
             [
              0,
              "#0d0887"
             ],
             [
              0.1111111111111111,
              "#46039f"
             ],
             [
              0.2222222222222222,
              "#7201a8"
             ],
             [
              0.3333333333333333,
              "#9c179e"
             ],
             [
              0.4444444444444444,
              "#bd3786"
             ],
             [
              0.5555555555555556,
              "#d8576b"
             ],
             [
              0.6666666666666666,
              "#ed7953"
             ],
             [
              0.7777777777777778,
              "#fb9f3a"
             ],
             [
              0.8888888888888888,
              "#fdca26"
             ],
             [
              1,
              "#f0f921"
             ]
            ],
            "type": "heatmapgl"
           }
          ],
          "histogram": [
           {
            "marker": {
             "pattern": {
              "fillmode": "overlay",
              "size": 10,
              "solidity": 0.2
             }
            },
            "type": "histogram"
           }
          ],
          "histogram2d": [
           {
            "colorbar": {
             "outlinewidth": 0,
             "ticks": ""
            },
            "colorscale": [
             [
              0,
              "#0d0887"
             ],
             [
              0.1111111111111111,
              "#46039f"
             ],
             [
              0.2222222222222222,
              "#7201a8"
             ],
             [
              0.3333333333333333,
              "#9c179e"
             ],
             [
              0.4444444444444444,
              "#bd3786"
             ],
             [
              0.5555555555555556,
              "#d8576b"
             ],
             [
              0.6666666666666666,
              "#ed7953"
             ],
             [
              0.7777777777777778,
              "#fb9f3a"
             ],
             [
              0.8888888888888888,
              "#fdca26"
             ],
             [
              1,
              "#f0f921"
             ]
            ],
            "type": "histogram2d"
           }
          ],
          "histogram2dcontour": [
           {
            "colorbar": {
             "outlinewidth": 0,
             "ticks": ""
            },
            "colorscale": [
             [
              0,
              "#0d0887"
             ],
             [
              0.1111111111111111,
              "#46039f"
             ],
             [
              0.2222222222222222,
              "#7201a8"
             ],
             [
              0.3333333333333333,
              "#9c179e"
             ],
             [
              0.4444444444444444,
              "#bd3786"
             ],
             [
              0.5555555555555556,
              "#d8576b"
             ],
             [
              0.6666666666666666,
              "#ed7953"
             ],
             [
              0.7777777777777778,
              "#fb9f3a"
             ],
             [
              0.8888888888888888,
              "#fdca26"
             ],
             [
              1,
              "#f0f921"
             ]
            ],
            "type": "histogram2dcontour"
           }
          ],
          "mesh3d": [
           {
            "colorbar": {
             "outlinewidth": 0,
             "ticks": ""
            },
            "type": "mesh3d"
           }
          ],
          "parcoords": [
           {
            "line": {
             "colorbar": {
              "outlinewidth": 0,
              "ticks": ""
             }
            },
            "type": "parcoords"
           }
          ],
          "pie": [
           {
            "automargin": true,
            "type": "pie"
           }
          ],
          "scatter": [
           {
            "marker": {
             "line": {
              "color": "#283442"
             }
            },
            "type": "scatter"
           }
          ],
          "scatter3d": [
           {
            "line": {
             "colorbar": {
              "outlinewidth": 0,
              "ticks": ""
             }
            },
            "marker": {
             "colorbar": {
              "outlinewidth": 0,
              "ticks": ""
             }
            },
            "type": "scatter3d"
           }
          ],
          "scattercarpet": [
           {
            "marker": {
             "colorbar": {
              "outlinewidth": 0,
              "ticks": ""
             }
            },
            "type": "scattercarpet"
           }
          ],
          "scattergeo": [
           {
            "marker": {
             "colorbar": {
              "outlinewidth": 0,
              "ticks": ""
             }
            },
            "type": "scattergeo"
           }
          ],
          "scattergl": [
           {
            "marker": {
             "line": {
              "color": "#283442"
             }
            },
            "type": "scattergl"
           }
          ],
          "scattermapbox": [
           {
            "marker": {
             "colorbar": {
              "outlinewidth": 0,
              "ticks": ""
             }
            },
            "type": "scattermapbox"
           }
          ],
          "scatterpolar": [
           {
            "marker": {
             "colorbar": {
              "outlinewidth": 0,
              "ticks": ""
             }
            },
            "type": "scatterpolar"
           }
          ],
          "scatterpolargl": [
           {
            "marker": {
             "colorbar": {
              "outlinewidth": 0,
              "ticks": ""
             }
            },
            "type": "scatterpolargl"
           }
          ],
          "scatterternary": [
           {
            "marker": {
             "colorbar": {
              "outlinewidth": 0,
              "ticks": ""
             }
            },
            "type": "scatterternary"
           }
          ],
          "surface": [
           {
            "colorbar": {
             "outlinewidth": 0,
             "ticks": ""
            },
            "colorscale": [
             [
              0,
              "#0d0887"
             ],
             [
              0.1111111111111111,
              "#46039f"
             ],
             [
              0.2222222222222222,
              "#7201a8"
             ],
             [
              0.3333333333333333,
              "#9c179e"
             ],
             [
              0.4444444444444444,
              "#bd3786"
             ],
             [
              0.5555555555555556,
              "#d8576b"
             ],
             [
              0.6666666666666666,
              "#ed7953"
             ],
             [
              0.7777777777777778,
              "#fb9f3a"
             ],
             [
              0.8888888888888888,
              "#fdca26"
             ],
             [
              1,
              "#f0f921"
             ]
            ],
            "type": "surface"
           }
          ],
          "table": [
           {
            "cells": {
             "fill": {
              "color": "#506784"
             },
             "line": {
              "color": "rgb(17,17,17)"
             }
            },
            "header": {
             "fill": {
              "color": "#2a3f5f"
             },
             "line": {
              "color": "rgb(17,17,17)"
             }
            },
            "type": "table"
           }
          ]
         },
         "layout": {
          "annotationdefaults": {
           "arrowcolor": "#f2f5fa",
           "arrowhead": 0,
           "arrowwidth": 1
          },
          "autotypenumbers": "strict",
          "coloraxis": {
           "colorbar": {
            "outlinewidth": 0,
            "ticks": ""
           }
          },
          "colorscale": {
           "diverging": [
            [
             0,
             "#8e0152"
            ],
            [
             0.1,
             "#c51b7d"
            ],
            [
             0.2,
             "#de77ae"
            ],
            [
             0.3,
             "#f1b6da"
            ],
            [
             0.4,
             "#fde0ef"
            ],
            [
             0.5,
             "#f7f7f7"
            ],
            [
             0.6,
             "#e6f5d0"
            ],
            [
             0.7,
             "#b8e186"
            ],
            [
             0.8,
             "#7fbc41"
            ],
            [
             0.9,
             "#4d9221"
            ],
            [
             1,
             "#276419"
            ]
           ],
           "sequential": [
            [
             0,
             "#0d0887"
            ],
            [
             0.1111111111111111,
             "#46039f"
            ],
            [
             0.2222222222222222,
             "#7201a8"
            ],
            [
             0.3333333333333333,
             "#9c179e"
            ],
            [
             0.4444444444444444,
             "#bd3786"
            ],
            [
             0.5555555555555556,
             "#d8576b"
            ],
            [
             0.6666666666666666,
             "#ed7953"
            ],
            [
             0.7777777777777778,
             "#fb9f3a"
            ],
            [
             0.8888888888888888,
             "#fdca26"
            ],
            [
             1,
             "#f0f921"
            ]
           ],
           "sequentialminus": [
            [
             0,
             "#0d0887"
            ],
            [
             0.1111111111111111,
             "#46039f"
            ],
            [
             0.2222222222222222,
             "#7201a8"
            ],
            [
             0.3333333333333333,
             "#9c179e"
            ],
            [
             0.4444444444444444,
             "#bd3786"
            ],
            [
             0.5555555555555556,
             "#d8576b"
            ],
            [
             0.6666666666666666,
             "#ed7953"
            ],
            [
             0.7777777777777778,
             "#fb9f3a"
            ],
            [
             0.8888888888888888,
             "#fdca26"
            ],
            [
             1,
             "#f0f921"
            ]
           ]
          },
          "colorway": [
           "#636efa",
           "#EF553B",
           "#00cc96",
           "#ab63fa",
           "#FFA15A",
           "#19d3f3",
           "#FF6692",
           "#B6E880",
           "#FF97FF",
           "#FECB52"
          ],
          "font": {
           "color": "#f2f5fa"
          },
          "geo": {
           "bgcolor": "rgb(17,17,17)",
           "lakecolor": "rgb(17,17,17)",
           "landcolor": "rgb(17,17,17)",
           "showlakes": true,
           "showland": true,
           "subunitcolor": "#506784"
          },
          "hoverlabel": {
           "align": "left"
          },
          "hovermode": "closest",
          "mapbox": {
           "style": "dark"
          },
          "paper_bgcolor": "rgb(17,17,17)",
          "plot_bgcolor": "rgb(17,17,17)",
          "polar": {
           "angularaxis": {
            "gridcolor": "#506784",
            "linecolor": "#506784",
            "ticks": ""
           },
           "bgcolor": "rgb(17,17,17)",
           "radialaxis": {
            "gridcolor": "#506784",
            "linecolor": "#506784",
            "ticks": ""
           }
          },
          "scene": {
           "xaxis": {
            "backgroundcolor": "rgb(17,17,17)",
            "gridcolor": "#506784",
            "gridwidth": 2,
            "linecolor": "#506784",
            "showbackground": true,
            "ticks": "",
            "zerolinecolor": "#C8D4E3"
           },
           "yaxis": {
            "backgroundcolor": "rgb(17,17,17)",
            "gridcolor": "#506784",
            "gridwidth": 2,
            "linecolor": "#506784",
            "showbackground": true,
            "ticks": "",
            "zerolinecolor": "#C8D4E3"
           },
           "zaxis": {
            "backgroundcolor": "rgb(17,17,17)",
            "gridcolor": "#506784",
            "gridwidth": 2,
            "linecolor": "#506784",
            "showbackground": true,
            "ticks": "",
            "zerolinecolor": "#C8D4E3"
           }
          },
          "shapedefaults": {
           "line": {
            "color": "#f2f5fa"
           }
          },
          "sliderdefaults": {
           "bgcolor": "#C8D4E3",
           "bordercolor": "rgb(17,17,17)",
           "borderwidth": 1,
           "tickwidth": 0
          },
          "ternary": {
           "aaxis": {
            "gridcolor": "#506784",
            "linecolor": "#506784",
            "ticks": ""
           },
           "baxis": {
            "gridcolor": "#506784",
            "linecolor": "#506784",
            "ticks": ""
           },
           "bgcolor": "rgb(17,17,17)",
           "caxis": {
            "gridcolor": "#506784",
            "linecolor": "#506784",
            "ticks": ""
           }
          },
          "title": {
           "x": 0.05
          },
          "updatemenudefaults": {
           "bgcolor": "#506784",
           "borderwidth": 0
          },
          "xaxis": {
           "automargin": true,
           "gridcolor": "#283442",
           "linecolor": "#506784",
           "ticks": "",
           "title": {
            "standoff": 15
           },
           "zerolinecolor": "#283442",
           "zerolinewidth": 2
          },
          "yaxis": {
           "automargin": true,
           "gridcolor": "#283442",
           "linecolor": "#506784",
           "ticks": "",
           "title": {
            "standoff": 15
           },
           "zerolinecolor": "#283442",
           "zerolinewidth": 2
          }
         }
        },
        "title": {},
        "width": 1150,
        "xaxis": {
         "title": {}
        },
        "yaxis": {
         "title": {}
        }
       }
      }
     },
     "metadata": {},
     "output_type": "display_data"
    }
   ],
   "source": [
    "dimensions = ['software_manufacturer', 'domain', 'category', 'tool']\n",
    "color = 'proficiency_level'\n",
    "colorbar_title = 'Level'\n",
    "\n",
    "fig = create_parallel_categories_plot(\n",
    "    df,\n",
    "    dimensions=dimensions,\n",
    "    color=color,\n",
    "    colorbar_title=colorbar_title,\n",
    "    labels = {\n",
    "    'software_manufacturer': 'Corporation',\n",
    "    'domain': 'Domain',\n",
    "    'category': 'Category',\n",
    "    'tool': 'Tool'\n",
    "    }\n",
    ")\n",
    "\n",
    "prepare_and_save_plot(\n",
    "    fig,\n",
    "    width=1150,\n",
    "    height=650,\n",
    "    #title=\"Skill Distribution and Proficiency \",\n",
    "    base_filename='parallel_categories_plot',\n",
    "    auto_open=True,\n",
    "    counter='skills',\n",
    "    colorbar_title=colorbar_title\n",
    ")"
   ]
  },
  {
   "cell_type": "code",
   "execution_count": null,
   "metadata": {},
   "outputs": [],
   "source": []
  }
 ],
 "metadata": {
  "kernelspec": {
   "display_name": "django-kUVbt2HO",
   "language": "python",
   "name": "python3"
  },
  "language_info": {
   "codemirror_mode": {
    "name": "ipython",
    "version": 3
   },
   "file_extension": ".py",
   "mimetype": "text/x-python",
   "name": "python",
   "nbconvert_exporter": "python",
   "pygments_lexer": "ipython3",
   "version": "3.10.12"
  }
 },
 "nbformat": 4,
 "nbformat_minor": 2
}
