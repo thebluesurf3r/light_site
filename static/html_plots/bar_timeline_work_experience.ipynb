{
 "cells": [
  {
   "cell_type": "code",
   "execution_count": 19,
   "metadata": {},
   "outputs": [],
   "source": [
    "import pandas as pd\n",
    "import re\n",
    "import plotly.express as px\n",
    "import plotly.graph_objects as go\n",
    "import plotly.io as pio"
   ]
  },
  {
   "cell_type": "markdown",
   "metadata": {},
   "source": [
    "### Create a Pandas dataFrame"
   ]
  },
  {
   "cell_type": "code",
   "execution_count": 20,
   "metadata": {},
   "outputs": [],
   "source": [
    "data = {\n",
    "    'organization': ['Cognizant Technology Solutions', 'Aakarist Pvt Ltd', 'WNS Global Services'],\n",
    "\n",
    "    'designation': ['Reporting and Data Analyst', 'Senior Analyst', 'Analyst'],\n",
    "\n",
    "    'start_date': ['2022-04-01', '2020-09-01', '2019-02-01'],\n",
    "\n",
    "    'end_date': ['2024-10-01', '2022-03-01', '2020-09-01']\n",
    "    }\n",
    "\n",
    "# Convert to DataFrame\n",
    "df = pd.DataFrame(data)"
   ]
  },
  {
   "cell_type": "markdown",
   "metadata": {},
   "source": [
    "### Tenure calculation and mapping"
   ]
  },
  {
   "cell_type": "code",
   "execution_count": 21,
   "metadata": {},
   "outputs": [
    {
     "data": {
      "text/html": [
       "<div>\n",
       "<style scoped>\n",
       "    .dataframe tbody tr th:only-of-type {\n",
       "        vertical-align: middle;\n",
       "    }\n",
       "\n",
       "    .dataframe tbody tr th {\n",
       "        vertical-align: top;\n",
       "    }\n",
       "\n",
       "    .dataframe thead th {\n",
       "        text-align: right;\n",
       "    }\n",
       "</style>\n",
       "<table border=\"1\" class=\"dataframe\">\n",
       "  <thead>\n",
       "    <tr style=\"text-align: right;\">\n",
       "      <th></th>\n",
       "      <th>organization</th>\n",
       "      <th>designation</th>\n",
       "      <th>start_date</th>\n",
       "      <th>end_date</th>\n",
       "      <th>tenure_months</th>\n",
       "      <th>mapped_tenure</th>\n",
       "    </tr>\n",
       "  </thead>\n",
       "  <tbody>\n",
       "    <tr>\n",
       "      <th>0</th>\n",
       "      <td>Cognizant Technology Solutions</td>\n",
       "      <td>Reporting and Data Analyst</td>\n",
       "      <td>2022-04-01</td>\n",
       "      <td>2024-10-01</td>\n",
       "      <td>30</td>\n",
       "      <td>Senior Role</td>\n",
       "    </tr>\n",
       "    <tr>\n",
       "      <th>1</th>\n",
       "      <td>Aakarist Pvt Ltd</td>\n",
       "      <td>Senior Analyst</td>\n",
       "      <td>2020-09-01</td>\n",
       "      <td>2022-03-01</td>\n",
       "      <td>17</td>\n",
       "      <td>Mid-Level Role</td>\n",
       "    </tr>\n",
       "    <tr>\n",
       "      <th>2</th>\n",
       "      <td>WNS Global Services</td>\n",
       "      <td>Analyst</td>\n",
       "      <td>2019-02-01</td>\n",
       "      <td>2020-09-01</td>\n",
       "      <td>18</td>\n",
       "      <td>Junior Role</td>\n",
       "    </tr>\n",
       "  </tbody>\n",
       "</table>\n",
       "</div>"
      ],
      "text/plain": [
       "                     organization                 designation start_date  \\\n",
       "0  Cognizant Technology Solutions  Reporting and Data Analyst 2022-04-01   \n",
       "1                Aakarist Pvt Ltd              Senior Analyst 2020-09-01   \n",
       "2             WNS Global Services                     Analyst 2019-02-01   \n",
       "\n",
       "    end_date  tenure_months   mapped_tenure  \n",
       "0 2024-10-01             30     Senior Role  \n",
       "1 2022-03-01             17  Mid-Level Role  \n",
       "2 2020-09-01             18     Junior Role  "
      ]
     },
     "execution_count": 21,
     "metadata": {},
     "output_type": "execute_result"
    }
   ],
   "source": [
    "def calculate_and_map_tenure(df, start_date_col, end_date_col, organization_col, tenure_mapping):\n",
    "    \"\"\"\n",
    "    Calculate the tenure in months, convert to integer, and map it based on the organization name.\n",
    "\n",
    "    Parameters:\n",
    "    df (pd.DataFrame): The DataFrame containing the data.\n",
    "    start_date_col (str): The column name for the start date.\n",
    "    end_date_col (str): The column name for the end date.\n",
    "    organization_col (str): The column name for the organization name.\n",
    "    tenure_mapping (dict): A dictionary mapping organization names to mapped tenure values.\n",
    "\n",
    "    Returns:\n",
    "    pd.DataFrame: The DataFrame with the calculated tenure in months and mapped tenure values.\n",
    "    \"\"\"\n",
    "    # Convert start_date and end_date columns to datetime format\n",
    "    df[start_date_col] = pd.to_datetime(df[start_date_col])\n",
    "    df[end_date_col] = pd.to_datetime(df[end_date_col])\n",
    "\n",
    "    # Calculate the tenure in months and convert to integer\n",
    "    df['tenure_months'] = ((df[end_date_col] - df[start_date_col]).dt.days / 30.44).astype(int)\n",
    "\n",
    "    # Apply the tenure mapping based on organization name\n",
    "    df['mapped_tenure'] = df[organization_col].map(tenure_mapping)\n",
    "\n",
    "    return df\n",
    "\n",
    "tenure_mapping = {\n",
    "    'Cognizant Technology Solutions': 'Senior Role',\n",
    "    'Aakarist Pvt Ltd': 'Mid-Level Role',\n",
    "    'WNS Global Services': 'Junior Role',\n",
    "}\n",
    "\n",
    "# Usage\n",
    "df = calculate_and_map_tenure(df, 'start_date', 'end_date', 'organization', tenure_mapping)\n",
    "\n",
    "df.head(5)"
   ]
  },
  {
   "cell_type": "code",
   "execution_count": 22,
   "metadata": {},
   "outputs": [],
   "source": [
    "responsibilities_mapping = {\n",
    "    'Cognizant Technology Solutions': [\n",
    "        \"Led the analysis and reporting of key business metrics, ensuring data accuracy.\",\n",
    "        \"Collaborated with cross-functional teams to identify data requirements.\",\n",
    "        \"Developed automated reporting solutions, reducing manual workload by 50%.\"\n",
    "    ],\n",
    "    'Aakarist Pvt Ltd': [\n",
    "        \"Conducted in-depth data analysis to drive business insights.\",\n",
    "        \"Optimized data collection processes, improving efficiency by 30%.\",\n",
    "        \"Presented findings to senior management, influencing strategic decisions.\"\n",
    "    ],\n",
    "    'WNS Global Services': [\n",
    "        \"Performed data analysis to support decision-making.\",\n",
    "        \"Maintained data integrity and accuracy across multiple datasets.\",\n",
    "        \"Provided actionable insights to stakeholders based on data trends.\"\n",
    "    ]\n",
    "}\n",
    "\n",
    "# Map the responsibilities to the DataFrame\n",
    "df['responsibilities'] = df['organization'].map(responsibilities_mapping)\n"
   ]
  },
  {
   "cell_type": "code",
   "execution_count": 23,
   "metadata": {},
   "outputs": [
    {
     "data": {
      "text/html": [
       "<div>\n",
       "<style scoped>\n",
       "    .dataframe tbody tr th:only-of-type {\n",
       "        vertical-align: middle;\n",
       "    }\n",
       "\n",
       "    .dataframe tbody tr th {\n",
       "        vertical-align: top;\n",
       "    }\n",
       "\n",
       "    .dataframe thead th {\n",
       "        text-align: right;\n",
       "    }\n",
       "</style>\n",
       "<table border=\"1\" class=\"dataframe\">\n",
       "  <thead>\n",
       "    <tr style=\"text-align: right;\">\n",
       "      <th></th>\n",
       "      <th>organization</th>\n",
       "      <th>designation</th>\n",
       "      <th>start_date</th>\n",
       "      <th>end_date</th>\n",
       "      <th>tenure_months</th>\n",
       "      <th>mapped_tenure</th>\n",
       "      <th>responsibilities</th>\n",
       "    </tr>\n",
       "  </thead>\n",
       "  <tbody>\n",
       "    <tr>\n",
       "      <th>0</th>\n",
       "      <td>Cognizant Technology Solutions</td>\n",
       "      <td>Reporting and Data Analyst</td>\n",
       "      <td>2022-04-01</td>\n",
       "      <td>2024-10-01</td>\n",
       "      <td>30</td>\n",
       "      <td>Senior Role</td>\n",
       "      <td>[Led the analysis and reporting of key busines...</td>\n",
       "    </tr>\n",
       "    <tr>\n",
       "      <th>1</th>\n",
       "      <td>Aakarist Pvt Ltd</td>\n",
       "      <td>Senior Analyst</td>\n",
       "      <td>2020-09-01</td>\n",
       "      <td>2022-03-01</td>\n",
       "      <td>17</td>\n",
       "      <td>Mid-Level Role</td>\n",
       "      <td>[Conducted in-depth data analysis to drive bus...</td>\n",
       "    </tr>\n",
       "    <tr>\n",
       "      <th>2</th>\n",
       "      <td>WNS Global Services</td>\n",
       "      <td>Analyst</td>\n",
       "      <td>2019-02-01</td>\n",
       "      <td>2020-09-01</td>\n",
       "      <td>18</td>\n",
       "      <td>Junior Role</td>\n",
       "      <td>[Performed data analysis to support decision-m...</td>\n",
       "    </tr>\n",
       "  </tbody>\n",
       "</table>\n",
       "</div>"
      ],
      "text/plain": [
       "                     organization                 designation start_date  \\\n",
       "0  Cognizant Technology Solutions  Reporting and Data Analyst 2022-04-01   \n",
       "1                Aakarist Pvt Ltd              Senior Analyst 2020-09-01   \n",
       "2             WNS Global Services                     Analyst 2019-02-01   \n",
       "\n",
       "    end_date  tenure_months   mapped_tenure  \\\n",
       "0 2024-10-01             30     Senior Role   \n",
       "1 2022-03-01             17  Mid-Level Role   \n",
       "2 2020-09-01             18     Junior Role   \n",
       "\n",
       "                                    responsibilities  \n",
       "0  [Led the analysis and reporting of key busines...  \n",
       "1  [Conducted in-depth data analysis to drive bus...  \n",
       "2  [Performed data analysis to support decision-m...  "
      ]
     },
     "execution_count": 23,
     "metadata": {},
     "output_type": "execute_result"
    }
   ],
   "source": [
    "df.head(10)"
   ]
  },
  {
   "cell_type": "markdown",
   "metadata": {},
   "source": [
    "### Export the dataFrame to csv and Pickle"
   ]
  },
  {
   "cell_type": "code",
   "execution_count": 24,
   "metadata": {},
   "outputs": [
    {
     "name": "stdout",
     "output_type": "stream",
     "text": [
      "DataFrame exported to pickle file: data_work_experience.pkl\n",
      "DataFrame exported to CSV file: data_work_experience.csv\n"
     ]
    }
   ],
   "source": [
    "def export_dataframe(df, pickle_file_path, csv_file_path):\n",
    "    \"\"\"\n",
    "    Export a DataFrame to both a pickle file and a CSV file.\n",
    "\n",
    "    Parameters:\n",
    "    df (pd.DataFrame): The DataFrame to export.\n",
    "    pickle_file_path (str): The file path where the pickle file will be saved.\n",
    "    csv_file_path (str): The file path where the CSV file will be saved.\n",
    "    \"\"\"\n",
    "    # Export to pickle file\n",
    "    df.to_pickle(pickle_file_path)\n",
    "    print(f\"DataFrame exported to pickle file: {pickle_file_path}\")\n",
    "\n",
    "    # Export to CSV file\n",
    "    df.to_csv(csv_file_path, index=False)\n",
    "    print(f\"DataFrame exported to CSV file: {csv_file_path}\")\n",
    "\n",
    "\n",
    "# Assume df is your DataFrame\n",
    "pickle_path = 'data_work_experience.pkl'\n",
    "csv_path = 'data_work_experience.csv'\n",
    "\n",
    "export_dataframe(df, pickle_path, csv_path)\n"
   ]
  },
  {
   "cell_type": "markdown",
   "metadata": {},
   "source": [
    "### Load data from a Pickle file"
   ]
  },
  {
   "cell_type": "code",
   "execution_count": 39,
   "metadata": {},
   "outputs": [
    {
     "data": {
      "text/html": [
       "<div>\n",
       "<style scoped>\n",
       "    .dataframe tbody tr th:only-of-type {\n",
       "        vertical-align: middle;\n",
       "    }\n",
       "\n",
       "    .dataframe tbody tr th {\n",
       "        vertical-align: top;\n",
       "    }\n",
       "\n",
       "    .dataframe thead th {\n",
       "        text-align: right;\n",
       "    }\n",
       "</style>\n",
       "<table border=\"1\" class=\"dataframe\">\n",
       "  <thead>\n",
       "    <tr style=\"text-align: right;\">\n",
       "      <th></th>\n",
       "      <th>organization</th>\n",
       "      <th>designation</th>\n",
       "      <th>start_date</th>\n",
       "      <th>end_date</th>\n",
       "      <th>tenure_months</th>\n",
       "      <th>mapped_tenure</th>\n",
       "      <th>responsibilities</th>\n",
       "    </tr>\n",
       "  </thead>\n",
       "  <tbody>\n",
       "    <tr>\n",
       "      <th>0</th>\n",
       "      <td>Cognizant Technology Solutions</td>\n",
       "      <td>Reporting and Data Analyst</td>\n",
       "      <td>2022-04-01</td>\n",
       "      <td>2024-10-01</td>\n",
       "      <td>30</td>\n",
       "      <td>Senior Role</td>\n",
       "      <td>[Led the analysis and reporting of key busines...</td>\n",
       "    </tr>\n",
       "    <tr>\n",
       "      <th>1</th>\n",
       "      <td>Aakarist Pvt Ltd</td>\n",
       "      <td>Senior Analyst</td>\n",
       "      <td>2020-09-01</td>\n",
       "      <td>2022-03-01</td>\n",
       "      <td>17</td>\n",
       "      <td>Mid-Level Role</td>\n",
       "      <td>[Conducted in-depth data analysis to drive bus...</td>\n",
       "    </tr>\n",
       "    <tr>\n",
       "      <th>2</th>\n",
       "      <td>WNS Global Services</td>\n",
       "      <td>Analyst</td>\n",
       "      <td>2019-02-01</td>\n",
       "      <td>2020-09-01</td>\n",
       "      <td>18</td>\n",
       "      <td>Junior Role</td>\n",
       "      <td>[Performed data analysis to support decision-m...</td>\n",
       "    </tr>\n",
       "  </tbody>\n",
       "</table>\n",
       "</div>"
      ],
      "text/plain": [
       "                     organization                 designation start_date  \\\n",
       "0  Cognizant Technology Solutions  Reporting and Data Analyst 2022-04-01   \n",
       "1                Aakarist Pvt Ltd              Senior Analyst 2020-09-01   \n",
       "2             WNS Global Services                     Analyst 2019-02-01   \n",
       "\n",
       "    end_date  tenure_months   mapped_tenure  \\\n",
       "0 2024-10-01             30     Senior Role   \n",
       "1 2022-03-01             17  Mid-Level Role   \n",
       "2 2020-09-01             18     Junior Role   \n",
       "\n",
       "                                    responsibilities  \n",
       "0  [Led the analysis and reporting of key busines...  \n",
       "1  [Conducted in-depth data analysis to drive bus...  \n",
       "2  [Performed data analysis to support decision-m...  "
      ]
     },
     "execution_count": 39,
     "metadata": {},
     "output_type": "execute_result"
    }
   ],
   "source": [
    "\n",
    "def load_data(file_path):\n",
    "    \"\"\"\n",
    "    Load data from a CSV file.\n",
    "\n",
    "    Parameters:\n",
    "    file_path (str): The path to the CSV file.\n",
    "\n",
    "    Returns:\n",
    "    df (pd.DataFrame): The loaded DataFrame.\n",
    "    \"\"\"\n",
    "    df = pd.read_pickle(file_path)\n",
    "    return df\n",
    "\n",
    "file_path = 'data_work_experience.pkl'\n",
    "df = load_data(file_path)\n",
    "\n",
    "df.head(3)"
   ]
  },
  {
   "cell_type": "markdown",
   "metadata": {},
   "source": [
    "### Custom hover text function"
   ]
  },
  {
   "cell_type": "code",
   "execution_count": 40,
   "metadata": {},
   "outputs": [],
   "source": [
    "def generate_custom_hover(row):\n",
    "    responsibilities_text = '<br>'.join(row.get('responsibilities', []))  # Handle missing 'responsibilities' key\n",
    "    return (\n",
    "        f\"Organization: {row.get('organization', 'N/A')}<br>\"\n",
    "        f\"Designation: {row.get('designation', 'N/A')}<br>\"\n",
    "        f\"Start Date: {row.get('start_date', 'N/A')}<br>\"\n",
    "        f\"End Date: {row.get('end_date', 'N/A')}<br>\"\n",
    "        f\"Tenure (Months): {row.get('tenure_months', 'N/A')}<br>\"\n",
    "        f\"Job Level: {row.get('mapped_tenure', 'N/A')}<br>\"\n",
    "        f\"Responsibilities:<br>{responsibilities_text}\"\n",
    "    )\n",
    "\n",
    "# Apply the function to generate hover text\n",
    "df['hover_template'] = df.apply(generate_custom_hover, axis=1)\n"
   ]
  },
  {
   "cell_type": "markdown",
   "metadata": {},
   "source": [
    "### Color discrete map"
   ]
  },
  {
   "cell_type": "code",
   "execution_count": 41,
   "metadata": {},
   "outputs": [],
   "source": [
    "def create_color_map(df, category_column):\n",
    "    \"\"\"\n",
    "    Create a color map for unique values in a specified column.\n",
    "\n",
    "    Parameters:\n",
    "    df (pd.DataFrame): The DataFrame containing the data.\n",
    "    category_column (str): The column name with categorical data.\n",
    "\n",
    "    Returns:\n",
    "    color_discrete_map (dict): A dictionary mapping unique categories to colors.\n",
    "    \"\"\"\n",
    "    # Extract unique categories\n",
    "    unique_values_list = df[category_column].unique().tolist()\n",
    "    \n",
    "    # Define a color map\n",
    "    color_map = px.colors.sequential.Jet[:len(unique_values_list)]\n",
    "    color_discrete_map = dict(zip(unique_values_list, color_map))\n",
    "    \n",
    "    return color_discrete_map\n",
    "\n",
    "# Assuming df is your DataFrame and 'category' = 'mapped_tenure' is the column with unique values\n",
    "color_discrete_map = create_color_map(df, 'tenure_months')"
   ]
  },
  {
   "cell_type": "markdown",
   "metadata": {},
   "source": [
    "### Function to create, update and save plots"
   ]
  },
  {
   "cell_type": "code",
   "execution_count": 42,
   "metadata": {},
   "outputs": [],
   "source": [
    "def prepare_and_save_plot(fig, width=600, height=600, template='plotly_dark', \n",
    "                          plot_bgcolor='rgba(0,0,0,0)', paper_bgcolor='rgba(0,0,0,0)', \n",
    "                          font_family=\"Open Sans, sans-serif\", font_size=10, font_color=\"white\", \n",
    "                          hover_template=None,  # Changed to None by default\n",
    "                          base_filename='plot', auto_open=False, counter=1, \n",
    "                          title=None, xaxis_title=None, yaxis_title=None,\n",
    "                          legend_title=None, coloraxis_colorbar=None):  # Added parameter for legend title\n",
    "    \"\"\"\n",
    "    Update the layout of the Plotly figure, set the hover template, and save the plot to an HTML file\n",
    "    with an automatically incremented filename.\n",
    "\n",
    "    Parameters:\n",
    "    fig (go.Figure): The Plotly figure to be updated.\n",
    "    width (int): Width of the figure. Default is 600.\n",
    "    height (int): Height of the figure. Default is 600.\n",
    "    template (str): Plotly template for the figure. Default is 'plotly_dark'.\n",
    "    plot_bgcolor (str): Background color of the plot area. Default is transparent.\n",
    "    paper_bgcolor (str): Background color of the paper area. Default is transparent.\n",
    "    font_family (str): Font family for the text. Default is 'Open Sans, sans-serif'.\n",
    "    font_size (int): Font size for the text. Default is 10.\n",
    "    font_color (str): Font color for the text. Default is 'white'.\n",
    "    hover_template (str): Custom hover template for traces. Default is None.\n",
    "    base_filename (str): Base name for the file. Default is 'plot'.\n",
    "    auto_open (bool): Whether to open the file in the browser after saving. Default is False.\n",
    "    counter (int): Counter for incrementing filenames. Default is 1.\n",
    "    title (str): Title of the plot. Default is None.\n",
    "    xaxis_title (str): Title for the x-axis. Default is None.\n",
    "    yaxis_title (str): Title for the y-axis. Default is None.\n",
    "    legend_title (str): Title for the legend. Default is None.\n",
    "\n",
    "    Returns:\n",
    "    fig (go.Figure): The updated Plotly figure.\n",
    "    \"\"\"\n",
    "    # Update layout\n",
    "    fig.update_layout(\n",
    "        width=width,\n",
    "        height=height,\n",
    "        template=template,\n",
    "        plot_bgcolor=plot_bgcolor,\n",
    "        paper_bgcolor=paper_bgcolor,\n",
    "        font=dict(\n",
    "            family=font_family,\n",
    "            size=font_size,\n",
    "            color=font_color\n",
    "        ),\n",
    "        title=title,\n",
    "        xaxis_title=xaxis_title,\n",
    "        yaxis_title=yaxis_title,\n",
    "        legend_title=legend_title,\n",
    "        coloraxis_colorbar=dict(\n",
    "            title=coloraxis_colorbar\n",
    "        ),\n",
    "    )\n",
    "    \n",
    "    # Set custom hover template if provided\n",
    "    if hover_template:\n",
    "        fig.update_traces(hovertemplate=hover_template)\n",
    "    \n",
    "    # Generate filename with counter\n",
    "    filename = f'{base_filename}_{counter}.html'\n",
    "    \n",
    "    # Save the figure to an HTML file\n",
    "    pio.write_html(fig, file=filename, auto_open=auto_open)\n",
    "    \n",
    "    return fig\n"
   ]
  },
  {
   "cell_type": "code",
   "execution_count": 43,
   "metadata": {},
   "outputs": [],
   "source": [
    "def create_timeline_plot(df, start_date, end_date, y_axis, color, text, hover_text=None):\n",
    "    \"\"\"\n",
    "    Create a timeline plot using Plotly Express with an optional y-axis.\n",
    "\n",
    "    Parameters:\n",
    "    df (pd.DataFrame): The DataFrame containing the data.\n",
    "    start_date (str): The column name for the start date of the timeline.\n",
    "    end_date (str): The column name for the end date of the timeline.\n",
    "    color (str): The column name for the color coding of the timeline entries.\n",
    "    text (str): The column name for text to display on the timeline (e.g., job titles).\n",
    "    y_axis (str): The column name for the y-axis to categorize the entries.\n",
    "    hover_text (str): Optional column name for custom hover text. Default is None.\n",
    "\n",
    "    Returns:\n",
    "    fig (go.Figure): The Plotly timeline figure.\n",
    "    \"\"\"\n",
    "    # Create the timeline plot\n",
    "    fig = px.timeline(\n",
    "        df,\n",
    "        x_start=start_date,\n",
    "        x_end=end_date,\n",
    "        y=y_axis,\n",
    "        color=color,\n",
    "        text=text,\n",
    "        title=\"Timeline Plot\"\n",
    "    )\n",
    "    \n",
    "    # Update hover template if hover_text is provided\n",
    "    if hover_text:\n",
    "        fig.update_traces(\n",
    "            hovertemplate=df[hover_text].apply(lambda x: f\"{x}<extra></extra>\")\n",
    "        )\n",
    "    \n",
    "    # Return the figure without additional layout customizations\n",
    "    return fig"
   ]
  },
  {
   "cell_type": "markdown",
   "metadata": {},
   "source": [
    "### Creating and updating the Sunburst plot for the entire skills section"
   ]
  },
  {
   "cell_type": "code",
   "execution_count": 51,
   "metadata": {},
   "outputs": [
    {
     "data": {
      "application/vnd.plotly.v1+json": {
       "config": {
        "plotlyServerURL": "https://plot.ly"
       },
       "data": [
        {
         "alignmentgroup": "True",
         "base": [
          "2019-02-01T00:00:00",
          "2020-09-01T00:00:00",
          "2022-04-01T00:00:00"
         ],
         "hovertemplate": [
          "Organization: WNS Global Services<br>Designation: Analyst<br>Start Date: 2019-02-01 00:00:00<br>End Date: 2020-09-01 00:00:00<br>Tenure (Months): 18<br>Job Level: Junior Role<br>Responsibilities:<br>Performed data analysis to support decision-making.<br>Maintained data integrity and accuracy across multiple datasets.<br>Provided actionable insights to stakeholders based on data trends.<extra></extra>",
          "Organization: Aakarist Pvt Ltd<br>Designation: Senior Analyst<br>Start Date: 2020-09-01 00:00:00<br>End Date: 2022-03-01 00:00:00<br>Tenure (Months): 17<br>Job Level: Mid-Level Role<br>Responsibilities:<br>Conducted in-depth data analysis to drive business insights.<br>Optimized data collection processes, improving efficiency by 30%.<br>Presented findings to senior management, influencing strategic decisions.<extra></extra>",
          "Organization: Cognizant Technology Solutions<br>Designation: Reporting and Data Analyst<br>Start Date: 2022-04-01 00:00:00<br>End Date: 2024-10-01 00:00:00<br>Tenure (Months): 30<br>Job Level: Senior Role<br>Responsibilities:<br>Led the analysis and reporting of key business metrics, ensuring data accuracy.<br>Collaborated with cross-functional teams to identify data requirements.<br>Developed automated reporting solutions, reducing manual workload by 50%.<extra></extra>"
         ],
         "legendgroup": "",
         "marker": {
          "color": [
           18,
           17,
           30
          ],
          "coloraxis": "coloraxis",
          "pattern": {
           "shape": ""
          }
         },
         "name": "",
         "offsetgroup": "",
         "orientation": "h",
         "showlegend": false,
         "text": [
          "Analyst",
          "Senior Analyst",
          "Reporting and Data Analyst"
         ],
         "textposition": "auto",
         "type": "bar",
         "x": [
          49939200000,
          47174400000,
          78969600000
         ],
         "xaxis": "x",
         "y": [
          "WNS Global Services",
          "Aakarist Pvt Ltd",
          "Cognizant Technology Solutions"
         ],
         "yaxis": "y"
        }
       ],
       "layout": {
        "barmode": "overlay",
        "coloraxis": {
         "colorbar": {
          "title": {
           "text": "Tenure"
          }
         },
         "colorscale": [
          [
           0,
           "#0d0887"
          ],
          [
           0.1111111111111111,
           "#46039f"
          ],
          [
           0.2222222222222222,
           "#7201a8"
          ],
          [
           0.3333333333333333,
           "#9c179e"
          ],
          [
           0.4444444444444444,
           "#bd3786"
          ],
          [
           0.5555555555555556,
           "#d8576b"
          ],
          [
           0.6666666666666666,
           "#ed7953"
          ],
          [
           0.7777777777777778,
           "#fb9f3a"
          ],
          [
           0.8888888888888888,
           "#fdca26"
          ],
          [
           1,
           "#f0f921"
          ]
         ]
        },
        "font": {
         "color": "white",
         "family": "Open Sans, sans-serif",
         "size": 10
        },
        "height": 282.5,
        "legend": {
         "title": {
          "text": "Job Level"
         },
         "tracegroupgap": 0
        },
        "paper_bgcolor": "rgba(0,0,0,0)",
        "plot_bgcolor": "rgba(0,0,0,0)",
        "template": {
         "data": {
          "bar": [
           {
            "error_x": {
             "color": "#f2f5fa"
            },
            "error_y": {
             "color": "#f2f5fa"
            },
            "marker": {
             "line": {
              "color": "rgb(17,17,17)",
              "width": 0.5
             },
             "pattern": {
              "fillmode": "overlay",
              "size": 10,
              "solidity": 0.2
             }
            },
            "type": "bar"
           }
          ],
          "barpolar": [
           {
            "marker": {
             "line": {
              "color": "rgb(17,17,17)",
              "width": 0.5
             },
             "pattern": {
              "fillmode": "overlay",
              "size": 10,
              "solidity": 0.2
             }
            },
            "type": "barpolar"
           }
          ],
          "carpet": [
           {
            "aaxis": {
             "endlinecolor": "#A2B1C6",
             "gridcolor": "#506784",
             "linecolor": "#506784",
             "minorgridcolor": "#506784",
             "startlinecolor": "#A2B1C6"
            },
            "baxis": {
             "endlinecolor": "#A2B1C6",
             "gridcolor": "#506784",
             "linecolor": "#506784",
             "minorgridcolor": "#506784",
             "startlinecolor": "#A2B1C6"
            },
            "type": "carpet"
           }
          ],
          "choropleth": [
           {
            "colorbar": {
             "outlinewidth": 0,
             "ticks": ""
            },
            "type": "choropleth"
           }
          ],
          "contour": [
           {
            "colorbar": {
             "outlinewidth": 0,
             "ticks": ""
            },
            "colorscale": [
             [
              0,
              "#0d0887"
             ],
             [
              0.1111111111111111,
              "#46039f"
             ],
             [
              0.2222222222222222,
              "#7201a8"
             ],
             [
              0.3333333333333333,
              "#9c179e"
             ],
             [
              0.4444444444444444,
              "#bd3786"
             ],
             [
              0.5555555555555556,
              "#d8576b"
             ],
             [
              0.6666666666666666,
              "#ed7953"
             ],
             [
              0.7777777777777778,
              "#fb9f3a"
             ],
             [
              0.8888888888888888,
              "#fdca26"
             ],
             [
              1,
              "#f0f921"
             ]
            ],
            "type": "contour"
           }
          ],
          "contourcarpet": [
           {
            "colorbar": {
             "outlinewidth": 0,
             "ticks": ""
            },
            "type": "contourcarpet"
           }
          ],
          "heatmap": [
           {
            "colorbar": {
             "outlinewidth": 0,
             "ticks": ""
            },
            "colorscale": [
             [
              0,
              "#0d0887"
             ],
             [
              0.1111111111111111,
              "#46039f"
             ],
             [
              0.2222222222222222,
              "#7201a8"
             ],
             [
              0.3333333333333333,
              "#9c179e"
             ],
             [
              0.4444444444444444,
              "#bd3786"
             ],
             [
              0.5555555555555556,
              "#d8576b"
             ],
             [
              0.6666666666666666,
              "#ed7953"
             ],
             [
              0.7777777777777778,
              "#fb9f3a"
             ],
             [
              0.8888888888888888,
              "#fdca26"
             ],
             [
              1,
              "#f0f921"
             ]
            ],
            "type": "heatmap"
           }
          ],
          "heatmapgl": [
           {
            "colorbar": {
             "outlinewidth": 0,
             "ticks": ""
            },
            "colorscale": [
             [
              0,
              "#0d0887"
             ],
             [
              0.1111111111111111,
              "#46039f"
             ],
             [
              0.2222222222222222,
              "#7201a8"
             ],
             [
              0.3333333333333333,
              "#9c179e"
             ],
             [
              0.4444444444444444,
              "#bd3786"
             ],
             [
              0.5555555555555556,
              "#d8576b"
             ],
             [
              0.6666666666666666,
              "#ed7953"
             ],
             [
              0.7777777777777778,
              "#fb9f3a"
             ],
             [
              0.8888888888888888,
              "#fdca26"
             ],
             [
              1,
              "#f0f921"
             ]
            ],
            "type": "heatmapgl"
           }
          ],
          "histogram": [
           {
            "marker": {
             "pattern": {
              "fillmode": "overlay",
              "size": 10,
              "solidity": 0.2
             }
            },
            "type": "histogram"
           }
          ],
          "histogram2d": [
           {
            "colorbar": {
             "outlinewidth": 0,
             "ticks": ""
            },
            "colorscale": [
             [
              0,
              "#0d0887"
             ],
             [
              0.1111111111111111,
              "#46039f"
             ],
             [
              0.2222222222222222,
              "#7201a8"
             ],
             [
              0.3333333333333333,
              "#9c179e"
             ],
             [
              0.4444444444444444,
              "#bd3786"
             ],
             [
              0.5555555555555556,
              "#d8576b"
             ],
             [
              0.6666666666666666,
              "#ed7953"
             ],
             [
              0.7777777777777778,
              "#fb9f3a"
             ],
             [
              0.8888888888888888,
              "#fdca26"
             ],
             [
              1,
              "#f0f921"
             ]
            ],
            "type": "histogram2d"
           }
          ],
          "histogram2dcontour": [
           {
            "colorbar": {
             "outlinewidth": 0,
             "ticks": ""
            },
            "colorscale": [
             [
              0,
              "#0d0887"
             ],
             [
              0.1111111111111111,
              "#46039f"
             ],
             [
              0.2222222222222222,
              "#7201a8"
             ],
             [
              0.3333333333333333,
              "#9c179e"
             ],
             [
              0.4444444444444444,
              "#bd3786"
             ],
             [
              0.5555555555555556,
              "#d8576b"
             ],
             [
              0.6666666666666666,
              "#ed7953"
             ],
             [
              0.7777777777777778,
              "#fb9f3a"
             ],
             [
              0.8888888888888888,
              "#fdca26"
             ],
             [
              1,
              "#f0f921"
             ]
            ],
            "type": "histogram2dcontour"
           }
          ],
          "mesh3d": [
           {
            "colorbar": {
             "outlinewidth": 0,
             "ticks": ""
            },
            "type": "mesh3d"
           }
          ],
          "parcoords": [
           {
            "line": {
             "colorbar": {
              "outlinewidth": 0,
              "ticks": ""
             }
            },
            "type": "parcoords"
           }
          ],
          "pie": [
           {
            "automargin": true,
            "type": "pie"
           }
          ],
          "scatter": [
           {
            "marker": {
             "line": {
              "color": "#283442"
             }
            },
            "type": "scatter"
           }
          ],
          "scatter3d": [
           {
            "line": {
             "colorbar": {
              "outlinewidth": 0,
              "ticks": ""
             }
            },
            "marker": {
             "colorbar": {
              "outlinewidth": 0,
              "ticks": ""
             }
            },
            "type": "scatter3d"
           }
          ],
          "scattercarpet": [
           {
            "marker": {
             "colorbar": {
              "outlinewidth": 0,
              "ticks": ""
             }
            },
            "type": "scattercarpet"
           }
          ],
          "scattergeo": [
           {
            "marker": {
             "colorbar": {
              "outlinewidth": 0,
              "ticks": ""
             }
            },
            "type": "scattergeo"
           }
          ],
          "scattergl": [
           {
            "marker": {
             "line": {
              "color": "#283442"
             }
            },
            "type": "scattergl"
           }
          ],
          "scattermapbox": [
           {
            "marker": {
             "colorbar": {
              "outlinewidth": 0,
              "ticks": ""
             }
            },
            "type": "scattermapbox"
           }
          ],
          "scatterpolar": [
           {
            "marker": {
             "colorbar": {
              "outlinewidth": 0,
              "ticks": ""
             }
            },
            "type": "scatterpolar"
           }
          ],
          "scatterpolargl": [
           {
            "marker": {
             "colorbar": {
              "outlinewidth": 0,
              "ticks": ""
             }
            },
            "type": "scatterpolargl"
           }
          ],
          "scatterternary": [
           {
            "marker": {
             "colorbar": {
              "outlinewidth": 0,
              "ticks": ""
             }
            },
            "type": "scatterternary"
           }
          ],
          "surface": [
           {
            "colorbar": {
             "outlinewidth": 0,
             "ticks": ""
            },
            "colorscale": [
             [
              0,
              "#0d0887"
             ],
             [
              0.1111111111111111,
              "#46039f"
             ],
             [
              0.2222222222222222,
              "#7201a8"
             ],
             [
              0.3333333333333333,
              "#9c179e"
             ],
             [
              0.4444444444444444,
              "#bd3786"
             ],
             [
              0.5555555555555556,
              "#d8576b"
             ],
             [
              0.6666666666666666,
              "#ed7953"
             ],
             [
              0.7777777777777778,
              "#fb9f3a"
             ],
             [
              0.8888888888888888,
              "#fdca26"
             ],
             [
              1,
              "#f0f921"
             ]
            ],
            "type": "surface"
           }
          ],
          "table": [
           {
            "cells": {
             "fill": {
              "color": "#506784"
             },
             "line": {
              "color": "rgb(17,17,17)"
             }
            },
            "header": {
             "fill": {
              "color": "#2a3f5f"
             },
             "line": {
              "color": "rgb(17,17,17)"
             }
            },
            "type": "table"
           }
          ]
         },
         "layout": {
          "annotationdefaults": {
           "arrowcolor": "#f2f5fa",
           "arrowhead": 0,
           "arrowwidth": 1
          },
          "autotypenumbers": "strict",
          "coloraxis": {
           "colorbar": {
            "outlinewidth": 0,
            "ticks": ""
           }
          },
          "colorscale": {
           "diverging": [
            [
             0,
             "#8e0152"
            ],
            [
             0.1,
             "#c51b7d"
            ],
            [
             0.2,
             "#de77ae"
            ],
            [
             0.3,
             "#f1b6da"
            ],
            [
             0.4,
             "#fde0ef"
            ],
            [
             0.5,
             "#f7f7f7"
            ],
            [
             0.6,
             "#e6f5d0"
            ],
            [
             0.7,
             "#b8e186"
            ],
            [
             0.8,
             "#7fbc41"
            ],
            [
             0.9,
             "#4d9221"
            ],
            [
             1,
             "#276419"
            ]
           ],
           "sequential": [
            [
             0,
             "#0d0887"
            ],
            [
             0.1111111111111111,
             "#46039f"
            ],
            [
             0.2222222222222222,
             "#7201a8"
            ],
            [
             0.3333333333333333,
             "#9c179e"
            ],
            [
             0.4444444444444444,
             "#bd3786"
            ],
            [
             0.5555555555555556,
             "#d8576b"
            ],
            [
             0.6666666666666666,
             "#ed7953"
            ],
            [
             0.7777777777777778,
             "#fb9f3a"
            ],
            [
             0.8888888888888888,
             "#fdca26"
            ],
            [
             1,
             "#f0f921"
            ]
           ],
           "sequentialminus": [
            [
             0,
             "#0d0887"
            ],
            [
             0.1111111111111111,
             "#46039f"
            ],
            [
             0.2222222222222222,
             "#7201a8"
            ],
            [
             0.3333333333333333,
             "#9c179e"
            ],
            [
             0.4444444444444444,
             "#bd3786"
            ],
            [
             0.5555555555555556,
             "#d8576b"
            ],
            [
             0.6666666666666666,
             "#ed7953"
            ],
            [
             0.7777777777777778,
             "#fb9f3a"
            ],
            [
             0.8888888888888888,
             "#fdca26"
            ],
            [
             1,
             "#f0f921"
            ]
           ]
          },
          "colorway": [
           "#636efa",
           "#EF553B",
           "#00cc96",
           "#ab63fa",
           "#FFA15A",
           "#19d3f3",
           "#FF6692",
           "#B6E880",
           "#FF97FF",
           "#FECB52"
          ],
          "font": {
           "color": "#f2f5fa"
          },
          "geo": {
           "bgcolor": "rgb(17,17,17)",
           "lakecolor": "rgb(17,17,17)",
           "landcolor": "rgb(17,17,17)",
           "showlakes": true,
           "showland": true,
           "subunitcolor": "#506784"
          },
          "hoverlabel": {
           "align": "left"
          },
          "hovermode": "closest",
          "mapbox": {
           "style": "dark"
          },
          "paper_bgcolor": "rgb(17,17,17)",
          "plot_bgcolor": "rgb(17,17,17)",
          "polar": {
           "angularaxis": {
            "gridcolor": "#506784",
            "linecolor": "#506784",
            "ticks": ""
           },
           "bgcolor": "rgb(17,17,17)",
           "radialaxis": {
            "gridcolor": "#506784",
            "linecolor": "#506784",
            "ticks": ""
           }
          },
          "scene": {
           "xaxis": {
            "backgroundcolor": "rgb(17,17,17)",
            "gridcolor": "#506784",
            "gridwidth": 2,
            "linecolor": "#506784",
            "showbackground": true,
            "ticks": "",
            "zerolinecolor": "#C8D4E3"
           },
           "yaxis": {
            "backgroundcolor": "rgb(17,17,17)",
            "gridcolor": "#506784",
            "gridwidth": 2,
            "linecolor": "#506784",
            "showbackground": true,
            "ticks": "",
            "zerolinecolor": "#C8D4E3"
           },
           "zaxis": {
            "backgroundcolor": "rgb(17,17,17)",
            "gridcolor": "#506784",
            "gridwidth": 2,
            "linecolor": "#506784",
            "showbackground": true,
            "ticks": "",
            "zerolinecolor": "#C8D4E3"
           }
          },
          "shapedefaults": {
           "line": {
            "color": "#f2f5fa"
           }
          },
          "sliderdefaults": {
           "bgcolor": "#C8D4E3",
           "bordercolor": "rgb(17,17,17)",
           "borderwidth": 1,
           "tickwidth": 0
          },
          "ternary": {
           "aaxis": {
            "gridcolor": "#506784",
            "linecolor": "#506784",
            "ticks": ""
           },
           "baxis": {
            "gridcolor": "#506784",
            "linecolor": "#506784",
            "ticks": ""
           },
           "bgcolor": "rgb(17,17,17)",
           "caxis": {
            "gridcolor": "#506784",
            "linecolor": "#506784",
            "ticks": ""
           }
          },
          "title": {
           "x": 0.05
          },
          "updatemenudefaults": {
           "bgcolor": "#506784",
           "borderwidth": 0
          },
          "xaxis": {
           "automargin": true,
           "gridcolor": "#283442",
           "linecolor": "#506784",
           "ticks": "",
           "title": {
            "standoff": 15
           },
           "zerolinecolor": "#283442",
           "zerolinewidth": 2
          },
          "yaxis": {
           "automargin": true,
           "gridcolor": "#283442",
           "linecolor": "#506784",
           "ticks": "",
           "title": {
            "standoff": 15
           },
           "zerolinecolor": "#283442",
           "zerolinewidth": 2
          }
         }
        },
        "title": {},
        "width": 1200,
        "xaxis": {
         "anchor": "y",
         "domain": [
          0,
          1
         ],
         "title": {
          "text": "Start Date"
         },
         "type": "date"
        },
        "yaxis": {
         "anchor": "x",
         "domain": [
          0,
          1
         ],
         "title": {}
        }
       }
      }
     },
     "metadata": {},
     "output_type": "display_data"
    }
   ],
   "source": [
    "df_sorted = df.sort_values(by='start_date')\n",
    "\n",
    "fig = create_timeline_plot(\n",
    "    df_sorted,\n",
    "    start_date='start_date',\n",
    "    end_date='end_date',\n",
    "    y_axis='organization',\n",
    "    color='tenure_months',\n",
    "    text='designation',\n",
    "    hover_text='hover_template'\n",
    ")\n",
    "\n",
    "# Prepare and save the plot\n",
    "prepare_and_save_plot(\n",
    "    fig,\n",
    "    width=1200,\n",
    "    height=282.5,\n",
    "    #title=\"My Work Timeline\",\n",
    "    xaxis_title=\"Start Date\",\n",
    "    #yaxis_title=\"Organizations\",\n",
    "    coloraxis_colorbar='Tenure',\n",
    "    legend_title='Job Level',\n",
    "    base_filename='timeline',\n",
    "    counter='work_exp'\n",
    ")"
   ]
  },
  {
   "cell_type": "code",
   "execution_count": null,
   "metadata": {},
   "outputs": [],
   "source": []
  }
 ],
 "metadata": {
  "kernelspec": {
   "display_name": "django-kUVbt2HO",
   "language": "python",
   "name": "python3"
  },
  "language_info": {
   "codemirror_mode": {
    "name": "ipython",
    "version": 3
   },
   "file_extension": ".py",
   "mimetype": "text/x-python",
   "name": "python",
   "nbconvert_exporter": "python",
   "pygments_lexer": "ipython3",
   "version": "3.10.12"
  }
 },
 "nbformat": 4,
 "nbformat_minor": 2
}
