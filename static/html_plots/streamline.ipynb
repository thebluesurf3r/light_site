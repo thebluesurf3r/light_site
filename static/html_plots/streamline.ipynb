{
 "cells": [
  {
   "cell_type": "markdown",
   "metadata": {},
   "source": [
    " Importing necessary libraries"
   ]
  },
  {
   "cell_type": "code",
   "execution_count": 4,
   "metadata": {},
   "outputs": [],
   "source": [
    "import plotly.graph_objs as go\n",
    "import pandas as pd\n",
    "import numpy as np\n",
    "import plotly.express as px\n",
    "import os\n",
    "import plotly.io as pio"
   ]
  },
  {
   "cell_type": "markdown",
   "metadata": {},
   "source": [
    "Load Data Function"
   ]
  },
  {
   "cell_type": "code",
   "execution_count": null,
   "metadata": {},
   "outputs": [],
   "source": [
    "\n",
    "def load_data(file_path):\n",
    "    \"\"\"\n",
    "    Load data from a CSV file.\n",
    "\n",
    "    Parameters:\n",
    "    file_path (str): The path to the CSV file.\n",
    "\n",
    "    Returns:\n",
    "    df (pd.DataFrame): The loaded DataFrame.\n",
    "    \"\"\"\n",
    "    df = pd.read_csv(file_path)\n",
    "    return df\n"
   ]
  },
  {
   "cell_type": "markdown",
   "metadata": {},
   "source": [
    "Data Preparation"
   ]
  },
  {
   "cell_type": "code",
   "execution_count": 5,
   "metadata": {},
   "outputs": [],
   "source": [
    "def prepare_data(df, fillna_value=None, filters=None, transform_func=None):\n",
    "    \"\"\"\n",
    "    Prepare the DataFrame for visualization.\n",
    "\n",
    "    Parameters:\n",
    "    df (pd.DataFrame): The original DataFrame.\n",
    "    fillna_value: Value to fill missing data. Default is None.\n",
    "    filters (dict): Dictionary of filters to apply. Example: {'column_name': 'value'}\n",
    "    transform_func (function): A function to apply transformations to the DataFrame.\n",
    "\n",
    "    Returns:\n",
    "    df (pd.DataFrame): The processed DataFrame.\n",
    "    \"\"\"\n",
    "    # Fill missing values if specified\n",
    "    if fillna_value is not None:\n",
    "        df = df.fillna(fillna_value)\n",
    "\n",
    "    # Apply filters if specified\n",
    "    if filters:\n",
    "        for column, value in filters.items():\n",
    "            df = df[df[column] == value]\n",
    "\n",
    "    # Apply a custom transformation function if specified\n",
    "    if transform_func:\n",
    "        df = transform_func(df)\n",
    "\n",
    "    return df\n"
   ]
  },
  {
   "cell_type": "markdown",
   "metadata": {},
   "source": [
    "Color mapping function"
   ]
  },
  {
   "cell_type": "code",
   "execution_count": 6,
   "metadata": {},
   "outputs": [],
   "source": [
    "def create_color_map(df, category_column):\n",
    "    \"\"\"\n",
    "    Create a color map for unique values in a specified column.\n",
    "\n",
    "    Parameters:\n",
    "    df (pd.DataFrame): The DataFrame containing the data.\n",
    "    category_column (str): The column name with categorical data.\n",
    "\n",
    "    Returns:\n",
    "    color_discrete_map (dict): A dictionary mapping unique categories to colors.\n",
    "    \"\"\"\n",
    "    # Extract unique categories\n",
    "    unique_values_list = df[category_column].unique().tolist()\n",
    "    \n",
    "    # Define a color map\n",
    "    color_map = px.colors.sequential.Jet[:len(unique_values_list)]\n",
    "    color_discrete_map = dict(zip(unique_values_list, color_map))\n",
    "    \n",
    "    return color_discrete_map\n",
    "\n",
    "# Assuming df is your DataFrame and 'category' is the column with unique values\n",
    "color_discrete_map = create_color_map(df, 'category')"
   ]
  },
  {
   "cell_type": "markdown",
   "metadata": {},
   "source": [
    "Custom hover text"
   ]
  },
  {
   "cell_type": "code",
   "execution_count": null,
   "metadata": {},
   "outputs": [],
   "source": [
    "# Create custom hover text based on node type\n",
    "def generate_custom_hover(row, is_child):\n",
    "    if is_child:\n",
    "        return (\n",
    "            f\"Platform: \"\n",
    "            f\"{row['platform'] if any(part in row['software_manufacturer'] for part in row['platform'].split()) else row['software_manufacturer'] + ' (' + row['platform'] + ')'}<br>\"\n",
    "            f\"Tool: \"\n",
    "            f\"{row['tool'] if any(part in row['software_manufacturer'] for part in row['tool'].split()) else row['software_manufacturer'] + ' (' + row['tool'] + ')'}<br>\"\n",
    "            f\"Primarily used in {row['domain'].lower()}<br>\"\n",
    "            f\"Category: {row['category']}<br>\"\n",
    "            f\"Proficiency Level: {row['proficiency_level']}<br>\"\n",
    "            f\"It is {'an' if row['product_type'] in ['Open Source', 'FaaS'] else 'a'} {row['product_type']} product\"\n",
    "        )\n",
    "    else:\n",
    "        return f\"{row[column_name]}<br>Proficiency Level: {row['proficiency_level'].sum()}\"\n",
    "\n",
    "# Add custom hover text based on the node type (child or parent)\n",
    "skills_df['custom_hover'] = skills_df.apply(\n",
    "    lambda row: generate_custom_hover(row, True),  # Initially set all as children\n",
    "    axis=1\n",
    ")\n"
   ]
  },
  {
   "cell_type": "markdown",
   "metadata": {},
   "source": [
    "Chart creation"
   ]
  },
  {
   "cell_type": "code",
   "execution_count": 7,
   "metadata": {},
   "outputs": [],
   "source": [
    "def create_sunburst_chart(df, path, values, color, color_discrete_map, custom_data=None):\n",
    "    \"\"\"\n",
    "    Create a sunburst chart using Plotly Express.\n",
    "\n",
    "    Parameters:\n",
    "    df (pd.DataFrame): The DataFrame containing the data.\n",
    "    path (list of str): List of column names to define the hierarchy in the sunburst chart.\n",
    "    values (str): The column name for values to size the sectors.\n",
    "    color (str): The column name for colors of the sectors.\n",
    "    color_discrete_map (dict): A dictionary mapping unique values in the color column to colors.\n",
    "    custom_data (list of str): List of column names for custom hover data. Default is None.\n",
    "\n",
    "    Returns:\n",
    "    fig (go.Figure): The Plotly sunburst figure.\n",
    "    \"\"\"\n",
    "    fig = px.sunburst(\n",
    "        df,\n",
    "        path=path,\n",
    "        values=values,\n",
    "        color=color,\n",
    "        color_discrete_map=color_discrete_map,\n",
    "        custom_data=custom_data\n",
    "    )\n",
    "    \n",
    "    return fig\n"
   ]
  },
  {
   "cell_type": "markdown",
   "metadata": {},
   "source": [
    "Display chart function"
   ]
  },
  {
   "cell_type": "code",
   "execution_count": 8,
   "metadata": {},
   "outputs": [],
   "source": [
    "def display_chart(fig):\n",
    "    \"\"\"\n",
    "    Display a Plotly figure.\n",
    "\n",
    "    Parameters:\n",
    "    fig (go.Figure): The Plotly figure to display.\n",
    "    \"\"\"\n",
    "    fig.show()\n"
   ]
  },
  {
   "cell_type": "markdown",
   "metadata": {},
   "source": [
    "Main workflow function"
   ]
  },
  {
   "cell_type": "code",
   "execution_count": 9,
   "metadata": {},
   "outputs": [],
   "source": [
    "def main_workflow(file_path, path_columns, values_column, color_column, color_categories, color_values, custom_hover_data=None):\n",
    "    \"\"\"\n",
    "    Main workflow to load, prepare data, and create a sunburst chart.\n",
    "\n",
    "    Parameters:\n",
    "    file_path (str): The path to the CSV file.\n",
    "    path_columns (list of str): List of column names to define the hierarchy in the sunburst chart.\n",
    "    values_column (str): The column name for values to size the sectors.\n",
    "    color_column (str): The column name for colors of the sectors.\n",
    "    color_categories (list of str): List of category names for the color column.\n",
    "    color_values (list of str): List of colors corresponding to the category names.\n",
    "    custom_hover_data (list of str): List of column names for custom hover data. Default is None.\n",
    "    \"\"\"\n",
    "    # Load the data\n",
    "    df = load_data(file_path)\n",
    "\n",
    "    # Prepare the data (customize as needed)\n",
    "    df = prepare_data(df)\n",
    "\n",
    "    # Create the color map\n",
    "    color_discrete_map = create_color_map(color_categories, color_values)\n",
    "\n",
    "    # Create the sunburst chart\n",
    "    fig = create_sunburst_chart(\n",
    "        df=df,\n",
    "        path=path_columns,\n",
    "        values=values_column,\n",
    "        color=color_column,\n",
    "        color_discrete_map=color_discrete_map,\n",
    "        custom_data=custom_hover_data\n",
    "    )\n",
    "\n",
    "    # Display the chart\n",
    "    display_chart(fig)\n"
   ]
  },
  {
   "cell_type": "markdown",
   "metadata": {},
   "source": [
    "Usage:"
   ]
  },
  {
   "cell_type": "markdown",
   "metadata": {},
   "source": [
    "file_path = 'path_to_your_data.csv'\n",
    "path_columns = ['domain', 'category', 'software_manufacturer', 'product_type', 'tool']\n",
    "values_column = 'proficiency_level'\n",
    "color_column = 'category'\n",
    "color_categories = ['Category1', 'Category2', 'Category3']\n",
    "color_values = ['blue', 'green', 'red']\n",
    "custom_hover_data = ['custom_hover']\n",
    "\n",
    "main_workflow(file_path, path_columns, values_column, color_column, color_categories, color_values, custom_hover_data)\n"
   ]
  }
 ],
 "metadata": {
  "kernelspec": {
   "display_name": "django-kUVbt2HO",
   "language": "python",
   "name": "python3"
  },
  "language_info": {
   "codemirror_mode": {
    "name": "ipython",
    "version": 3
   },
   "file_extension": ".py",
   "mimetype": "text/x-python",
   "name": "python",
   "nbconvert_exporter": "python",
   "pygments_lexer": "ipython3",
   "version": "3.10.12"
  }
 },
 "nbformat": 4,
 "nbformat_minor": 2
}
